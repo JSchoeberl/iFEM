{
 "cells": [
  {
   "cell_type": "markdown",
   "id": "32a99621-2432-42ba-8e76-5049cf32ddd1",
   "metadata": {},
   "source": [
    "# Sobolev spaces\n",
    "\n",
    "For $k \\in {\\mathbb N}_0$ and $1 \\leq p < \\infty$, we define the Sobolev norms \n",
    "\n",
    "$$\n",
    "\\| u \\|_{W_p^k(\\Omega)} := \\left( \\sum_{|\\alpha| \\leq k} \\| D^\\alpha u \\|_{L_p}^p \\right)^{1/p},\n",
    "$$\n",
    "\n",
    "for $k \\in {\\mathbb N}_0$ we set\n",
    "\n",
    "$$\n",
    "\\| u \\|_{W_\\infty^k(\\Omega)} := \\max_{|\\alpha| \\leq k}  \\| D^\\alpha u \\|_{L_\\infty}.\n",
    "$$\n",
    "In both cases, we define the **Sobolev spaces** via\n",
    "\n",
    "$$\n",
    "W_p^k(\\Omega) = \\{ u \\in L_1^{loc} : \\| u \\|_{W_p^k} < \\infty \\}\n",
    "$$"
   ]
  },
  {
   "cell_type": "markdown",
   "id": "ea7e1281-9442-4375-8919-ea848ae3bb38",
   "metadata": {},
   "source": [
    "In the previous chapter we have seen the importance of complete spaces.\n",
    "This is the case for Sobolev spaces:\n",
    "\n",
    "> **Theorem:** The Sobolev space $W_p^k(\\Omega)$ is a Banach space.\n",
    "\n",
    "*Proof:* Let $v_j$ be a Cauchy sequence with respect to $\\| \\cdot \\|_{W_p^k}$. This implies that $D^\\alpha v_j$ is a Cauchy sequence in $L_p$, and \n",
    "thus converges to some $v^\\alpha$ in $\\|. \\|_{L_p}$. \n",
    "\n",
    "We verify that $D^\\alpha v_j \\rightarrow v^\\alpha$ implies \n",
    "$\\int_\\Omega D^\\alpha v_j \\varphi \\, dx \\rightarrow \\int_\\Omega v^\\alpha \\varphi \\, dx$ for all $\\varphi \\in {\\cal D}$. Let $K$ be the compact support \n",
    "of $\\varphi$. There holds \n",
    "\n",
    "\\begin{eqnarray*}\n",
    "\\int_\\Omega (D^\\alpha v_j - v^\\alpha) \\varphi \\, dx & = & \n",
    "\\int_{K} (D^\\alpha v_j - v^\\alpha) \\varphi \\, dx  \\\\\n",
    "& \\leq & \\| D^\\alpha v_j - v^\\alpha \\|_{L_1(K)} \\| \\varphi \\|_{L_\\infty} \\\\\n",
    "& \\leq & \\| D^\\alpha v_j - v^\\alpha \\|_{L_p(K)} \\| \\varphi \\|_{L_\\infty}\n",
    "\\rightarrow 0\n",
    "\\end{eqnarray*}"
   ]
  },
  {
   "cell_type": "markdown",
   "id": "2ee9cf50-6773-485e-87b2-79f6946c5575",
   "metadata": {},
   "source": [
    "Finally, we have to check that $v^\\alpha$ is the weak derivative of $v$:\n",
    "\n",
    "\\begin{eqnarray*}\n",
    "\\int v^\\alpha \\varphi \\, dx & = & \n",
    "        \\lim_{j\\rightarrow \\infty} \\int_\\Omega D^\\alpha v_j \\varphi \\, dx \\\\\n",
    "        & = & \\lim_{j\\rightarrow \\infty} (-1)^{|\\alpha|} \\int_\\Omega v_j D^\\alpha \\varphi \\, dx = \\\\\n",
    "        & = & (-1)^\\alpha \\int_\\Omega v  D^\\alpha \\varphi \\, dx.\n",
    "\\end{eqnarray*}\n",
    "$\\Box$"
   ]
  },
  {
   "cell_type": "markdown",
   "id": "f8fd356a-4798-476c-b22d-62f860e8611f",
   "metadata": {},
   "source": [
    "An alternative definition of Sobolev spaces were to take the closure\n",
    "of smooth functions in the domain, i.e.,\n",
    "\n",
    "$$\n",
    "\\widetilde W_p^k := \\overline{ \\{ C^\\infty (\\Omega) : \\|.\\|_{W_p^k} \\leq \\infty \\} }^{\\|.\\|_{W_p^k}}.\n",
    "$$\n",
    "A third one is to take continuously differentiable functions up to the boundary\n",
    "\n",
    "$$\n",
    "\\widehat W_p^k := \\overline{ C^\\infty (\\overline{\\Omega}) }^{\\|.\\|_{W_p^k}}.\n",
    "$$\n",
    "\n",
    "Under moderate restrictions, these definitions lead to the same spaces:\n",
    "\n",
    "**Theorem:** Let $1 \\leq p < \\infty$. Then $\\widetilde W_p^k  = W_p^k$.\n",
    "\n",
    "> **Definition:** A domain is called a Lipschitz domain, if its boundary $\\partial \\Omega$ can be locally represented by a Lipschitz-continuous function. \n",
    "\n",
    "Are these domains Lipschitz domains?\n",
    "\n",
    "<img src=\"Lipschitz.png\" alt=\"Alternative text\" width=\"300\" align=\"center\"/>\n",
    "\n",
    "A precise definition which applies also to unbounded domains is the following:\n",
    "\n",
    "**Definition:** The domain $\\Omega$ has a **Lipschitz boundary**, $\\partial \\Omega$, if there exists a collection of open sets $O_i$, a positive parameter $\\varepsilon$, an integer $N$ and a finite number $L$, such that for all $x \\in \\partial \\Omega$ the ball of radius $\\varepsilon$ centered at $x$ is contained in some $O_i$, no more than $N$ of the sets $O_i$ intersect non-trivially, and each \n",
    "part of the boundary $O_i \\cap \\Omega$ is a graph of a Lipschitz function $\\varphi_i : {\\mathbb R}^{d-1} \\rightarrow {\\mathbb R}$ with Lipschitz norm bounded by $L$.\n",
    "\n",
    "**Theorem:** Assume that $\\Omega$ has a Lipschitz boundary, and let $1 \\leq p < \\infty$. Then  $\\widehat W_p^k  = W_p^k$.\n",
    "\n",
    "\n",
    "The case $W_2^k$ is special, it is a Hilbert space. We denote it by\n",
    "\n",
    "$$\n",
    "H^k(\\Omega) := W_2^k(\\Omega).\n",
    "$$\n",
    "The inner product is \n",
    "\n",
    "$$\n",
    "(u,v)_{H^k} := \\sum_{|\\alpha| \\leq k} (D^\\alpha u, D^\\alpha v)_{L_2}\n",
    "$$\n",
    "In the following, we will prove most theorems for the Hilbert spaces $H^k$,\n",
    "and state the general results for $W_p^k$.\n",
    "\n",
    "We define semi-norms\n",
    "\n",
    "$$\n",
    "| u |_{H^k}^2 = \\left( \\sum_{|\\alpha| = k} \\| D^\\alpha u \\|_{L_2}^2 \\right)^{1/2}\n",
    "$$\n",
    "\n",
    "The null-space of these semi-norms consists of polynomials up to order $k-1$."
   ]
  },
  {
   "cell_type": "code",
   "execution_count": null,
   "id": "75e6b7bb-ca5a-42fa-908b-5380ae258020",
   "metadata": {},
   "outputs": [],
   "source": []
  }
 ],
 "metadata": {
  "kernelspec": {
   "display_name": "Python 3 (ipykernel)",
   "language": "python",
   "name": "python3"
  },
  "language_info": {
   "codemirror_mode": {
    "name": "ipython",
    "version": 3
   },
   "file_extension": ".py",
   "mimetype": "text/x-python",
   "name": "python",
   "nbconvert_exporter": "python",
   "pygments_lexer": "ipython3",
   "version": "3.12.2"
  }
 },
 "nbformat": 4,
 "nbformat_minor": 5
}
