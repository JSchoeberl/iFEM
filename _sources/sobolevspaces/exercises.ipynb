{
 "cells": [
  {
   "cell_type": "markdown",
   "id": "9443d0f3-4279-40db-8fa6-a7e0676d7daf",
   "metadata": {},
   "source": [
    "# Exercises"
   ]
  },
  {
   "cell_type": "markdown",
   "id": "212890d8-b67c-44a5-a2e6-403f541ef0bb",
   "metadata": {},
   "source": [
    "## Friedrichs' inequality\n",
    "\n",
    "### Friedrichs' inequality in 1D\n",
    "\n",
    "Prove Friedrichs' inequality on the interval $I = (a,b)$ with elementary tools. Show that there exists a constant $c_F$ such that\n",
    "\n",
    "$$\n",
    "\\| u \\|_{L_2(I)} \\leq c_F \\, \\| u^\\prime \\|_{L_2(I)} \\qquad \\forall \\, u \\in C^1(\\overline{I}), \\, u(a) = 0\n",
    "$$\n",
    "\n",
    "how does your constant $c_F$ depend on $a$ and $b$ ? \n",
    "\n",
    "### Friedrichs' inequality on the square\n",
    "\n",
    "Define $\\Omega = (0,a) \\times (0,b)$. Prove Friedrichs' inequality \n",
    "\n",
    "$$\n",
    "\\| u \\|_{L_2(\\Omega)} \\leq c_F \\| \\nabla u \\|_{L_2(\\Omega)} \\qquad \\forall \\, u \\in C^1(\\overline\\Omega), \\; u(0,y) = 0 \\text{ for } 0 \\leq y \\leq b.\n",
    "$$\n",
    "\n",
    "How does $c_F$ depend on $a$ and $b$ ? "
   ]
  },
  {
   "cell_type": "markdown",
   "id": "c48cdc52-db8e-41ec-b6b2-f225b92e6050",
   "metadata": {},
   "source": [
    "## Poincaré inequality\n",
    "\n",
    "### Eqivalent versions of the Poincaré inequality\n",
    "\n",
    "Prove that the following inequalities are equivalent\n",
    "\n",
    "\n",
    "1. There exists a constant $c_p$ such that\n",
    "\n",
    "  $$ \\| u - \\overline u \\|_{L_2}^2 \\leq c_P^2 \\, \\| \\nabla u \\|^2_{L_2} \\; \\forall \\, u \\in H^1(\\Omega)$$\n",
    "\n",
    "Here, $\\overline u$ is the mean value of $u$, which is $\\frac{1}{|\\Omega|} \\int_\\Omega u(x) dx$, understood as a constant function.\n",
    "\n",
    "2. There exists a constant $c_p$ such that\n",
    "\n",
    "   $$ \\| u \\|_{L_2}^2 \\leq c_P^2 \\, \\| \\nabla u \\|_{L_2}^2 + \\frac{1}{|\\Omega|} \\left( \\int_\\Omega u \\right)^2 $$\n",
    "\n",
    "Hint: Pythagoras. First, observe that $\\overline u$ and $u - \\overline u$ are orthogonal with respect to the $L_2$ inner product.\n",
    "\n",
    "### Poincaré inequality in 1D\n",
    "\n",
    "Prove the Poincaré inequality on the interval $I = (a,b)$ with elementary tools:\n",
    "\n",
    "$$\n",
    "\\| u - \\overline u \\|_{L_2(I)}^2 \\leq c_P^2 \\| u^\\prime \\|_{L_2(I)}^2\n",
    "\\qquad \\forall \\, u \\in C^1(\\overline I)\n",
    "$$\n",
    "\n",
    "How does the Poincaré constant depend on $a$ and $b$ ? \n",
    "\n",
    "Hint: Bring the left hand side to something similar to $\\int \\left( \\int u(y) - u(x) dx\\right) ^2 dy$. Then, use the fundamental theorem of calculus: $u(y)-u(x) = \\int_x^y u^\\prime(s) \\, ds$. finally: Cauchy-Schwarz"
   ]
  },
  {
   "cell_type": "markdown",
   "id": "758a77a3-b543-4cf4-8036-15faf285e587",
   "metadata": {},
   "source": [
    "## Bramble-Hilbert Lemma\n",
    "\n",
    "### Mean-value interpolation\n",
    "\n",
    "Let $\\Omega \\subset {\\mathbb R}^d$, open, bounded and connected. Prove that there exists a constant $c$ such that\n",
    "\n",
    "$$\n",
    "\\| u - \\overline u \\|_{L_2(\\Omega)} \\leq c \\, \\| \\nabla u \\|_{L_2(\\Omega)} \\qquad \\forall \\, u \\in H^1(\\Omega),\n",
    "$$ \n",
    "where $\\overline u := | \\Omega |^{-1} \\int_\\Omega u \\, dx$ is the mean value.\n",
    "\n",
    "Use the Bramble-Hilbert theorem\n",
    "\n",
    "### Scaled domain\n",
    "\n",
    "Let $\\Omega = B_r(p)$ a ball with center $p$ and radius $r$. Prove that there exists a\n",
    "constant $c$, independent of $r$ and $p$, such that\n",
    "\n",
    "$$\n",
    "\\| u - \\overline u \\|_{L_2} \\leq c r \\, \\| \\nabla u \\|_{L_2} \\qquad \\forall \\, u \\in H^1(B_r(p))\n",
    "$$ \n",
    "\n",
    "Hint: Prove the estimate for the unit ball $B_1(0)$. Define a function $\\Phi$ mapping the unit-ball to the arbitrary ball $B_r(p)$. For $u \\in H^1(B_r(p))$, define the pull-back $u \\circ \\Phi \\in H^1(B_1(0))$.\n",
    "Does mean-value and pull-back commute, i.e. does there hold $\\overline u \\circ \\Phi = \\overline{ u  \\circ \\Phi}$ ? \n"
   ]
  },
  {
   "cell_type": "markdown",
   "id": "12dbbee0-d4e1-43f7-bf1a-c671baa213f5",
   "metadata": {},
   "source": [
    "## Fractional Sobolev spaces\n",
    "\n",
    "### Step function\n",
    "Consider the function $u : (-\\pi, \\pi) \\rightarrow {\\mathbb R}$ defined as\n",
    "\n",
    "$$\n",
    "u(x) = \\left\\{ \\begin{array}{cl} \n",
    "    -1 & x < 0 \\\\\n",
    "     1 & x \\geq 0\n",
    "      \\end{array} \\right.\n",
    "$$\n",
    "\n",
    "Find all $\\alpha \\in [0,1]$ such that $u \\in H^\\alpha ( (-\\pi, \\pi) )$. \n",
    "\n",
    "Hint: compute Fourier coefficients $a_k$ and $b_k$ of $u(x) = \\sum a_k \\cos(k x) + b_k \\sin(k x)$, and find all $\\alpha$ such that $\\sum_{k=0}^\\infty k^{2\\alpha} (a_k^2 + b_k^2) < \\infty$\n",
    "\n",
    "### Point evaluation functional\n",
    "\n",
    "Consider the linear functional \n",
    "\n",
    "$$\n",
    "f : C([-\\pi,\\pi]) \\rightarrow {\\mathbb R} : v \\mapsto v(0)\n",
    "$$\n",
    "\n",
    "Find all $\\alpha \\in (0,1)$ such that $f$ can be continuously extended onto $H^\\alpha((-\\pi,\\pi))$, i.e. find all $\\alpha$ such that\n",
    "\n",
    "$$\n",
    "f(v) \\leq \\, c \\, \\| v \\|_{H^\\alpha}\n",
    "$$\n",
    "\n",
    "Hint: Expand $v$ as a Fourier series $v(x) = \\sum a_k \\cos(k x) + b_k \\sin(k x)$, and express $f(v)$ by means of the $a_k$ and $b_k$. "
   ]
  },
  {
   "cell_type": "code",
   "execution_count": null,
   "id": "17aec238-6180-40a6-95d5-3484ec94ee93",
   "metadata": {},
   "outputs": [],
   "source": []
  }
 ],
 "metadata": {
  "kernelspec": {
   "display_name": "Python 3 (ipykernel)",
   "language": "python",
   "name": "python3"
  },
  "language_info": {
   "codemirror_mode": {
    "name": "ipython",
    "version": 3
   },
   "file_extension": ".py",
   "mimetype": "text/x-python",
   "name": "python",
   "nbconvert_exporter": "python",
   "pygments_lexer": "ipython3",
   "version": "3.12.2"
  }
 },
 "nbformat": 4,
 "nbformat_minor": 5
}
