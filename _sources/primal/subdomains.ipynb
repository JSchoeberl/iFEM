{
 "cells": [
  {
   "cell_type": "markdown",
   "metadata": {},
   "source": [
    "Variable Coefficients\n",
    "===\n",
    "$\\DeclareMathOperator{\\opdiv}{div}$\n",
    "\n",
    "A setup with varying heat-conductivity is modeled by the equation\n",
    "\n",
    "$$\n",
    "-\\opdiv \\lambda(x) \\nabla u(x) = f(x),\n",
    "$$\n",
    "\n",
    "where $\\lambda$ is the heat-conductivity, relating the heat-flux \n",
    "\n",
    "$$\n",
    "q = -\\lambda \\nabla u\n",
    "$$\n",
    "\n",
    "to the temperature gradient $\\nabla u$.\n",
    "\n",
    "In the case of discontinuous $\\lambda$, the equation is understood in distributional sense. This includes the interface conditions: The temperature on the left and right side are equal, and the heat flux leaving the left side enters the right side:\n",
    "\n",
    "\\begin{eqnarray*}\n",
    "u_l & = & u_r \\\\\n",
    "\\lambda_l \\frac{\\partial u_r}{\\partial n} & = & \\lambda_r \\frac{\\partial u_r}{\\partial n}\n",
    "\\end{eqnarray*}\n",
    "\n",
    "The variational form is: find $u \\in H^1(\\Omega)$\n",
    "\n",
    "$$\n",
    "\\int_\\Omega \\lambda(x) \\nabla u \\nabla v = \\int_\\Omega f v\n",
    "$$\n",
    "\n",
    "There is no issue with discontinuous coefficients. Both interface conditions are included: \n",
    "* continuity of temperature $u$ by the continuity of the trial space\n",
    "* continuity of the heat flux in weak sense, such as Neumann boundary conditions"
   ]
  },
  {
   "cell_type": "code",
   "execution_count": null,
   "metadata": {},
   "outputs": [],
   "source": [
    "from ngsolve import *\n",
    "from ngsolve.webgui import Draw\n",
    "from netgen.webgui import Draw as DrawGeo"
   ]
  },
  {
   "cell_type": "markdown",
   "metadata": {},
   "source": [
    "Make a 2D geometry (with brand-new Opencascade Technology):"
   ]
  },
  {
   "cell_type": "code",
   "execution_count": null,
   "metadata": {},
   "outputs": [],
   "source": [
    "from netgen.occ import *\n",
    "box = Rectangle(1,1).Face()\n",
    "circ = Circle((0.3,0.7), 0.1).Face()\n",
    "bar = MoveTo(0.2,0.2).Rectangle(0.7,0.1).Face()\n",
    "air = box-circ-bar\n",
    "\n",
    "circ.faces.name = \"source\"\n",
    "air.faces.name = \"air\"\n",
    "bar.faces.name = \"bar\"\n",
    "air.edges.Min(Y).name ='b'\n",
    "air.edges.Max(X).name ='r'\n",
    "\n",
    "shape = Glue([air,circ,bar])\n",
    "DrawGeo (shape);"
   ]
  },
  {
   "cell_type": "code",
   "execution_count": null,
   "metadata": {},
   "outputs": [],
   "source": [
    "geo = OCCGeometry(shape, dim=2)\n",
    "mesh = Mesh(geo.GenerateMesh(maxh=0.05)).Curve(3)\n",
    "Draw (mesh);"
   ]
  },
  {
   "cell_type": "code",
   "execution_count": null,
   "metadata": {},
   "outputs": [],
   "source": [
    "print (mesh.GetMaterials())"
   ]
  },
  {
   "cell_type": "code",
   "execution_count": null,
   "metadata": {},
   "outputs": [],
   "source": [
    "print (mesh.GetBoundaries())"
   ]
  },
  {
   "cell_type": "code",
   "execution_count": null,
   "metadata": {},
   "outputs": [],
   "source": [
    "fes = H1(mesh, order=3, dirichlet=\"b|r\")\n",
    "u = fes.TrialFunction()\n",
    "v = fes.TestFunction()"
   ]
  },
  {
   "cell_type": "markdown",
   "metadata": {},
   "source": [
    "make a coefficient function taking one constant per material. Uses Python list comprehension."
   ]
  },
  {
   "cell_type": "code",
   "execution_count": null,
   "metadata": {},
   "outputs": [],
   "source": [
    "lam = mesh.MaterialCF({ \"air\" : 1, \"bar\" : 100, \"source\" : 2 } )\n",
    "Draw (lam, mesh, \"lambda\");"
   ]
  },
  {
   "cell_type": "markdown",
   "metadata": {},
   "source": [
    "use conductivity in bilinear-form:"
   ]
  },
  {
   "cell_type": "code",
   "execution_count": null,
   "metadata": {},
   "outputs": [],
   "source": [
    "a = BilinearForm(fes)\n",
    "a += lam*grad(u)*grad(v)*dx\n",
    "\n",
    "f = LinearForm(fes)\n",
    "f += 50*v*dx(\"source\")\n",
    "a.Assemble()\n",
    "f.Assemble();"
   ]
  },
  {
   "cell_type": "code",
   "execution_count": null,
   "metadata": {},
   "outputs": [],
   "source": [
    "reg = mesh.Materials(\"source|bar\")\n",
    "print (reg.VB(), reg.Mask())"
   ]
  },
  {
   "cell_type": "code",
   "execution_count": null,
   "metadata": {},
   "outputs": [],
   "source": [
    "gfu = GridFunction(fes)\n",
    "gfu.vec.data = a.mat.Inverse(fes.FreeDofs()) * f.vec"
   ]
  },
  {
   "cell_type": "code",
   "execution_count": null,
   "metadata": {},
   "outputs": [],
   "source": [
    "Draw (gfu, mesh, \"temperature\");"
   ]
  },
  {
   "cell_type": "code",
   "execution_count": null,
   "metadata": {},
   "outputs": [],
   "source": [
    "Draw (grad(gfu), mesh, \"gradient\");"
   ]
  },
  {
   "cell_type": "code",
   "execution_count": null,
   "metadata": {},
   "outputs": [],
   "source": [
    "Draw (-lam*grad(gfu), mesh, \"heatflux\");"
   ]
  }
 ],
 "metadata": {
  "kernelspec": {
   "display_name": "Python 3",
   "language": "python",
   "name": "python3"
  },
  "language_info": {
   "codemirror_mode": {
    "name": "ipython",
    "version": 3
   },
   "file_extension": ".py",
   "mimetype": "text/x-python",
   "name": "python",
   "nbconvert_exporter": "python",
   "pygments_lexer": "ipython3",
   "version": "3.9.7"
  }
 },
 "nbformat": 4,
 "nbformat_minor": 2
}
