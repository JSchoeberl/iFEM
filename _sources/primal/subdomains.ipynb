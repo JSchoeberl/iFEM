{
 "cells": [
  {
   "cell_type": "markdown",
   "metadata": {},
   "source": [
    "# Variable Coefficients\n",
    "$\\DeclareMathOperator{\\opdiv}{div}$\n",
    "A setup with varying heat-conductivity is modeled by the equation\n",
    "\n",
    "$$\n",
    "-\\opdiv \\lambda(x) \\nabla u(x) = f(x),\n",
    "$$\n",
    "\n",
    "where $\\lambda : \\Omega \\rightarrow {\\mathbb R}^+$ is the heat-conductivity, relating the heat-flux \n",
    "\n",
    "$$\n",
    "q := -\\lambda \\nabla u\n",
    "$$\n",
    "\n",
    "to the temperature gradient $\\nabla u$.\n",
    "\n",
    "In the case of discontinuous $\\lambda$, the equation is understood in distributional sense. This includes the interface conditions: The temperature on the left and right side are equal, and the heat flux leaving the left side enters the right side:\n",
    "\n",
    "\\begin{eqnarray*}\n",
    "u_l & = & u_r \\\\\n",
    "\\lambda_l \\frac{\\partial u_r}{\\partial n} & = & \\lambda_r \\frac{\\partial u_r}{\\partial n}\n",
    "\\end{eqnarray*}\n",
    "\n",
    "The variational form is: find $u \\in H^1(\\Omega)$\n",
    "\n",
    "$$\n",
    "\\int_\\Omega \\lambda(x) \\nabla u \\nabla v \\, dx = \\int_\\Omega f v \\, dx\n",
    "$$\n",
    "\n",
    "There is no issue with discontinuous coefficients. Both interface conditions are included: \n",
    "* continuity of temperature $u$ by the continuity of the trial space\n",
    "* continuity of the heat flux in weak sense, similar as Neumann boundary conditions"
   ]
  },
  {
   "cell_type": "code",
   "execution_count": null,
   "metadata": {},
   "outputs": [],
   "source": [
    "from ngsolve import *\n",
    "from ngsolve.webgui import Draw"
   ]
  },
  {
   "cell_type": "markdown",
   "metadata": {},
   "source": [
    "Create a 2D geometric model:"
   ]
  },
  {
   "cell_type": "code",
   "execution_count": null,
   "metadata": {},
   "outputs": [],
   "source": [
    "from netgen.occ import *\n",
    "box = Rectangle(1,1).Face()\n",
    "circ1 = Circle((0.3,0.7), 0.1).Face()\n",
    "circ2 = Circle((0.7,0.7), 0.1).Face()\n",
    "bar = MoveTo(0.2,0.2).Rectangle(0.6,0.1).Face()\n",
    "air = box-circ1-circ2-bar\n",
    "\n",
    "circ1.faces.name = \"left\"\n",
    "circ2.faces.name = \"right\"\n",
    "air.faces.name = \"air\"\n",
    "bar.faces.name = \"bar\"\n",
    "air.edges.Min(Y).name ='b'\n",
    "air.edges.Max(X).name ='r'\n",
    "\n",
    "shape = Glue([air,circ1, circ2,bar])\n",
    "Draw (shape);"
   ]
  },
  {
   "cell_type": "code",
   "execution_count": null,
   "metadata": {},
   "outputs": [],
   "source": [
    "geo = OCCGeometry(shape, dim=2)\n",
    "mesh = Mesh(geo.GenerateMesh(maxh=0.05)).Curve(3)\n",
    "Draw (mesh);"
   ]
  },
  {
   "cell_type": "code",
   "execution_count": null,
   "metadata": {},
   "outputs": [],
   "source": [
    "print (mesh.GetMaterials())"
   ]
  },
  {
   "cell_type": "code",
   "execution_count": null,
   "metadata": {},
   "outputs": [],
   "source": [
    "print (mesh.GetBoundaries())"
   ]
  },
  {
   "cell_type": "code",
   "execution_count": null,
   "metadata": {},
   "outputs": [],
   "source": [
    "fes = H1(mesh, order=3, dirichlet=\"b|r\")\n",
    "u,v = fes.TnT()"
   ]
  },
  {
   "cell_type": "markdown",
   "metadata": {},
   "source": [
    "make a coefficient function taking one constant, or even another coefficient function per material: "
   ]
  },
  {
   "cell_type": "code",
   "execution_count": null,
   "metadata": {},
   "outputs": [],
   "source": [
    "lam = mesh.MaterialCF({ \"bar\" : 5, \"left\" : 2.5, \"right\" : 2.5 }, default=1 )\n",
    "Draw (lam, mesh, \"lambda\");"
   ]
  },
  {
   "cell_type": "markdown",
   "metadata": {},
   "source": [
    "use conductivity in bilinear-form:"
   ]
  },
  {
   "cell_type": "code",
   "execution_count": null,
   "metadata": {},
   "outputs": [],
   "source": [
    "a = BilinearForm(lam*grad(u)*grad(v)*dx).Assemble()\n",
    "f = LinearForm(50*v*dx(\"left\")).Assemble()"
   ]
  },
  {
   "cell_type": "code",
   "execution_count": null,
   "metadata": {},
   "outputs": [],
   "source": [
    "reg = mesh.Materials(\"left|bar\")\n",
    "print (type(reg))\n",
    "print (\"volume or boundary=\", reg.VB())\n",
    "print (\"bitmask =\", reg.Mask())"
   ]
  },
  {
   "cell_type": "code",
   "execution_count": null,
   "metadata": {},
   "outputs": [],
   "source": [
    "gfu = GridFunction(fes)\n",
    "gfu.vec.data = a.mat.Inverse(fes.FreeDofs()) * f.vec"
   ]
  },
  {
   "cell_type": "code",
   "execution_count": null,
   "metadata": {},
   "outputs": [],
   "source": [
    "Draw (gfu, mesh);"
   ]
  },
  {
   "cell_type": "markdown",
   "metadata": {},
   "source": [
    "The gradient is small in regions with high conductivity:"
   ]
  },
  {
   "cell_type": "code",
   "execution_count": null,
   "metadata": {},
   "outputs": [],
   "source": [
    "Draw (grad(gfu), mesh, \"gradient\");"
   ]
  },
  {
   "cell_type": "markdown",
   "metadata": {},
   "source": [
    "The heat-flux is large in highly conductive materials:"
   ]
  },
  {
   "cell_type": "code",
   "execution_count": null,
   "metadata": {},
   "outputs": [],
   "source": [
    "Draw (-lam*grad(gfu), mesh, vectors={\"grid_size\":30});"
   ]
  },
  {
   "cell_type": "markdown",
   "metadata": {},
   "source": [
    "**Exercise:**\n",
    "* experiment with different (positive!) values for the conductivity coefficients"
   ]
  },
  {
   "cell_type": "code",
   "execution_count": null,
   "metadata": {},
   "outputs": [],
   "source": []
  }
 ],
 "metadata": {
  "kernelspec": {
   "display_name": "Python 3 (ipykernel)",
   "language": "python",
   "name": "python3"
  },
  "language_info": {
   "codemirror_mode": {
    "name": "ipython",
    "version": 3
   },
   "file_extension": ".py",
   "mimetype": "text/x-python",
   "name": "python",
   "nbconvert_exporter": "python",
   "pygments_lexer": "ipython3",
   "version": "3.12.2"
  }
 },
 "nbformat": 4,
 "nbformat_minor": 4
}
