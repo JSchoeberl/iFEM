{
 "cells": [
  {
   "cell_type": "markdown",
   "metadata": {},
   "source": [
    "Solving the Poisson Equation\n",
    "==\n",
    "$\\DeclareMathOperator{\\opdiv}{div}$ $\\DeclareMathOperator{\\setR}{R}$\n",
    "\n",
    "The finite element method is a numerical method for solving partial differential equations approximately. A typical example is the Poisson equation:\n",
    "\n",
    "$$\n",
    "-\\Delta u(x) = f(x) \\quad \\forall \\, x \\in \\Omega\n",
    "$$\n",
    "\n",
    "The right hand side $f$ is a given function, and we search for the solution $u$. The domain $\\Omega$ is a subset of $R^d$. The Poisson equation is a model for many physical phenomena:\n",
    "* f can be a heat source distribution, and u is the temperature\n",
    "* f can be an electric charge distribution, and u is the electrostatic potential\n",
    "\n",
    "To select a unique solution $u$ we have to specify boundary conditions, for example homogeneous Dirichlet boundary conditions\n",
    "\n",
    "$$\n",
    "u(x) = 0 \\quad \\forall \\, x \\in \\partial \\Omega\n",
    "$$"
   ]
  },
  {
   "cell_type": "markdown",
   "metadata": {},
   "source": [
    "Weak formulation\n",
    "---\n",
    "We derive the weak formulation (also called variational formulation) of the Poisson equation. The formulation above is called the strong form. The weak form is the starting point for the finite element discretization method.\n",
    "\n",
    "First, we multiply the Poisson equation by a so called test function. It is an arbitrary function, some restriction will be given later as needed. We multiply the strong form by the function v:\n",
    "\n",
    "$$\n",
    "- \\Delta u(x) v(x) = f(x) v(x) \\qquad \\forall x \\in \\Omega\n",
    "$$\n",
    "\n",
    "We integrate over the domain $\\Omega$:\n",
    "\n",
    "$$\n",
    "- \\int_\\Omega \\Delta u(x) v(x) dx = \\int_\\Omega f(x) v(x) dx\n",
    "$$\n",
    "\n",
    "From Gauss' Theorem $\\int_\\Omega \\operatorname{div} b \\, dx = \\int_{\\partial \\Omega} n\\cdot b \\, ds$ applied to the vector field $b = \\nabla u v$ we obtain\n",
    "\n",
    "$$\n",
    "\\int_{\\partial \\Omega} n \\nabla u \\, v \\, ds = \\int_\\Omega \\opdiv (\\nabla u \\, v) \\, dx\n",
    "= \\int_{\\Omega} \\Delta u v + \\nabla u \\nabla v \\, dx.\n",
    "$$\n",
    "\n",
    "This allows us to rewrite the left hand side such that\n",
    "\n",
    "$$\n",
    "\\int_\\Omega \\nabla u \\nabla v \\, dx - \\int_{\\partial \\Omega} \\frac{\\partial u}{\\partial n} v \\, ds = \\int_\\Omega f v \\, dx\n",
    "$$\n",
    "\n",
    "In the case of Dirichlet boundary conditions we allow only test-functions $v$ such that $v(x) = 0$ on the boundary $\\partial \\Omega$.\n",
    "\n",
    "We have derived the weak form: find $u$ such that $u = 0$ on $\\partial \\Omega$ and \n",
    "\n",
    "$$\n",
    "\\int_\\Omega \\nabla u \\nabla v \\, dx = \\int_\\Omega f v \\, dx\n",
    "$$\n",
    "\n",
    "holds true for all test-functions $v$ with $v = 0$ on $\\partial \\Omega$. Note that the weak formulation needs only first order derivatives of $u$ and $v$, in contrast to the strong form which requires second order derivatives of $u$."
   ]
  },
  {
   "cell_type": "markdown",
   "metadata": {},
   "source": [
    "The Sobolev space $H^1$, linear and bilinear forms\n",
    "--\n",
    "\n",
    "The proper space to search for the solution is the so called Sobolev space \n",
    "\n",
    "$$\n",
    "H^1(\\Omega) := \\{ u \\in L_2(\\Omega) : \\nabla u \\in L_2(\\Omega)^d \\}\n",
    "$$\n",
    "\n",
    "The super-script $1$ indicates that we want to have first order derivatives in $L_2$. We just note that the derivative is understood in weak sense, which is well defined for functions with kinks. The vector space $H^1$ comes with the norm\n",
    "\n",
    "$$\n",
    "\\| u \\|_{H^1}^2 := \\| u \\|_{L_2}^2 + \\| \\nabla u \\|_{L_2}^2\n",
    "$$\n",
    "\n",
    "and the inner product\n",
    "\n",
    "$$\n",
    "(u,v)_{H^1} = (u,v)_{L_2} + (\\nabla u, \\nabla v)_{L_2}.\n",
    "$$\n",
    "\n",
    "It is a complete space with an inner product what is called a Hilbert space.\n",
    "\n",
    "\n",
    "\n",
    "It does not make sense to take boundary values of $L_2$-functions. The so called trace theorem tells us that boundary values of $H^1$ functions are well defined:\n",
    "\n",
    "$$\n",
    "u_{|\\partial \\Omega} \\in L_2(\\partial \\Omega)\n",
    "$$\n",
    "\n",
    "Thus it makes sense to define the sub-space satisfying homogeneous Dirichlet boundary conditions\n",
    "\n",
    "$$\n",
    "H_0^1 = \\{ u \\in H^1 : u_{|\\partial \\Omega} = 0 \\} \n",
    "$$\n",
    "\n",
    "Let us consider the term on the left hand side of the variational formulation:\n",
    "\n",
    "$$\n",
    "A(u,v) := \\int_{\\Omega} \\nabla u \\nabla v \\, dx\n",
    "$$\n",
    "\n",
    "\n",
    "For given functions $u$ and $v$ from the Sobolev space, we compute the number $\\int \\nabla u \\nabla v \\, dx$. Thus, $A(.,.)$ is a function mapping from two elements from $H^1$ into $\\setR$:\n",
    "\n",
    "$$\n",
    "A(.,.) : H^1 \\times H^1 \\rightarrow \\setR\n",
    "$$\n",
    "\n",
    "The function $A(.,.)$ is linear in both arguments, and thus we call it a bilinear-form.\n",
    "\n",
    "\n",
    "Similarly, the right hand side\n",
    "\n",
    "$$\n",
    "f(v) := \\int_{\\Omega} f v \\, dx\n",
    "$$\n",
    "\n",
    "is a linear function\n",
    "\n",
    "$$\n",
    "f(.) : H^1 \\rightarrow \\setR,\n",
    "$$\n",
    "\n",
    "which we call a linear form. We use the same symbol for the function \n",
    "$f : \\Omega \\rightarrow \\setR$ and the linear-form $f : H^1 \\rightarrow \\setR$.\n",
    "\n",
    "Having these objects defined, the weak formulation reads now \n",
    "\n",
    "$$\n",
    "\\text{find} \\, u \\in H_0^1 : \\quad A(u,v) = f(v) \\quad \\forall \\, v \\in H_0^1\n",
    "$$\n",
    "\n",
    "This abstract formalism in Hilbert spaces, bilinear and linear forms apply for a large class of (elliptic) partial differential equations."
   ]
  },
  {
   "cell_type": "markdown",
   "metadata": {},
   "source": [
    "The Finite Element Method\n",
    "--\n",
    "The weak formulation is the starting point for the finite element method. We cannot compute the solution in an infinite dimensional Hilbert space. But, we can define a finite dimensional sub-space \n",
    "\n",
    "$$\n",
    "V_h \\subset H^1_0\n",
    "$$\n",
    "\n",
    "and restrict the weak formulation to $V_h$:\n",
    "\n",
    "$$\n",
    "\\text{find} \\, u_h \\in V_h : \\quad A(u_h,v_h) = f(v_h) \\quad \\forall \\, v_h \\in V_h\n",
    "$$\n",
    "\n",
    "The finite element solution $u_h$ is some approximation to the true solution $u$. We can analyze the discretization error $\\| u - u_h \\|_{H^1}$.\n",
    "\n",
    "For computing the discrete solution $u_h$ we have to choose a basis for the function space $V_h$, where $N = \\operatorname{dim} V_h$\n",
    "\n",
    "$$\n",
    "V_h = \\operatorname{span} \\{ p_1(x), \\ldots, p_N(x) \\}\n",
    "$$\n",
    "\n",
    "By means of this basis we can expand the solution $u_h$ as\n",
    "\n",
    "$$\n",
    "u_h(x) = \\sum_{i=1}^N u_i p_i(x)\n",
    "$$\n",
    "\n",
    "The coefficients $u_i$ are combined to the coefficient vector $u = (u_1, \\ldots, u_N) \\in \\setR^N$\n",
    "\n",
    "Instead of testing with all test-functions from $V_h$, by linearity of $A(.,.)$ and $f(.)$, it is enough to test only with the basis functions $p_j(x), j = 1, \\ldots, N$\n",
    "\n",
    "Thus, the finite element probem can be rewritten as\n",
    "\n",
    "$$\n",
    "\\text{find } u \\in \\setR^N : \\quad A(\\sum_i u_i p_i, p_j) = f(p_j) \\qquad \\forall \\, j = 1, \\ldots N\n",
    "$$\n",
    "\n",
    "By linearity of $A(.,.)$ in the first argument we can write\n",
    "\n",
    "$$\n",
    "\\text{find } u \\in \\setR^N : \\quad \\sum_{i=1}^N A(p_i, p_j) \\, u_i = f(p_j) \\qquad \\forall \\, j = 1, \\ldots N\n",
    "$$\n",
    "\n",
    "Since the basis functions are known, we can compute the matrix $A \\in \\setR^{N\\times N}$ with entries\n",
    "\n",
    "$$\n",
    "A_{j,i} = A(p_i,p_j) = \\int_\\Omega \\nabla p_i(x) \\nabla p_j(x) \\, dx\n",
    "$$\n",
    "\n",
    "and the vector $f \\in \\setR^N$ as\n",
    "\n",
    "$$\n",
    "f_j = f(p_j) = \\int_\\Omega f(x) p_j(x) \\, dx\n",
    "$$\n",
    "\n",
    "Solving the finite element problem results in the linear system of equations for the coefficient vector $u = (u_1, \\ldots, u_N)$:\n",
    "\n",
    "$$\n",
    "\\text{find } u \\in \\setR^N : \\quad A u = f\n",
    "$$\n",
    "\n",
    "By means of the coefficient vector, we have a representation of the finite element solution \n",
    "\n",
    "$$\n",
    "u_h(x) = \\sum_{i=1}^N u_i p_i(x)\n",
    "$$"
   ]
  },
  {
   "cell_type": "markdown",
   "metadata": {},
   "source": [
    "Poisson equation in NGSolve:\n",
    "--\n",
    "The Python interface to NGSolve allows us to enter the equation very close to its mathematical formulation."
   ]
  },
  {
   "cell_type": "code",
   "execution_count": null,
   "metadata": {},
   "outputs": [],
   "source": [
    "# load Netgen/NGSolve \n",
    "from ngsolve import *\n",
    "from ngsolve.webgui import Draw"
   ]
  },
  {
   "cell_type": "markdown",
   "metadata": {},
   "source": [
    "The unit-square $\\Omega = (0,1)^2$ is a predefined domain in NGSolve:"
   ]
  },
  {
   "cell_type": "code",
   "execution_count": null,
   "metadata": {},
   "outputs": [],
   "source": [
    "Draw(unit_square.shape);"
   ]
  },
  {
   "cell_type": "markdown",
   "metadata": {},
   "source": [
    "We generate a mesh (also called a triangulation) for $\\Omega$ of mesh-size $h=0.2$:"
   ]
  },
  {
   "cell_type": "code",
   "execution_count": null,
   "metadata": {},
   "outputs": [],
   "source": [
    "mesh = Mesh(unit_square.GenerateMesh(maxh=0.2))\n",
    "Draw (mesh);"
   ]
  },
  {
   "cell_type": "markdown",
   "metadata": {},
   "source": [
    "Number of vertices and elements:"
   ]
  },
  {
   "cell_type": "code",
   "execution_count": null,
   "metadata": {},
   "outputs": [],
   "source": [
    "mesh.nv, mesh.ne"
   ]
  },
  {
   "cell_type": "markdown",
   "metadata": {},
   "source": [
    "define the finite element space (dof is short for degree of freedom): "
   ]
  },
  {
   "cell_type": "code",
   "execution_count": null,
   "metadata": {},
   "outputs": [],
   "source": [
    "fes = H1(mesh, order=3, dirichlet=\".*\")\n",
    "print (\"number of dofs =\", fes.ndof)"
   ]
  },
  {
   "cell_type": "markdown",
   "metadata": {},
   "source": [
    "Define the bilinear-form. We define it by means of trial- and test-functions of the space:"
   ]
  },
  {
   "cell_type": "code",
   "execution_count": null,
   "metadata": {},
   "outputs": [],
   "source": [
    "u = fes.TrialFunction()\n",
    "v = fes.TestFunction()\n",
    "a = BilinearForm(grad(u)*grad(v)*dx)"
   ]
  },
  {
   "cell_type": "markdown",
   "metadata": {},
   "source": [
    "Similarly, we define the linear-form. The function `funcf` is defined by means of `x` and `y`, which are pre-defined symbols for Cartesian coordinates:"
   ]
  },
  {
   "cell_type": "code",
   "execution_count": null,
   "metadata": {},
   "outputs": [],
   "source": [
    "funcf = 50*x*y\n",
    "f = LinearForm(funcf*v*dx)"
   ]
  },
  {
   "cell_type": "markdown",
   "metadata": {},
   "source": [
    "compute the matrix and right hand side vector:"
   ]
  },
  {
   "cell_type": "code",
   "execution_count": null,
   "metadata": {},
   "outputs": [],
   "source": [
    "a.Assemble()\n",
    "f.Assemble();"
   ]
  },
  {
   "cell_type": "markdown",
   "metadata": {},
   "source": [
    "solve the linear system. Restrict the set of basis functions to non-Dirichlet basis functions (freedofs):"
   ]
  },
  {
   "cell_type": "code",
   "execution_count": null,
   "metadata": {},
   "outputs": [],
   "source": [
    "gfu = GridFunction(fes)\n",
    "gfu.vec.data = a.mat.Inverse(freedofs=fes.FreeDofs()) * f.vec\n",
    "Draw (gfu);"
   ]
  },
  {
   "cell_type": "code",
   "execution_count": null,
   "metadata": {},
   "outputs": [],
   "source": [
    "Draw (grad(gfu), mesh, order=3, vectors = True);"
   ]
  },
  {
   "cell_type": "markdown",
   "metadata": {},
   "source": [
    "We can inspect the matrix entries. Either directly printing the matrix, or convert the sparse matrix to scipy:"
   ]
  },
  {
   "cell_type": "code",
   "execution_count": null,
   "metadata": {},
   "outputs": [],
   "source": [
    "# (i,j,val) = a.mat.COO()\n",
    "# print (list(i),list(j),list(val))\n",
    "# print (a.mat)\n",
    "from scipy.sparse import csr_matrix\n",
    "print (csr_matrix(a.mat.CSR()))"
   ]
  },
  {
   "cell_type": "markdown",
   "metadata": {},
   "source": [
    "the right hand side vector:"
   ]
  },
  {
   "cell_type": "code",
   "execution_count": null,
   "metadata": {},
   "outputs": [],
   "source": [
    "import numpy as np\n",
    "print (np.array(f.vec))"
   ]
  },
  {
   "cell_type": "markdown",
   "metadata": {},
   "source": [
    "and the solution vector:"
   ]
  },
  {
   "cell_type": "code",
   "execution_count": null,
   "metadata": {},
   "outputs": [],
   "source": [
    "print (np.array(gfu.vec))"
   ]
  },
  {
   "cell_type": "markdown",
   "metadata": {},
   "source": [
    "For a finite element space of order=1, the basis-functions are associated with mesh vertices. For higher order, we also have edge and face based basis-functions. "
   ]
  },
  {
   "cell_type": "markdown",
   "metadata": {},
   "source": [
    "## Visualizing the basis functions"
   ]
  },
  {
   "cell_type": "markdown",
   "metadata": {},
   "source": [
    "Let's have a look at the basis functions. Well know are the so-called hat-functions, which have value 1 in one vertex, 0 in all other, and a linear interpolation in between.\n",
    "\n",
    "Open controls, and use the `multidim` slider to select basis function"
   ]
  },
  {
   "cell_type": "code",
   "execution_count": null,
   "metadata": {},
   "outputs": [],
   "source": [
    "gf = GridFunction(fes, multidim=mesh.nv)\n",
    "for i in range (mesh.nv):\n",
    "    gf.vecs[i][:] = 0\n",
    "    gf.vecs[i][i] = 1\n",
    "scene = Draw (gf, deformation=True, animate=True);"
   ]
  },
  {
   "cell_type": "markdown",
   "metadata": {},
   "source": [
    "For higher order spaces there are also basis functions on edges:"
   ]
  },
  {
   "cell_type": "code",
   "execution_count": null,
   "metadata": {},
   "outputs": [],
   "source": [
    "edgedofs = fes.GetDofNrs(NodeId(EDGE,40))\n",
    "print (\"dofs on edge #40: \", edgedofs)\n",
    "\n",
    "gf = GridFunction(fes)\n",
    "for edof in edgedofs:\n",
    "    gf.vec[:] = 0\n",
    "    gf.vec[edof] = 1  \n",
    "    Draw (gf, deformation=True, order=3)"
   ]
  },
  {
   "cell_type": "markdown",
   "metadata": {},
   "source": [
    "and also basis functions associated with faces:"
   ]
  },
  {
   "cell_type": "code",
   "execution_count": null,
   "metadata": {
    "scrolled": true
   },
   "outputs": [],
   "source": [
    "facedofs = fes.GetDofNrs(NodeId(FACE,0))\n",
    "print (\"dofs on face #0: \", facedofs)\n",
    "\n",
    "for fdof in facedofs:\n",
    "    gf.vec[:] = 0\n",
    "    gf.vec[fdof] = 1  \n",
    "    Draw (gf, deformation=True, order=3)"
   ]
  },
  {
   "cell_type": "markdown",
   "metadata": {},
   "source": [
    "To get help on types or objects use the help function:"
   ]
  },
  {
   "cell_type": "code",
   "execution_count": null,
   "metadata": {},
   "outputs": [],
   "source": [
    "help (Mesh)"
   ]
  },
  {
   "cell_type": "code",
   "execution_count": null,
   "metadata": {},
   "outputs": [],
   "source": [
    "help (fes)"
   ]
  },
  {
   "cell_type": "code",
   "execution_count": null,
   "metadata": {},
   "outputs": [],
   "source": []
  }
 ],
 "metadata": {
  "kernelspec": {
   "display_name": "Python 3 (ipykernel)",
   "language": "python",
   "name": "python3"
  },
  "language_info": {
   "codemirror_mode": {
    "name": "ipython",
    "version": 3
   },
   "file_extension": ".py",
   "mimetype": "text/x-python",
   "name": "python",
   "nbconvert_exporter": "python",
   "pygments_lexer": "ipython3",
   "version": "3.12.2"
  }
 },
 "nbformat": 4,
 "nbformat_minor": 4
}
