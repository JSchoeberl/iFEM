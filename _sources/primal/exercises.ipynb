{
 "cells": [
  {
   "cell_type": "markdown",
   "id": "306f43b1-4e4a-490e-9211-3aa79d65f885",
   "metadata": {},
   "source": [
    "# Exercises"
   ]
  },
  {
   "cell_type": "markdown",
   "id": "5424d4f2-cd6c-4c1c-9c3d-e00dbc8741f3",
   "metadata": {},
   "source": [
    "## Get started with Netgen-Opencascade geometric modeling\n",
    "\n",
    "* Consult the documentation, Section 4.4: https://docu.ngsolve.org/latest/i-tutorials/index.html#Geometric-modeling-and-mesh-generation\n",
    "* Create some geometric models of your choice in 2D and 3D\n",
    "* Generate meshes\n",
    "* Give names to material and boundary regions. Execute `mesh.Materials()` and `mesh.Boundaries()` for verification."
   ]
  },
  {
   "cell_type": "markdown",
   "id": "279dfe24-d58e-4ac2-9683-9cae5addbc2d",
   "metadata": {},
   "source": [
    "## Experiment with CoefficientFunctions\n",
    "* Consult documentation https://docu.ngsolve.org/latest/i-tutorials/unit-1.2-coefficient/coefficientfunction.html\n",
    "* Compute the volume and center of gravity of your geometries using the NGSolve - `Integrate(func, mesh)` functionality"
   ]
  },
  {
   "cell_type": "markdown",
   "id": "4fa33508-75b7-4f78-a663-2077eec7857b",
   "metadata": {},
   "source": [
    "## Work with GridFunctions\n",
    "* Define an $H^1$ finite element space of some order on $\\Omega = (0,1)^2$\n",
    "* Define a `GridFunction` in this space, and interpolate $u(x,y) = \\exp(-x^2 - y^2)$\n",
    "* Compute the $L_2$-norm of the interpolation error $u - I_h u$.\n",
    "* Study convergence of the interpolation error depending on the mesh-size and the polynomial order of the space (generate plots).\n",
    "* Study convergence in the $H^1$-norm\n",
    "* Find a way to compute $\\int_{\\partial \\Omega} | \\partial_n u- \\partial_n I_h u) |^2$."
   ]
  },
  {
   "cell_type": "markdown",
   "id": "9de2d3eb-e050-4584-aba1-c89d02086690",
   "metadata": {},
   "source": [
    "## Linear Algebra\n",
    "* https://docu.ngsolve.org/latest/how_to/howto_linalg.html\n",
    "* https://docu.ngsolve.org/latest/how_to/howto_numpy.html#\n",
    "* Compute the Euklidean norm of the coefficient vector of the gridfunction set to the function above. Once use NGSolve functions, the other time use numpy"
   ]
  },
  {
   "cell_type": "markdown",
   "id": "742a719e-abac-46d6-ae36-8e17acd0184b",
   "metadata": {},
   "source": [
    "## Experiments with `BilienarForm`s and `LinearForm`s\n",
    "\n",
    "* Create a `GridFunction` gfu and interpolate $xy$ to it\n",
    "* Define `LinearForm` $f : V \\rightarrow {\\mathbf R} : v \\mapsto \\int_\\Omega 1 v \\, dx$\n",
    "* Compute $f(gfu)$ using `InnerProduct` of the vectors. Explain what you observe.\n",
    "* Define a `BilinearForm` $A : V \\times V \\rightarrow {\\mathbf R} : (u,v) \\mapsto \\int_\\Omega u v + \\nabla u \\nabla v \\, dx$\n",
    "* Compute $\\|u \\|_{H^1}^2 = \\| u \\|_{L_2}^2 + \\| \\nabla u \\|_{L_2}^2$ in two kinds: Once using `Integrate`, and then using the bilinear-form."
   ]
  },
  {
   "cell_type": "markdown",
   "id": "6329a221-794d-4fc2-a119-772962c4f6df",
   "metadata": {},
   "source": [
    "## Computing dual norms\n",
    "\n",
    "* Define the `LinearForm` $f : V \\rightarrow {\\mathbf R} : v \\mapsto \\int_{\\partial \\Omega} v \\, ds$\n",
    "* The canonical norm for the linear-form is the dual norm\n",
    "  \n",
    "  $$\n",
    "  \\| f \\|_{V^\\ast} := \\sup_{v \\in V} \\frac{f(v)}{\\|v \\|_V}.\n",
    "  $$\n",
    "  \n",
    "  Proof that the supremum is attained for $w$ satisfying $(w,v)_V = f(v) \\; \\forall \\, v \\in V$, i.e. the solution of a variational problem.\n",
    "* Compute the dual norm by replacing the space $V$ by a sequence of finite element spaces (refinement in $h$ and/or $p$). Try with norms $\\| \\cdot \\|_{L_2}$ and $\\| \\cdot \\|_{H^1}$.\n"
   ]
  },
  {
   "cell_type": "code",
   "execution_count": null,
   "id": "9ccaf2b0-4e2d-4786-bab5-9335074cb527",
   "metadata": {},
   "outputs": [],
   "source": []
  }
 ],
 "metadata": {
  "kernelspec": {
   "display_name": "Python 3 (ipykernel)",
   "language": "python",
   "name": "python3"
  },
  "language_info": {
   "codemirror_mode": {
    "name": "ipython",
    "version": 3
   },
   "file_extension": ".py",
   "mimetype": "text/x-python",
   "name": "python",
   "nbconvert_exporter": "python",
   "pygments_lexer": "ipython3",
   "version": "3.12.2"
  }
 },
 "nbformat": 4,
 "nbformat_minor": 5
}
