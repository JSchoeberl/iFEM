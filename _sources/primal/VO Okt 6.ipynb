{
 "cells": [
  {
   "cell_type": "markdown",
   "id": "f4f1b425",
   "metadata": {},
   "source": [
    "The Galerkin Method\n",
    "----\n",
    "* [Solving the Poisson Equation](first_example.ipynb) \n",
    "* [Boundary conditions](boundary_conditions.ipynb) \n",
    "* [Different materials](subdomains.ipynb) \n",
    "* [Iterative solvers](solvers.ipynb) "
   ]
  },
  {
   "cell_type": "code",
   "execution_count": null,
   "id": "881ba439",
   "metadata": {},
   "outputs": [],
   "source": []
  }
 ],
 "metadata": {
  "kernelspec": {
   "display_name": "Python 3",
   "language": "python",
   "name": "python3"
  },
  "language_info": {
   "codemirror_mode": {
    "name": "ipython",
    "version": 3
   },
   "file_extension": ".py",
   "mimetype": "text/x-python",
   "name": "python",
   "nbconvert_exporter": "python",
   "pygments_lexer": "ipython3",
   "version": "3.9.7"
  }
 },
 "nbformat": 4,
 "nbformat_minor": 5
}
