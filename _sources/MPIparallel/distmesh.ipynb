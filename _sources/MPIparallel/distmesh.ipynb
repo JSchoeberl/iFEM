{
 "cells": [
  {
   "cell_type": "markdown",
   "id": "55237494",
   "metadata": {},
   "source": [
    "Distributed Meshes and Spaces\n",
    "==="
   ]
  },
  {
   "cell_type": "markdown",
   "id": "6045306d",
   "metadata": {},
   "source": [
    "Setting up the client and the world-communiactor:"
   ]
  },
  {
   "cell_type": "code",
   "execution_count": 1,
   "id": "29396fa6",
   "metadata": {},
   "outputs": [
    {
     "name": "stdout",
     "output_type": "stream",
     "text": [
      "Starting 4 engines with <class 'ipyparallel.cluster.launcher.MPIEngineSetLauncher'>\n"
     ]
    },
    {
     "data": {
      "application/vnd.jupyter.widget-view+json": {
       "model_id": "20f70a2d7a8743adba5c7a8f38785661",
       "version_major": 2,
       "version_minor": 0
      },
      "text/plain": [
       "  0%|          | 0/4 [00:00<?, ?engine/s]"
      ]
     },
     "metadata": {},
     "output_type": "display_data"
    },
    {
     "data": {
      "text/plain": [
       "[0, 1, 2, 3]"
      ]
     },
     "execution_count": 1,
     "metadata": {},
     "output_type": "execute_result"
    }
   ],
   "source": [
    "from ipyparallel import Cluster\n",
    "c = await Cluster(engines=\"mpi\").start_and_connect(n=4, activate=True)\n",
    "c.ids"
   ]
  },
  {
   "cell_type": "code",
   "execution_count": 2,
   "id": "7cf5e1ae",
   "metadata": {},
   "outputs": [],
   "source": [
    "%%px\n",
    "from mpi4py import MPI\n",
    "comm = MPI.COMM_WORLD"
   ]
  },
  {
   "cell_type": "markdown",
   "id": "e2bcffdb",
   "metadata": {},
   "source": [
    "The master generates a mesh, which is then distributed within the team of processors. The master process calls the graph partitioning library metis, which assigns a process id to each element. Then, elements are sent to the process with according rank.\n",
    "\n",
    "The master process does not keep elements itself, it is kept free for special administrative work.\n",
    "\n",
    "The distribution is done for the Netgen mesh. Parallel uniform refinement of the Netgen-mesh is also possible."
   ]
  },
  {
   "cell_type": "code",
   "execution_count": 3,
   "id": "214f64e0",
   "metadata": {},
   "outputs": [
    {
     "data": {
      "text/plain": [
       "[stdout:0] global num els = 226\n",
       "process 0 got elements: 0\n"
      ]
     },
     "metadata": {},
     "output_type": "display_data"
    },
    {
     "data": {
      "text/plain": [
       "[stdout:2] process 2 got elements: 1232\n"
      ]
     },
     "metadata": {},
     "output_type": "display_data"
    },
    {
     "data": {
      "text/plain": [
       "[stdout:3] process 3 got elements: 1184\n"
      ]
     },
     "metadata": {},
     "output_type": "display_data"
    },
    {
     "data": {
      "text/plain": [
       "[stdout:1] process 1 got elements: 1200\n"
      ]
     },
     "metadata": {},
     "output_type": "display_data"
    }
   ],
   "source": [
    "%%px\n",
    "from ngsolve import *\n",
    "\n",
    "if comm.rank == 0:\n",
    "    ngmesh = unit_square.GenerateMesh(maxh=0.1)\n",
    "    print (\"global num els =\", len(ngmesh.Elements2D()))\n",
    "    ngmesh.Distribute(comm)\n",
    "else:\n",
    "    ngmesh = netgen.meshing.Mesh.Receive(comm)\n",
    "\n",
    "for l in range(2):\n",
    "    ngmesh.Refine()\n",
    "    \n",
    "mesh = Mesh(ngmesh)\n",
    "print (\"process\", comm.rank, \"got elements:\", mesh.GetNE(VOL))"
   ]
  },
  {
   "cell_type": "markdown",
   "id": "8ba0fbdc",
   "metadata": {},
   "source": [
    "The collective communication `reduce` combines data from each process to one global value. Default reduction operation is summation. Only the root process gets the result. Alternatively, use 'allreduce' to broadcast the result to all team members:"
   ]
  },
  {
   "cell_type": "code",
   "execution_count": 4,
   "id": "18973795",
   "metadata": {},
   "outputs": [
    {
     "data": {
      "text/plain": [
       "[stdout:2] summing up num els:  None\n"
      ]
     },
     "metadata": {},
     "output_type": "display_data"
    },
    {
     "data": {
      "text/plain": [
       "[stdout:0] summing up num els:  3616\n"
      ]
     },
     "metadata": {},
     "output_type": "display_data"
    },
    {
     "data": {
      "text/plain": [
       "[stdout:3] summing up num els:  None\n"
      ]
     },
     "metadata": {},
     "output_type": "display_data"
    },
    {
     "data": {
      "text/plain": [
       "[stdout:1] summing up num els:  None\n"
      ]
     },
     "metadata": {},
     "output_type": "display_data"
    }
   ],
   "source": [
    "%%px\n",
    "sumup = comm.reduce(mesh.GetNE(VOL))\n",
    "print (\"summing up num els: \", sumup)"
   ]
  },
  {
   "cell_type": "markdown",
   "id": "a9d4d6ba",
   "metadata": {},
   "source": [
    "We can retriev the `mesh` variable from each node of the cluster. The master process returns the global mesh, each worker only its local part. The list 'meshes' obtains the list of meshes."
   ]
  },
  {
   "cell_type": "code",
   "execution_count": 5,
   "id": "a1ff05eb",
   "metadata": {
    "scrolled": false
   },
   "outputs": [
    {
     "name": "stdout",
     "output_type": "stream",
     "text": [
      "mesh of rank 0\n"
     ]
    },
    {
     "data": {
      "application/vnd.jupyter.widget-view+json": {
       "model_id": "71d104c4684146c58c49e2d2e1d87081",
       "version_major": 2,
       "version_minor": 0
      },
      "text/plain": [
       "WebGuiWidget(layout=Layout(height='50vh', width='100%'), value={'gui_settings': {}, 'ngsolve_version': '6.2.23…"
      ]
     },
     "metadata": {},
     "output_type": "display_data"
    },
    {
     "name": "stdout",
     "output_type": "stream",
     "text": [
      "mesh of rank 1\n"
     ]
    },
    {
     "data": {
      "application/vnd.jupyter.widget-view+json": {
       "model_id": "3799c0a5e40741b2b4d5e821cc429682",
       "version_major": 2,
       "version_minor": 0
      },
      "text/plain": [
       "WebGuiWidget(layout=Layout(height='50vh', width='100%'), value={'gui_settings': {}, 'ngsolve_version': '6.2.23…"
      ]
     },
     "metadata": {},
     "output_type": "display_data"
    },
    {
     "name": "stdout",
     "output_type": "stream",
     "text": [
      "mesh of rank 2\n"
     ]
    },
    {
     "data": {
      "application/vnd.jupyter.widget-view+json": {
       "model_id": "87a8c16a8f3e43648f5c723726f1eba1",
       "version_major": 2,
       "version_minor": 0
      },
      "text/plain": [
       "WebGuiWidget(layout=Layout(height='50vh', width='100%'), value={'gui_settings': {}, 'ngsolve_version': '6.2.23…"
      ]
     },
     "metadata": {},
     "output_type": "display_data"
    },
    {
     "name": "stdout",
     "output_type": "stream",
     "text": [
      "mesh of rank 3\n"
     ]
    },
    {
     "data": {
      "application/vnd.jupyter.widget-view+json": {
       "model_id": "eb2e66fbfc9845639974222f7c2b44b9",
       "version_major": 2,
       "version_minor": 0
      },
      "text/plain": [
       "WebGuiWidget(layout=Layout(height='50vh', width='100%'), value={'gui_settings': {}, 'ngsolve_version': '6.2.23…"
      ]
     },
     "metadata": {},
     "output_type": "display_data"
    }
   ],
   "source": [
    "from ngsolve import *\n",
    "from ngsolve.webgui import Draw\n",
    "meshes = c[:]['mesh']\n",
    "for i,m in enumerate(meshes):\n",
    "    print (\"mesh of rank\", i)\n",
    "    Draw (m)"
   ]
  },
  {
   "cell_type": "markdown",
   "id": "9d7da656",
   "metadata": {},
   "source": [
    "Distributed finite element spaces\n",
    "==="
   ]
  },
  {
   "cell_type": "markdown",
   "id": "b9638004",
   "metadata": {},
   "source": [
    "We can define finite element spaces on the distributed mesh. \n",
    "Every process only defines dofs on its subset of elements:"
   ]
  },
  {
   "cell_type": "code",
   "execution_count": 6,
   "id": "0faedc5a",
   "metadata": {},
   "outputs": [
    {
     "data": {
      "text/plain": [
       "[stdout:3] ndof local = 2465 , ndof global = 7393\n"
      ]
     },
     "metadata": {},
     "output_type": "display_data"
    },
    {
     "data": {
      "text/plain": [
       "[stdout:1] ndof local = 2509 , ndof global = 7393\n"
      ]
     },
     "metadata": {},
     "output_type": "display_data"
    },
    {
     "data": {
      "text/plain": [
       "[stdout:0] ndof local = 0 , ndof global = 7393\n"
      ]
     },
     "metadata": {},
     "output_type": "display_data"
    },
    {
     "data": {
      "text/plain": [
       "[stdout:2] ndof local = 2565 , ndof global = 7393\n"
      ]
     },
     "metadata": {},
     "output_type": "display_data"
    }
   ],
   "source": [
    "%%px\n",
    "fes = H1(mesh, order=2)\n",
    "print (\"ndof local =\", fes.ndof, \", ndof global =\", fes.ndofglobal)"
   ]
  },
  {
   "cell_type": "code",
   "execution_count": 7,
   "id": "b89f54e0",
   "metadata": {},
   "outputs": [
    {
     "data": {
      "text/plain": [
       "[stdout:0] sum of local dofs: 7539\n"
      ]
     },
     "metadata": {},
     "output_type": "display_data"
    }
   ],
   "source": [
    "%%px\n",
    "sumlocdofs = comm.reduce (fes.ndof)\n",
    "if comm.rank == 0:\n",
    "    print (\"sum of local dofs:\", sumlocdofs)"
   ]
  },
  {
   "cell_type": "markdown",
   "id": "0e820787",
   "metadata": {},
   "source": [
    "The sum of local dofs is larger than the global number of dofs, since dofs at interface nodes are counted multiplel times."
   ]
  },
  {
   "cell_type": "markdown",
   "id": "56ca11bb",
   "metadata": {},
   "source": [
    "We can define distributed grid-functions. Global operations like the `Integrate` function performs local integration, and sum up the result:"
   ]
  },
  {
   "cell_type": "code",
   "execution_count": 8,
   "id": "93bddba0",
   "metadata": {},
   "outputs": [
    {
     "data": {
      "text/plain": [
       "[stdout:1] integrate: 0.24999999999999922\n"
      ]
     },
     "metadata": {},
     "output_type": "display_data"
    },
    {
     "data": {
      "text/plain": [
       "[stdout:2] integrate: 0.24999999999999922\n"
      ]
     },
     "metadata": {},
     "output_type": "display_data"
    },
    {
     "data": {
      "text/plain": [
       "[stdout:3] integrate: 0.24999999999999922\n"
      ]
     },
     "metadata": {},
     "output_type": "display_data"
    },
    {
     "data": {
      "text/plain": [
       "[stdout:0] integrate: 0.24999999999999922\n"
      ]
     },
     "metadata": {},
     "output_type": "display_data"
    }
   ],
   "source": [
    "%%px\n",
    "gfu = GridFunction(fes)\n",
    "gfu.Set(x*y)\n",
    "print (\"integrate:\", Integrate(gfu, mesh))"
   ]
  },
  {
   "cell_type": "markdown",
   "id": "668b8be6",
   "metadata": {},
   "source": [
    "We can retrieve the gridfunction to the local Python scope:"
   ]
  },
  {
   "cell_type": "code",
   "execution_count": 9,
   "id": "e31a69ce",
   "metadata": {},
   "outputs": [
    {
     "name": "stdout",
     "output_type": "stream",
     "text": [
      "integrate locally: 0.2499999999999994\n"
     ]
    },
    {
     "data": {
      "application/vnd.jupyter.widget-view+json": {
       "model_id": "92b1e5dbc33e42e1913e8d82e1db5531",
       "version_major": 2,
       "version_minor": 0
      },
      "text/plain": [
       "WebGuiWidget(layout=Layout(height='50vh', width='100%'), value={'gui_settings': {}, 'ngsolve_version': '6.2.23…"
      ]
     },
     "metadata": {},
     "output_type": "display_data"
    },
    {
     "data": {
      "application/vnd.jupyter.widget-view+json": {
       "model_id": "a7420c487dd048d89a035ca035ccaf35",
       "version_major": 2,
       "version_minor": 0
      },
      "text/plain": [
       "WebGuiWidget(layout=Layout(height='50vh', width='100%'), value={'gui_settings': {}, 'ngsolve_version': '6.2.23…"
      ]
     },
     "metadata": {},
     "output_type": "display_data"
    }
   ],
   "source": [
    "gfus = c[:]['gfu']\n",
    "print (\"integrate locally:\", Integrate(gfus[0], gfus[0].space.mesh))\n",
    "\n",
    "Draw (gfus[0], min=0,max=1)\n",
    "Draw (gfus[1], min=0,max=1);"
   ]
  },
  {
   "cell_type": "markdown",
   "id": "2fda573e",
   "metadata": {},
   "source": [
    "We can use a piece-wise constant space to visualize the mesh partitioning:"
   ]
  },
  {
   "cell_type": "code",
   "execution_count": 11,
   "id": "cd96268b",
   "metadata": {},
   "outputs": [],
   "source": [
    "%%px\n",
    "gfl2 = GridFunction(L2(mesh, order=0))\n",
    "gfl2.vec[:] = comm.rank"
   ]
  },
  {
   "cell_type": "code",
   "execution_count": 12,
   "id": "71dc0788",
   "metadata": {},
   "outputs": [
    {
     "data": {
      "application/vnd.jupyter.widget-view+json": {
       "model_id": "0f1e23284af349779ea9fb24812a034d",
       "version_major": 2,
       "version_minor": 0
      },
      "text/plain": [
       "WebGuiWidget(layout=Layout(height='50vh', width='100%'), value={'gui_settings': {}, 'ngsolve_version': '6.2.23…"
      ]
     },
     "metadata": {},
     "output_type": "display_data"
    }
   ],
   "source": [
    "Draw (c[:]['gfl2'][0]);"
   ]
  },
  {
   "cell_type": "markdown",
   "id": "14c69fdb",
   "metadata": {},
   "source": [
    "The `ParallelDofs` class\n",
    "---\n",
    "\n",
    "The back-bone of connection of dofs is the `ParallelDofs` class. It is provided by a distributed finite element space, based on the connectivity of the mesh. The pardofs object knows with which other processes the dof is shared. We can ask for all dof numbers shared with a particular process, and obtain a list of local dof nrs. The ordering is consistent for both partners. "
   ]
  },
  {
   "cell_type": "code",
   "execution_count": 13,
   "id": "e72f9400",
   "metadata": {},
   "outputs": [
    {
     "data": {
      "text/plain": [
       "[stdout:0] with process 0 I share dofs []\n",
       "with process 1 I share dofs []\n",
       "with process 2 I share dofs []\n",
       "with process 3 I share dofs []\n"
      ]
     },
     "metadata": {},
     "output_type": "display_data"
    },
    {
     "data": {
      "text/plain": [
       "[stdout:1] with process 0 I share dofs []\n",
       "with process 1 I share dofs []\n",
       "with process 2 I share dofs [6, 20, 32, 43, 48, 50, 51, 68, 104, 137, 164, 174, 177, 198, 256, 258, 324, 326, 384, 386, 412, 415, 424, 426, 429, 675, 733, 735, 801, 803, 861, 863, 889, 892, 901, 903, 906, 985, 986, 1179, 1180, 1373, 1374, 1531, 1532, 1589, 1590, 1605, 1606]\n",
       "with process 3 I share dofs [5, 18, 19, 30, 41, 51, 66, 100, 101, 132, 160, 196, 250, 251, 254, 255, 314, 316, 374, 377, 427, 673, 727, 728, 731, 732, 791, 793, 851, 854, 904, 977, 978, 1159, 1160, 1163, 1164, 1345, 1346, 1509, 1510]\n"
      ]
     },
     "metadata": {},
     "output_type": "display_data"
    },
    {
     "data": {
      "text/plain": [
       "[stdout:2] with process 0 I share dofs []\n",
       "with process 1 I share dofs [12, 23, 32, 39, 44, 46, 48, 52, 53, 54, 55, 56, 57, 180, 181, 182, 183, 184, 185, 186, 187, 188, 189, 190, 191, 713, 772, 773, 822, 823, 859, 860, 884, 885, 894, 895, 903, 923, 924, 927, 928, 931, 932, 935, 936, 939, 940, 943, 944]\n",
       "with process 2 I share dofs []\n",
       "with process 3 I share dofs [1, 13, 24, 33, 34, 42, 48, 49, 61, 93, 121, 141, 143, 165, 175, 195, 239, 241, 298, 300, 346, 348, 349, 351, 394, 396, 417, 420, 421, 670, 715, 717, 776, 778, 826, 828, 829, 831, 876, 878, 904, 907, 908, 959, 960, 1131, 1132, 1297, 1298, 1415, 1416, 1425, 1426, 1555, 1556, 1613, 1614]\n"
      ]
     },
     "metadata": {},
     "output_type": "display_data"
    },
    {
     "data": {
      "text/plain": [
       "[stdout:3] with process 0 I share dofs []\n",
       "with process 1 I share dofs [1, 13, 14, 26, 43, 47, 50, 51, 52, 53, 54, 173, 174, 175, 176, 177, 178, 179, 180, 181, 182, 644, 689, 690, 691, 692, 760, 761, 854, 855, 874, 887, 888, 891, 892, 895, 896, 899, 900, 903, 904]\n",
       "with process 2 I share dofs [12, 25, 35, 40, 41, 45, 47, 49, 55, 56, 57, 58, 59, 60, 61, 183, 184, 185, 186, 187, 188, 189, 190, 191, 192, 193, 194, 195, 196, 687, 756, 757, 811, 812, 840, 841, 845, 846, 864, 865, 875, 884, 885, 907, 908, 911, 912, 915, 916, 919, 920, 923, 924, 927, 928, 931, 932]\n",
       "with process 3 I share dofs []\n"
      ]
     },
     "metadata": {},
     "output_type": "display_data"
    }
   ],
   "source": [
    "%%px\n",
    "pardofs = fes.ParallelDofs()\n",
    "for otherp in range(comm.size):\n",
    "    print (\"with process\", otherp, \"I share dofs\", \\\n",
    "           list(pardofs.Proc2Dof(otherp)))"
   ]
  },
  {
   "cell_type": "code",
   "execution_count": null,
   "id": "692e2255",
   "metadata": {},
   "outputs": [],
   "source": []
  },
  {
   "cell_type": "code",
   "execution_count": null,
   "id": "8798531b",
   "metadata": {},
   "outputs": [],
   "source": []
  },
  {
   "cell_type": "code",
   "execution_count": null,
   "id": "d5873f96",
   "metadata": {},
   "outputs": [],
   "source": []
  }
 ],
 "metadata": {
  "kernelspec": {
   "display_name": "Python 3 (ipykernel)",
   "language": "python",
   "name": "python3"
  },
  "language_info": {
   "codemirror_mode": {
    "name": "ipython",
    "version": 3
   },
   "file_extension": ".py",
   "mimetype": "text/x-python",
   "name": "python",
   "nbconvert_exporter": "python",
   "pygments_lexer": "ipython3",
   "version": "3.10.11"
  }
 },
 "nbformat": 4,
 "nbformat_minor": 5
}
