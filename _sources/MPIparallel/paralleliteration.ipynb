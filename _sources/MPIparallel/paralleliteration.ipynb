{
 "cells": [
  {
   "cell_type": "markdown",
   "id": "1412c232",
   "metadata": {},
   "source": [
    "Iteration methods in parallel\n",
    "==="
   ]
  },
  {
   "cell_type": "code",
   "execution_count": null,
   "id": "b4adab89",
   "metadata": {},
   "outputs": [],
   "source": [
    "from ipyparallel import Cluster\n",
    "c = await Cluster(engines=\"mpi\").start_and_connect(n=4, activate=True)\n",
    "c.ids"
   ]
  },
  {
   "cell_type": "code",
   "execution_count": null,
   "id": "49f560c1",
   "metadata": {},
   "outputs": [],
   "source": [
    "%%px\n",
    "from mpi4py import MPI\n",
    "comm = MPI.COMM_WORLD\n",
    "\n",
    "from ngsolve import *\n",
    "\n",
    "comm = MPI.COMM_WORLD\n",
    "mesh = Mesh(unit_square.GenerateMesh(maxh=0.1, comm=comm))"
   ]
  },
  {
   "cell_type": "markdown",
   "id": "15e33759",
   "metadata": {},
   "source": [
    "setup a standard problem, in parallel. We use a Jacobi preconditioner: it extracts local diagonals, and cumulates them over identified dofs."
   ]
  },
  {
   "cell_type": "code",
   "execution_count": null,
   "id": "980e43bb",
   "metadata": {},
   "outputs": [],
   "source": [
    "%%px\n",
    "fes = H1(mesh, dirichlet='.*')\n",
    "u,v = fes.TnT()\n",
    "a = BilinearForm(grad(u)*grad(v)*dx).Assemble()\n",
    "f = LinearForm(1*v*dx).Assemble()\n",
    "gfu = GridFunction(fes)\n",
    "\n",
    "pre = Preconditioner(a, \"local\") # Jacobi preconditioner\n",
    "pre.Update()"
   ]
  },
  {
   "cell_type": "markdown",
   "id": "a11a5bd3",
   "metadata": {},
   "source": [
    "## Richardson iteration\n",
    "\n",
    "The right hand side vector `f.vec` is distributed, the vector `gfu.vec` of the gridfunction is consistent. Create help vectors of the same type:\n",
    "\n",
    "* residual calculation `r = f - A u` is purely local\n",
    "* the preconditioning step `w = pre * r` includes type conversion from a distributed input to a consistent output\n",
    "* the inner product for the error acts on two vectors of opposite type\n",
    "* solution vector update can be done purely local"
   ]
  },
  {
   "cell_type": "code",
   "execution_count": null,
   "id": "1dcee075",
   "metadata": {},
   "outputs": [],
   "source": [
    "%%px\n",
    "r = f.vec.CreateVector()    # a distributed vector\n",
    "w = gfu.vec.CreateVector()  # a consistent vector\n",
    "\n",
    "for it in range(100):\n",
    "    r.data = f.vec - a.mat * gfu.vec\n",
    "    w.data = pre * r\n",
    "    err = InnerProduct(w, r)\n",
    "    if comm.rank==0: print (err)\n",
    "    gfu.vec.data += w"
   ]
  },
  {
   "cell_type": "code",
   "execution_count": null,
   "id": "fb5aba13",
   "metadata": {},
   "outputs": [],
   "source": [
    "from ngsolve.webgui import Draw\n",
    "\n",
    "gfu = c[:]['gfu']\n",
    "Draw(gfu[0]);"
   ]
  },
  {
   "cell_type": "markdown",
   "id": "b963e008",
   "metadata": {},
   "source": [
    "Very similar for other iteraton methods, such as [Conjugate Gradients](https://github.com/NGSolve/ngsolve/blob/124068e63765a679f9b6b85083671d5df9f2b085/python/krylovspace.py#L182).\n",
    "The matrix operation goes from consistent to distributed without communication, the preconditioner does the cumulation. The inner products are between different vector types:"
   ]
  },
  {
   "cell_type": "code",
   "execution_count": null,
   "id": "6a32e8f0",
   "metadata": {},
   "outputs": [],
   "source": [
    "%%px\n",
    "from ngsolve.krylovspace import CGSolver\n",
    "inv = CGSolver(a.mat, pre, printrates=comm.rank==0)\n",
    "\n",
    "gfu.vec.data = inv * f.vec"
   ]
  },
  {
   "cell_type": "code",
   "execution_count": null,
   "id": "f331acba",
   "metadata": {},
   "outputs": [],
   "source": [
    "gfu = c[:]['gfu']\n",
    "Draw(gfu[0]);"
   ]
  },
  {
   "cell_type": "code",
   "execution_count": null,
   "id": "41c9cea5",
   "metadata": {},
   "outputs": [],
   "source": []
  },
  {
   "cell_type": "code",
   "execution_count": null,
   "id": "c5fb1405",
   "metadata": {},
   "outputs": [],
   "source": []
  },
  {
   "cell_type": "code",
   "execution_count": null,
   "id": "27276dc9",
   "metadata": {},
   "outputs": [],
   "source": []
  }
 ],
 "metadata": {
  "kernelspec": {
   "display_name": "Python 3 (ipykernel)",
   "language": "python",
   "name": "python3"
  },
  "language_info": {
   "codemirror_mode": {
    "name": "ipython",
    "version": 3
   },
   "file_extension": ".py",
   "mimetype": "text/x-python",
   "name": "python",
   "nbconvert_exporter": "python",
   "pygments_lexer": "ipython3",
   "version": "3.12.2"
  }
 },
 "nbformat": 4,
 "nbformat_minor": 5
}
