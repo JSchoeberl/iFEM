{
 "cells": [
  {
   "cell_type": "markdown",
   "id": "1412c232",
   "metadata": {},
   "source": [
    "Iteration methods in parallel\n",
    "==="
   ]
  },
  {
   "cell_type": "code",
   "execution_count": 1,
   "id": "b4adab89",
   "metadata": {},
   "outputs": [
    {
     "name": "stdout",
     "output_type": "stream",
     "text": [
      "Starting 4 engines with <class 'ipyparallel.cluster.launcher.MPIEngineSetLauncher'>\n"
     ]
    },
    {
     "data": {
      "application/vnd.jupyter.widget-view+json": {
       "model_id": "a749d25721094bdb9fa1f141d0b3163d",
       "version_major": 2,
       "version_minor": 0
      },
      "text/plain": [
       "  0%|          | 0/4 [00:00<?, ?engine/s]"
      ]
     },
     "metadata": {},
     "output_type": "display_data"
    },
    {
     "data": {
      "text/plain": [
       "[0, 1, 2, 3]"
      ]
     },
     "execution_count": 1,
     "metadata": {},
     "output_type": "execute_result"
    }
   ],
   "source": [
    "from ipyparallel import Cluster\n",
    "c = await Cluster(engines=\"mpi\").start_and_connect(n=4, activate=True)\n",
    "c.ids"
   ]
  },
  {
   "cell_type": "code",
   "execution_count": 2,
   "id": "49f560c1",
   "metadata": {},
   "outputs": [],
   "source": [
    "%%px\n",
    "from mpi4py import MPI\n",
    "comm = MPI.COMM_WORLD\n",
    "\n",
    "from ngsolve import *\n",
    "\n",
    "comm = MPI.COMM_WORLD\n",
    "mesh = Mesh(unit_square.GenerateMesh(maxh=0.1, comm=comm))"
   ]
  },
  {
   "cell_type": "markdown",
   "id": "15e33759",
   "metadata": {},
   "source": [
    "setup a standard problem, in parallel. We use a Jacobi preconditioner: it extracts local diagonals, and cumulates them over identified dofs."
   ]
  },
  {
   "cell_type": "code",
   "execution_count": 3,
   "id": "980e43bb",
   "metadata": {},
   "outputs": [],
   "source": [
    "%%px\n",
    "fes = H1(mesh, dirichlet='.*')\n",
    "u,v = fes.TnT()\n",
    "a = BilinearForm(grad(u)*grad(v)*dx).Assemble()\n",
    "f = LinearForm(1*v*dx).Assemble()\n",
    "gfu = GridFunction(fes)\n",
    "\n",
    "pre = Preconditioner(a, \"local\") # Jacobi preconditioner\n",
    "pre.Update()"
   ]
  },
  {
   "cell_type": "markdown",
   "id": "a11a5bd3",
   "metadata": {},
   "source": [
    "## Richardson iteration\n",
    "\n",
    "The right hand side vector `f.vec` is distributed, the vector `gfu.vec` of the gridfunction is consistent. Create help vectors of the same type:\n",
    "\n",
    "* residual calculation `r = f - A u` is purely local\n",
    "* the preconditioning step `w = pre * r` includes type conversion from a distributed input to a consistent output\n",
    "* the inner product for the error acts on two vectors of opposite type\n",
    "* solution vector update can be done purely local"
   ]
  },
  {
   "cell_type": "code",
   "execution_count": 5,
   "id": "1dcee075",
   "metadata": {
    "scrolled": false
   },
   "outputs": [
    {
     "data": {
      "text/plain": [
       "[stdout:0] 3.510857393881553e-08\n",
       "3.151415212035045e-08\n",
       "2.8287727826656105e-08\n",
       "2.539162540713897e-08\n",
       "2.2792026451000954e-08\n",
       "2.045857488233031e-08\n",
       "1.8364022485610737e-08\n",
       "1.648391072239753e-08\n",
       "1.4796285123687831e-08\n",
       "1.3281438922841584e-08\n",
       "1.1921682935403925e-08\n",
       "1.0701138998692319e-08\n",
       "9.605554559063916e-09\n",
       "8.62213624177576e-09\n",
       "7.739400459999687e-09\n",
       "6.947039318498569e-09\n",
       "6.235800246133606e-09\n",
       "5.59737795157157e-09\n",
       "5.024317440643236e-09\n",
       "4.509926962761598e-09\n",
       "4.048199869904571e-09\n",
       "3.633744475711653e-09\n",
       "3.261721095588732e-09\n",
       "2.9277855326830464e-09\n",
       "2.6280383497562194e-09\n",
       "2.358979334625724e-09\n",
       "2.117466627425838e-09\n",
       "1.900680032444471e-09\n",
       "1.7060880860895808e-09\n",
       "1.5314184964397437e-09\n",
       "1.374631609213285e-09\n",
       "1.233896590281844e-09\n",
       "1.1075700466267946e-09\n",
       "9.94176836087894e-10\n",
       "8.923928418117022e-10\n",
       "8.010295102531026e-10\n",
       "7.190199721849927e-10\n",
       "6.454065846303404e-10\n",
       "5.793297482668886e-10\n",
       "5.20017869695728e-10\n",
       "4.667783513823313e-10\n",
       "4.189895040471314e-10\n",
       "3.760932870637924e-10\n",
       "3.375887921017861e-10\n",
       "3.0302639390982037e-10\n",
       "2.7200249994785594e-10\n",
       "2.441548375482501e-10\n",
       "2.191582235810678e-10\n",
       "1.9672076722125836e-10\n",
       "1.765804614758387e-10\n",
       "1.5850212367211422e-10\n",
       "1.422746491802097e-10\n",
       "1.2770854629827654e-10\n",
       "1.146337235171349e-10\n",
       "1.0289750332529877e-10\n",
       "9.236283936124498e-11\n",
       "8.290671609315313e-11\n",
       "7.441871234001411e-11\n",
       "6.679971186084659e-11\n",
       "5.996074595183359e-11\n",
       "5.3821954540810586e-11\n",
       "4.8311653642550756e-11\n",
       "4.3365498291775276e-11\n",
       "3.892573117041399e-11\n",
       "3.494050816510976e-11\n",
       "3.1363292971732514e-11\n",
       "2.8152313680874023e-11\n",
       "2.527007499806613e-11\n",
       "2.2682920403991856e-11\n",
       "2.0360639139045027e-11\n",
       "1.8276113426641865e-11\n",
       "1.6405001812678822e-11\n",
       "1.4725454925314425e-11\n",
       "1.3217860335112156e-11\n",
       "1.1864613536605934e-11\n",
       "1.0649912376330562e-11\n",
       "9.559572528372414e-12\n",
       "8.580861860296714e-12\n",
       "7.702351757558693e-12\n",
       "6.913783669103549e-12\n",
       "6.20594931629334e-12\n",
       "5.570583165389981e-12\n",
       "5.00026590945985e-12\n",
       "4.488337831740381e-12\n",
       "4.028821038009972e-12\n",
       "3.6163496520572295e-12\n",
       "3.2461071570292663e-12\n",
       "2.913770151864001e-12\n",
       "2.6154578661055287e-12\n",
       "2.3476868430759153e-12\n",
       "2.1073302631154388e-12\n",
       "1.89158143089891e-12\n",
       "1.6979210009138644e-12\n",
       "1.5240875588899989e-12\n",
       "1.3680512143041709e-12\n",
       "1.2279898973182785e-12\n",
       "1.102268081903837e-12\n",
       "9.894176874392948e-13\n",
       "8.88120935615355e-13\n",
       "7.971949625643878e-13\n"
      ]
     },
     "metadata": {},
     "output_type": "display_data"
    }
   ],
   "source": [
    "%%px\n",
    "r = f.vec.CreateVector()    # a distributed vector\n",
    "w = gfu.vec.CreateVector()  # a consistent vector\n",
    "\n",
    "for it in range(100):\n",
    "    r.data = f.vec - a.mat * gfu.vec\n",
    "    w.data = pre * r\n",
    "    err = InnerProduct(w, r)\n",
    "    if comm.rank==0: print (err)\n",
    "    gfu.vec.data += w"
   ]
  },
  {
   "cell_type": "code",
   "execution_count": 6,
   "id": "fb5aba13",
   "metadata": {},
   "outputs": [
    {
     "data": {
      "application/vnd.jupyter.widget-view+json": {
       "model_id": "ab5a531fd04c47f4948844b1c8bd7a8f",
       "version_major": 2,
       "version_minor": 0
      },
      "text/plain": [
       "WebGuiWidget(layout=Layout(height='50vh', width='100%'), value={'gui_settings': {}, 'ngsolve_version': '6.2.23…"
      ]
     },
     "metadata": {},
     "output_type": "display_data"
    }
   ],
   "source": [
    "from ngsolve.webgui import Draw\n",
    "\n",
    "gfu = c[:]['gfu']\n",
    "Draw(gfu[0]);"
   ]
  },
  {
   "cell_type": "markdown",
   "id": "b963e008",
   "metadata": {},
   "source": [
    "Very similar for other iteraton methods, such as [Conjugate Gradients](https://github.com/NGSolve/ngsolve/blob/124068e63765a679f9b6b85083671d5df9f2b085/python/krylovspace.py#L182).\n",
    "The matrix operation goes from consistent to distributed without communication, the preconditioner does the cumulation. The inner products are between different vector types:"
   ]
  },
  {
   "cell_type": "code",
   "execution_count": null,
   "id": "6a32e8f0",
   "metadata": {},
   "outputs": [],
   "source": [
    "%%px\n",
    "from ngsolve.krylovspace import CGSolver\n",
    "inv = CGSolver(a.mat, pre, printrates=comm.rank==0)\n",
    "\n",
    "gfu.vec.data = inv * f.vec"
   ]
  },
  {
   "cell_type": "code",
   "execution_count": null,
   "id": "f331acba",
   "metadata": {},
   "outputs": [],
   "source": [
    "gfu = c[:]['gfu']\n",
    "Draw(gfu[0]);"
   ]
  },
  {
   "cell_type": "code",
   "execution_count": null,
   "id": "41c9cea5",
   "metadata": {},
   "outputs": [],
   "source": []
  },
  {
   "cell_type": "code",
   "execution_count": null,
   "id": "c5fb1405",
   "metadata": {},
   "outputs": [],
   "source": []
  },
  {
   "cell_type": "code",
   "execution_count": null,
   "id": "27276dc9",
   "metadata": {},
   "outputs": [],
   "source": []
  }
 ],
 "metadata": {
  "kernelspec": {
   "display_name": "Python 3 (ipykernel)",
   "language": "python",
   "name": "python3"
  },
  "language_info": {
   "codemirror_mode": {
    "name": "ipython",
    "version": 3
   },
   "file_extension": ".py",
   "mimetype": "text/x-python",
   "name": "python",
   "nbconvert_exporter": "python",
   "pygments_lexer": "ipython3",
   "version": "3.10.11"
  }
 },
 "nbformat": 4,
 "nbformat_minor": 5
}
