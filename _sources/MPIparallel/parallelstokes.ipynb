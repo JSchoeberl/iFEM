{
 "cells": [
  {
   "cell_type": "markdown",
   "id": "eb5944e3",
   "metadata": {},
   "source": [
    "# Solving Stokes in parallel"
   ]
  },
  {
   "cell_type": "code",
   "execution_count": null,
   "id": "7ca07260",
   "metadata": {},
   "outputs": [],
   "source": [
    "from ipyparallel import Cluster\n",
    "c = await Cluster(engines=\"mpi\").start_and_connect(n=4, activate=True)"
   ]
  },
  {
   "cell_type": "code",
   "execution_count": null,
   "id": "cacb777f",
   "metadata": {},
   "outputs": [],
   "source": [
    "%%px\n",
    "from mpi4py import MPI\n",
    "from ngsolve import *\n",
    "from netgen.occ import *\n",
    "from ngsolve.krylovspace import CGSolver\n",
    "from ngsolve.krylovspace import BramblePasciakCG\n",
    "\n",
    "box = Box((0,0,0), (2.5,0.41,0.41))\n",
    "box.faces.name=\"wall\"\n",
    "box.faces.Min(X).name=\"inlet\"\n",
    "box.faces.Max(X).name=\"outlet\"\n",
    "cyl = Cylinder((0.5,0.2,0), Z, h=0.41,r=0.05)\n",
    "cyl.faces.name=\"cyl\"\n",
    "shape = box-cyl\n",
    "\n",
    "ngmesh = OCCGeometry(shape).GenerateMesh(maxh=0.05, comm=MPI.COMM_WORLD)\n",
    "\n",
    "for r in range(1): ngmesh.Refine()\n",
    "mesh = Mesh(ngmesh)\n",
    "print (mesh.GetNE(VOL))"
   ]
  },
  {
   "cell_type": "code",
   "execution_count": null,
   "id": "7054b20b",
   "metadata": {},
   "outputs": [],
   "source": [
    "%%px\n",
    "# import ngsolve.ngs2petsc as n2p\n",
    "import ngsPETSc as n2p\n",
    "import petsc4py.PETSc as psc"
   ]
  },
  {
   "cell_type": "code",
   "execution_count": null,
   "id": "3a9c6db8",
   "metadata": {},
   "outputs": [],
   "source": [
    "%%px\n",
    "V = VectorH1(mesh, order=1, dirichlet=\"wall|inlet|cyl\")\n",
    "V1 = H1(mesh, order=1, dirichlet=\"wall|inlet|cyl\")\n",
    "Q = H1(mesh, order=1)\n",
    "if mesh.comm.rank==0:\n",
    "    print (\"ndof = \", V.ndofglobal,'+',Q.ndofglobal,'=',\n",
    "           V.ndofglobal+Q.ndofglobal)\n",
    "\n",
    "u,v = V.TnT()\n",
    "u1,v1 = V1.TnT()\n",
    "p,q = Q.TnT()\n",
    "\n",
    "h = specialcf.mesh_size\n",
    "\n",
    "bfa1 = BilinearForm(InnerProduct(grad(u1),grad(v1))*dx)\n",
    "bfb = BilinearForm(div(u)*q*dx).Assemble()\n",
    "bfc = BilinearForm(h*h*grad(p)*grad(q)*dx).Assemble()\n",
    "\n",
    "prea1 = Preconditioner(bfa1, \"PETScPC\")\n",
    "bfa1.Assemble()\n",
    "\n",
    "mata = sum( [Ri.T@bfa1.mat@Ri for Ri in V.restrictions] )\n",
    "prea = sum( [Ei@prea1@Ei.T for Ei in V.embeddings])    \n",
    "    \n",
    "bfschur = BilinearForm(p*q*dx, diagonal=True).Assemble()\n",
    "preschur = bfschur.mat.Inverse()"
   ]
  },
  {
   "cell_type": "code",
   "execution_count": null,
   "id": "6b23037d",
   "metadata": {},
   "outputs": [],
   "source": [
    "%%px\n",
    "\n",
    "gfu = GridFunction(V)\n",
    "gfp = GridFunction(Q)\n",
    "\n",
    "uin = (1.5*4*y*(0.41-y)/(0.41*0.41)*z*(0.41-z)/0.41**2,0, 0)\n",
    "\n",
    "gfu.Set(uin, definedon=mesh.Boundaries(\"inlet\"))\n",
    "\n",
    "resf = (-mata * gfu.vec).Evaluate()\n",
    "resg = (-bfb.mat * gfu.vec).Evaluate()\n",
    "\n",
    "sol = BramblePasciakCG (A=mata, B=bfb.mat, C=bfc.mat, f=resf, g=resg, \\\n",
    "                preA=prea, preS=preschur, maxit=500, \n",
    "                printrates='\\r' if mesh.comm.rank==0 else False)\n",
    "\n",
    "gfu.vec.data += sol[0]\n",
    "gfp.vec.data += sol[1]"
   ]
  },
  {
   "cell_type": "code",
   "execution_count": null,
   "id": "c77eb4a5",
   "metadata": {},
   "outputs": [],
   "source": [
    "gfu = c[:][\"gfu\"]"
   ]
  },
  {
   "cell_type": "code",
   "execution_count": null,
   "id": "432c52ad",
   "metadata": {},
   "outputs": [],
   "source": [
    "from ngsolve.webgui import Draw\n",
    "Draw (gfu[0], clipping={\"y\":0, \"z\":-1});"
   ]
  },
  {
   "cell_type": "code",
   "execution_count": null,
   "id": "46ff68e8",
   "metadata": {},
   "outputs": [],
   "source": [
    "gfp = c[:][\"gfp\"]\n",
    "Draw (gfp[0]);"
   ]
  },
  {
   "cell_type": "code",
   "execution_count": null,
   "id": "9419fe73",
   "metadata": {},
   "outputs": [],
   "source": []
  },
  {
   "cell_type": "code",
   "execution_count": null,
   "id": "9ba3a082",
   "metadata": {},
   "outputs": [],
   "source": []
  }
 ],
 "metadata": {
  "kernelspec": {
   "display_name": "Python 3 (ipykernel)",
   "language": "python",
   "name": "python3"
  },
  "language_info": {
   "codemirror_mode": {
    "name": "ipython",
    "version": 3
   },
   "file_extension": ".py",
   "mimetype": "text/x-python",
   "name": "python",
   "nbconvert_exporter": "python",
   "pygments_lexer": "ipython3",
   "version": "3.10.11"
  }
 },
 "nbformat": 4,
 "nbformat_minor": 5
}
