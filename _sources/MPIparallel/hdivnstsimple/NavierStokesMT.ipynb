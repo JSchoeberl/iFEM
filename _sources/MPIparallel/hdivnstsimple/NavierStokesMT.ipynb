{
 "cells": [
  {
   "cell_type": "code",
   "execution_count": null,
   "id": "ab5bb7b3",
   "metadata": {},
   "outputs": [],
   "source": [
    "from ipyparallel import Cluster\n",
    "c = await Cluster(engines=\"mpi\").start_and_connect(n=4, activate=True)"
   ]
  },
  {
   "cell_type": "code",
   "execution_count": null,
   "id": "bbb29735",
   "metadata": {},
   "outputs": [],
   "source": [
    "%%px\n",
    "from mpi4py import MPI\n",
    "comm=MPI.COMM_WORLD\n",
    "\n",
    "from ngsolve import *\n",
    "from ngsolve.webgui import Draw\n",
    "from netgen.occ import *\n",
    "\n",
    "from NavierStokesSIMPLE import NavierStokes\n",
    "ngsglobals.msg_level = 0"
   ]
  },
  {
   "cell_type": "code",
   "execution_count": null,
   "id": "f8d2232e",
   "metadata": {},
   "outputs": [],
   "source": [
    "%%px\n",
    "\n",
    "shape = Rectangle(2,0.41).Circle(0.2,0.2,0.05).Reverse().Face()\n",
    "shape.edges.name=\"wall\"\n",
    "shape.edges.Min(X).name=\"inlet\"\n",
    "shape.edges.Max(X).name=\"outlet\"\n",
    "# Draw (shape);\n",
    "\n",
    "mesh = Mesh(OCCGeometry(shape, dim=2).GenerateMesh(maxh=0.07, comm=comm)).Curve(3)\n",
    "if comm.rank==1:\n",
    "    Draw (mesh);"
   ]
  },
  {
   "cell_type": "code",
   "execution_count": null,
   "id": "f35a7b42",
   "metadata": {},
   "outputs": [],
   "source": [
    "%%px\n",
    "timestep = 0.001\n",
    "navstokes = NavierStokes (mesh, nu=0.001, order=5, timestep = timestep,\n",
    "                              inflow=\"inlet\", outflow=\"outlet\", wall=\"wall|cyl\",\n",
    "                              uin=CoefficientFunction( (1.5*4*y*(0.41-y)/(0.41*0.41), 0) ))\n",
    "                              \n",
    "\n",
    "navstokes.SolveInitial()"
   ]
  },
  {
   "cell_type": "code",
   "execution_count": null,
   "id": "92d3d96f",
   "metadata": {},
   "outputs": [],
   "source": [
    "%%px\n",
    "if comm.rank==1:\n",
    "    scene = Draw (Norm(navstokes.velocity), mesh, \"velocity\", order=3)\n",
    "\n",
    "tend = 5\n",
    "t = 0\n",
    "cnt = 0\n",
    "with TaskManager():\n",
    "    while t < tend:\n",
    "        navstokes.DoTimeStep()\n",
    "        t = t+timestep\n",
    "        cnt = cnt+1\n",
    "        if cnt % 100 == 0:\n",
    "            printmaster (\"t = \", t) # , \"  \", end='\\r')\n",
    "            if comm.rank==1:\n",
    "                scene.Redraw()"
   ]
  },
  {
   "cell_type": "code",
   "execution_count": null,
   "id": "45f909c7",
   "metadata": {},
   "outputs": [],
   "source": []
  }
 ],
 "metadata": {
  "kernelspec": {
   "display_name": "Python 3 (ipykernel)",
   "language": "python",
   "name": "python3"
  },
  "language_info": {
   "codemirror_mode": {
    "name": "ipython",
    "version": 3
   },
   "file_extension": ".py",
   "mimetype": "text/x-python",
   "name": "python",
   "nbconvert_exporter": "python",
   "pygments_lexer": "ipython3",
   "version": "3.10.11"
  }
 },
 "nbformat": 4,
 "nbformat_minor": 5
}
