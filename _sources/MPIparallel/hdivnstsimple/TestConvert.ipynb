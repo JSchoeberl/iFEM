{
 "cells": [
  {
   "cell_type": "code",
   "execution_count": null,
   "id": "15edd1c4",
   "metadata": {},
   "outputs": [],
   "source": [
    "from ngsolve import *\n",
    "from ngsolve.webgui import Draw\n",
    "\n",
    "mesh = Mesh(unit_square.GenerateMesh(maxh=0.1))"
   ]
  },
  {
   "cell_type": "code",
   "execution_count": null,
   "id": "cc0cfa3d",
   "metadata": {},
   "outputs": [],
   "source": [
    "X = HDiv(mesh, order=3) * TangentialFacetFESpace(mesh, order=3)\n",
    "Xaux = VectorH1(mesh)"
   ]
  },
  {
   "cell_type": "code",
   "execution_count": null,
   "id": "9d534263",
   "metadata": {},
   "outputs": [],
   "source": [
    "gf = GridFunction(X)\n",
    "gfu, gfuhat = gf.components\n",
    "gfaux = GridFunction(Xaux)"
   ]
  },
  {
   "cell_type": "code",
   "execution_count": null,
   "id": "69504373",
   "metadata": {},
   "outputs": [],
   "source": [
    "convu = ConvertOperator(Xaux, X.components[0])\n",
    "convuhat = ConvertOperator(Xaux, X.components[1])\n",
    "embu, embuhat = X.embeddings\n",
    "conv = embu@convu+embuhat@convuhat"
   ]
  },
  {
   "cell_type": "code",
   "execution_count": null,
   "id": "45762f42",
   "metadata": {},
   "outputs": [],
   "source": [
    "gfaux.Set ( (x*y, 0))\n",
    "# gfu.vec[:] = convu * gfaux.vec\n",
    "# gfuhat.vec[:] = convuhat * gfaux.vec\n",
    "gf.vec[:] = conv * gfaux.vec"
   ]
  },
  {
   "cell_type": "code",
   "execution_count": null,
   "id": "a59c3315",
   "metadata": {},
   "outputs": [],
   "source": [
    "Draw (gf.components[0]);"
   ]
  },
  {
   "cell_type": "markdown",
   "id": "0eadbd7f",
   "metadata": {},
   "source": [
    "cannot visualize facetvariable, interpolate to H(curl)"
   ]
  },
  {
   "cell_type": "code",
   "execution_count": null,
   "id": "c7e155c4",
   "metadata": {},
   "outputs": [],
   "source": [
    "fescurl = HCurl(mesh, order=2, orderinner=0)\n",
    "n = specialcf.normal(2)\n",
    "def Tang(v) : return v - (v*n)*n\n",
    "u,v = fescurl.TnT()\n",
    "mtcurl = BilinearForm(Tang(u)*v*dx(element_boundary=True)+1e-8*u*v*dx).Assemble()\n",
    "rhscurl = LinearForm(gfuhat*Tang(v)*dx(element_boundary=True)).Assemble()\n",
    "gfvis = GridFunction(fescurl)\n",
    "gfvis.vec.data = mtcurl.mat.Inverse() * rhscurl.vec\n",
    "Draw (gfvis);"
   ]
  },
  {
   "cell_type": "code",
   "execution_count": null,
   "id": "873d2fe6",
   "metadata": {},
   "outputs": [],
   "source": []
  },
  {
   "cell_type": "code",
   "execution_count": null,
   "id": "a8b60e32",
   "metadata": {},
   "outputs": [],
   "source": []
  }
 ],
 "metadata": {
  "kernelspec": {
   "display_name": "Python 3 (ipykernel)",
   "language": "python",
   "name": "python3"
  },
  "language_info": {
   "codemirror_mode": {
    "name": "ipython",
    "version": 3
   },
   "file_extension": ".py",
   "mimetype": "text/x-python",
   "name": "python",
   "nbconvert_exporter": "python",
   "pygments_lexer": "ipython3",
   "version": "3.10.11"
  }
 },
 "nbformat": 4,
 "nbformat_minor": 5
}
