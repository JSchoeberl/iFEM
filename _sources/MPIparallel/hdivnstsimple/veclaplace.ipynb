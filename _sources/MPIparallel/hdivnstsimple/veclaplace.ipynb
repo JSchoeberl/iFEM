{
 "cells": [
  {
   "cell_type": "code",
   "execution_count": null,
   "id": "ab5bb7b3",
   "metadata": {},
   "outputs": [],
   "source": [
    "from ipyparallel import Cluster\n",
    "c = await Cluster(engines=\"mpi\").start_and_connect(n=4, activate=True)"
   ]
  },
  {
   "cell_type": "code",
   "execution_count": null,
   "id": "bbb29735",
   "metadata": {},
   "outputs": [],
   "source": [
    "%%px\n",
    "from mpi4py import MPI\n",
    "comm=MPI.COMM_WORLD\n",
    "\n",
    "from ngsolve import *\n",
    "from ngsolve.webgui import Draw\n",
    "from netgen.occ import *\n",
    "\n",
    "from NavierStokesSIMPLE import NavierStokes\n",
    "ngsglobals.msg_level = 0"
   ]
  },
  {
   "cell_type": "code",
   "execution_count": null,
   "id": "f8d2232e",
   "metadata": {},
   "outputs": [],
   "source": [
    "%%px\n",
    "\n",
    "shape = Rectangle(2,0.41).Circle(0.2,0.2,0.05).Reverse().Face()\n",
    "shape.edges.name=\"wall\"\n",
    "shape.edges.Min(X).name=\"inlet\"\n",
    "shape.edges.Max(X).name=\"outlet\"\n",
    "# Draw (shape);\n",
    "\n",
    "mesh = OCCGeometry(shape, dim=2).GenerateMesh(maxh=0.07, comm=comm)\n",
    "for l in range(2):\n",
    "    mesh.Refine()\n",
    "mesh = Mesh(mesh)\n",
    "mesh.Curve(3)\n",
    "if comm.rank==1:\n",
    "    Draw (mesh);"
   ]
  },
  {
   "cell_type": "code",
   "execution_count": null,
   "id": "f35a7b42",
   "metadata": {},
   "outputs": [],
   "source": [
    "%%px\n",
    "\n",
    "order=2\n",
    "nu=0.001\n",
    "inflow=\"inlet\"\n",
    "outflow=\"outlet\"\n",
    "wall=\"wall\"\n",
    "\n",
    "\n",
    "V = HDiv(mesh, order=order, dirichlet=inflow+\"|\"+wall, RT=False)\n",
    "Vhat = TangentialFacetFESpace(mesh, order=order-1, dirichlet=inflow+\"|\"+wall+\"|\"+outflow)\n",
    "Sigma = HCurlDiv(mesh, order = order-1, orderinner=order, discontinuous=True)\n",
    "if mesh.dim == 2:\n",
    "    S = L2(mesh, order=order-1)            \n",
    "else:\n",
    "    S = VectorL2(mesh, order=order-1)\n",
    "\n",
    "Sigma.SetCouplingType(IntRange(0,Sigma.ndof), COUPLING_TYPE.HIDDEN_DOF)\n",
    "Sigma = Compress(Sigma)\n",
    "S.SetCouplingType(IntRange(0,S.ndof), COUPLING_TYPE.HIDDEN_DOF)\n",
    "S = Compress(S)\n",
    "        \n",
    "X = V*Vhat*Sigma*S\n",
    "for i in range(X.ndof):\n",
    "    if X.CouplingType(i) == COUPLING_TYPE.WIREBASKET_DOF:\n",
    "        X.SetCouplingType(i, COUPLING_TYPE.INTERFACE_DOF)\n",
    "        \n",
    "u, uhat, sigma, W  = X.TrialFunction()\n",
    "v, vhat, tau, R  = X.TestFunction()\n",
    "\n",
    "if mesh.dim == 2:\n",
    "    def Skew2Vec(m):\n",
    "        return m[1,0]-m[0,1]\n",
    "else:\n",
    "    def Skew2Vec(m):   \n",
    "        return CF( (m[0,1]-m[1,0], m[2,0]-m[0,2], m[1,2]-m[2,1]) )\n",
    "\n",
    "dS = dx(element_boundary=True)\n",
    "n = specialcf.normal(mesh.dim)\n",
    "def tang(u): return u-(u*n)*n\n",
    "        \n",
    "stokesA = -0.5/nu * InnerProduct(sigma,tau) * dx + \\\n",
    "          (div(sigma)*v+div(tau)*u) * dx + \\\n",
    "          (InnerProduct(W,Skew2Vec(tau)) + InnerProduct(R,Skew2Vec(sigma))) * dx + \\\n",
    "          -(((sigma*n)*n) * (v*n) + ((tau*n)*n )* (u*n)) * dS + \\\n",
    "          (-(sigma*n)*tang(vhat) - (tau*n)*tang(uhat)) * dS\n",
    "\n",
    "\n",
    "a = BilinearForm (X, eliminate_hidden = True)\n",
    "a += stokesA\n",
    "a += 10*nu*div(u)*div(v) * dx\n",
    "a.Assemble()"
   ]
  },
  {
   "cell_type": "code",
   "execution_count": null,
   "id": "3be08a7c",
   "metadata": {},
   "outputs": [],
   "source": [
    "%%px\n",
    "uin=CF( (1.5*4*y*(0.41-y)/(0.41*0.41), 0) )\n",
    "gf = GridFunction(X)\n",
    "gfu,gfuhat,gfsigma,gfS = gf.components                   \n",
    "gfu.Set(uin, definedon=mesh.Boundaries(inflow))"
   ]
  },
  {
   "cell_type": "code",
   "execution_count": null,
   "id": "2420c42a",
   "metadata": {},
   "outputs": [],
   "source": [
    "# inva = a.mat.Inverse(X.FreeDofs(), inverse=\"masterinverse\")\n",
    "# gfu.vec.data -= inva@a.mat * gfu.vec"
   ]
  },
  {
   "cell_type": "code",
   "execution_count": null,
   "id": "ae5d80a2",
   "metadata": {},
   "outputs": [],
   "source": [
    "%%px\n",
    "from ngsPETSc import pc, KrylovSolver\n",
    "\n",
    "solver = KrylovSolver(a,X, solverParameters={'ksp_type': 'cg', 'pc_type': 'gamg', \\\n",
    "                                             'ksp_monitor': '', 'ksp_rtol':1e-8})\n",
    "\n",
    "f = LinearForm(X).Assemble()\n",
    "f.vec.data = -a.mat*gfu.vec\n",
    "\n",
    "# gfucorr = solver.solve(f)\n",
    "# gfu.vec.data += gfucorr.vec"
   ]
  },
  {
   "cell_type": "code",
   "execution_count": null,
   "id": "77304286",
   "metadata": {},
   "outputs": [],
   "source": [
    "%%px\n",
    "from ngsPETSc import pc\n",
    "from ngsolve.krylovspace import CGSolver\n",
    "\n",
    "pre = Preconditioner(a, \"PETScPC\", pc_type=\"gamg\")\n",
    "printing = '\\r' if comm.rank==0 else None\n",
    "invA = CGSolver(a.mat, pre, printrates=printing, maxiter=1000)\n",
    "gf.vec.data -= invA@a.mat * gf.vec"
   ]
  },
  {
   "cell_type": "code",
   "execution_count": null,
   "id": "e6e79a97",
   "metadata": {},
   "outputs": [],
   "source": [
    "%%px\n",
    "if comm.rank > 0:\n",
    "    Draw (gfu);"
   ]
  },
  {
   "cell_type": "code",
   "execution_count": null,
   "id": "45f909c7",
   "metadata": {},
   "outputs": [],
   "source": []
  },
  {
   "cell_type": "code",
   "execution_count": null,
   "id": "a033a0d5",
   "metadata": {},
   "outputs": [],
   "source": []
  }
 ],
 "metadata": {
  "kernelspec": {
   "display_name": "Python 3 (ipykernel)",
   "language": "python",
   "name": "python3"
  },
  "language_info": {
   "codemirror_mode": {
    "name": "ipython",
    "version": 3
   },
   "file_extension": ".py",
   "mimetype": "text/x-python",
   "name": "python",
   "nbconvert_exporter": "python",
   "pygments_lexer": "ipython3",
   "version": "3.10.11"
  }
 },
 "nbformat": 4,
 "nbformat_minor": 5
}
