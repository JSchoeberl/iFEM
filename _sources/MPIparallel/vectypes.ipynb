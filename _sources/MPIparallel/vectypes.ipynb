{
 "cells": [
  {
   "cell_type": "markdown",
   "id": "eb01a703",
   "metadata": {},
   "source": [
    "Consistent and Distributed Vectors\n",
    "===\n",
    "\n",
    "CC Douglas, G Haase, U Langer: *A tutorial on elliptic PDE solvers and their parallelization*, SIAM (2003)"
   ]
  },
  {
   "cell_type": "code",
   "execution_count": 1,
   "id": "400b55ad",
   "metadata": {},
   "outputs": [
    {
     "name": "stdout",
     "output_type": "stream",
     "text": [
      "Starting 4 engines with <class 'ipyparallel.cluster.launcher.MPIEngineSetLauncher'>\n"
     ]
    },
    {
     "data": {
      "application/vnd.jupyter.widget-view+json": {
       "model_id": "4f093dd273234073a1c1c0b69f7ff6ce",
       "version_major": 2,
       "version_minor": 0
      },
      "text/plain": [
       "  0%|          | 0/4 [00:00<?, ?engine/s]"
      ]
     },
     "metadata": {},
     "output_type": "display_data"
    },
    {
     "data": {
      "text/plain": [
       "[0, 1, 2, 3]"
      ]
     },
     "execution_count": 1,
     "metadata": {},
     "output_type": "execute_result"
    }
   ],
   "source": [
    "from ipyparallel import Cluster\n",
    "c = await Cluster(engines=\"mpi\").start_and_connect(n=4, activate=True)\n",
    "c.ids"
   ]
  },
  {
   "cell_type": "code",
   "execution_count": 2,
   "id": "773f75df",
   "metadata": {},
   "outputs": [],
   "source": [
    "%%px\n",
    "from mpi4py import MPI\n",
    "comm = MPI.COMM_WORLD\n",
    "\n",
    "from ngsolve import *\n",
    "\n",
    "mesh = Mesh(unit_square.GenerateMesh(maxh=0.2, comm=comm))"
   ]
  },
  {
   "cell_type": "markdown",
   "id": "b63cca99",
   "metadata": {},
   "source": [
    "Consistent vectors:\n",
    "---\n",
    "All local coefficient vectors of a `GridFunction` store the same value. We call this *consistent* or *cumulated* representation."
   ]
  },
  {
   "cell_type": "code",
   "execution_count": 3,
   "id": "cae2200b",
   "metadata": {},
   "outputs": [
    {
     "data": {
      "text/plain": [
       "[stdout:0] parallel vector: CUMULATED\n",
       "\n",
       "\n"
      ]
     },
     "metadata": {},
     "output_type": "display_data"
    },
    {
     "data": {
      "text/plain": [
       "[stdout:1] parallel vector: CUMULATED\n",
       "       1\n",
       "       1\n",
       "       1\n",
       "       1\n",
       "       1\n",
       "       1\n",
       "       1\n",
       "       1\n",
       "       1\n",
       "       1\n",
       "       1\n",
       "       1\n",
       "       1\n",
       "       1\n",
       "       1\n",
       "       1\n",
       "       1\n",
       "\n",
       "\n"
      ]
     },
     "metadata": {},
     "output_type": "display_data"
    },
    {
     "data": {
      "text/plain": [
       "[stdout:3] parallel vector: CUMULATED\n",
       "       1\n",
       "       1\n",
       "       1\n",
       "       1\n",
       "       1\n",
       "       1\n",
       "       1\n",
       "       1\n",
       "       1\n",
       "       1\n",
       "       1\n",
       "       1\n",
       "       1\n",
       "       1\n",
       "       1\n",
       "       1\n",
       "       1\n",
       "\n",
       "\n"
      ]
     },
     "metadata": {},
     "output_type": "display_data"
    },
    {
     "data": {
      "text/plain": [
       "[stdout:2] parallel vector: CUMULATED\n",
       "       1\n",
       "       1\n",
       "       1\n",
       "       1\n",
       "       1\n",
       "       1\n",
       "       1\n",
       "       1\n",
       "       1\n",
       "       1\n",
       "       1\n",
       "       1\n",
       "       1\n",
       "       1\n",
       "       1\n",
       "       1\n",
       "       1\n",
       "\n",
       "\n"
      ]
     },
     "metadata": {},
     "output_type": "display_data"
    }
   ],
   "source": [
    "%%px\n",
    "fes = H1(mesh, order=1)\n",
    "gfu = GridFunction(fes)\n",
    "gfu.Set(1)\n",
    "print (\"parallel vector:\", gfu.vec)"
   ]
  },
  {
   "cell_type": "markdown",
   "id": "04f42da8",
   "metadata": {},
   "source": [
    "Distributed vectors and matrices\n",
    "---\n",
    "\n",
    "Recall the finite element assembling of the matrix and the right hand side vector. One computes element-vectors $f_T$ and element-matrices $A_T$ as the contribution from each single element to the integral, and assembles them together using connectivity matrices $C_T$:\n",
    "\n",
    "$$\n",
    "f = \\sum_T C_T f_T \\qquad A = \\sum_T C_T A_T C_T^T\n",
    "$$\n",
    "\n",
    "The matrices $C_T$ are high rectangular matrices of shape $\\operatorname{dim}(V_h) \\times \\operatorname{dim}(V_T)$, and look like\n",
    "\n",
    "$$\n",
    "\\left( \\begin{array}{ccc} \n",
    ". & . & . \\\\\n",
    "1 & . & . \\\\\n",
    ". & . & . \\\\\n",
    ". & 1 & . \\\\\n",
    ". & . & . \\\\\n",
    ". & . & 1\n",
    "\\end{array} \\right)\n",
    "$$\n",
    "\n",
    "They are represented by the dof nrs of the element, and are never formed as dense matrices.\n",
    "\n",
    "Very similarly, in the distributed parallel framework, the right \n",
    "hand side vector and the matrix are formed by sub-domain wise sub-assembled vectors and matrices:\n",
    "\n",
    "$$\n",
    "f = \\sum_{\\Omega_i} C_{\\Omega_i} f_{\\Omega_i} \\qquad\n",
    "A = \\sum_{\\Omega_i} C_{\\Omega_i} A_{\\Omega_i} C_{\\Omega_i}^T\n",
    "$$\n",
    "\n",
    "But now, only the sub-domain local vectors $f_{\\Omega_i}$ and local matrices $A_{\\Omega_i}$ are assembled from the element vectors and matrices. The connectivity between sub-domains is represented by the `ParallelDofs` - class.\n",
    "\n",
    "The values of the global vector $f$ are understood as the sum of all processor-wise local entries of identified dofs. We call this type of vector storage *distributed*."
   ]
  },
  {
   "cell_type": "code",
   "execution_count": 4,
   "id": "08c42de6",
   "metadata": {},
   "outputs": [
    {
     "data": {
      "text/plain": [
       "[stdout:0] DISTRIBUTED\n",
       "\n",
       "\n"
      ]
     },
     "metadata": {},
     "output_type": "display_data"
    },
    {
     "data": {
      "text/plain": [
       "[stdout:1] DISTRIBUTED\n",
       " 0.00666667\n",
       " 0.00436698\n",
       " 0.0243206\n",
       " 0.0233311\n",
       " 0.00641114\n",
       " 0.0134663\n",
       " 0.0174519\n",
       " 0.0231253\n",
       " 0.0241589\n",
       " 0.0596323\n",
       " 0.0233791\n",
       " 0.00976904\n",
       " 0.0123374\n",
       " 0.030805\n",
       " 0.0421362\n",
       " 0.0232821\n",
       " 0.0185708\n",
       "\n",
       "\n"
      ]
     },
     "metadata": {},
     "output_type": "display_data"
    },
    {
     "data": {
      "text/plain": [
       "[stdout:2] DISTRIBUTED\n",
       " 0.00929141\n",
       " 0.0115905\n",
       " 0.0143129\n",
       " 0.0157114\n",
       " 0.012363\n",
       " 0.0183463\n",
       " 0.0327422\n",
       " 0.0232373\n",
       " 0.0382184\n",
       " 0.0151684\n",
       " 0.0134339\n",
       " 0.0339567\n",
       " 0.0187142\n",
       " 0.0148526\n",
       " 0.0133493\n",
       " 0.0228366\n",
       " 0.0344815\n",
       "\n",
       "\n"
      ]
     },
     "metadata": {},
     "output_type": "display_data"
    },
    {
     "data": {
      "text/plain": [
       "[stdout:3] DISTRIBUTED\n",
       " 0.00666667\n",
       " 0.00444576\n",
       " 0.00532115\n",
       " 0.0159095\n",
       " 0.019749\n",
       " 0.0263138\n",
       " 0.0185867\n",
       " 0.019659\n",
       " 0.0139698\n",
       " 0.0156347\n",
       " 0.0344221\n",
       " 0.0278865\n",
       " 0.0320692\n",
       " 0.0231229\n",
       " 0.00838466\n",
       " 0.0152942\n",
       " 0.00674705\n",
       "\n",
       "\n"
      ]
     },
     "metadata": {},
     "output_type": "display_data"
    }
   ],
   "source": [
    "%%px\n",
    "u,v = fes.TnT()\n",
    "f = LinearForm(v*dx).Assemble()\n",
    "print (f.vec)"
   ]
  },
  {
   "cell_type": "markdown",
   "id": "a2205713",
   "metadata": {},
   "source": [
    "If $u$ is a global vector of a gridfunction, then the sub-domain wise \n",
    "local vectors are\n",
    "\n",
    "$$\n",
    "u_{\\Omega_i} = C_{\\Omega_i}^T u\n",
    "$$\n",
    "\n",
    "These $u_{\\Omega_i}$ are stored as consistent vectors.\n",
    "\n",
    "Inner products:\n",
    "--- \n",
    "\n",
    "It is natural to form the Euclidean inner product of a distributed vector and a consistent vector: \n",
    "\n",
    "\\begin{eqnarray*}\n",
    "\\left< f, u \\right> & = & \\left< \\sum C_{\\Omega_i} f_i, u \\right> \\\\\n",
    "& = & \\sum \\left< f_i, C_{\\Omega_i}^T u \\right> \\\\\n",
    "& = & \\sum \\left< f_i, u_i \\right>\n",
    "\\end{eqnarray*}\n",
    "\n",
    "The global inner product is the sum of inner products of the local vectors. It does not work as simple to compute the inner product of two consistent, or of two distributed vectors."
   ]
  },
  {
   "cell_type": "markdown",
   "id": "ae68953f",
   "metadata": {},
   "source": [
    "The ngsolve built-in inner product returns the same value as a sequential computation, and it returns the same value for every processor:"
   ]
  },
  {
   "cell_type": "code",
   "execution_count": 5,
   "id": "cec0b3ef",
   "metadata": {},
   "outputs": [
    {
     "data": {
      "text/plain": [
       "[stdout:3] 1.0000000000000002\n"
      ]
     },
     "metadata": {},
     "output_type": "display_data"
    },
    {
     "data": {
      "text/plain": [
       "[stdout:1] 1.0000000000000002\n"
      ]
     },
     "metadata": {},
     "output_type": "display_data"
    },
    {
     "data": {
      "text/plain": [
       "[stdout:2] 1.0000000000000002\n"
      ]
     },
     "metadata": {},
     "output_type": "display_data"
    },
    {
     "data": {
      "text/plain": [
       "[stdout:0] 1.0000000000000002\n"
      ]
     },
     "metadata": {},
     "output_type": "display_data"
    }
   ],
   "source": [
    "%%px\n",
    "print (InnerProduct(f.vec,gfu.vec))"
   ]
  },
  {
   "cell_type": "markdown",
   "id": "6d9fc123",
   "metadata": {},
   "source": [
    "This inner product can be easily formed from local ips by summing up the local contributions. The required communication is summing up one double value."
   ]
  },
  {
   "cell_type": "code",
   "execution_count": null,
   "id": "6ae531bf",
   "metadata": {},
   "outputs": [],
   "source": [
    "%%px\n",
    "localip = InnerProduct(f.vec.local_vec, gfu.vec.local_vec)\n",
    "print (\"local=\", localip, \"global=\", comm.allreduce(localip))"
   ]
  },
  {
   "cell_type": "markdown",
   "id": "18e0c724",
   "metadata": {},
   "source": [
    "Matrix vector multiplication:\n",
    "---\n",
    "\n",
    "Assume $A$ is stored as distributed matrix, and $u$ is a consistent vector. Then\n",
    "\n",
    "$$\n",
    "r = A u = \\sum C_{\\Omega_i} A_i C_{\\Omega_i}^T u \n",
    "= \\sum C_{\\Omega_i} A_i u_i = \\sum C_{\\Omega_i} r_i\n",
    "$$\n",
    "\n",
    "We perform local matrix-vector products $r_i = A_i u_i$, and interpret the results $r_i$ as local vectors of the global result in distributed storage. Here, no communication is needed at all."
   ]
  },
  {
   "cell_type": "markdown",
   "id": "ce33e4a3",
   "metadata": {},
   "source": [
    "Vector operations:\n",
    "---\n",
    "\n",
    "**Adding** vectors of the same type is a purely local operation. One can simple add the local vectors, if both are either stored consistently, or distributed.\n",
    "\n",
    "**Distributed to Consistent** conversion:\n",
    "\n",
    "This operation requires global communication. All local values identified as the same global dof are summed up, and all processors get the same value.\n",
    "\n",
    "**Consistent to Distributed** conversion: \n",
    "\n",
    "This operation can be performed locally. It is not unique: One can divide a value by the number of processes sharing this dof, or just give the value to one process, e.g. the one with the smallest rank, and give 0 to all other processes."
   ]
  },
  {
   "cell_type": "code",
   "execution_count": null,
   "id": "22f53937",
   "metadata": {
    "scrolled": false
   },
   "outputs": [],
   "source": [
    "%%px\n",
    "gfu.vec.Distribute()\n",
    "print (gfu.vec)\n",
    "gfu.vec.Cumulate()\n",
    "print (gfu.vec)"
   ]
  },
  {
   "cell_type": "code",
   "execution_count": null,
   "id": "94c14e1d",
   "metadata": {},
   "outputs": [],
   "source": []
  },
  {
   "cell_type": "code",
   "execution_count": null,
   "id": "b02079d2",
   "metadata": {},
   "outputs": [],
   "source": []
  },
  {
   "cell_type": "code",
   "execution_count": null,
   "id": "3bd43876",
   "metadata": {},
   "outputs": [],
   "source": []
  }
 ],
 "metadata": {
  "kernelspec": {
   "display_name": "Python 3 (ipykernel)",
   "language": "python",
   "name": "python3"
  },
  "language_info": {
   "codemirror_mode": {
    "name": "ipython",
    "version": 3
   },
   "file_extension": ".py",
   "mimetype": "text/x-python",
   "name": "python",
   "nbconvert_exporter": "python",
   "pygments_lexer": "ipython3",
   "version": "3.10.11"
  }
 },
 "nbformat": 4,
 "nbformat_minor": 5
}
