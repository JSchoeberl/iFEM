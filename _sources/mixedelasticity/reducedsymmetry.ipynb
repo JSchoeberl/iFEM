{
 "cells": [
  {
   "cell_type": "markdown",
   "metadata": {},
   "source": [
    "$\\DeclareMathOperator{\\opdiv}{div}$\n",
    "$\\DeclareMathOperator{\\opcurl}{curl}$\n",
    "$\\DeclareMathOperator{\\eps}{\\varepsilon}$\n",
    "Reduced symmetry methods\n",
    "====\n",
    "\n",
    "We search the stress in a general matrix-valued space (not necessarily symmetric), and enforce symmetry by an extra Lagrange parameter $\\omega$.\n",
    "\n",
    "We use that\n",
    "\n",
    "$$\n",
    "\\eps(u) = \\nabla u - \\operatorname{skew} \\nabla u\n",
    "$$\n",
    "\n",
    "with the skew-symmetric part\n",
    "\n",
    "$$\n",
    "\\operatorname{skew} \\nabla u := \\tfrac{1}{2} ( \\nabla u - \\nabla u^T)\n",
    "$$\n",
    "\n",
    "\n",
    "We rewrite the first equation $A \\sigma = \\eps(u)$ as\n",
    "\n",
    "$$\n",
    "A \\sigma = \\nabla u - \\operatorname{skew} \\nabla u,\n",
    "$$\n",
    "\n",
    "and introduce a new variable $\\omega := \\operatorname{skew} u$.\n",
    "\n",
    "In 2D, there is\n",
    "\n",
    "$$\n",
    "\\operatorname{skew} \\nabla u = \\tfrac{1}{2} \n",
    "\\left( \\begin{array}{cc}\n",
    "   0 & \\frac{\\partial u_1}{\\partial x_2} - \\frac{\\partial u_2}{\\partial x_1} \\\\\n",
    "  \\frac{\\partial u_2}{\\partial x_1} - \\frac{\\partial u_1}{\\partial x_2} & 0 \n",
    "  \\end{array} \\right)\n",
    "$$ \n",
    "\n",
    "and similar in 3D. The entries of the matrix are a rearrangement of the rotation\n",
    "\n",
    "$$\n",
    "\\operatorname{curl} u = \\nabla \\times u\n",
    "$$\n",
    "\n",
    "The formulation is:\n",
    "\n",
    "Find $\\sigma \\in \\Sigma := H(\\opdiv)^d$, $u \\in V := L_2^d$, $\\omega \\in \\Gamma := L_2^{\\text{SKEW}}$ such that:\n",
    "\n",
    "$$\n",
    "\\begin{array}{ccccccll}\n",
    "\\int A \\sigma \\tau & + & \\int \\opdiv \\tau u & + & \\int \\omega : \\tau & = & 0 & \\forall \\, \\tau \\\\\n",
    "\\int \\opdiv \\sigma v & & & & & = & \\int f v & \\forall \\, v \\\\\n",
    "\\int \\sigma : \\gamma & & & & & = & 0 & \\forall \\gamma\n",
    "\\end{array}\n",
    "$$\n",
    "\n",
    "The primal space is $\\Sigma$, the dual space is $V \\times \\Gamma$.\n",
    "\n",
    "Use Raviart-Thomas like elements for every row. We have to satisfy the LBB condition, for both Lagrange parameters $(u,\\omega)$.\n",
    "This is obtained by adding divergence-free bubbles (i.e. rotations of bubbles in $H(\\operatorname{curl})$) to get enough freedom for the Fortin operator."
   ]
  },
  {
   "cell_type": "markdown",
   "metadata": {
    "collapsed": true
   },
   "source": [
    "Stability of mixed system provides\n",
    "\n",
    "$$\n",
    "\\| \\sigma \\|_{H(\\opdiv)} + \\| u \\|_{L_2} + \\| \\omega \\|_{L_2} \\leq \\| f \\|_{L_2}\n",
    "$$\n",
    "\n",
    "Since $\\omega = \\opcurl u$, this stability estimate includes\n",
    "\n",
    "$$\n",
    "\\| u \\|_{H(\\opcurl)} \\leq \\| f \\|_{L_2}\n",
    "$$\n",
    "\n",
    "where\n",
    "\n",
    "$$\n",
    "\\| u \\|_{H(\\opcurl)} := \\{ u \\in [L_2]^d : \\opcurl u \\in L_2 \\}\n",
    "$$\n",
    "\n",
    "This space is well known in electromagnetics. In contrast to $H(\\opdiv)$, it requires tangential continuity on interfaces.\n",
    "\n",
    "Reduced symmetry methods go back to the 80s: Arnold+Brezzi, Stenberg"
   ]
  },
  {
   "cell_type": "code",
   "execution_count": null,
   "metadata": {
    "collapsed": true
   },
   "outputs": [],
   "source": []
  }
 ],
 "metadata": {
  "kernelspec": {
   "display_name": "Python 3",
   "language": "python",
   "name": "python3"
  },
  "language_info": {
   "codemirror_mode": {
    "name": "ipython",
    "version": 3
   },
   "file_extension": ".py",
   "mimetype": "text/x-python",
   "name": "python",
   "nbconvert_exporter": "python",
   "pygments_lexer": "ipython3",
   "version": "3.6.2"
  }
 },
 "nbformat": 4,
 "nbformat_minor": 2
}
