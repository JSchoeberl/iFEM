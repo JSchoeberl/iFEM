{
 "cells": [
  {
   "cell_type": "markdown",
   "metadata": {},
   "source": [
    "Non-linear dynamics\n",
    "====\n",
    "\n",
    "See thesis Michael Neunteufel\n",
    "\n",
    "* discretize displacement in $[H^1]^d$, unknowns are displacements in vertices\n",
    "  \n",
    "* discretize velocity in $H(\\operatorname{curl})$, unknowns are velocities along deformed edges\n",
    "\n",
    "Velocity is defined in body frame. Rigid body rotations have constant local velocities\n",
    "\n",
    "\n",
    "<img src=\"localglobalframe.png\" width=\"500\"> \n"
   ]
  },
  {
   "cell_type": "code",
   "execution_count": null,
   "metadata": {
    "collapsed": true
   },
   "outputs": [],
   "source": []
  }
 ],
 "metadata": {
  "kernelspec": {
   "display_name": "Python 3",
   "language": "python",
   "name": "python3"
  },
  "language_info": {
   "codemirror_mode": {
    "name": "ipython",
    "version": 3
   },
   "file_extension": ".py",
   "mimetype": "text/x-python",
   "name": "python",
   "nbconvert_exporter": "python",
   "pygments_lexer": "ipython3",
   "version": "3.7.0"
  }
 },
 "nbformat": 4,
 "nbformat_minor": 2
}
