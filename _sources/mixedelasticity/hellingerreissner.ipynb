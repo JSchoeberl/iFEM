{
 "cells": [
  {
   "cell_type": "markdown",
   "metadata": {},
   "source": [
    "$\\DeclareMathOperator{\\opdiv}{div}$\n",
    "Hellinger Reissner mixed formulation\n",
    "===\n",
    "\n",
    "A mixed formulation for stress and displacements.\n",
    "\n",
    "We search a symmetric stress tensor $\\sigma$ and a displacement vector $u$ such that\n",
    "\n",
    "$$\n",
    "\\begin{array}{ccccl}\n",
    "A \\sigma & + & \\varepsilon(u) & = & 0  \\\\\n",
    "\\opdiv \\sigma & & & = & f\n",
    "\\end{array}\n",
    "$$\n",
    "\n",
    "We can state the primal mixed or a dual mixed method:\n",
    "\n",
    "Primal mixed method:\n",
    "---\n",
    "\n",
    "\\begin{eqnarray*}\n",
    "\\Sigma & := & L_2^{\\text{SYM}} \\\\\n",
    "V & := & [H^1]^d\n",
    "\\end{eqnarray*}\n",
    "\n",
    "Find $\\sigma \\in \\Sigma$ and $u \\in V$ such that\n",
    "\n",
    "$$\n",
    "\\begin{array}{cccll}\n",
    "\\int A \\sigma : \\tau & + & \\int \\varepsilon(u) : \\tau & = & 0 & \\forall \\, \\tau \\\\\n",
    "\\int \\varepsilon(v) : \\sigma & & & = & \\int f v & \\forall \\, v\n",
    "\\end{array}\n",
    "$$\n",
    "\n",
    "It is easy to see that this is a stable formulation.\n",
    "Equivalent ot the primal formulation.\n",
    "\n",
    "Just use standard elements for $L_2$ and $H^1$. Discrete method is equivalent to primal discrete method on elements with affine mappings (i.e. non-curved elements, parallelograms). \n",
    "\n",
    "\n",
    "Dual mixed method\n",
    "----\n",
    "\n",
    "The stress space consists of symmetric matrices, which row-wise divergence is in $L_2$:\n",
    "\n",
    "\\begin{eqnarray*}\n",
    "\\Sigma & := & \\{ \\tau \\in L_2^{\\text{SYM}} : \\opdiv \\tau \\in L_2 \\} \\\\\n",
    "V & := & L_2^d\n",
    "\\end{eqnarray*}\n",
    "\n",
    "Variational formulation:\n",
    "\n",
    "$$\n",
    "\\begin{array}{cccll}\n",
    "\\int A \\sigma : \\tau & + & \\int u \\, \\opdiv \\tau & = & 0 & \\forall \\, \\tau \\\\\n",
    "\\int v \\, \\opdiv \\sigma & & & = & \\int f v & \\forall \\, v\n",
    "\\end{array}\n",
    "$$\n",
    "\n",
    "stability is shown as in the scalar case by means of primal elasticity problem.\n",
    "\n",
    "Challenging to design finite elements. Must be symmetric matrices, and continuous normal vectors. Good progress by Arnold, Falk and Winther since 2005. Curved elements and minimal smoothness is still an issue."
   ]
  },
  {
   "cell_type": "code",
   "execution_count": null,
   "metadata": {
    "collapsed": true
   },
   "outputs": [],
   "source": []
  }
 ],
 "metadata": {
  "kernelspec": {
   "display_name": "Python 3",
   "language": "python",
   "name": "python3"
  },
  "language_info": {
   "codemirror_mode": {
    "name": "ipython",
    "version": 3
   },
   "file_extension": ".py",
   "mimetype": "text/x-python",
   "name": "python",
   "nbconvert_exporter": "python",
   "pygments_lexer": "ipython3",
   "version": "3.6.2"
  }
 },
 "nbformat": 4,
 "nbformat_minor": 2
}
