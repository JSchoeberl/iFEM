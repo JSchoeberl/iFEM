{
 "cells": [
  {
   "cell_type": "markdown",
   "id": "4f1ad419-af84-42e9-a5ac-977cb45217d4",
   "metadata": {},
   "source": [
    "after Easter holidays we start with implementing finite elements. please help us and your colleagues getting the coding work smoothly.\n",
    "\n",
    "*BONUS POINT*. If you get notebook *24. Implementation* successfully running on your computer before Easter Sunday we give a bonus point for the exercises.\n",
    "\n",
    "\n",
    "please report on possible difficulties such that issues can be fixed in advance.\n"
   ]
  }
 ],
 "metadata": {
  "kernelspec": {
   "display_name": "Python 3 (ipykernel)",
   "language": "python",
   "name": "python3"
  },
  "language_info": {
   "codemirror_mode": {
    "name": "ipython",
    "version": 3
   },
   "file_extension": ".py",
   "mimetype": "text/x-python",
   "name": "python",
   "nbconvert_exporter": "python",
   "pygments_lexer": "ipython3",
   "version": "3.12.2"
  }
 },
 "nbformat": 4,
 "nbformat_minor": 5
}
