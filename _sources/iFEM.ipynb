{
 "cells": [
  {
   "cell_type": "markdown",
   "metadata": {},
   "source": [
    "An Interactive Introduction to the Finite Element Method\n",
    "===\n",
    "\n",
    "Joachim Schöberl, TU Wien"
   ]
  },
  {
   "cell_type": "markdown",
   "metadata": {},
   "source": [
    "[Preamble](preamble.ipynb)"
   ]
  },
  {
   "cell_type": "markdown",
   "metadata": {
    "collapsed": true,
    "jupyter": {
     "outputs_hidden": true
    }
   },
   "source": [
    "The Galerkin Method\n",
    "----\n",
    "* [Solving the Poisson Equation](primal/first_example.ipynb) \n",
    "* [Boundary conditions](primal/boundary_conditions.ipynb) \n",
    "* [Different materials](primal/subdomains.ipynb) \n",
    "* [Iterative solvers](primal/solvers.ipynb) "
   ]
  },
  {
   "cell_type": "markdown",
   "metadata": {
    "collapsed": true,
    "jupyter": {
     "outputs_hidden": true
    }
   },
   "source": [
    "Mixed Finite Element Methods\n",
    "--\n",
    "* [Stokes equation](mixed/stokes.ipynb)\n",
    "* [Boundary conditions](mixed/boundary.ipynb)\n",
    "* [Mixed methods for second order equations](mixed/secondorder.ipynb)\n",
    "* [Abstract theory](mixed/abstract.ipynb)\n",
    "* [Abstract theory for finite elements](mixed/abstractfem.ipynb)\n",
    "* [Parameter dependent problems](mixed/pardep.ipynb)"
   ]
  },
  {
   "cell_type": "markdown",
   "metadata": {
    "collapsed": true,
    "jupyter": {
     "outputs_hidden": true
    }
   },
   "source": [
    "Discontinuous Galerkin Methods\n",
    "--\n",
    "\n",
    "* [Stationary transport equation](DG/stationary.ipynb)\n",
    "* [Instationary transport equation](DG/instationary.ipynb)\n",
    "* [Nitsche's method](DG/Nitsche.ipynb)\n",
    "* [Hybrid DG for elliptic operators](DG/elliptic.ipynb)\n",
    "* [Splitting methods for time-dependent convection diffusion](DG/splitting.ipynb)\n",
    "* [Fourth order equation](DG/fourthorder.ipynb)\n",
    "* [H(div)-conforming Stokes](DG/stokes.ipynb)"
   ]
  },
  {
   "cell_type": "markdown",
   "metadata": {
    "collapsed": true,
    "jupyter": {
     "outputs_hidden": true
    }
   },
   "source": [
    "Mixed Methods for Second Order Equations\n",
    "---\n",
    "* [Application of the abstract theory](secondorder/framework.ipynb)\n",
    "* [The function space H(div)](secondorder/hdiv.ipynb)\n",
    "* [Finite elements for H(div)](secondorder/finiteelements.ipynb)\n",
    "* [Finite element error analysis](secondorder/erroranalysis.ipynb)\n",
    "* [Eror analysis in $L_2 \\times H^1$](secondorder/erroranalysisl2h1.ipynb)\n",
    "* [Hybridization techniques](secondorder/hybridization.ipynb)"
   ]
  },
  {
   "cell_type": "markdown",
   "metadata": {},
   "source": [
    "Mixed Methods for Elasticity\n",
    "---\n",
    "* [Hellinger Reissner Formulation](mixedelasticity/hellingerreissner.ipynb)\n",
    "* [Reduced symmetry Methods](mixedelasticity/reducedsymmetry.ipynb)\n",
    "* [The TDNNS method](mixedelasticity/tdnns.ipynb)\n",
    "* [TDNNS for non-linear dynamics](mixedelasticity/dynamics.ipynb)"
   ]
  },
  {
   "cell_type": "markdown",
   "metadata": {},
   "source": [
    "Mixed Methods for Plates and Shells\n",
    "---\n",
    "* [The Hellan Herrmann Johnson method](plates/hhj.ipynb)\n",
    "* [Relationship between HHJ and TDNNS](plates/hhj-tdnns.ipynb)\n",
    "* [TDNNS for Reissner Mindlin plates](plates/reissnermindlin.ipynb)\n",
    "* [3D-TDNNS and Reissner Mindlin elements](plates/tdnnsplate.ipynb)\n",
    "* [Nonlinear shells](plates/shells.ipynb)"
   ]
  },
  {
   "cell_type": "markdown",
   "metadata": {
    "collapsed": true,
    "jupyter": {
     "outputs_hidden": true
    }
   },
   "source": [
    "The Helmholtz equation\n",
    "---\n",
    "* [Absorbing boundary conditions](helmholtz/absorbing.ipynb)\n",
    "* [Grating](helmholtz/grating.ipynb)"
   ]
  },
  {
   "cell_type": "markdown",
   "metadata": {
    "collapsed": true,
    "jupyter": {
     "outputs_hidden": true
    }
   },
   "source": [
    "Iterative Solvers\n",
    "===\n",
    "Iteration Methods\n",
    "---\n",
    "\n",
    "* [Basic iterative methods](iterative/simple.ipynb)\n",
    "   - [The Richardson method](iterative/Richardson.ipynb) <br>\n",
    "   - [The Gradient method](iterative/gradientmethod.ipynb) <br>\n",
    "   - [Preconditioning](iterative/preconditioning.ipynb)\n",
    "* [Chebyshev method](iterative/Chebyshev.ipynb)\n",
    "* [Conjugate Gradients](iterative/conjugategradients.ipynb)\n",
    "\n",
    "\n",
    "Sub-space Correction Methods\n",
    "---\n",
    "- [Additive Schwarz Lemma](subspacecorrection/asm.ipynb)\n",
    "- [Examples for ASM preconditioners](subspacecorrection/examples.ipynb)\n",
    "- [Domain decomposition with minimal overlap](subspacecorrection/minimaldd.ipynb)\n",
    "- [Overlapping domain decomposition methods](subspacecorrection/overlapping.ipynb)\n",
    "\n",
    "Multigrid Methods\n",
    "---\n",
    "- [Algorithms](multigrid/algorithms.ipynb)\n",
    "- [Analysis of ML-preconditioner](multigrid/analysisML.ipynb)\n",
    "- [Analysis of MG-preconditioner](multigrid/analysisMG.ipynb)\n",
    "- [ML-extension operator](multigrid/multilevel-extension.ipynb)\n",
    "\n",
    "\n",
    "Saddle-point Problems\n",
    "---\n",
    "- [Structure of saddle-point problems](saddlepoint/structure.ipynb)\n",
    "- [Augmented Lagrangian](saddlepoint/augmented.ipynb)\n",
    "- [Bramble-Pasciak Transformation](saddlepoint/bramblepasciak.ipynb)\n",
    "- [Small number of constrainsts](saddlepoint/fewconstraints.ipynb)\n",
    "- [Parameter dependent problems](saddlepoint/parameterdependent.ipynb)\n",
    "\n",
    "\n",
    "\n",
    "Non-overlapping Domain Decomposition Methods\n",
    "---\n",
    "- [Introduction](domaindecomposition/introduction.ipynb)\n",
    "- [Trace spaces](domaindecomposition/traces.ipynb)\n",
    "- [FETI methods](domaindecomposition/FETI.ipynb)\n",
    "- [FETI-DP methods](domaindecomposition/FETI-DP.ipynb)\n",
    "- [BDDC preconditioner](domaindecomposition/BDDC.ipynb)\n",
    "\n",
    "Parallel Solvers\n",
    "---\n",
    "- [Introduction](MPIparallel/intro.ipynb)\n",
    "- [Distributing meshes and spaces](MPIparallel/distmesh.ipynb)\n",
    "- [Consistent and distributed vectors](MPIparallel/vectypes.ipynb)\n",
    "- [Iteration methods in parallel](MPIparallel/paralleliteration.ipynb)\n",
    "- [Using PETSc](MPIparallel/petsc.ipynb)\n",
    "- [The PETSc interface](MPIparallel/PETSc_interface.ipynb)\n",
    "- [Solving Stokes in parallel](MPIparallel/parallelstokes.ipynb)\n",
    "\n",
    "\n"
   ]
  },
  {
   "cell_type": "markdown",
   "metadata": {},
   "source": [
    "# Time-dependent Problems\n",
    "\n",
    "## A practical introduction\n",
    "- [Heat equation](timedependent/intro/heatequation.ipynb)\n",
    "- [Wave equation](timedependent/intro/waveequation.ipynb)\n",
    "- [Transport equation](DG/instationary.ipynb)\n",
    "\n",
    "\n",
    "## Ordinary differential equations\n",
    "- [Single step methods](timedependent/ODEs/singlestep.ipynb)\n",
    "- [Runge Kutta methods](timedependent/ODEs/runge_kutta.ipynb)\n",
    "- [Multistep methods]\n",
    "- [DG methods]\n",
    "\n",
    "## Numerical analysis of Parabolic Equations\n",
    "- [Classical analysis based on elliptic projectors]\n",
    "- [Space-time methods]\n",
    "- [Exponential integrators](timedependent/parabolic/exponential.ipynb)\n",
    "\n",
    "\n",
    "## Numerical analysis of Wave Equations\n",
    "- [Energy conservation]\n",
    "- [Explicit methods] (lumping, DG)\n",
    "- [Explicit DG](timedependent/waves/wave-leapfrogDG.ipynb)\n",
    "- [Local time-stepping](timedependent/waves/lts.ipynb)\n",
    "- [HHT, ...]\n",
    "\n",
    "## Additional methods\n",
    "- Splitting methods"
   ]
  },
  {
   "cell_type": "markdown",
   "metadata": {
    "collapsed": true,
    "jupyter": {
     "outputs_hidden": true
    }
   },
   "source": [
    "Appendix\n",
    "===\n",
    "\n",
    "Some inequalities in Sobolev spaces\n",
    "---\n",
    "- [Trace inequality](sobolev/trace.ipynb)\n",
    "- [Friedrichs' inequality](sobolev/friedrichs.ipynb)\n",
    "- [Poincaré inequality](sobolev/Poincare.ipynb)\n",
    "- [Equivalent Norms - Tartar's threorem](sobolev/tartar.ipynb)"
   ]
  },
  {
   "cell_type": "code",
   "execution_count": null,
   "metadata": {},
   "outputs": [],
   "source": []
  }
 ],
 "metadata": {
  "kernelspec": {
   "display_name": "Python 3 (ipykernel)",
   "language": "python",
   "name": "python3"
  },
  "language_info": {
   "codemirror_mode": {
    "name": "ipython",
    "version": 3
   },
   "file_extension": ".py",
   "mimetype": "text/x-python",
   "name": "python",
   "nbconvert_exporter": "python",
   "pygments_lexer": "ipython3",
   "version": "3.12.2"
  }
 },
 "nbformat": 4,
 "nbformat_minor": 4
}
