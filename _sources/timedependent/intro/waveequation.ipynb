{
 "cells": [
  {
   "cell_type": "markdown",
   "id": "0352c034",
   "metadata": {},
   "source": [
    "# Wave Equation\n",
    "\n",
    "We consider the wave equation as typical example of second order hyperbolic equation. In contrast to the heat equation, we has a second order time derivative:\n",
    "\n",
    "$$\n",
    "\\frac{\\partial^2 u}{\\partial t^2}(x,t) - \\Delta u(x,t) = f(x,t) \\qquad \\forall \\, x \\in \\Omega, \\forall t \\in (0,T)\n",
    "$$\n",
    "\n",
    "Since it is second order in time, we need two initial conditions, for the function itself and for the time derivative:\n",
    "\n",
    "\\begin{eqnarray*}\n",
    "u(x,0) & = & u_0(x)  \\\\\n",
    "\\frac{\\partial u}{\\partial t} (x,0) & = & v_0(x)\n",
    "\\end{eqnarray*}\n",
    "\n",
    "We proceed similar as for the heat equation\n",
    "* variational formulation in space\n",
    "* Galerkin approximation by the spatial basis\n",
    "\n",
    "and obtain the second order ODE:\n",
    "\n",
    "$$\n",
    "M \\ddot u(t) + A u(t) = f(t) \\qquad \\forall \\, t \\in (0,T)\n",
    "$$\n",
    "\n",
    "with initial conditions\n",
    "\n",
    "$$\n",
    "u(0) = u_0 \\qquad  \\text{and} \\qquad \\dot u(0) = v_0\n",
    "$$"
   ]
  },
  {
   "cell_type": "markdown",
   "id": "21fc7a12",
   "metadata": {},
   "source": [
    "## Newmark time-stepping method\n",
    "\n",
    "We reduce the second order ODE to a first order system. For this, we introduce the velocity function $v = \\dot u$:\n",
    "\n",
    "\\begin{eqnarray*}\n",
    "\\dot u & = & v \\\\\n",
    "M \\dot v & = & f - A u\n",
    "\\end{eqnarray*}\n",
    "\n",
    "Now we apply the trapezoidal rule for time-discretization:\n",
    "\n",
    "\\begin{eqnarray*}\n",
    "\\frac{u^j - u^{j-1}}{\\tau} & = & \\frac{v^j + v^{j-1}}{2} \\\\\n",
    "M \\frac{v^j - v^{j-1}}{\\tau} & = & \\frac{f^j+f^{j-1} - A (u^j+u^{j-1})}{2}\n",
    "\\end{eqnarray*}\n",
    "\n",
    "Expressing $u^j$ from the first equation, and inserting it into the second we obtain\n",
    "\n",
    "$$\n",
    "M \\frac{v^j - v^{j-1}}{\\tau} = \\frac{f^j+f^{j-1} - A (u^{j-1}+\\tfrac{\\tau}{2}(v^j+v^{j-1})+u^{j-1})}{2},\n",
    "$$\n",
    "\n",
    "and shifting the unknowns to the left we obtain a linear system for the update of velocity:\n",
    "\n",
    "$$\n",
    "(M + \\tfrac{\\tau^2}{4} A) (v^{j}-v^{j-1}) = \\tau \\left( \\tfrac{1}{2} (f^j + f^{j-1}) - A u^{j-1} - \\tfrac{\\tau}{2} A v^{j-1} \\right)\n",
    "$$\n",
    "\n",
    "Although by introducing the system of ODEs, the size of the linear system to solve did not increase."
   ]
  },
  {
   "cell_type": "code",
   "execution_count": null,
   "id": "a91725e8",
   "metadata": {},
   "outputs": [],
   "source": [
    "from ngsolve import *\n",
    "from ngsolve.webgui import Draw\n",
    "from netgen.occ import unit_square\n",
    "from time import sleep\n",
    "\n",
    "mesh = Mesh(unit_square.GenerateMesh(maxh=0.05))"
   ]
  },
  {
   "cell_type": "code",
   "execution_count": null,
   "id": "10982abc",
   "metadata": {},
   "outputs": [],
   "source": [
    "tau = 0.01\n",
    "tend = 10\n",
    "u0 = exp(-100*( (x-0.5)**2 + (y-0.5)**2))\n",
    "v0 = 0\n",
    "\n",
    "fes = H1(mesh, order=3)\n",
    "u,v = fes.TnT()\n",
    "mform = u*v*dx\n",
    "aform = grad(u)*grad(v)*dx\n",
    "\n",
    "m = BilinearForm(mform).Assemble()\n",
    "a = BilinearForm(aform).Assemble()\n",
    "mstar = BilinearForm(mform+tau**2/4*aform).Assemble()\n",
    "mstarinv = mstar.mat.Inverse()\n",
    "f = LinearForm(fes).Assemble()"
   ]
  },
  {
   "cell_type": "code",
   "execution_count": null,
   "id": "0b3a2032",
   "metadata": {},
   "outputs": [],
   "source": [
    "gfu = GridFunction(fes)\n",
    "gfv = GridFunction(fes)\n",
    "gfu.Set(u0)\n",
    "gfv.Set(u0)\n",
    "\n",
    "scene = Draw (gfu, deformation=True)\n",
    "sleep(2)\n",
    "\n",
    "for j in range(int(tend/tau)):\n",
    "    gfu.vec.data += tau/2 * gfv.vec\n",
    "    gfv.vec.data += tau * mstarinv * (f.vec - a.mat * gfu.vec)\n",
    "    gfu.vec.data += tau/2 * gfv.vec\n",
    "\n",
    "    scene.Redraw()\n",
    "    sleep(0.1)"
   ]
  },
  {
   "cell_type": "code",
   "execution_count": null,
   "id": "ad0e9876",
   "metadata": {},
   "outputs": [],
   "source": []
  }
 ],
 "metadata": {
  "kernelspec": {
   "display_name": "Python 3 (ipykernel)",
   "language": "python",
   "name": "python3"
  },
  "language_info": {
   "codemirror_mode": {
    "name": "ipython",
    "version": 3
   },
   "file_extension": ".py",
   "mimetype": "text/x-python",
   "name": "python",
   "nbconvert_exporter": "python",
   "pygments_lexer": "ipython3",
   "version": "3.12.1"
  }
 },
 "nbformat": 4,
 "nbformat_minor": 5
}
