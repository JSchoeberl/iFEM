{
 "cells": [
  {
   "cell_type": "code",
   "execution_count": null,
   "id": "77b59551",
   "metadata": {},
   "outputs": [],
   "source": [
    "# testnotebook\n",
    "\n",
    "adsf\n"
   ]
  },
  {
   "cell_type": "code",
   "execution_count": null,
   "id": "b47cf52c",
   "metadata": {},
   "outputs": [],
   "source": [
    "adsf"
   ]
  },
  {
   "cell_type": "code",
   "execution_count": null,
   "id": "37b66efd",
   "metadata": {},
   "outputs": [],
   "source": [
    "asdf"
   ]
  }
 ],
 "metadata": {
  "kernelspec": {
   "display_name": "Python 3 (ipykernel)",
   "language": "python",
   "name": "python3"
  },
  "language_info": {
   "codemirror_mode": {
    "name": "ipython",
    "version": 3
   },
   "file_extension": ".py",
   "mimetype": "text/x-python",
   "name": "python",
   "nbconvert_exporter": "python",
   "pygments_lexer": "ipython3",
   "version": "3.10.2"
  }
 },
 "nbformat": 4,
 "nbformat_minor": 5
}
