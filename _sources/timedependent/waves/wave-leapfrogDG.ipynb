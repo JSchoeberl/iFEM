{
 "cells": [
  {
   "cell_type": "markdown",
   "id": "98a4bf41",
   "metadata": {},
   "source": [
    "Discontinuous Galerkin for the Wave Equation\n",
    "===\n",
    "\n",
    "We solve the first order wave equation by a matrix-free explicit DG method:\n",
    "\n",
    "\\begin{eqnarray*}\n",
    "\\frac{\\partial p}{\\partial t} & = & \\operatorname{div} u \\\\\n",
    "\\frac{\\partial u}{\\partial t} & = & \\nabla p\n",
    "\\end{eqnarray*}\n",
    "\n",
    "\n",
    "We obtain the ODE \n",
    "\\begin{eqnarray*}\n",
    "M_p \\dot{p} & = & -B^T u \\\\\n",
    "M_u \\dot{u} & = & B p,\n",
    "\\end{eqnarray*}\n",
    "\n",
    "with mass-matrices $M_p$ and $M_u$, and the discretization matrix $B$ for the gradient, and $-B^T$ for the divergence. The exact solution of the ODE converses energy:\n",
    "\n",
    "\\begin{eqnarray*}\n",
    " \\frac{d}{dt} \\left( \\tfrac{1}{2} p^T M_p p + \\tfrac{1}{2} u^T M_u u \\right) & = & p^T M_p \\frac{d}{dt} p + u^T M_u \\frac{d}{dt} u \\\\\n",
    " & = & -p^T B^T u + u^T B p = 0 \n",
    "\\end{eqnarray*}\n",
    "\n",
    "A matrix $A$ is called symplectic if \n",
    "$$\n",
    "J A\n",
    "$$\n",
    "is symmetric, where $J = \\left( \\begin{array}{cc}0 & I \\\\ -I & 0 \\end{array} \\right)$. The right-hand side matrix $\\left( \\begin{array}{cc}0 & -B^T \\\\ B & 0 \\end{array} \\right)$ is symplectic.\n",
    "\n",
    "We want to want to use DG methods for reason of cheaply invertible mass matrices.\n",
    "\n",
    "The DG bilinear-form for the gradient is:\n",
    "\n",
    "$$\n",
    "b(p,v) = \\sum_{T}\n",
    "\\Big\\{ \\int_T \\nabla p  \\, v + \\int_{\\partial T} (\\{ p \\} - p) \\, v_n \\, ds \\Big\\},\n",
    "$$\n",
    "where $\\{ p \\}$ is the average of $p$ on the facet.\n",
    "\n",
    "This form is consistent for the grad as well as the div operator in the following sense: If we define \n",
    "$$\n",
    "b(p,v) = \\sum_{T}\n",
    "\\Big\\{ \\int_T \\nabla p  \\, v + \\alpha \\int_{\\partial T} (\\{ p \\} - p) \\, v_n \\, ds \\Big\\} \n",
    "$$\n",
    "for some $\\alpha \\in {\\mathbb R}$, the form is consistent for the gradient. If $p$ is globally continuous, then $p = \\{ p \\}$, and the boundary term cancels out, even for discontinuous test-functions $v$.\n",
    "\n",
    "\n",
    "From integration by parts we obtain\n",
    "\n",
    "\\begin{eqnarray}\n",
    "b(p,v) = \\sum_{T}\n",
    "\\Big\\{ -\\int_T p \\operatorname{div} \\, v + \n",
    "\\alpha \\int_{\\partial T} \\{ p \\} \\, v_n \\, ds +\n",
    "(1-\\alpha) \\int_{\\partial T}  p  v_n  \\, ds \\Big\\} = \n",
    "\\Big\\{ -\\int_T p \\operatorname{div} \\, v + \n",
    "\\alpha \\int_{\\partial T} p  \\, [ v_n ] \\, ds +\n",
    "(1-\\alpha) \\int_{\\partial T}  p  v_n  \\, ds \\Big\\},\n",
    "\\end{eqnarray}\n",
    "\n",
    "with the normal-jump $[v_n] := v_l n_l + v_r n_r$. If we choose $\\alpha = 1$, then the boundary terms cancel for normal-continuous $v $, even for discontinuous test-functions $p$.\n",
    "\n",
    "\n",
    "\n",
    "Literature: *Hesthaven+Warbuton*: Nodal Discontinuous Galerkin Methods"
   ]
  },
  {
   "cell_type": "markdown",
   "id": "fcb0bfdb",
   "metadata": {},
   "source": [
    "## Testing the differential operators"
   ]
  },
  {
   "cell_type": "code",
   "execution_count": 1,
   "id": "997d828d",
   "metadata": {},
   "outputs": [],
   "source": [
    "from ngsolve import *\n",
    "from ngsolve.webgui import Draw\n",
    "from netgen.occ import unit_square\n",
    "\n",
    "mesh = Mesh(unit_square.GenerateMesh(maxh=0.05))\n",
    "\n",
    "order = 5\n",
    "fes_pT = L2(mesh, order=order, all_dofs_together=True)\n",
    "fes_pF = FacetFESpace(mesh, order=order)\n",
    "\n",
    "fes_p = fes_pT * fes_pF\n",
    "fes_u = VectorL2(mesh, order=order, piola=True)\n",
    "\n",
    "# matrix computing average on facet from both sides: \n",
    "traceop = fes_pT.TraceOperator(fes_pF, average=True) \n",
    "\n",
    "(p,pF),(q,qF) = fes_p.TnT()\n",
    "u,v = fes_u.TnT()\n",
    "n = specialcf.normal(2)\n",
    "\n",
    "B = BilinearForm(trialspace=fes_p, testspace=fes_u)\n",
    "B += grad(p)*v * dx \n",
    "B += (pF-p)*(v*n) * dx(element_vb=BND)\n",
    "B.Assemble();"
   ]
  },
  {
   "cell_type": "markdown",
   "id": "43bde029",
   "metadata": {},
   "source": [
    "compute $u = \\nabla p$ via $u = M_u^{-1} B p$"
   ]
  },
  {
   "cell_type": "code",
   "execution_count": 2,
   "id": "f7bd421a",
   "metadata": {},
   "outputs": [
    {
     "data": {
      "application/vnd.jupyter.widget-view+json": {
       "model_id": "79deb399561a467d83b37ff869736664",
       "version_major": 2,
       "version_minor": 0
      },
      "text/plain": [
       "WebGuiWidget(layout=Layout(height='50vh', width='100%'), value={'gui_settings': {}, 'ngsolve_version': '6.2.23…"
      ]
     },
     "metadata": {},
     "output_type": "display_data"
    },
    {
     "data": {
      "application/vnd.jupyter.widget-view+json": {
       "model_id": "bd6e5f8a4e87479ca65a3d04cd53e02f",
       "version_major": 2,
       "version_minor": 0
      },
      "text/plain": [
       "WebGuiWidget(layout=Layout(height='50vh', width='100%'), value={'gui_settings': {}, 'ngsolve_version': '6.2.23…"
      ]
     },
     "metadata": {},
     "output_type": "display_data"
    }
   ],
   "source": [
    "gfu = GridFunction(fes_u)\n",
    "gfp = GridFunction(fes_p)\n",
    "\n",
    "gfpT, gfpF = gfp.components\n",
    "gfpT.Set( exp(-100*( (x-0.5)**2+(y-0.5)**2)))\n",
    "gfpF.vec.data = traceop * gfpT.vec   # setting the mean value\n",
    "\n",
    "Mu = BilinearForm(u*v*dx).Assemble()\n",
    "Mp = BilinearForm(p*q*dx + pF*qF*dx(element_vb=BND)).Assemble()\n",
    "invu = Mu.mat.Inverse()  # block-diagonal\n",
    "invp = Mp.mat.Inverse()  \n",
    "\n",
    "gfu.vec[:] = invu @ B.mat * gfp.vec\n",
    "Draw (gfpT)\n",
    "Draw (gfu[0], mesh);"
   ]
  },
  {
   "cell_type": "markdown",
   "id": "2b1b5a4f",
   "metadata": {},
   "source": [
    "vice versa: compute $p = -\\operatorname{div} u$ via $p = M_u^{-1} B^T u$ "
   ]
  },
  {
   "cell_type": "code",
   "execution_count": 3,
   "id": "c71c1b87",
   "metadata": {
    "scrolled": true
   },
   "outputs": [
    {
     "data": {
      "application/vnd.jupyter.widget-view+json": {
       "model_id": "fd772805e6854384b880e3244af9e9be",
       "version_major": 2,
       "version_minor": 0
      },
      "text/plain": [
       "WebGuiWidget(layout=Layout(height='50vh', width='100%'), value={'gui_settings': {}, 'ngsolve_version': '6.2.23…"
      ]
     },
     "metadata": {},
     "output_type": "display_data"
    }
   ],
   "source": [
    "gfu.Set( (exp(-100*( (x-0.5)**2+(y-0.5)**2)), 0))\n",
    "\n",
    "hv = (B.mat.T * gfu.vec).Evaluate()\n",
    "hv[fes_p.Range(0)] += traceop.T * hv[fes_p.Range(1)]\n",
    "gfp.vec[:] = invp * hv\n",
    "Draw (gfpT);"
   ]
  },
  {
   "cell_type": "markdown",
   "id": "b7fa5a6c",
   "metadata": {},
   "source": [
    "## Efficient implementation:\n",
    "\n",
    "* due to orthogonal basis on the reference element, mass-matrices a diagonal, FESpace provides efficient operator for $M^{-1}$. They are not diagonal anymore if elements are curved, or for non-constant coefficients. Efficient inverse anyway.\n",
    "\n",
    "* due to Piola-mapping of the vector-variable, element matrices are the same for all elements, and need to be stored just for the reference element ($F$ the Jacobian, and $J = \\det F$):\n",
    "$$\n",
    "\\int_T u \\cdot \\nabla p \\, dx = \\int_{\\hat T} J^{-1} F \\hat u \\cdot F^{-T} \\nabla \\hat p \\, J  d \\hat x = \\int_{\\hat T} \\hat u \\cdot \\nabla \\hat p \\, d\\hat x\n",
    "$$\n",
    "\n",
    "Thus, the huge memory requirement for storing matrices is completely avoided. On highly parallel processors the matrix-free version gets faster and faster in comparison to matrix-based implementations, since more and more computations can be done per memory-transfer."
   ]
  },
  {
   "cell_type": "markdown",
   "id": "bee9e872",
   "metadata": {},
   "source": [
    "## Solving the wave equation:"
   ]
  },
  {
   "cell_type": "code",
   "execution_count": 4,
   "id": "cbc8a79f",
   "metadata": {
    "scrolled": true
   },
   "outputs": [
    {
     "data": {
      "application/vnd.jupyter.widget-view+json": {
       "model_id": "af5326a985f94d549af65bb477261e2b",
       "version_major": 2,
       "version_minor": 0
      },
      "text/plain": [
       "WebGuiWidget(layout=Layout(height='50vh', width='100%'), value={'gui_settings': {}, 'ngsolve_version': '6.2.23…"
      ]
     },
     "metadata": {},
     "output_type": "display_data"
    }
   ],
   "source": [
    "from ngsolve import *\n",
    "from netgen.occ import *\n",
    "\n",
    "from ngsolve.webgui import Draw\n",
    "from netgen.webgui import Draw as DrawGeo\n",
    "\n",
    "dim = 3\n",
    "\n",
    "if dim==2:\n",
    "    rect = MoveTo(-1,-1).Rectangle(2,2).Face()\n",
    "    circ = Circle((0.5,0), 0.2).Face()\n",
    "    shape = rect-circ\n",
    "    DrawGeo(shape)\n",
    "    geo = OCCGeometry(shape, dim=2)\n",
    "    h = 0.02\n",
    "\n",
    "else:\n",
    "    box = Box((-1,-1,-1), (1,1,0))\n",
    "    sp = Sphere((0.5,0,0), 0.2)\n",
    "    shape = box-sp\n",
    "    geo = OCCGeometry(shape)\n",
    "    # from netgen.csg import *\n",
    "    # geo = CSGeometry()\n",
    "    # box = OrthoBrick (Pnt(-1,-1,-1), Pnt(1,1,0))\n",
    "    # hole = Sphere( Pnt(0.5, 0, 0), 0.2 )\n",
    "    # geo.Add ( (box-hole).bc(\"outer\"))\n",
    "    h = 0.1\n",
    "    \n",
    "    \n",
    "mesh = Mesh( geo.GenerateMesh(maxh=h))\n",
    "mesh.Curve(3)\n",
    "Draw(mesh);"
   ]
  },
  {
   "cell_type": "markdown",
   "id": "07496f83",
   "metadata": {},
   "source": [
    "A new component is the `TraceOperator`:\n",
    "\n",
    "Space provide geometry-free linear operators mapping form the element space to the face space. Face values can be averaged, or are summed up."
   ]
  },
  {
   "cell_type": "code",
   "execution_count": 5,
   "id": "19bd5a70",
   "metadata": {},
   "outputs": [
    {
     "name": "stdout",
     "output_type": "stream",
     "text": [
      "ndof_p =  650405 + 585960 , ndof_u = 1951215\n"
     ]
    }
   ],
   "source": [
    "order = 4\n",
    "fes_p = L2(mesh, order=order, all_dofs_together=True)\n",
    "fes_u = VectorL2(mesh, order=order, piola=True)\n",
    "fes_tr = FacetFESpace(mesh, order=order)\n",
    "\n",
    "print (\"ndof_p = \", fes_p.ndof, \"+\", fes_tr.ndof, \", ndof_u =\", fes_u.ndof)\n",
    "\n",
    "traceop = fes_p.TraceOperator(fes_tr, average=True) \n",
    "\n",
    "gfu = GridFunction(fes_u)\n",
    "gfp = GridFunction(fes_p)\n",
    "gftr = GridFunction(fes_tr)\n",
    "\n",
    "gfp.Interpolate( exp(-400*(x**2+y**2+z**2)))\n",
    "gftr.vec.data = traceop * gfp.vec"
   ]
  },
  {
   "cell_type": "code",
   "execution_count": 6,
   "id": "24eb1791",
   "metadata": {},
   "outputs": [
    {
     "data": {
      "application/vnd.jupyter.widget-view+json": {
       "model_id": "2bb862abbad344a789abe11524935970",
       "version_major": 2,
       "version_minor": 0
      },
      "text/plain": [
       "WebGuiWidget(layout=Layout(height='50vh', width='100%'), value={'gui_settings': {}, 'ngsolve_version': '6.2.23…"
      ]
     },
     "metadata": {},
     "output_type": "display_data"
    }
   ],
   "source": [
    "if dim == 2:\n",
    "    Draw (gfp, order=3)\n",
    "else:\n",
    "    gftr.vec.data = traceop * gfp.vec\n",
    "    Draw (gftr, draw_vol=False, order=3);"
   ]
  },
  {
   "cell_type": "code",
   "execution_count": 7,
   "id": "7820887f",
   "metadata": {},
   "outputs": [],
   "source": [
    "p = fes_p.TrialFunction()\n",
    "v = fes_u.TestFunction()\n",
    "phat = fes_tr.TrialFunction()\n",
    "\n",
    "n = specialcf.normal(mesh.dim)"
   ]
  },
  {
   "cell_type": "markdown",
   "id": "9b1bd627",
   "metadata": {},
   "source": [
    "We define bilinear-forms for the element-wise $p$, and for the facet-wise $p_{trace}$, the test-function is $v$. Thanks to the co-variant mapping of $v$, both forms are independent of element-geometry, and only one element matrix is calculated for the reference element(s): "
   ]
  },
  {
   "cell_type": "code",
   "execution_count": 8,
   "id": "eb83f004",
   "metadata": {},
   "outputs": [],
   "source": [
    "Bel = BilinearForm(trialspace=fes_p, testspace=fes_u, geom_free = True)\n",
    "Bel += grad(p)*v * dx -p*(v*n) * dx(element_boundary=True)\n",
    "Bel.Assemble()\n",
    "\n",
    "Btr = BilinearForm(trialspace=fes_tr, testspace=fes_u, geom_free = True)\n",
    "Btr += phat * (v*n) *dx(element_boundary=True)\n",
    "Btr.Assemble();"
   ]
  },
  {
   "cell_type": "markdown",
   "id": "47d2705a",
   "metadata": {},
   "source": [
    "Combine linear operators:"
   ]
  },
  {
   "cell_type": "code",
   "execution_count": 9,
   "id": "725e853a",
   "metadata": {},
   "outputs": [],
   "source": [
    "B = Bel.mat + Btr.mat @ traceop"
   ]
  },
  {
   "cell_type": "code",
   "execution_count": 10,
   "id": "c90bde12",
   "metadata": {},
   "outputs": [
    {
     "name": "stdout",
     "output_type": "stream",
     "text": [
      "Sum of\n",
      "Scale a = 1\n",
      "Print base-matrix\n",
      "Scale b = 1\n",
      "Print base-matrix\n",
      "\n",
      "SumMatrix, h = 1951215, w = 650405\n",
      "  ConstantEBEMatrix (bs = 105x35), h = 1951215, w = 650405\n",
      "  ConstantEBEMatrix (bs = 105x35), h = 1951215, w = 650405\n",
      "\n"
     ]
    }
   ],
   "source": [
    "print (Bel.mat)\n",
    "print (Bel.mat.GetOperatorInfo())"
   ]
  },
  {
   "cell_type": "markdown",
   "id": "fa7631c7",
   "metadata": {},
   "source": [
    "Inverse mass matrices: either (block)diagonal, or operator application via sum factorization:"
   ]
  },
  {
   "cell_type": "code",
   "execution_count": 11,
   "id": "b18c8834",
   "metadata": {},
   "outputs": [],
   "source": [
    "invmassp = fes_p.Mass(1).Inverse()\n",
    "invmassu = fes_u.Mass(1).Inverse()"
   ]
  },
  {
   "cell_type": "code",
   "execution_count": null,
   "id": "aec05549",
   "metadata": {},
   "outputs": [
    {
     "data": {
      "application/vnd.jupyter.widget-view+json": {
       "model_id": "0effc1e246ee47c3bb152b156989d2b9",
       "version_major": 2,
       "version_minor": 0
      },
      "text/plain": [
       "WebGuiWidget(layout=Layout(height='50vh', width='100%'), value={'gui_settings': {}, 'ngsolve_version': '6.2.23…"
      ]
     },
     "metadata": {},
     "output_type": "display_data"
    },
    {
     "name": "stdout",
     "output_type": "stream",
     "text": [
      "dt =  0.001\n"
     ]
    }
   ],
   "source": [
    "gfp.Interpolate( exp(-100*(x**2+y**2+z**2)))\n",
    "gfu.vec[:] = 0\n",
    "\n",
    "if dim == 2:\n",
    "    scene = Draw (gfp, order=3);\n",
    "else:\n",
    "    scene = Draw (gftr, draw_vol=False, order=3);\n",
    "\n",
    "t = 0\n",
    "tend = 20\n",
    "dt = 0.5 * h / (order+1)**2 / 2\n",
    "print (\"dt = \", dt)\n",
    "\n",
    "cnt = 0\n",
    "with TaskManager(): \n",
    "    while t < tend:\n",
    "        t = t+dt\n",
    "        gfu.vec.data += dt * invmassu @ B * gfp.vec\n",
    "        gfp.vec.data -= dt * invmassp @ B.T * gfu.vec\n",
    "        cnt = cnt+1\n",
    "        if cnt%10 == 0:\n",
    "            if dim == 3:\n",
    "                gftr.vec.data = traceop * gfp.vec\n",
    "            scene.Redraw()"
   ]
  },
  {
   "cell_type": "markdown",
   "id": "6ab7367f",
   "metadata": {},
   "source": [
    "# Eigenvalues of the discretized Laplace-operator\n",
    "\n",
    "Combining operators we obtain a discretization for the Laplace-operator:\n",
    "\n",
    "$$\n",
    "-\\Delta_h = B^T M_u^{-1} B,\n",
    "$$\n",
    "\n",
    "since $B \\approx \\nabla$ and $B^T \\approx -\\operatorname{div}$.\n",
    "\n",
    "If the fe-space for $u$ is too small, then $\\Delta_h$ gets additional zero - eigenvalues. We check that numerically by computing eigenvalues of $-\\Delta_h p = \\lambda M_p p$."
   ]
  },
  {
   "cell_type": "code",
   "execution_count": null,
   "id": "1f97fc3a",
   "metadata": {},
   "outputs": [],
   "source": [
    "Laplace = B.T @ invmassu @ B\n",
    "mass = fes_p.Mass(1)"
   ]
  },
  {
   "cell_type": "code",
   "execution_count": null,
   "id": "acc8e54a",
   "metadata": {},
   "outputs": [],
   "source": [
    "fes_p = L2(mesh, order=order, all_dofs_together=True, dgjumps=True)\n",
    "\n",
    "if fes_p.ndof > 50000:\n",
    "    raise Exception(\"come back with coarser mesh\")\n",
    "\n",
    "bfpre = BilinearForm(fes_p)\n",
    "p,q = fes_p.TnT()\n",
    "bfpre += grad(p)*grad(q)*dx + p*q*dx\n",
    "bfpre += 1/h*(p-p.Other())*(q-q.Other()) * dx(skeleton=True)\n",
    "\n",
    "with TaskManager():\n",
    "    bfpre.Assemble()\n",
    "    inv = bfpre.mat.Inverse(inverse=\"sparsecholesky\")"
   ]
  },
  {
   "cell_type": "markdown",
   "id": "9693461c",
   "metadata": {},
   "source": []
  },
  {
   "cell_type": "code",
   "execution_count": null,
   "id": "842bc98f",
   "metadata": {},
   "outputs": [],
   "source": [
    "from ngsolve.solvers import PINVIT\n",
    "with TaskManager():\n",
    "    eigensys = PINVIT(Laplace, mass, inv, num=8, maxit=50)"
   ]
  },
  {
   "cell_type": "code",
   "execution_count": null,
   "id": "7772a4cc",
   "metadata": {},
   "outputs": [],
   "source": [
    "lam, vecs = eigensys"
   ]
  },
  {
   "cell_type": "code",
   "execution_count": null,
   "id": "ee5a10cb",
   "metadata": {},
   "outputs": [],
   "source": [
    "gfp = GridFunction(fes_p)\n",
    "gfp.vec.data = vecs[2]\n",
    "Draw (gfp)"
   ]
  },
  {
   "cell_type": "code",
   "execution_count": null,
   "id": "0295a6c1",
   "metadata": {},
   "outputs": [],
   "source": [
    "help (PINVIT)"
   ]
  },
  {
   "cell_type": "markdown",
   "id": "82520ac5",
   "metadata": {},
   "source": [
    "# Exercise:\n",
    "\n",
    "* check conservation of energy over time\n",
    "\n",
    "* design some wave-guide: <br>\n",
    "A thin strip with (e.g. 2-times) higher refraction index, i.e. the coefficient in the coefficient of $M_p$. Start with a peak in the wave-guide, it should travel within the strip."
   ]
  },
  {
   "cell_type": "code",
   "execution_count": null,
   "id": "3564a73a",
   "metadata": {},
   "outputs": [],
   "source": []
  }
 ],
 "metadata": {
  "kernelspec": {
   "display_name": "Python 3 (ipykernel)",
   "language": "python",
   "name": "python3"
  },
  "language_info": {
   "codemirror_mode": {
    "name": "ipython",
    "version": 3
   },
   "file_extension": ".py",
   "mimetype": "text/x-python",
   "name": "python",
   "nbconvert_exporter": "python",
   "pygments_lexer": "ipython3",
   "version": "3.11.4"
  }
 },
 "nbformat": 4,
 "nbformat_minor": 5
}
