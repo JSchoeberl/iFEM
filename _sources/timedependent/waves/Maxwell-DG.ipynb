{
 "cells": [
  {
   "cell_type": "code",
   "execution_count": null,
   "id": "069bf8ff",
   "metadata": {},
   "outputs": [],
   "source": [
    "from ngsolve import *\n",
    "from ngsolve.webgui import Draw\n",
    "mesh = Mesh(unit_cube.GenerateMesh(maxh=0.1))"
   ]
  },
  {
   "cell_type": "code",
   "execution_count": null,
   "id": "e7af1bfa",
   "metadata": {},
   "outputs": [],
   "source": [
    "order=3\n",
    "fesc = VectorL2(mesh, order=order, covariant=True)\n",
    "festr = TangentialFacetFESpace(mesh, order=order )\n",
    "gfE = GridFunction(fesc)\n",
    "gfH = GridFunction(fesc)\n",
    "\n",
    "peak =  exp(-100 * ( (x-0.5)**2+(y-0.5)**2+(z-1)**2))\n",
    "gfE.Set ( (peak, 0, 0))"
   ]
  },
  {
   "cell_type": "code",
   "execution_count": null,
   "id": "3f5a67e5",
   "metadata": {},
   "outputs": [],
   "source": [
    "Draw (gfE, draw_surf=False)"
   ]
  },
  {
   "cell_type": "code",
   "execution_count": null,
   "id": "ed33c4cf",
   "metadata": {},
   "outputs": [],
   "source": [
    "traceop = ConvertOperator (fesc, festr) # , geom_free=True)\n",
    "\n",
    "gfEtr = GridFunction(festr)\n",
    "gfEtr.vec.data = traceop * gfE.vec"
   ]
  },
  {
   "cell_type": "code",
   "execution_count": null,
   "id": "ac6c00a9",
   "metadata": {},
   "outputs": [],
   "source": [
    "Draw (gfEtr, draw_vol=False)"
   ]
  },
  {
   "cell_type": "code",
   "execution_count": null,
   "id": "0f9e0748",
   "metadata": {},
   "outputs": [],
   "source": [
    "E,dE = fesc.TnT()\n",
    "H,dH = fesc.TnT()\n",
    "Ehat,dEhat = festr.TnT()\n",
    "\n",
    "n = specialcf.normal(3)\n",
    "\n",
    "Bel = BilinearForm(trialspace=fesc, testspace=fesc) # , geom_free = True)\n",
    "Bel += curl(E)*dE * dx # + E*Cross(dH,n) * dx(element_boundary=True)\n",
    "Bel.Assemble()\n",
    "\n",
    "Btr = BilinearForm(trialspace=festr, testspace=fesc) # , geom_free = True)\n",
    "# Btr += -Ehat * Cross(dH,n)*dx(element_boundary=True)\n",
    "Btr.Assemble()\n",
    "\n",
    "B = Bel.mat + Btr.mat @ traceop"
   ]
  },
  {
   "cell_type": "code",
   "execution_count": null,
   "id": "db17b5bb",
   "metadata": {},
   "outputs": [],
   "source": [
    "mass = BilinearForm(E*dE*dx).Assemble().mat\n",
    "invmass = mass.Inverse()\n",
    "# invmass = fesc.Mass(1).Inverse()\n"
   ]
  },
  {
   "cell_type": "code",
   "execution_count": null,
   "id": "0f1905ad",
   "metadata": {},
   "outputs": [],
   "source": [
    "# hv = gfE.vec.CreateVector()\n",
    "# hv[:] = Bel.mat * gfE.vec\n",
    "# print (\"norm hv = \", Norm(hv))\n",
    "\n",
    "gfH.vec[:] = invmass@B * gfE.vec\n",
    "print (\"norm E = \", Norm(gfE.vec))\n",
    "print (\"norm H = \", Norm(gfH.vec))\n",
    "gfHtr = GridFunction(festr)\n",
    "gfHtr.vec.data = traceop * gfH.vec\n",
    "\n",
    "Draw (gfHtr, draw_vol=False)"
   ]
  },
  {
   "cell_type": "code",
   "execution_count": null,
   "id": "f2109d7b",
   "metadata": {},
   "outputs": [],
   "source": []
  },
  {
   "cell_type": "code",
   "execution_count": null,
   "id": "6fc00df6",
   "metadata": {},
   "outputs": [],
   "source": []
  }
 ],
 "metadata": {
  "kernelspec": {
   "display_name": "Python 3 (ipykernel)",
   "language": "python",
   "name": "python3"
  },
  "language_info": {
   "codemirror_mode": {
    "name": "ipython",
    "version": 3
   },
   "file_extension": ".py",
   "mimetype": "text/x-python",
   "name": "python",
   "nbconvert_exporter": "python",
   "pygments_lexer": "ipython3",
   "version": "3.10.8"
  }
 },
 "nbformat": 4,
 "nbformat_minor": 5
}
