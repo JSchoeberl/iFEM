{
 "cells": [
  {
   "cell_type": "markdown",
   "id": "cac11624",
   "metadata": {},
   "source": [
    "# Nano-optics: A ring-resonator"
   ]
  },
  {
   "cell_type": "code",
   "execution_count": null,
   "id": "1f1f7232",
   "metadata": {},
   "outputs": [],
   "source": [
    "from ring_resonator_import import *\n",
    "from ngsolve import *\n",
    "from ngsolve.webgui import Draw"
   ]
  },
  {
   "cell_type": "code",
   "execution_count": null,
   "id": "3329024c",
   "metadata": {},
   "outputs": [],
   "source": [
    "Draw (mesh);"
   ]
  },
  {
   "cell_type": "code",
   "execution_count": null,
   "id": "fed7cb8f",
   "metadata": {},
   "outputs": [],
   "source": []
  },
  {
   "cell_type": "code",
   "execution_count": null,
   "id": "91178311",
   "metadata": {},
   "outputs": [],
   "source": [
    "scene = Draw (gfu.components[0], order=3, min=-0.05, max=0.05, autoscale=False)\n",
    "\n",
    "from time import time\n",
    "ts = time()\n",
    "with TaskManager(): \n",
    "    while t < tend:\n",
    "        w.data = -fullB.T * gfu.vec\n",
    "\n",
    "        ### time envelope for the src ################################################################\n",
    "        if abs((t-tpeak)/tpeak) < 1:\n",
    "           t_envelope = (2*exp(1)/sqrt(math.pi))*sin(2*math.pi*fcen*t)*exp (-1/(1-((t-tpeak)/tpeak)**2))\n",
    "        else:\n",
    "           t_envelope = 0\n",
    "\n",
    "        w.data += t_envelope*Lsrc.vec\n",
    "        w.data -= sigma * dampingp * gfu.vec\n",
    "        w.data -= emb_p @ Bstab.mat.T * gfstab.vec\n",
    "\n",
    "        gfu.vec.data += tau * invp * w\n",
    "        \n",
    "        w.data = fullB * gfu.vec\n",
    "        hvstab.data = Bstab.mat @ emb_p.T * gfu.vec\n",
    "        w.data -= sigma * dampingu * gfu.vec\n",
    "        \n",
    "        gfu.vec.data += tau * invu * w        \n",
    "        gfstab.vec.data += tau * Mstabinv * hvstab\n",
    "\n",
    "        t += tau\n",
    "        i += 1\n",
    "        if i%20 == 0:\n",
    "            scene.Redraw()\n",
    "\n",
    "\n",
    "print (\"total time\", time()-ts)"
   ]
  },
  {
   "cell_type": "markdown",
   "id": "e306b51a",
   "metadata": {},
   "source": [
    "B. Kapidani, J. Schöberl: **A matrix-free Discontinuous Galerkin method for the time dependent Maxwell equations in unbounded domains** (https://arxiv.org/abs/2002.08733)"
   ]
  },
  {
   "cell_type": "code",
   "execution_count": null,
   "id": "d4b6a45c",
   "metadata": {},
   "outputs": [],
   "source": [
    "t"
   ]
  },
  {
   "cell_type": "code",
   "execution_count": null,
   "id": "dc7028e7",
   "metadata": {},
   "outputs": [],
   "source": [
    "specialcf."
   ]
  }
 ],
 "metadata": {
  "kernelspec": {
   "display_name": "Python 3 (ipykernel)",
   "language": "python",
   "name": "python3"
  },
  "language_info": {
   "codemirror_mode": {
    "name": "ipython",
    "version": 3
   },
   "file_extension": ".py",
   "mimetype": "text/x-python",
   "name": "python",
   "nbconvert_exporter": "python",
   "pygments_lexer": "ipython3",
   "version": "3.10.8"
  }
 },
 "nbformat": 4,
 "nbformat_minor": 5
}
