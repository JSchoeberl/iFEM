{
 "cells": [
  {
   "cell_type": "markdown",
   "id": "cac11624",
   "metadata": {},
   "source": [
    "# Nano-optics: A ring-resonator"
   ]
  },
  {
   "cell_type": "code",
   "execution_count": 1,
   "id": "1f1f7232",
   "metadata": {},
   "outputs": [
    {
     "name": "stderr",
     "output_type": "stream",
     "text": [
      "WARNING: kwarg 'orderinner' is an undocumented flags option for class <class 'ngsolve.comp.HDiv'>, maybe there is a typo?\n"
     ]
    }
   ],
   "source": [
    "from ring_resonator_import import *\n",
    "from ngsolve import *\n",
    "from ngsolve.webgui import Draw"
   ]
  },
  {
   "cell_type": "code",
   "execution_count": 2,
   "id": "3329024c",
   "metadata": {},
   "outputs": [
    {
     "data": {
      "application/vnd.jupyter.widget-view+json": {
       "model_id": "cfe1b19011c34cb7a6c9146b6cfa71b2",
       "version_major": 2,
       "version_minor": 0
      },
      "text/plain": [
       "WebGuiWidget(layout=Layout(height='50vh', width='100%'), value={'gui_settings': {}, 'ngsolve_version': '6.2.23…"
      ]
     },
     "metadata": {},
     "output_type": "display_data"
    }
   ],
   "source": [
    "Draw (mesh);"
   ]
  },
  {
   "cell_type": "code",
   "execution_count": 3,
   "id": "91178311",
   "metadata": {},
   "outputs": [
    {
     "data": {
      "application/vnd.jupyter.widget-view+json": {
       "model_id": "3346b87f51de4fcab3c725e96e7a9e04",
       "version_major": 2,
       "version_minor": 0
      },
      "text/plain": [
       "WebGuiWidget(layout=Layout(height='50vh', width='100%'), value={'gui_settings': {}, 'ngsolve_version': '6.2.23…"
      ]
     },
     "metadata": {},
     "output_type": "display_data"
    },
    {
     "ename": "NameError",
     "evalue": "name 'Envelope' is not defined",
     "output_type": "error",
     "traceback": [
      "\u001b[0;31m---------------------------------------------------------------------------\u001b[0m",
      "\u001b[0;31mNameError\u001b[0m                                 Traceback (most recent call last)",
      "Input \u001b[0;32mIn [3]\u001b[0m, in \u001b[0;36m<cell line: 6>\u001b[0;34m()\u001b[0m\n\u001b[1;32m      7\u001b[0m \u001b[38;5;28;01mwhile\u001b[39;00m t \u001b[38;5;241m<\u001b[39m tend:\n\u001b[1;32m      8\u001b[0m     w\u001b[38;5;241m.\u001b[39mdata \u001b[38;5;241m=\u001b[39m \u001b[38;5;241m-\u001b[39mfullB\u001b[38;5;241m.\u001b[39mT \u001b[38;5;241m*\u001b[39m gfu\u001b[38;5;241m.\u001b[39mvec\n\u001b[0;32m----> 9\u001b[0m     w\u001b[38;5;241m.\u001b[39mdata \u001b[38;5;241m+\u001b[39m\u001b[38;5;241m=\u001b[39m \u001b[43mEnvelope\u001b[49m(t)\u001b[38;5;241m*\u001b[39mLsrc\u001b[38;5;241m.\u001b[39mvec\n\u001b[1;32m     10\u001b[0m     w\u001b[38;5;241m.\u001b[39mdata \u001b[38;5;241m-\u001b[39m\u001b[38;5;241m=\u001b[39m sigma \u001b[38;5;241m*\u001b[39m dampingp \u001b[38;5;241m*\u001b[39m gfu\u001b[38;5;241m.\u001b[39mvec\n\u001b[1;32m     11\u001b[0m     w\u001b[38;5;241m.\u001b[39mdata \u001b[38;5;241m-\u001b[39m\u001b[38;5;241m=\u001b[39m emb_p \u001b[38;5;241m@\u001b[39m Bstab\u001b[38;5;241m.\u001b[39mmat\u001b[38;5;241m.\u001b[39mT \u001b[38;5;241m*\u001b[39m gfstab\u001b[38;5;241m.\u001b[39mvec\n",
      "\u001b[0;31mNameError\u001b[0m: name 'Envelope' is not defined"
     ]
    }
   ],
   "source": [
    "scene = Draw (gfu.components[0], order=3, min=-0.05, max=0.05, autoscale=False)\n",
    "\n",
    "from time import time\n",
    "ts = time()\n",
    "i = 0\n",
    "with TaskManager(): \n",
    "    while t < tend:\n",
    "        w.data = -fullB.T * gfu.vec\n",
    "        w.data += Envelope(t)*Lsrc.vec\n",
    "        w.data -= sigma * dampingp * gfu.vec\n",
    "        w.data -= emb_p @ Bstab.mat.T * gfstab.vec\n",
    "\n",
    "        gfu.vec.data += tau * invp * w\n",
    "        \n",
    "        w.data = fullB * gfu.vec\n",
    "        w.data -= sigma * dampingu * gfu.vec\n",
    "        gfu.vec.data += tau * invu * w        \n",
    "\n",
    "        gfstab.vec.data += tau * Mstabinv@Bstab.mat@emb_p.T * gfu.vec\n",
    "\n",
    "        t += tau\n",
    "        i += 1\n",
    "        if i%20 == 0:\n",
    "            scene.Redraw()\n",
    "\n",
    "\n",
    "print (\"total time\", time()-ts)"
   ]
  },
  {
   "cell_type": "markdown",
   "id": "e306b51a",
   "metadata": {},
   "source": [
    "B. Kapidani, J. Schöberl: **A matrix-free Discontinuous Galerkin method for the time dependent Maxwell equations in unbounded domains** (https://arxiv.org/abs/2002.08733)"
   ]
  },
  {
   "cell_type": "code",
   "execution_count": null,
   "id": "9f02b5e8",
   "metadata": {},
   "outputs": [],
   "source": [
    "print (fullB.GetOperatorInfo())\n",
    "print (dampingu.GetOperatorInfo())\n",
    "print (dampingp.CreateDeviceMatrix().GetOperatorInfo())"
   ]
  },
  {
   "cell_type": "code",
   "execution_count": null,
   "id": "11663d78",
   "metadata": {},
   "outputs": [],
   "source": []
  }
 ],
 "metadata": {
  "kernelspec": {
   "display_name": "Python 3 (ipykernel)",
   "language": "python",
   "name": "python3"
  },
  "language_info": {
   "codemirror_mode": {
    "name": "ipython",
    "version": 3
   },
   "file_extension": ".py",
   "mimetype": "text/x-python",
   "name": "python",
   "nbconvert_exporter": "python",
   "pygments_lexer": "ipython3",
   "version": "3.10.8"
  }
 },
 "nbformat": 4,
 "nbformat_minor": 5
}
