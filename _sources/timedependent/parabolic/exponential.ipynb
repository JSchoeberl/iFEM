{
 "cells": [
  {
   "cell_type": "markdown",
   "id": "fa5b2ef3",
   "metadata": {},
   "source": [
    "# Exponential Integrators for Parabolic Equations\n",
    "\n",
    "Exponential integrators combine low order time-stepping methods to obtain high order in time.\n",
    "\n",
    "We consider the discretized linear homogeneous parabolic equation:\n",
    "\n",
    "$$\n",
    "M \\frac{d}{dt} u + A u = 0 \\qquad \\text{on} \\; [0,T]\n",
    "$$\n",
    "\n",
    "with $u(0) = u_0$. For the general case see  M. Hochbruck and A. Ostermann, *Exponential integrators*, Acta Numerical, p209-286, 2010.\n",
    "\n",
    "\n",
    "First, we perform $m$ steps of the implicit Euler method with time-step $\\tau = \\frac{T}{m}$:\n",
    "\n",
    "$$\n",
    "u_{i+1} = u_i - \\tau (M + \\tau A)^{-1} A u_i \\qquad 0 \\leq i < m\n",
    "$$\n",
    "\n",
    "We define the low dimensional space $V_m$ (of dimensions m+1) spanned by all time-steps:\n",
    "\n",
    "$$\n",
    "V_m = \\text{span} \\{ u_0, \\ldots u_m \\}\n",
    "$$\n",
    "\n",
    "The idea is that the true solution of the ODE can be well approximated in $V_m$. Thus, in the second step we perform a Galerkin discretization of the ODE in $V_m$:\n",
    "\n",
    "Find $u^m : [0,T] \\rightarrow V_m$ such that\n",
    "\n",
    "$$\n",
    "v^T M \\frac{d u^m}{dt} + v^T A u^m = 0 \\qquad \\forall \\, v \\in V_m\n",
    "$$\n",
    "\n",
    "For implementation, we put the $m+1$ basis vectors $u_i$ as column vectors into the representation matrix \n",
    "\n",
    "$$\n",
    "V_m = \\Big( u_0, u_1, \\ldots u_m \\Big)\n",
    "$$\n",
    "\n",
    "It is a high rectangular matrix of dimension $N \\times (m+1)$, where $N$ is the dimension of the FE - space.\n",
    "\n",
    "Every $u \\in V_m$ can be written as $V_m y$, with a short vector $y \\in {\\mathbb R}^{m+1}$, and test-functions $v = V_m z$. Thus, the Galerkin-solution in $V_m$ can be obtained via\n",
    "\n",
    "Find $y : [0,T] \\rightarrow {\\mathbb R}^{m+1}$:\n",
    "\n",
    "$$\n",
    "z^T V_m^T M V_m \\frac{d y}{dt} + V_m^T A V_m y = 0 \\qquad \\forall \\, z \\in {\\mathbb R}^{m+1}\n",
    "$$\n",
    "\n",
    "Since $u_0$ is in the space $V_m$, the initial condition can be represented as $u_0 = V_m y_0$.\n",
    "\n",
    "\n",
    "In short:\n",
    "\n",
    "$$\n",
    "M^s \\frac{d y}{dt} + A^s y = 0\n",
    "$$\n",
    "\n",
    "with the small matrices\n",
    "\n",
    "\\begin{eqnarray*}\n",
    "M^s & = & V_m^T M V_m \\\\\n",
    "A^s & = & V_m^T A V_m \\\\\n",
    "\\end{eqnarray*}\n",
    "\n",
    "This low-dimensional ODE can be solved exactly by its eigensystem.\n",
    "\n",
    "For implementation, there is a stability issue: Since all sample vectors $u_i$ are similar, the matrix $V_m$ is very ill-conditioned.\n",
    "Thus, the sample vectors must be orthogonalized (by Gram-Schmidt or QR - decomposition).\n"
   ]
  },
  {
   "cell_type": "code",
   "execution_count": 1,
   "id": "78a2fe91",
   "metadata": {},
   "outputs": [],
   "source": [
    "from ngsolve import *\n",
    "from ngsolve.webgui import Draw\n",
    "from netgen.occ import unit_square\n",
    "from time import sleep\n",
    "from scipy.linalg import eigh\n",
    "\n",
    "mesh = Mesh(unit_square.GenerateMesh(maxh=0.05))"
   ]
  },
  {
   "cell_type": "code",
   "execution_count": 2,
   "id": "2204743e",
   "metadata": {},
   "outputs": [],
   "source": [
    "u0 = exp(-100*( (x-0.5)**2 + (y-0.5)**2))\n",
    "\n",
    "fes = H1(mesh, order=4)\n",
    "u,v = fes.TnT()\n",
    "mform = u*v*dx\n",
    "aform = grad(u)*grad(v)*dx"
   ]
  },
  {
   "cell_type": "code",
   "execution_count": 3,
   "id": "a0fcd684",
   "metadata": {},
   "outputs": [],
   "source": [
    "def ExponentialPropagation (mform, aform, gfu, T, steps):\n",
    "    tau = T/steps\n",
    "    m = BilinearForm(mform).Assemble()\n",
    "    a = BilinearForm(aform).Assemble()\n",
    "    mstar = BilinearForm(mform+tau*aform).Assemble()\n",
    "    mstarinv = mstar.mat.Inverse()\n",
    "    un = gfu.vec.CreateVector(copy=True)\n",
    "    \n",
    "    vecs = MultiVector(un, 0)\n",
    "    vecs.Append (un)\n",
    "    for j in range(steps):\n",
    "        un.data += tau * mstarinv * (-a.mat * un)\n",
    "        vecs.Append (un)\n",
    "    \n",
    "    vecs.Orthogonalize(m.mat)\n",
    "    vecs.Orthogonalize(m.mat) # improves orthogonality\n",
    "\n",
    "    asmall = InnerProduct(vecs, a.mat * vecs)\n",
    "    msmall = InnerProduct(vecs, m.mat * vecs) # identity\n",
    "    \n",
    "    # print (\"msmall =\", msmall)\n",
    "    # print (\"asmall =\", asmall)\n",
    "    \n",
    "    lams,evec = eigh(asmall)\n",
    "    evec = Matrix(evec)\n",
    "    # print (lams, evec)\n",
    "    \n",
    "    mu0 = (m.mat*gfu.vec).Evaluate()\n",
    "    # u0s = InnerProduct(vecs, mu0)    # available since Feb 10, 2022\n",
    "    u0s = Vector([InnerProduct(mu0,v) for v in vecs])\n",
    "    u0s = evec.T * u0s\n",
    "    uTs = Vector([u0*exp(-lam*T) for u0,lam in zip(u0s,lams)])\n",
    "    uTs = evec * uTs\n",
    "    gfu.vec.data = vecs * uTs"
   ]
  },
  {
   "cell_type": "code",
   "execution_count": 4,
   "id": "c51eabe3",
   "metadata": {
    "scrolled": true
   },
   "outputs": [
    {
     "data": {
      "application/vnd.jupyter.widget-view+json": {
       "model_id": "a07d47d33cb84cc889e48f1d1537f0ec",
       "version_major": 2,
       "version_minor": 0
      },
      "text/plain": [
       "WebGuiWidget(value={'ngsolve_version': '6.2.2203-55-ge6a1832fc', 'mesh_dim': 2, 'order2d': 2, 'order3d': 2, 'd…"
      ]
     },
     "metadata": {},
     "output_type": "display_data"
    },
    {
     "data": {
      "application/vnd.jupyter.widget-view+json": {
       "model_id": "6a9d9b349708483a93a785f07e6238da",
       "version_major": 2,
       "version_minor": 0
      },
      "text/plain": [
       "WebGuiWidget(value={'ngsolve_version': '6.2.2203-55-ge6a1832fc', 'mesh_dim': 2, 'order2d': 2, 'order3d': 2, 'd…"
      ]
     },
     "metadata": {},
     "output_type": "display_data"
    }
   ],
   "source": [
    "gfu = GridFunction(fes)\n",
    "\n",
    "gfu.Set(u0)\n",
    "Draw (gfu)\n",
    "\n",
    "ExponentialPropagation (mform, aform, gfu, 0.02, 8)\n",
    "Draw (gfu);"
   ]
  },
  {
   "cell_type": "markdown",
   "id": "a4d77fc0",
   "metadata": {},
   "source": [
    "Convergence plot:"
   ]
  },
  {
   "cell_type": "code",
   "execution_count": 6,
   "id": "0c34121d",
   "metadata": {},
   "outputs": [
    {
     "name": "stdout",
     "output_type": "stream",
     "text": [
      "[0.20600328199376758, 0.06978025266715498, 0.03049776255121646, 0.011407488793323194, 0.0035849111823151934, 0.0007281408027218528, 0.00016400656081982313, 0.0002207732294693555, 0.00010127534375465337, 2.2105692323236415e-05, 6.378919613280206e-06, 7.240522273706592e-07, 7.612651755831167e-07, 4.143020583810261e-07, 1.8219274917452472e-07, 3.968077666128608e-08, 9.11208822466509e-09, 3.34534586041024e-09, 1.4499449472635008e-09]\n"
     ]
    }
   ],
   "source": [
    "Tend = 0.02\n",
    "mmax = 20\n",
    "gfuref = GridFunction(fes)\n",
    "gfuref.Set(u0)\n",
    "ExponentialPropagation (mform, aform, gfuref, Tend, mmax)\n",
    "\n",
    "err = []\n",
    "gfu = GridFunction(fes)\n",
    "for m in range(1,mmax):\n",
    "    gfu.Set(u0)\n",
    "    ExponentialPropagation (mform, aform, gfu, Tend, m)\n",
    "    err.append (Norm(gfu.vec-gfuref.vec))\n",
    "\n",
    "print (err)"
   ]
  },
  {
   "cell_type": "code",
   "execution_count": null,
   "id": "69980947",
   "metadata": {},
   "outputs": [],
   "source": [
    "%matplotlib inline\n",
    "import matplotlib.pyplot as plt\n",
    "plt.yscale('log')\n",
    "plt.xlabel(\"steps\")\n",
    "plt.ylabel(\"error\")\n",
    "plt.plot(err, \"-*\")"
   ]
  },
  {
   "cell_type": "code",
   "execution_count": null,
   "id": "582582ad",
   "metadata": {},
   "outputs": [],
   "source": []
  },
  {
   "cell_type": "code",
   "execution_count": null,
   "id": "94329047",
   "metadata": {},
   "outputs": [],
   "source": [
    "    "
   ]
  }
 ],
 "metadata": {
  "kernelspec": {
   "display_name": "Python 3 (ipykernel)",
   "language": "python",
   "name": "python3"
  },
  "language_info": {
   "codemirror_mode": {
    "name": "ipython",
    "version": 3
   },
   "file_extension": ".py",
   "mimetype": "text/x-python",
   "name": "python",
   "nbconvert_exporter": "python",
   "pygments_lexer": "ipython3",
   "version": "3.10.4"
  }
 },
 "nbformat": 4,
 "nbformat_minor": 5
}
