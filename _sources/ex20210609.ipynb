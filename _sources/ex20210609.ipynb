{
 "cells": [
  {
   "cell_type": "markdown",
   "id": "92971cf4",
   "metadata": {},
   "source": [
    "Implement a parallel BDDC preconditioner\n",
    "====\n",
    "\n",
    "Implement a MPI - parallel preconditioner\n",
    "\n",
    "$$\n",
    "C^{-1} = R \\widetilde A^{-1} R^T.\n",
    "$$\n",
    "\n",
    "where $R$ is an averaging operator across sub-domains, and $\\widetilde A$ consists of local inverses, and a coarse grid system.\n",
    "\n",
    "* Team A:<br>\n",
    "Implement the $R$ operator. Use bilinear-form $A(u,v) = \\int \\nabla u \\nabla v + \\frac{1}{H^2} u v$, and use local inverses for $\\widetilde A$.\n",
    "\n",
    "* Team B:<br>\n",
    "Use bilinear-form $A(u,v) = \\int \\nabla u \\nabla v$, and define and implement the $\\widetilde A^{-1}$. Add mean-values for every sub-domain interface $\\gamma_{ij}$ (one constant $u_{ij}$ per interface). Define the bilinear-form\n",
    "$$\n",
    "\\tilde A(u,v) = \\sum_{\\Omega_i} \\int_{\\Omega_i} \\nabla u \\nabla v + \\int_{\\partial \\Omega_i} \\frac{1}{H^2} (u_i - u_{ij}) (v_i - v_{ij})\n",
    "$$"
   ]
  },
  {
   "cell_type": "code",
   "execution_count": null,
   "id": "6588e2b7",
   "metadata": {},
   "outputs": [],
   "source": [
    "from ipyparallel import Client\n",
    "c = Client()\n",
    "c.ids"
   ]
  },
  {
   "cell_type": "code",
   "execution_count": null,
   "id": "d2e6920f",
   "metadata": {},
   "outputs": [],
   "source": [
    "%%px\n",
    "from mpi4py import MPI\n",
    "comm = MPI.COMM_WORLD\n",
    "\n",
    "from ngsolve import *\n",
    "\n",
    "from netgen.geom2d import unit_square\n",
    "comm = MPI.COMM_WORLD\n",
    "if comm.rank == 0:\n",
    "    mesh = Mesh(unit_square.GenerateMesh(maxh=0.05).Distribute(comm))\n",
    "else:\n",
    "    mesh = Mesh(netgen.meshing.Mesh.Receive(comm))"
   ]
  },
  {
   "cell_type": "code",
   "execution_count": null,
   "id": "e0df5e15",
   "metadata": {},
   "outputs": [],
   "source": [
    "%%px\n",
    "fes = H1(mesh, dirichlet='.*')\n",
    "u,v = fes.TnT()\n",
    "a = BilinearForm(grad(u)*grad(v)*dx + 0.001*u*v*dx).Assemble()\n",
    "f = LinearForm(10*x*v*dx).Assemble()\n",
    "gfu = GridFunction(fes)"
   ]
  },
  {
   "cell_type": "markdown",
   "id": "28077f6b",
   "metadata": {},
   "source": [
    "Building the R operator:"
   ]
  },
  {
   "cell_type": "code",
   "execution_count": null,
   "id": "7a2b5bd8",
   "metadata": {},
   "outputs": [],
   "source": [
    "%%px\n",
    "\n",
    "pardofs = fes.ParallelDofs()\n",
    "scaling = CreateVVector(pardofs.ndoflocal)\n",
    "for i in range(pardofs.ndoflocal):\n",
    "    scaling[i] = 1.0 / (1+len(pardofs.Dof2Proc(i)))\n",
    "# print (scaling)\n",
    "\n",
    "scalingmat = DiagonalMatrix(scaling)\n",
    "\n",
    "# input: local vector, output: consistent global vector\n",
    "def Averaging(x, y):\n",
    "    y.local_vec.data = scalingmat * x\n",
    "    y.SetParallelStatus(PARALLEL_STATUS.DISTRIBUTED)\n",
    "    y.Cumulate()\n",
    " \n",
    "# input: distributed vector, output: local vector\n",
    "def AveragingT(x,y):\n",
    "    x.Cumulate()   \n",
    "    y.data = scalingmat * x.local_vec"
   ]
  },
  {
   "cell_type": "markdown",
   "id": "0e935d60",
   "metadata": {},
   "source": [
    "Testing the averaging:"
   ]
  },
  {
   "cell_type": "code",
   "execution_count": null,
   "id": "39343a42",
   "metadata": {},
   "outputs": [],
   "source": [
    "%%px\n",
    "hv = gfu.vec.local_vec.CreateVector()\n",
    "hv.data = a.mat.local_mat.Inverse() * f.vec.local_vec\n",
    "Averaging (hv, gfu.vec)"
   ]
  },
  {
   "cell_type": "code",
   "execution_count": null,
   "id": "a839a8da",
   "metadata": {},
   "outputs": [],
   "source": [
    "%%px\n",
    "class ParallelPreconditioner(BaseMatrix):\n",
    "    def __init__ (self, atilde):\n",
    "        super().__init__()\n",
    "        self.atilde = atilde\n",
    "        self.inv = atilde.local_mat.Inverse()\n",
    "        \n",
    "    def Mult (self, x, y):\n",
    "        hv1 = x.local_vec.CreateVector()\n",
    "        hv2 = x.local_vec.CreateVector()\n",
    "        \n",
    "        AveragingT(x,hv1)\n",
    "        hv2.data = self.inv * hv1\n",
    "        Averaging(hv2, y)\n",
    "\n",
    "    def Shape (self):\n",
    "        return self.atilde.shape\n",
    "    def CreateVector (self, col):\n",
    "        return self.atilde.CreateVector(col)"
   ]
  },
  {
   "cell_type": "code",
   "execution_count": null,
   "id": "64126785",
   "metadata": {},
   "outputs": [],
   "source": [
    "%%px\n",
    "pre = ParallelPreconditioner(a.mat)\n",
    "\n",
    "from ngsolve.krylovspace import CGSolver\n",
    "inv = CGSolver(a.mat, pre, printrates=comm.rank==0)\n",
    "gfu.vec.data = inv * f.vec\n",
    "\n",
    "from ngsolve.la import EigenValues_Preconditioner\n",
    "lam = EigenValues_Preconditioner(a.mat, pre)\n",
    "if comm.rank == 0:\n",
    "    print (\"lam min/max = \", min(lam), max(lam))"
   ]
  },
  {
   "cell_type": "code",
   "execution_count": null,
   "id": "6dbce11b",
   "metadata": {
    "scrolled": true
   },
   "outputs": [],
   "source": [
    "from ngsolve.webgui import Draw\n",
    "\n",
    "gfu = c[:]['gfu']\n",
    "Draw(gfu[0]);"
   ]
  },
  {
   "cell_type": "code",
   "execution_count": null,
   "id": "1693d956",
   "metadata": {},
   "outputs": [],
   "source": [
    "%%px\n",
    "from ngsolve.la import ParallelDofs\n",
    "from ngsolve.la import SparseMatrixd\n",
    "\n",
    "pardofs = fes.ParallelDofs()\n",
    "exprocs = pardofs.ExchangeProcs()\n",
    "\n",
    "skel_dof2proc = [ [p] for p in exprocs]\n",
    "skel_pardofs = ParallelDofs(skel_dof2proc, comm)\n",
    "\n",
    "hmat = a.mat.local_mat.CreateMatrix()\n",
    "hmat.AsVector().data = a.mat.local_mat.AsVector()\n",
    "\n",
    "coupling = MultiVector(hmat.CreateVector(True), len(exprocs))\n",
    "couplingmat = BaseMatrix(coupling) # high rectangular\n",
    "for vec in coupling:\n",
    "    vec[:] = 0\n",
    "\n",
    "dense = Matrix(len(exprocs), len(exprocs))\n",
    "dense[:,:] = 0\n",
    "\n",
    "H = 1\n",
    "for nr, exproc in enumerate(exprocs):\n",
    "    for dof in pardofs.Proc2Dof(exproc):\n",
    "        hmat[dof,dof] += 1/H\n",
    "        coupling[nr][dof] += -1/H\n",
    "        dense[nr,nr] += 1/H\n",
    "        \n",
    "        \n",
    "hinv = hmat.Inverse()\n",
    "Schur = InnerProduct(coupling, hinv*coupling)\n",
    "dense -= Schur\n",
    "\n",
    "if comm.rank != 0:\n",
    "    coo = [(i,j,dense[i,j]) for i in range(dense.h) for j in range(dense.w)]\n",
    "    i,j,val = zip(*coo)\n",
    "else:\n",
    "    i,j,val = [], [], []\n",
    "    \n",
    "sparseschur = SparseMatrixd.CreateFromCOO(indi=list(i),indj=list(j),values=list(val), h=dense.h, w=dense.w)\n",
    "globschur = ParallelMatrix(sparseschur, skel_pardofs) \n",
    "globinv = globschur.Inverse()\n",
    "\n",
    "# dummypardofs = ParallelDofs([[]]*fes.ndof, comm)\n",
    "# globcoupling = ParallelMatrix(couplingmat, row_pardofs=skel_pardofs,\n",
    "#                              col_pardofs=dummypardofs)\n",
    "# ainv = hinv + globcouplingmat @ globinv @ globcouplingmat.T\n"
   ]
  },
  {
   "cell_type": "code",
   "execution_count": null,
   "id": "67a96fce",
   "metadata": {},
   "outputs": [],
   "source": [
    "%%px\n",
    "class ParallelPreconditioner2(BaseMatrix):\n",
    "    def __init__ (self, invloc, invglob, coupling):\n",
    "        super().__init__()\n",
    "        self.invloc = invloc\n",
    "        self.invglob = invglob\n",
    "        self.coupling = coupling\n",
    "        \n",
    "    def Mult (self, x, y):\n",
    "        hv1 = x.local_vec.CreateVector()\n",
    "        hv2 = x.local_vec.CreateVector()\n",
    "        hv1glob = self.invglob.CreateRowVector()\n",
    "        hv2glob = self.invglob.CreateColVector()\n",
    "        \n",
    "        AveragingT(x,hv1)\n",
    "        hv2.data = self.invloc * hv1\n",
    "        hv1glob.local_vec.data = self.coupling.T * hv1\n",
    "        hv2glob.data = self.invglob * hv1glob\n",
    "        hv2.data += self.coupling * hv2.local_vec\n",
    "        Averaging(hv2, y)\n",
    "\n",
    "    def Shape (self):\n",
    "        return self.atilde.shape\n",
    "    def CreateVector (self, col):\n",
    "        return self.atilde.CreateVector(col)"
   ]
  },
  {
   "cell_type": "code",
   "execution_count": null,
   "id": "24ed1089",
   "metadata": {},
   "outputs": [],
   "source": [
    "%%px\n",
    "pre = ParallelPreconditioner2(hinv, globinv, couplingmat)\n",
    "\n",
    "from ngsolve.krylovspace import CGSolver\n",
    "inv = CGSolver(a.mat, pre, printrates=comm.rank==0)\n",
    "gfu.vec.data = inv * f.vec\n",
    "\n",
    "from ngsolve.la import EigenValues_Preconditioner\n",
    "lam = EigenValues_Preconditioner(a.mat, pre)\n",
    "if comm.rank == 0:\n",
    "    print (\"lam min/max = \", min(lam), max(lam))"
   ]
  },
  {
   "cell_type": "code",
   "execution_count": null,
   "id": "07c6e6ef",
   "metadata": {},
   "outputs": [],
   "source": [
    "from ngsolve import *\n",
    "from ngsolve.la import *\n",
    "dir()"
   ]
  },
  {
   "cell_type": "code",
   "execution_count": null,
   "id": "d107ba9f",
   "metadata": {},
   "outputs": [],
   "source": []
  }
 ],
 "metadata": {
  "kernelspec": {
   "display_name": "Python 3 (ipykernel)",
   "language": "python",
   "name": "python3"
  },
  "language_info": {
   "codemirror_mode": {
    "name": "ipython",
    "version": 3
   },
   "file_extension": ".py",
   "mimetype": "text/x-python",
   "name": "python",
   "nbconvert_exporter": "python",
   "pygments_lexer": "ipython3",
   "version": "3.12.2"
  }
 },
 "nbformat": 4,
 "nbformat_minor": 5
}
