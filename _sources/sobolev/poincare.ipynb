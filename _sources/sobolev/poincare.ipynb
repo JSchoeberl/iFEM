{
 "cells": [
  {
   "cell_type": "markdown",
   "id": "hired-wright",
   "metadata": {},
   "source": [
    "The Poincaré inequality\n",
    "===\n",
    "\n",
    "$$\n",
    "\\| u \\|_{L_2(\\Omega)}^2 \\leq c \n",
    "\\left( \\| \\nabla u \\|_{L_2(\\Omega)}^2 + \\left(\\tfrac{1}{|\\Omega|} \\int_\\Omega u \\, dx \\right)^2 \\right)\n",
    "$$"
   ]
  },
  {
   "cell_type": "code",
   "execution_count": 1,
   "id": "baking-syndication",
   "metadata": {},
   "outputs": [
    {
     "name": "stdout",
     "output_type": "stream",
     "text": [
      "eigenvalues:  [1.0000000000000007, 9.869604494897487, 9.869604494897613, 19.739208989947937, 39.478769914585975]\n",
      "Norm of trace operator: ||tr||^2 =  0.9999999999999993\n"
     ]
    }
   ],
   "source": [
    "from ngsolve import *\n",
    "from ngsolve.meshes import MakeStructured2DMesh\n",
    "from ngsolve.webgui import Draw \n",
    "\n",
    "mesh = MakeStructured2DMesh(nx=10,ny=10, mapping = lambda x,y : (x,y))\n",
    "fes = H1(mesh, order=3)\n",
    "u,v = fes.TnT()\n",
    "\n",
    "L2Norm = BilinearForm(u*v*dx).Assemble()\n",
    "H1SemiNorm = BilinearForm(grad(u)*grad(v)*dx).Assemble()\n",
    "H1Norm = BilinearForm(grad(u)*grad(v)*dx+u*v*dx).Assemble()\n",
    "pre = H1Norm.mat.Inverse()\n",
    "\n",
    "vol = Integrate(1, mesh, VOL)\n",
    "meanvalue = LinearForm(1/vol*v*dx).Assemble()\n",
    "meanvalmat = BaseMatrix(meanvalue.vec)  # vector as N*1 matrix\n",
    "M = H1SemiNorm.mat + meanvalmat @ meanvalmat.T\n",
    "\n",
    "evals,evecs = solvers.PINVIT(M, L2Norm.mat, pre=pre, num=5, maxit=10, printrates=False)\n",
    "print (\"eigenvalues: \", list(evals))\n",
    "print (\"Norm of trace operator: ||tr||^2 = \", 1/evals[0])"
   ]
  },
  {
   "cell_type": "code",
   "execution_count": 2,
   "id": "actual-floating",
   "metadata": {},
   "outputs": [
    {
     "data": {
      "application/vnd.jupyter.widget-view+json": {
       "model_id": "4a83bb71848e47d8acf6e8b0e7544553",
       "version_major": 2,
       "version_minor": 0
      },
      "text/plain": [
       "WebGuiWidget(layout=Layout(height='50vh', width='100%'), value={'gui_settings': {}, 'ngsolve_version': '6.2.24…"
      ]
     },
     "metadata": {},
     "output_type": "display_data"
    },
    {
     "data": {
      "text/plain": [
       "BaseWebGuiScene"
      ]
     },
     "execution_count": 2,
     "metadata": {},
     "output_type": "execute_result"
    }
   ],
   "source": [
    "gfu = GridFunction(fes)\n",
    "gfu.vec.data = evecs[0]\n",
    "gfu.vec.data /= Integrate(gfu*dx, mesh) # normalize eigenfunction\n",
    "Draw (gfu, mesh)"
   ]
  },
  {
   "cell_type": "code",
   "execution_count": null,
   "id": "young-corporation",
   "metadata": {},
   "outputs": [],
   "source": []
  }
 ],
 "metadata": {
  "kernelspec": {
   "display_name": "Python 3 (ipykernel)",
   "language": "python",
   "name": "python3"
  },
  "language_info": {
   "codemirror_mode": {
    "name": "ipython",
    "version": 3
   },
   "file_extension": ".py",
   "mimetype": "text/x-python",
   "name": "python",
   "nbconvert_exporter": "python",
   "pygments_lexer": "ipython3",
   "version": "3.12.2"
  }
 },
 "nbformat": 4,
 "nbformat_minor": 5
}
