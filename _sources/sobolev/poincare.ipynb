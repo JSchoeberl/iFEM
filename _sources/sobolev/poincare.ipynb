{
 "cells": [
  {
   "cell_type": "markdown",
   "id": "hired-wright",
   "metadata": {},
   "source": [
    "The Poincaré inequality\n",
    "===\n",
    "\n",
    "$$\n",
    "\\| u \\|_{L_2(\\Omega)}^2 \\leq c \n",
    "\\left( \\| \\nabla u \\|_{L_2(\\Omega)}^2 + \\left(\\tfrac{1}{|\\Omega|} \\int_\\Omega u \\, dx \\right)^2 \\right)\n",
    "$$"
   ]
  },
  {
   "cell_type": "code",
   "execution_count": null,
   "id": "baking-syndication",
   "metadata": {},
   "outputs": [],
   "source": [
    "from ngsolve import *\n",
    "from ngsolve.meshes import MakeStructured2DMesh\n",
    "from ngsolve.webgui import Draw \n",
    "\n",
    "mesh = MakeStructured2DMesh(nx=10,ny=10, mapping = lambda x,y : (x,y))\n",
    "fes = H1(mesh, order=3)\n",
    "u,v = fes.TnT()\n",
    "\n",
    "L2Norm = BilinearForm(u*v*dx).Assemble()\n",
    "H1SemiNorm = BilinearForm(grad(u)*grad(v)*dx).Assemble()\n",
    "H1Norm = BilinearForm(grad(u)*grad(v)*dx+u*v*dx).Assemble()\n",
    "pre = H1Norm.mat.Inverse()\n",
    "\n",
    "vol = Integrate(1, mesh, VOL)\n",
    "meanvalue = LinearForm(1/vol*v*dx).Assemble()\n",
    "meanvalmat = BaseMatrix(meanvalue.vec)  # vector as N*1 matrix\n",
    "M = H1SemiNorm.mat + meanvalmat @ meanvalmat.T\n",
    "\n",
    "evals,evecs = solvers.PINVIT(M, L2Norm.mat, pre=pre, num=5, maxit=10, printrates=False)\n",
    "print (\"eigenvalues: \", list(evals))\n",
    "print (\"Norm of trace operator: ||tr||^2 = \", 1/evals[0])"
   ]
  },
  {
   "cell_type": "code",
   "execution_count": null,
   "id": "actual-floating",
   "metadata": {},
   "outputs": [],
   "source": [
    "gfu = GridFunction(fes)\n",
    "gfu.vec.data = evecs[0]\n",
    "gfu.vec.data /= Integrate(gfu*dx, mesh) # normalize eigenfunction\n",
    "Draw (gfu, mesh)"
   ]
  },
  {
   "cell_type": "code",
   "execution_count": null,
   "id": "young-corporation",
   "metadata": {},
   "outputs": [],
   "source": []
  }
 ],
 "metadata": {
  "kernelspec": {
   "display_name": "Python 3",
   "language": "python",
   "name": "python3"
  },
  "language_info": {
   "codemirror_mode": {
    "name": "ipython",
    "version": 3
   },
   "file_extension": ".py",
   "mimetype": "text/x-python",
   "name": "python",
   "nbconvert_exporter": "python",
   "pygments_lexer": "ipython3",
   "version": "3.9.2"
  }
 },
 "nbformat": 4,
 "nbformat_minor": 5
}
