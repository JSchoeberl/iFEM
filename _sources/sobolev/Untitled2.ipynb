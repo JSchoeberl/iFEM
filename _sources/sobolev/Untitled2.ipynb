{
 "cells": [
  {
   "cell_type": "markdown",
   "id": "abroad-budapest",
   "metadata": {},
   "source": [
    "Friedrichs' Inequality\n",
    "==="
   ]
  },
  {
   "cell_type": "markdown",
   "id": "banned-martin",
   "metadata": {},
   "source": [
    "Let $\\Omega \\subset {\\mathbb R}^d$ with a Lipschitz-continuous boundary, and $\\Gamma_D \\subset \\partial \\Omega$.\n",
    "\n",
    "$$\n",
    "\\| u \\|_{L_2(\\Omega)} \\leq c\\, \\| \\nabla u \\|_{L_2(\\Omega)}\n",
    "\\qquad \\forall \\, u \\in H^1(\\Omega),  \\, u_{|\\Gamma_D} = 0\n",
    "$$\n"
   ]
  },
  {
   "cell_type": "code",
   "execution_count": null,
   "id": "facial-mixer",
   "metadata": {},
   "outputs": [],
   "source": []
  }
 ],
 "metadata": {
  "kernelspec": {
   "display_name": "Python 3",
   "language": "python",
   "name": "python3"
  },
  "language_info": {
   "codemirror_mode": {
    "name": "ipython",
    "version": 3
   },
   "file_extension": ".py",
   "mimetype": "text/x-python",
   "name": "python",
   "nbconvert_exporter": "python",
   "pygments_lexer": "ipython3",
   "version": "3.9.2"
  }
 },
 "nbformat": 4,
 "nbformat_minor": 5
}
