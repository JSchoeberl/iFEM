{
 "cells": [
  {
   "cell_type": "markdown",
   "id": "middle-taxation",
   "metadata": {},
   "source": [
    "The Trace Inequality\n",
    "===\n",
    "\n",
    "Let $\\Omega \\subset {\\mathbb R}^d$ with a Lipschitz-continuous boundary. If $u \\in H^1(\\Omega)$, then $u$ has well-defined boundary\n",
    "values $u_{|\\partial \\Omega}$, called the trace of $u$. There holds\n",
    "\n",
    "$$\n",
    "\\| u_{|\\partial \\Omega} \\|_{L_2(\\partial \\Omega)} \\leq c \\, \\| u \\|_{H^1(\\Omega)}\n",
    "$$\n",
    "\n",
    "We call $\\operatorname{tr} : u \\mapsto u_{|\\partial \\Omega}$ the trace operator."
   ]
  },
  {
   "cell_type": "markdown",
   "id": "underlying-prince",
   "metadata": {},
   "source": [
    "Numerical verification\n",
    "---\n",
    "We setup two bilinear-forms\n",
    "\n",
    "\\begin{eqnarray*}\n",
    "T(u,v) & = & \\int_{\\partial \\Omega} u v \\, ds \\\\\n",
    "N(u,v) & = & \\int_{\\Omega} \\nabla u \\nabla v + u v \\; dx\n",
    "\\end{eqnarray*}\n",
    "\n",
    "for which there holds\n",
    "\n",
    "$$\n",
    "\\| \\operatorname{tr} \\|_{H^1(\\Omega)\\rightarrow L_2(\\partial\\Omega)}^2 = \\sup_{u \\in H^1} \\frac{T(u,u)}{N(u,u)}.\n",
    "$$\n",
    "\n",
    "Which is the largest eigenvalue of the generalized eigenvalue-problem\n",
    "\n",
    "$$\n",
    "T u = \\lambda N u,\n",
    "$$\n",
    "\n",
    "or the smallest eigenvalue of \n",
    "\n",
    "$$\n",
    "N u = \\frac{1}{\\lambda} T u.\n",
    "$$\n",
    "\n",
    "We use the PINVIT - algorithm in NGSolve to compute the smallest few eigenvalue of the last evp:"
   ]
  },
  {
   "cell_type": "code",
   "execution_count": null,
   "id": "sticky-southwest",
   "metadata": {},
   "outputs": [],
   "source": [
    "from ngsolve import *\n",
    "from ngsolve.meshes import MakeStructured2DMesh\n",
    "from ngsolve.webgui import Draw \n",
    "\n",
    "mesh = MakeStructured2DMesh(nx=10,ny=10, mapping = lambda x,y : (x,y))\n",
    "fes = H1(mesh, order=3)\n",
    "u,v = fes.TnT()\n",
    "\n",
    "H1Norm = BilinearForm(grad(u)*grad(v)*dx+10*u*v*dx).Assemble()\n",
    "TraceNorm = BilinearForm(u*v*ds).Assemble()\n",
    "pre = H1Norm.mat.Inverse()\n",
    "evals,evecs = solvers.PINVIT(H1Norm.mat, TraceNorm.mat, pre=pre, num=5, maxit=10, printrates=False)\n",
    "print (\"eigenvalues: \", list(evals))\n",
    "print (\"Norm of trace operator: ||tr||^2 = \", 1/evals[0])\n",
    "\n",
    "gfu = GridFunction(fes)\n",
    "gfu.vec.data = evecs[0]\n",
    "gfu.vec.data /= Integrate(gfu*dx, mesh) # normalize eigenfunction\n",
    "Draw (gfu, mesh)"
   ]
  },
  {
   "cell_type": "markdown",
   "id": "extended-replica",
   "metadata": {},
   "source": [
    "Do experiments with\n",
    "* the discretization parameters\n",
    "* scaling of the $\\nabla u \\nabla v$ and $u v$ terms in the $H^1$-norm\n",
    "* the domain size \n",
    "* if we scale the domain-size by a factor $a$, then we have to scale the norms as ... to obtain the same $\\| \\operatorname{tr} \\|$.\n",
    "* investigate the first and second eigenvalues"
   ]
  },
  {
   "cell_type": "markdown",
   "id": "mounted-nowhere",
   "metadata": {},
   "source": [
    "Proof of the trace inequality:\n",
    "---\n",
    "The construction of the trace operator follows the following plan:\n",
    "* We use that $C^1$ is dense in $H^1$. \n",
    "* We prove the inequality in $C^1$.\n",
    "* For $u \\in H^1$ we choose a sequence $(u_n)$ in $C^1$ such that\n",
    "$u_n \\rightarrow u$ in $H^1$.\n",
    "* This $(u_n)$ is a Cauchy-sequence in $H^1$-norm. Since the trace inequality is proven in $C^1$, the sequence $(u_{n|\\partial \\Omega})$ is Cauchy in $L_2(\\partial \\Omega)$.\n",
    "* Finally we define $u_{|\\partial \\Omega}$ as the limit of $(u_{n|\\partial \\Omega})$. It does not depend on the chosen approximation sequence.\n",
    "\n",
    "\n",
    "**Proof in 1D:** <br>\n",
    "Let $\\Omega = (0,a)$. Let $u \\in C^1(\\overline \\Omega)$. Define\n",
    "\n",
    "$$\n",
    "\\tilde u(x) = u(x) (1 - x/a)\n",
    "$$\n",
    "\n",
    "There is\n",
    "\n",
    "\\begin{eqnarray}\n",
    "|u(0)| & = & | \\, \\tilde u(0) - \\tilde u(a) \\, | \n",
    "  = \\Big| \\, \\int_0^a \\tilde u^\\prime(x) \\, dx  \\, \\Big| \\\\\n",
    "  & = & \\Big| \\, \\int_0^a u^\\prime(x) (1-x/a) + u(x) \\, (1-x/a)^\\prime \\, dx \\, \\Big| \\\\\n",
    "  & \\leq & \\| u^\\prime \\|_{L_2(0,a)} \\| (1-x/a) \\|_{L_2(0,a)}\n",
    "    + \\| u \\|_{L_2(0,a)} \\| 1/a \\|_{L_2(0,a)} \\\\\n",
    "    & \\leq & \\sqrt{a} \\, \\| u^\\prime \\|_{L_2(0,a)} + \\tfrac{1}{\\sqrt{a}} \\, \\| u \\|_{L_2(0,a)} \\qquad \\qquad \\Box\n",
    "\\end{eqnarray}\n",
    "\n",
    "The proof shows the scaling in the domain size."
   ]
  },
  {
   "cell_type": "markdown",
   "id": "interesting-shame",
   "metadata": {},
   "source": [
    "**Proof on the rectangle** <br>\n",
    "Let $\\Omega = (0,a) \\times (0,1)$, and $u \\in C^1(\\overline \\Omega)$.\n",
    "\n",
    "We use the 1D results for every fix $y \\in [0,1]$:\n",
    "\n",
    "$$\n",
    "| u(0,y) | \\leq \\sqrt{a} \\, \\| u^\\prime(\\cdot,y) \\|_{L_2(0,a)} + \\tfrac{1}{\\sqrt{a}} \\, \\| u(\\cdot,y) \\|_{L_2(0,a)}\n",
    "$$\n",
    "\n",
    "Integrating in $y$-direction and Fubini leads to \n",
    "\n",
    "\\begin{eqnarray}\n",
    "\\int_0^1 |u(0,y)|^2 \\, dy & \\leq & 2  a \\int_0^1 \\int_0^a | \\partial_x u(x,y) |^2  + \\frac{1}{a} \\int_0^1 \\int_0^a |u(x,y)|^2\n",
    "\\end{eqnarray}\n",
    "\n",
    "i.e.\n",
    "\n",
    "$$\n",
    "\\| u(0,\\cdot) \\|_{L_2} \\leq \\sqrt{a} \\, \\| \\nabla u \\|_{L_2(\\Omega)} \n",
    "+ \\frac{1}{\\sqrt{a}}  \\, \\| u \\|_{L_2(\\Omega)}\n",
    "$$\n",
    "\n",
    "The same proof generalizes for $\\Omega \\subset {\\mathbb R}^d$."
   ]
  },
  {
   "cell_type": "markdown",
   "id": "decent-carry",
   "metadata": {},
   "source": [
    "**Proof on general domains in ${\\mathbb R}^d$** <br>\n",
    "We use a mapping from the rectangle into the domain, such that the left boundary of the rectangle ends up the the boundary of $\\Omega$. We need a mapping such $\\Phi$ that $\\nabla \\Phi$ and $(\\nabla \\Phi)^{-1}$ is bounded. Then we can transform and estimate norms between the rectangle and the general domain."
   ]
  },
  {
   "cell_type": "code",
   "execution_count": null,
   "id": "complex-budget",
   "metadata": {},
   "outputs": [],
   "source": []
  }
 ],
 "metadata": {
  "kernelspec": {
   "display_name": "Python 3",
   "language": "python",
   "name": "python3"
  },
  "language_info": {
   "codemirror_mode": {
    "name": "ipython",
    "version": 3
   },
   "file_extension": ".py",
   "mimetype": "text/x-python",
   "name": "python",
   "nbconvert_exporter": "python",
   "pygments_lexer": "ipython3",
   "version": "3.9.2"
  }
 },
 "nbformat": 4,
 "nbformat_minor": 5
}
