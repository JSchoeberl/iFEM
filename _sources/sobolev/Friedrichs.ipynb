{
 "cells": [
  {
   "cell_type": "markdown",
   "id": "damaged-detail",
   "metadata": {},
   "source": [
    "Friedrichs' Inequality\n",
    "==="
   ]
  },
  {
   "cell_type": "markdown",
   "id": "approved-people",
   "metadata": {},
   "source": [
    "Let $\\Omega \\subset {\\mathbb R}^d$ with a Lipschitz-continuous boundary, and $\\Gamma_D \\subset \\partial \\Omega$ with positive measure.\n",
    "\n",
    "$$\n",
    "\\| u \\|_{L_2(\\Omega)} \\leq c_F\\, \\| \\nabla u \\|_{L_2(\\Omega)}\n",
    "\\qquad \\forall \\, u \\in H^1(\\Omega),  \\, u_{|\\Gamma_D} = 0\n",
    "$$\n"
   ]
  },
  {
   "cell_type": "code",
   "execution_count": null,
   "id": "yellow-saint",
   "metadata": {},
   "outputs": [],
   "source": [
    "from ngsolve import *\n",
    "from ngsolve.meshes import MakeStructured2DMesh\n",
    "from ngsolve.webgui import Draw \n",
    "\n",
    "mesh = MakeStructured2DMesh(nx=10,ny=10, mapping = lambda x,y : (x,y))\n",
    "fes = H1(mesh, order=3, dirichlet=\"left|right\")\n",
    "u,v = fes.TnT()\n",
    "\n",
    "H1SemiNorm = BilinearForm(grad(u)*grad(v)*dx).Assemble()\n",
    "L2Norm = BilinearForm(u*v*dx).Assemble()\n",
    "pre = H1SemiNorm.mat.Inverse(freedofs=fes.FreeDofs())\n",
    "evals,evecs = solvers.PINVIT(H1SemiNorm.mat, L2Norm.mat, pre=pre, num=5, maxit=10, printrates=False)\n",
    "print (\"eigenvalues: \", list(evals))\n",
    "print (\"sqrt(lam1) = \", sqrt(evals[0]))\n",
    "print (\"Friedrichs' constant: c_F^2 = \", 1/evals[0])\n",
    "\n",
    "gfu = GridFunction(fes)\n",
    "gfu.vec.data = evecs[0]\n",
    "gfu.vec.data /= Integrate(gfu*dx, mesh) # normalize eigenfunction\n",
    "Draw (gfu, mesh)"
   ]
  },
  {
   "cell_type": "markdown",
   "id": "documentary-letter",
   "metadata": {},
   "source": [
    "We observe that the constant improves if the Dirichlet boundary gets larger."
   ]
  },
  {
   "cell_type": "markdown",
   "id": "streaming-brain",
   "metadata": {},
   "source": [
    "**Proof in 1D** <br>\n",
    "$\\Omega = (0,a)$ and $u \\in C^1(\\overline \\Omega)$ with $u(0)=0$.\n",
    "\n",
    "Then\n",
    "\\begin{eqnarray}\n",
    "u(x) & = & \\int_0^x u^\\prime(s) \\, ds \n",
    "   \\leq   \\sqrt{x} \\; \\| u^\\prime \\|_{L_2(0,x)} \\\n",
    "\\end{eqnarray}\n",
    "\n",
    "and thus\n",
    "\n",
    "\\begin{eqnarray*}\n",
    "\\int_0^a | u(x) |^2 \\, dx & \\leq & \\int_0^a x \\, dx \\; \\| u^\\prime \\|_{L_2(0,a)}^2 \n",
    "\\leq \\tfrac{a^2}{2} \\, \\| u^\\prime \\|_{L_2(0,a)}^2\n",
    "\\end{eqnarray*}"
   ]
  },
  {
   "cell_type": "code",
   "execution_count": null,
   "id": "constant-registrar",
   "metadata": {},
   "outputs": [],
   "source": []
  }
 ],
 "metadata": {
  "kernelspec": {
   "display_name": "Python 3 (ipykernel)",
   "language": "python",
   "name": "python3"
  },
  "language_info": {
   "codemirror_mode": {
    "name": "ipython",
    "version": 3
   },
   "file_extension": ".py",
   "mimetype": "text/x-python",
   "name": "python",
   "nbconvert_exporter": "python",
   "pygments_lexer": "ipython3",
   "version": "3.10.2"
  }
 },
 "nbformat": 4,
 "nbformat_minor": 5
}
