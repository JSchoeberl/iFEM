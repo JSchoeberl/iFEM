{
 "cells": [
  {
   "cell_type": "markdown",
   "metadata": {},
   "source": [
    "$\\DeclareMathOperator{\\opdiv}{div}$\n",
    "\n",
    "Error Analysis in $L_2 \\times H^1$\n",
    "===\n",
    "\n",
    "The variational formulation is understood as mixed formulation either in $H(\\opdiv) \\times L_2$, or in $[L_2]^2 \\times H^1$. Formally, both formulations are equivalent. \n",
    "\n",
    "Next, we play the following game:\n",
    "* Use the finite elements $RT_k \\times P^k$ of the $H\\opdiv) \\times L_2$ formulation\n",
    "* Mimic the $L_2 \\times H^1$ setting for the error analysis \n",
    "\n",
    "We use the norms on $\\Sigma_h$ and $V_h$:\n",
    "\n",
    "\\begin{eqnarray*}\n",
    "\\| \\sigma_h \\|_{\\Sigma_h}^2 & = & \\| \\sigma_h \\|_{L_2}^2 \\\\\n",
    "\\| v_h \\|_{V_h}^2 & = & \\sum_T \\| \\nabla v_h \\|_{L_2(T)}^2 + \\sum_E \\frac{1}{h} \\| [v_h ] \\|_{L_2(E)}^2\n",
    "\\end{eqnarray*}\n",
    "\n",
    "The jump-terms over edges compensate the missing $H^1$-continuity.\n",
    "\n",
    "\n",
    "The infinit-dimensional LBB - condition for the $L_2-H^1$ setting is trivial: \n",
    "\n",
    "$$\n",
    "\\sup_{\\sigma \\in [L_2]^2} \\frac{\\int \\sigma \\nabla u}{\\| \\sigma \\|_{L_2}} \\geq \\| \\nabla u \\|_{L_2}\n",
    "$$\n",
    "\n",
    "Just take the candidate $\\sigma = \\nabla u$."
   ]
  },
  {
   "cell_type": "markdown",
   "metadata": {},
   "source": [
    "This construction we can mimic for the $RT_k-P^k$ elements. We give the proof for the lowest order elements:\n",
    "\n",
    "Given an $u_h \\in P^0$. Choose a discrete candidate $\\sigma_h$ such that\n",
    "\n",
    "$$\n",
    "\\sigma_h \\cdot n = \\frac{1}{h} [u_h]\n",
    "$$\n",
    "\n",
    "Thus\n",
    "\n",
    "$$\n",
    "\\frac{\\sum_T \\int_T \\opdiv \\sigma_h u_h}{ \\| \\sigma_h \\|_{L_2} } \n",
    "= \n",
    "\\frac{\\sum_T \\int_{\\partial T} \\sigma_h\\cdot n \\; u_h}{ \\| \\sigma_h \\|_{L_2} }\n",
    "=\n",
    "\\frac{\\sum_E \\int_E \\frac{1}{h} [u_h]^2}{ \\| \\sigma_h \\|_{L_2} }\n",
    "\\approx\n",
    "\\sum_E \\frac{1}{h} \\| [u_h] \\|_E^2\n",
    "$$\n",
    "\n",
    "We used that $\\| \\sigma_h \\|_{L_2(\\Omega)}^2 \\approx \\sum_E h \\| \\sigma_h \\cdot n \\|_{L_2(E)}^2 \\approx \\sum_E  \\frac{1}{h} \\| [u_h] \\|_{L_2(E)}$, what is proven by scaling arguments.\n",
    "\n",
    "The rest of the error analyis follows the lines of the $H(\\opdiv) \\times L_2$ analysis."
   ]
  },
  {
   "cell_type": "code",
   "execution_count": null,
   "metadata": {},
   "outputs": [],
   "source": []
  },
  {
   "cell_type": "code",
   "execution_count": null,
   "metadata": {},
   "outputs": [],
   "source": []
  }
 ],
 "metadata": {
  "kernelspec": {
   "display_name": "Python 3 (ipykernel)",
   "language": "python",
   "name": "python3"
  },
  "language_info": {
   "codemirror_mode": {
    "name": "ipython",
    "version": 3
   },
   "file_extension": ".py",
   "mimetype": "text/x-python",
   "name": "python",
   "nbconvert_exporter": "python",
   "pygments_lexer": "ipython3",
   "version": "3.10.2"
  }
 },
 "nbformat": 4,
 "nbformat_minor": 2
}
