{
 "cells": [
  {
   "cell_type": "markdown",
   "metadata": {},
   "source": [
    "$\\DeclareMathOperator{\\opdiv}{div}$\n",
    "\n",
    "Hybridization Techniques\n",
    "===\n",
    "\n",
    "Discretizing an elliptic equation by a primal method leads to a positive definite matrix. Using a mixed method leads to a saddle point problem. This disadvantage can be overcome by the so called hybridization technique:\n",
    "\n",
    "The idea is as follows: Break the normal-continuity of the RT - space, and reinforce it by another Lagrange parameter. This new Lagrange parameter is a polynomial on every mesh edge (or face, in 3D). \n",
    "\n",
    "The variational formulation is as follows:\n",
    "\n",
    "Find: $\\sigma_h \\in RT_k^{dc}, u_h \\in P^k, \\widehat u_h \\in P^k(\\cup E)$ such that\n",
    "\n",
    "$$\n",
    "\\begin{array}{ccccccl}\n",
    "\\int_\\Omega \\sigma_h \\tau_h & + & \\sum_T \\int_T \\opdiv \\tau_h \\, u_h & + & \\sum_E \\int_E [\\tau_{h,n}] \\widehat u_h & = & 0 & \\forall \\, \\tau_h \\\\\n",
    "\\sum_T \\int_T \\opdiv \\sigma_h \\, v_h & & & & & = & \\int f v_h & \\forall \\, v_h \\\\\n",
    "\\sum_E \\int_E [\\sigma_{h,n}] \\widehat v_h & & & & & = & 0 & \\forall \\,  \\widehat v_h\n",
    "\\end{array}\n",
    "$$\n",
    "\n",
    "This formulation gives the same solution as the mixed formulation, so we don't need an extra error analysis\n",
    "\n",
    "The physical meaning of the Lagrange paramter $\\widehat u_h$ is the primal variable, what can be seen by integration by parts of the first  equation.\n",
    "\n",
    "Now, Dirichlet boundary conditions are set by constraining the $\\widehat u$ on the Dirichlet boundary, and Neumann boundary conditions are formulated by $\\int_{\\Gamma_N} g \\widehat v$. The hybridized formulation is thus similar to a primal method.\n",
    "\n",
    "The discretization system has the form\n",
    "\n",
    "$$\n",
    "\\left( \\begin{array}{ccc}\n",
    "A & B_1^T & B_2^T \\\\\n",
    "B_1 & & \\\\\n",
    "B_2 & & \n",
    "\\end{array} \\right)\n",
    "\\left( \\begin{array}{c}\n",
    "\\sigma \\\\ u_1 \\\\ u_2 \n",
    "\\end{array} \\right)\n",
    "=\n",
    "\\left( \\begin{array}{c}\n",
    "0 \\\\ f \\\\ 0\n",
    "\\end{array} \\right)\n",
    "$$\n",
    "\n",
    "The submatrix \n",
    "\n",
    "$$\n",
    "\\left( \\begin{array}{cc}\n",
    "A & B_1^T \\\\\n",
    "B_1 & 0\n",
    "\\end{array} \\right)\n",
    "$$\n",
    "\n",
    "is regular and block-diagonal, each block corresponds to an element. Thus it can be cheaply inverted.\n",
    "\n",
    "If $u_2$ were known, we could compute the first to variables from $u_2$:\n",
    "\n",
    "$$\n",
    "\\left( \\begin{array}{c}\n",
    "\\sigma \\\\ u_1\n",
    "\\end{array} \\right)\n",
    "= \n",
    "\\left( \\begin{array}{cc}\n",
    "A & B_1^T \\\\\n",
    "B_1\n",
    "\\end{array} \\right)^{-1} \n",
    "\\left[\n",
    "\\left( \\begin{array}{c} 0 \\\\ f \\end{array} \\right)\n",
    "- \\left( \\begin{array}{c} B_2^T \\\\ 0 \\end{array} \\right) u_2 \n",
    "\\right]\n",
    "$$\n",
    "\n",
    "Plug this term into the third equation $B_2 \\sigma = 0$ we obtain the system\n",
    "\n",
    "$$\n",
    "\\left( B_2 \\; \\; 0 \\right)\n",
    "\\left( \\begin{array}{cc}\n",
    "A & B_1^T \\\\\n",
    "B_1\n",
    "\\end{array} \\right)^{-1} \n",
    "\\left( \\begin{array}{c} B_2^T \\\\ 0 \\end{array} \\right)\n",
    "\\; \\; u_2 = \n",
    "\\left( B_2 \\; \\; 0 \\right)\n",
    "\\left( \\begin{array}{cc}\n",
    "A & B_1^T \\\\\n",
    "B_1\n",
    "\\end{array} \\right)^{-1} \n",
    "\\left( \\begin{array}{c} 0 \\\\ f \\end{array} \\right)\n",
    "$$\n",
    "\n",
    "\n",
    "The matrix on the left hand side is symmetric positive definite. It behaves like a standard system matrix (e.g. for condition number), and  standard iterative methods and preconditioners can be used for solution.\n",
    "\n",
    "\n",
    "The lowest order hybrid method has the same degrees of freedom as the non-conforming $P^1$ element. Here, the extension to higher order is straight forward."
   ]
  },
  {
   "cell_type": "code",
   "execution_count": 1,
   "metadata": {},
   "outputs": [],
   "source": [
    "from ngsolve import *\n",
    "from ngsolve.webgui import Draw\n",
    "\n",
    "from netgen.geom2d import unit_square\n",
    "mesh = Mesh(unit_square.GenerateMesh(maxh=0.3))"
   ]
  },
  {
   "cell_type": "code",
   "execution_count": 2,
   "metadata": {},
   "outputs": [
    {
     "name": "stdout",
     "output_type": "stream",
     "text": [
      "\u001b[2KCG iteration 1, residual = 0.3766721408060262     \n",
      "\u001b[2KCG iteration 2, residual = 0.10907102688107831     \n",
      "\u001b[2KCG iteration 3, residual = 0.02762373762050006     \n",
      "\u001b[2KCG iteration 4, residual = 0.009460904839439215     \n",
      "\u001b[2KCG iteration 5, residual = 0.0030401178721749075     \n",
      "\u001b[2KCG iteration 6, residual = 0.0008737003721822246     \n",
      "\u001b[2KCG iteration 7, residual = 0.00036488495834927087     \n",
      "\u001b[2KCG iteration 8, residual = 0.00010180163060399381     \n",
      "\u001b[2KCG iteration 9, residual = 4.454444795606642e-05     \n",
      "\u001b[2KCG iteration 10, residual = 1.0276081830023155e-05     \n",
      "\u001b[2KCG iteration 11, residual = 3.2066421202691073e-06     \n",
      "\u001b[2KCG iteration 12, residual = 7.934242177194006e-07     \n",
      "\u001b[2KCG iteration 13, residual = 2.7503719049183633e-07     \n",
      "\u001b[2KCG iteration 14, residual = 7.87016254760295e-08     \n",
      "\u001b[2KCG iteration 15, residual = 2.591403235842198e-08     \n",
      "\u001b[2KCG iteration 16, residual = 7.189732121846986e-09     \n",
      "\u001b[2KCG iteration 17, residual = 2.4887181875054425e-09     \n",
      "\u001b[2KCG iteration 18, residual = 7.169826660237978e-10     \n",
      "\u001b[2KCG iteration 19, residual = 2.1905224129850516e-10     \n",
      "\u001b[2KCG iteration 20, residual = 8.461686423769498e-11     \n",
      "\u001b[2KCG iteration 21, residual = 2.052136853205269e-11     \n",
      "\u001b[2KCG iteration 22, residual = 6.675385439594928e-12     \n",
      "\u001b[2KCG iteration 23, residual = 1.3534635900852246e-12     \n",
      "\u001b[2KCG iteration 24, residual = 4.747730301285136e-13     \n",
      "\u001b[2KCG iteration 25, residual = 8.842243746323985e-14     \n"
     ]
    },
    {
     "data": {
      "application/vnd.jupyter.widget-view+json": {
       "model_id": "941934f936f44af2857b6196b7145d0b",
       "version_major": 2,
       "version_minor": 0
      },
      "text/plain": [
       "WebGuiWidget(value={'gui_settings': {}, 'ngsolve_version': '6.2.2204-53-g6741b8aa5', 'mesh_dim': 2, 'order2d':…"
      ]
     },
     "metadata": {},
     "output_type": "display_data"
    },
    {
     "data": {
      "application/vnd.jupyter.widget-view+json": {
       "model_id": "726bbd9092174967bb2ab3a91af0ba6e",
       "version_major": 2,
       "version_minor": 0
      },
      "text/plain": [
       "WebGuiWidget(value={'gui_settings': {}, 'ngsolve_version': '6.2.2204-53-g6741b8aa5', 'mesh_dim': 2, 'order2d':…"
      ]
     },
     "metadata": {},
     "output_type": "display_data"
    },
    {
     "data": {
      "text/plain": [
       "BaseWebGuiScene"
      ]
     },
     "execution_count": 2,
     "metadata": {},
     "output_type": "execute_result"
    }
   ],
   "source": [
    "order=2\n",
    "Sigma = HDiv(mesh, order=order, discontinuous=True)\n",
    "V = L2(mesh, order=order-1)\n",
    "Vhat = FacetFESpace(mesh, order=order, dirichlet=\"left|bottom\")\n",
    "# Sigma = HDiv(mesh, order=0, discontinuous=True)\n",
    "# V = L2(mesh, order=0)\n",
    "# Vhat = FacetFESpace(mesh, order=0, dirichlet=\"left|bottom\")\n",
    "\n",
    "X = Sigma*V*Vhat\n",
    "\n",
    "sigma,u,uhat = X.TrialFunction()\n",
    "tau,v,vhat = X.TestFunction()\n",
    "\n",
    "n = specialcf.normal(mesh.dim)\n",
    "\n",
    "a = BilinearForm(X, eliminate_internal = True)\n",
    "a += (-sigma*tau + div(sigma)*v + div(tau)*u)*dx\n",
    "a += (sigma*n*vhat+tau*n*uhat) * dx(element_boundary=True)\n",
    "\n",
    "c = Preconditioner(a, \"bddc\")\n",
    "a.Assemble()\n",
    "\n",
    "f = LinearForm(X)\n",
    "f += v*dx\n",
    "f.Assemble()\n",
    "\n",
    "gfu = GridFunction(X)\n",
    "\n",
    "\n",
    "f.vec.data += a.harmonic_extension_trans * f.vec\n",
    "\n",
    "# gfu.vec.data = a.mat.Inverse(X.FreeDofs(True)) * f.vec\n",
    "from ngsolve.solvers import CG\n",
    "CG (mat=a.mat, pre=c.mat, rhs=f.vec, sol=gfu.vec, \n",
    "    printrates=True, maxsteps=200)\n",
    "\n",
    "gfu.vec.data += a.harmonic_extension * gfu.vec\n",
    "gfu.vec.data += a.inner_solve * f.vec\n",
    "\n",
    "Draw (gfu.components[0], mesh, \"sigma\")\n",
    "Draw (gfu.components[1], mesh, \"u\")\n",
    "# Draw (gfu.components[2], mesh, \"uhat\")"
   ]
  },
  {
   "cell_type": "code",
   "execution_count": null,
   "metadata": {},
   "outputs": [],
   "source": []
  },
  {
   "cell_type": "code",
   "execution_count": null,
   "metadata": {},
   "outputs": [],
   "source": []
  }
 ],
 "metadata": {
  "kernelspec": {
   "display_name": "Python 3 (ipykernel)",
   "language": "python",
   "name": "python3"
  },
  "language_info": {
   "codemirror_mode": {
    "name": "ipython",
    "version": 3
   },
   "file_extension": ".py",
   "mimetype": "text/x-python",
   "name": "python",
   "nbconvert_exporter": "python",
   "pygments_lexer": "ipython3",
   "version": "3.10.7"
  }
 },
 "nbformat": 4,
 "nbformat_minor": 2
}
