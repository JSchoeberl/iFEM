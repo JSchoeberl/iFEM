{
 "cells": [
  {
   "cell_type": "markdown",
   "metadata": {},
   "source": [
    "Parameter Dependent Problems\n",
    "====\n",
    "\n",
    "Many problems from mechanics are of the form\n",
    "\n",
    "$$\n",
    "A(u,v) = f(v) \\quad \\forall \\, v\n",
    "$$\n",
    "\n",
    "with the bilinear-form depending on a small parameter \n",
    "$\\varepsilon$:\n",
    "\n",
    "$$\n",
    "A(u,v) = a(u,v) + \\frac{1}{\\varepsilon} c(T u, T v)\n",
    "$$\n",
    "\n",
    "where $a(.,.)$ and $c(.,.)$ are non-negative bilinear-forms on Hilbert spaces $V$ and $Q$, and\n",
    "$$\n",
    "T : V \\rightarrow Q \n",
    "$$\n",
    "is a continuous, linear operator.\n",
    "\n",
    "We introduce a new variable\n",
    "$$\n",
    "p := \\frac{1}{\\varepsilon} T u \n",
    "$$\n",
    "\n",
    "Using this new variable in the first row, and writing down the definition of $p$ in weak form we get the system\n",
    "\n",
    "$$\n",
    "\\begin{array}{ccccll}\n",
    "a(u,v) & + & c(p, T v) & = & f(v) & \\forall \\, v \\in V \\\\\n",
    "c(Tu, q) & - & \\varepsilon c(p,q) & = & 0 & \\forall \\, q \\in Q\n",
    "\\end{array}\n",
    "$$\n",
    "\n",
    "We rename the off-diagonal forms as \n",
    "\n",
    "$$\n",
    "b(u,q) := c(Tu, q)\n",
    "$$\n",
    "\n",
    "This structure is called a mixed formulation with penalty term.\n",
    "\n",
    "In the mixed formulation we can set the parameter $\\varepsilon = 0$.\n",
    "\n",
    "We are interested in the convergence\n",
    "\n",
    "$$\n",
    "p^{(\\varepsilon)} = \\frac{1}{\\varepsilon} T u^{(\\varepsilon)} \n",
    "\\rightarrow p^{(0)}\n",
    "$$"
   ]
  },
  {
   "cell_type": "markdown",
   "metadata": {
    "collapsed": true
   },
   "source": [
    "Example: Dirichlet boundary condition by penalty\n",
    "---\n",
    "    \n",
    "$$\n",
    "\\int \\nabla u \\nabla v + \\frac{1}{\\varepsilon} \\int_{\\Gamma_D} u v = \\int f v\n",
    "$$\n",
    "\n",
    "Here, \n",
    "\n",
    "$$\n",
    "\\frac{1}{\\varepsilon} u^{(\\varepsilon)} \\rightarrow p^{(0)} = \\frac{\\partial u}{\\partial n}\n",
    "$$"
   ]
  },
  {
   "cell_type": "markdown",
   "metadata": {},
   "source": [
    "Example: Nearly incompressible materials\n",
    "---\n",
    "\n",
    "$$\n",
    "\\int 2 \\mu \\nabla^S u  : \\nabla^S v + \\int \\lambda \\operatorname{div} u \\operatorname{div} v = \\int f v\n",
    "$$\n",
    "\n",
    "with $\\lambda \\gg \\mu$. Introduce $p := \\lambda \\operatorname{div} u$\n"
   ]
  },
  {
   "cell_type": "code",
   "execution_count": null,
   "metadata": {
    "collapsed": true
   },
   "outputs": [],
   "source": []
  }
 ],
 "metadata": {
  "kernelspec": {
   "display_name": "Python 3",
   "language": "python",
   "name": "python3"
  },
  "language_info": {
   "codemirror_mode": {
    "name": "ipython",
    "version": 3
   },
   "file_extension": ".py",
   "mimetype": "text/x-python",
   "name": "python",
   "nbconvert_exporter": "python",
   "pygments_lexer": "ipython3",
   "version": "3.7.0"
  }
 },
 "nbformat": 4,
 "nbformat_minor": 2
}
