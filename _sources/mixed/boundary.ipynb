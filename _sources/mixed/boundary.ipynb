{
 "cells": [
  {
   "cell_type": "markdown",
   "metadata": {
    "collapsed": true
   },
   "source": [
    "Boundary Conditions\n",
    "====\n",
    "\n",
    "Usually, Dirichlet boundary conditions (essential bc) are built into the space: find $u \\in H^1$ such that $u = u_D$ on $\\Gamma_D$. Now, we want to pose the Dirichlet bc by an extra equation. For this, we start from the strong form\n",
    "\n",
    "$$\n",
    "-\\Delta u = f,\n",
    "$$\n",
    "\n",
    "multiply the  equation by a test-function in $H^1$, integate by parts, and keep the boundary term:\n",
    "\n",
    "$$\n",
    "\\int \\nabla u \\nabla v - \\int_{\\partial \\Omega} \\frac{\\partial u}{\\partial n} v = \\int f v\n",
    "$$\n",
    "\n",
    "We introduce a new variable $\\lambda$ for $-\\frac{\\partial u}{\\partial n}$ on the Dirichlet boundary. Natural bc are treated as usual, we assume we only have homogeneous Neumann bc for ease of notation:\n",
    "\n",
    "$$\n",
    "\\int \\nabla u \\nabla v + \\int_{\\Gamma_D} \\lambda v = \\int fv\n",
    "$$\n",
    "\n",
    "The Dirichlet bc $u = u_D$ is now enforced also by a test function $\\mu$ living on the Dirichlet boundary. Thus, the whole equation is now:\n",
    "\n",
    "Find $u \\in V := H^1(\\Omega)$ and $\\lambda \\in Q := H^{-1/2}(\\Gamma_D)$ such that\n",
    "\n",
    "$$\n",
    "\\begin{array}{ccccll}\n",
    "\\int_\\Omega \\nabla u \\nabla v & + & \\int_{\\Gamma_D} \\lambda v & = & \\int_\\Omega f v & \\forall \\, v \\in V \\\\\n",
    "\\int_{\\Gamma_D} \\mu u & & & = & \\int_{\\Gamma_D} \\mu u_D & \\forall \\, \\mu \\in Q\n",
    "\\end{array}\n",
    "$$\n",
    "\n",
    "Why do we have the space $H^{-1/2}(\\Gamma_D)$ ?\n",
    "Functions from $H^1(\\Omega)$ have boundary values (the so called trace) exactly in the space $H^{1/2}(\\Gamma_D)$. We can pair these functions with elements from its dual space, called $H^{-1/2}(\\Gamma_D)$. To be precise, the integral is a convenient notation for the duality pairing:\n",
    "\n",
    "$$\n",
    "\\int_{\\Gamma_D} u \\mu  \\quad \\text{in sense of} \\quad \\left< u|_{\\Gamma_D}, \\mu \\right>_{H^{1/2}(\\Gamma_D) \\times H^{-1/2}(\\Gamma_D)}\n",
    "$$\n",
    "\n",
    "The space $H^{-1/2}$ is weaker (i.e. larger) than $L_2$. Thus, we can use discontinuous $L_2$ finite elements for its discretization."
   ]
  },
  {
   "cell_type": "code",
   "execution_count": null,
   "metadata": {},
   "outputs": [],
   "source": [
    "from netgen.csg import unit_cube\n",
    "from netgen.geom2d import unit_square\n",
    "from ngsolve import * \n",
    "from ngsolve.webgui import Draw\n",
    "mesh = Mesh(unit_square.GenerateMesh(maxh=0.2))\n",
    "# mesh = Mesh(unit_cube.GenerateMesh(maxh=0.2))\n",
    "Draw (mesh)"
   ]
  },
  {
   "cell_type": "code",
   "execution_count": null,
   "metadata": {},
   "outputs": [],
   "source": [
    "V = H1(mesh, order=3, orderface=4)\n",
    "Q = SurfaceL2(mesh, order=1)\n",
    "# Q = H1(mesh, order=3, definedon=\"x\", definedonbound=[1,2,3,4,5,6])\n",
    "X = V*Q\n",
    "print (\"V.ndof =\", V.ndof, \"Q.ndof =\", Q.ndof)"
   ]
  },
  {
   "cell_type": "code",
   "execution_count": null,
   "metadata": {},
   "outputs": [],
   "source": [
    "u,lam = X.TrialFunction()\n",
    "v,mu = X.TestFunction()\n",
    "SetHeapSize(10000000)\n",
    "a = BilinearForm(X)\n",
    "a += grad(u)*grad(v)*dx + (u*mu+v*lam)*ds\n",
    "\n",
    "f = LinearForm(X)\n",
    "f += 10*x*v*dx + y*mu*ds\n",
    "\n",
    "a.Assemble()\n",
    "f.Assemble()\n",
    "\n",
    "gfu = GridFunction(X)\n",
    "gfu.vec.data = a.mat.Inverse(X.FreeDofs()) * f.vec"
   ]
  },
  {
   "cell_type": "code",
   "execution_count": null,
   "metadata": {},
   "outputs": [],
   "source": [
    "sol_u, sol_lam = gfu.components\n",
    "Draw (sol_u, mesh, \"u\")\n",
    "Draw (sol_lam, mesh, \"lam\")"
   ]
  },
  {
   "cell_type": "markdown",
   "metadata": {},
   "source": [
    "Choosing the test-function $v = 1$ in the first equation \n",
    "$$\n",
    "\\int_\\Omega \\nabla u \\nabla 1 + \\int_{\\Gamma_D} \\lambda 1 = \\int_\\Omega f 1\n",
    "$$\n",
    "we observe that the total flux is exactly in balance with the total source\n",
    "\n",
    "$$\n",
    "\\int_{\\Gamma_D} \\lambda = \\int_{\\Omega} f\n",
    "$$\n",
    "\n",
    "We compute the integral over the whole boundary as"
   ]
  },
  {
   "cell_type": "code",
   "execution_count": null,
   "metadata": {},
   "outputs": [],
   "source": [
    "Integrate(sol_lam, mesh, BND)"
   ]
  },
  {
   "cell_type": "code",
   "execution_count": null,
   "metadata": {},
   "outputs": [],
   "source": [
    "bndparts = Integrate(sol_lam, mesh, BND, region_wise=True)\n",
    "print (\"boundary parts:\", bndparts)\n",
    "print (\"sum: \", sum(bndparts))"
   ]
  },
  {
   "cell_type": "code",
   "execution_count": null,
   "metadata": {},
   "outputs": [],
   "source": []
  }
 ],
 "metadata": {
  "kernelspec": {
   "display_name": "Python 3",
   "language": "python",
   "name": "python3"
  },
  "language_info": {
   "codemirror_mode": {
    "name": "ipython",
    "version": 3
   },
   "file_extension": ".py",
   "mimetype": "text/x-python",
   "name": "python",
   "nbconvert_exporter": "python",
   "pygments_lexer": "ipython3",
   "version": "3.9.2"
  }
 },
 "nbformat": 4,
 "nbformat_minor": 2
}
