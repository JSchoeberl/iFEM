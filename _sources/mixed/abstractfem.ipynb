{
 "cells": [
  {
   "cell_type": "markdown",
   "metadata": {},
   "source": [
    "Abstract theory for mixed finite element methods\n",
    "====\n",
    "\n",
    "In the finite element method we replace the spaces $V$ and $Q$ by sub-spaces $V_h$ and $Q_h$. \n",
    "\n",
    "We want to apply Brezzi's theorem for the discrete setting: The (discrete) spaces are Hilbert-spaces,  continuity of the forms is inherited to the discrete level. But, the LBB condition and kernel ellipticity must be verified on the discrete level case by case. \n",
    "\n",
    "We write the system as one big equation:\n",
    "\n",
    "find $(u_h, p_h) \\in V_h \\times Q_h$ such that\n",
    "\n",
    "$$\n",
    "B( u_h, p_h ; v_h, q_h ) = F(v_h, q_h) \\quad \\forall \\, (v_h, q_h) \\in V_h \\times Q_h\n",
    "$$\n",
    "\n",
    "with \n",
    "\\begin{eqnarray*}\n",
    "B( u_h, p_h ; v_h, q_h) & = & a(u_h, v_h) + b(u_h, q_h) + b(v_h, p_h) \\\\\n",
    "F(v_h, q_h) & = & f(v_h) + g(q_h)\n",
    "\\end{eqnarray*}\n",
    "\n",
    "\n",
    "Brezzi's claim of a stable solution can be rephrased as $\\inf-\\sup$ condition for the big-B:\n",
    "\n",
    "$$\n",
    "\\inf_{u_h,p_h} \\sup_{v_h,q_h} \\frac{ B(u_h,p_h; v_h, q_h) } { (\\| u_h \\| + \\|p_h \\|) (\\| v_h \\| + \\| q_h \\|) } \\geq \\beta\n",
    "$$"
   ]
  },
  {
   "cell_type": "markdown",
   "metadata": {
    "collapsed": true
   },
   "source": [
    "Finite element error estimates\n",
    "---\n",
    "\n",
    "We compare the finite element solution $u_h, p_h$ to the interpolated true solution $I_h u, I_h p$. The difference is a finite function, for which we apply the $\\inf-\\sup$ condition. Then we use the Galerkin orthogonality, and continuity of the big-B:\n",
    "\n",
    "\\begin{eqnarray*}\n",
    "\\| u_h - I_h u \\|_V + \\| p_h - I_h p \\|_A\n",
    "& \\prec & \\sup_{v_h, q_h} \\frac{ B(u_h-I_h u, p_h - I_h p; v_h, q_h) } { \\| v_h \\|_V + \\| q_h \\|_Q } \\\\\n",
    "& = & \\sup_{v_h, q_h} \\frac{ B(u -I_h u, p - I_h p; v_h, q_h) } { \\| v_h \\|_V + \\| q_h \\|_Q } \\\\\n",
    "& \\prec & \\| u - I_h u \\|_V + \\| p - I_h p \\|_Q\n",
    "\\end{eqnarray*}\n",
    "\n",
    "Finally, with a triangle inequality we get the discretization error estimate\n",
    "\n",
    "$$\n",
    "\\| u - u_h \\|_V + \\| p - p_h \\|_Q \\prec \\| u - I_h u \\|_V + \\| p - I_h p\\|_Q\n",
    "$$\n",
    "\n",
    "Instead of the interpolant, we could have used any finite element functions $v_h$ and $q_h$. Thus, we get the quasi-best-approximation error estimate\n",
    "\n",
    "$$\n",
    "\\| u - u_h \\|_V + \\| p - p_h \\|_Q \\leq c \\, \\inf_{v_h, q_h } \\| u - v_h \\|_V + \\| p - q_h \\|_Q\n",
    "$$\n",
    "\n",
    "We see that the error in both variables depend on the approximation of both fields. Later we will see cases where the discretization error of the first variable only depends on the approximation error for the first field."
   ]
  },
  {
   "cell_type": "markdown",
   "metadata": {},
   "source": [
    "Proving discrete LBB by the Fortin operator\n",
    "---\n",
    "\n",
    "A Fortin-operator $I^F : V \\rightarrow V_h$ is a continuous operator (wrt to $\\| \\cdot \\|_V$) which preservers the constraint in mean:\n",
    "\n",
    "$$\n",
    "b(I^F u, q_h) = b(u, q_h) \\quad \\forall \\, q_h \\in Q_h\n",
    "$$\n",
    "\n",
    "If we can construct a Fortin operator, the discrete LBB condition follows from the continuous one:\n",
    "\n",
    "Given is a $q_h \\in Q_h \\subset Q$. By means of the continuous LBB condition there exists an $u \\in V$ such that\n",
    "\n",
    "$$\n",
    "\\frac{b(u,q_h)}{\\| u \\|_V} \\geq \\beta \\, \\| q_h \\|_Q\n",
    "$$\n",
    "\n",
    "Our discrete candidate is now $u_h := I^F u$:\n",
    "\n",
    "$$\n",
    "\\frac{b(u_h, q_h)}{\\| u_h \\|_V} \n",
    "= \\frac{b(I^F u, q_h)}{\\| I^F u \\|_V} \n",
    "\\geq \\frac{b(u, q_h)}{\\| I^F \\|_V \\| u \\|_V} \n",
    "\\geq \\frac{\\beta}{\\| I^F \\|_V} \\| q_h \\|_Q\n",
    "$$\n",
    "\n",
    "Thus, the discrete LBB constant is\n",
    "$$\n",
    "\\frac{\\beta}{\\| I^F \\|_V}\n",
    "$$"
   ]
  },
  {
   "cell_type": "markdown",
   "metadata": {
    "collapsed": true
   },
   "source": [
    "Example: Finite elements for Stokes\n",
    "---\n",
    "\n",
    "2D. Take the finite element pair $[P^2]^2 \\times P^0$:\n",
    "\n",
    "We define the Fortin operator such that\n",
    "\n",
    "* $I^F u(V) \\approx u(V)$ in all vertices (by some Clement operator) \n",
    "* $\\int_E I^F u = \\int_E u$ for all edges\n",
    "\n",
    "It is continuous (without proof). It preserves the constraints in mean:\n",
    "\n",
    "\\begin{eqnarray*}\n",
    "b(I^F u, q_h) & = & \n",
    "\\sum_T \\int_T \\operatorname{div} I^F u \\; q_h\n",
    "= \\sum_T q_h \\int_T \\operatorname{div} I^F u  \\\\\n",
    "& = & \\sum_T q_h \\int_{\\partial T} n\\cdot I^F u \\\\\n",
    "& = & \\sum_T q_h \\int_{\\partial T} n\\cdot u \\\\\n",
    "& = & \\sum_T q_h \\int_T \\operatorname{div} u = \\sum_T \\int_T \\operatorname{div} u \\; q_h \\\\\n",
    "& = & b(u,q_h)\n",
    "\\end{eqnarray*}\n",
    "\n",
    "From the proof we see that it is important to preserve the integral of the normal component over the edges. It would be enough to have the edge bubble only in normal component. In 3D, we have to preserve integrals over faces. Thus, we need the cubic face bubble (at least in normal direction).\n",
    "\n",
    "Other elements with degrees of freedom on the edges (or faces, in 3D) are non-conforming $P^1$ elements, or hybrid-DG elements."
   ]
  },
  {
   "cell_type": "code",
   "execution_count": null,
   "metadata": {
    "collapsed": true
   },
   "outputs": [],
   "source": []
  }
 ],
 "metadata": {
  "kernelspec": {
   "display_name": "Python 3",
   "language": "python",
   "name": "python3"
  },
  "language_info": {
   "codemirror_mode": {
    "name": "ipython",
    "version": 3
   },
   "file_extension": ".py",
   "mimetype": "text/x-python",
   "name": "python",
   "nbconvert_exporter": "python",
   "pygments_lexer": "ipython3",
   "version": "3.7.0"
  }
 },
 "nbformat": 4,
 "nbformat_minor": 2
}
