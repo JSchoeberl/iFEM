{
 "cells": [
  {
   "cell_type": "markdown",
   "metadata": {
    "collapsed": true
   },
   "source": [
    "Mixed Methods for second order equations\n",
    "====\n",
    "\n",
    "Again, we consider the second order equation\n",
    "\n",
    "$$\n",
    "-\\Delta u = f, \\qquad u = 0 \\text{ on } \\partial \\Omega\n",
    "$$\n",
    "\n",
    "We introduce now a new variable $\\sigma$ for $\\nabla u$, and rewrite the second order equation as first order system:\n",
    "\n",
    "$$\n",
    "\\begin{array}{ccccl}\n",
    "\\sigma & - & \\nabla u & = & 0 \\\\\n",
    "\\operatorname{div} \\sigma & & & = & -f\n",
    "\\end{array}\n",
    "$$\n",
    "\n",
    "We multiply the first equation by a test-function $\\tau$, and the secon d by a test-function $v$. We use integration by parts $\\int_\\Omega \\nabla u \\tau = -\\int_\\Omega u \\operatorname{div} \\tau + \\int_{\\partial \\Omega} u \\tau_n$.\n",
    "\n",
    "The weak formulation is: find $\\sigma \\in \\Sigma := H(\\operatorname{div})$ and $u \\in V := L_2$ such that\n",
    "\n",
    "$$\n",
    "\\begin{array}{ccccll}\n",
    "\\int \\sigma \\tau & + & \\int u \\operatorname{div} \\tau & = & 0 & \\forall \\, \\tau \\in \\Sigma \\\\\n",
    "\\int v \\operatorname{div} \\sigma &&& = & 0 & \\forall \\, v \\in V\n",
    "\\end{array}\n",
    "$$\n",
    "\n",
    "The function space is\n",
    "\n",
    "$$\n",
    "H(\\operatorname{div}) = \\{ \\tau \\in [L_2(\\Omega)]^d : \\operatorname{div} \\tau \\in L_2(\\Omega) \\}\n",
    "$$\n",
    "\n",
    "We don't need derivatives of $u$ and $v$, thus these fields are chosen in $L_2$."
   ]
  },
  {
   "cell_type": "code",
   "execution_count": null,
   "metadata": {},
   "outputs": [],
   "source": [
    "from netgen.geom2d import unit_square\n",
    "from netgen.csg import unit_cube\n",
    "from ngsolve import *\n",
    "from ngsolve.webgui import Draw\n",
    "mesh = Mesh(unit_square.GenerateMesh(maxh=0.1))\n",
    "# mesh = Mesh(unit_cube.GenerateMesh(maxh=0.2))\n",
    "Draw (mesh)"
   ]
  },
  {
   "cell_type": "code",
   "execution_count": null,
   "metadata": {},
   "outputs": [],
   "source": [
    "Sigma = HDiv(mesh, order=2)\n",
    "V = L2(mesh, order=1)\n",
    "X = Sigma*V"
   ]
  },
  {
   "cell_type": "code",
   "execution_count": null,
   "metadata": {},
   "outputs": [],
   "source": [
    "sigma,u = X.TrialFunction()\n",
    "tau,v = X.TestFunction()\n",
    "\n",
    "a = BilinearForm(X)\n",
    "a += (sigma*tau+div(sigma)*v+div(tau)*u)*dx\n",
    "\n",
    "f = LinearForm(X)\n",
    "f += -1*v*dx\n",
    "\n",
    "a.Assemble()\n",
    "f.Assemble()\n",
    "\n",
    "gfu = GridFunction(X)\n",
    "gfu.vec.data = a.mat.Inverse() * f.vec"
   ]
  },
  {
   "cell_type": "code",
   "execution_count": null,
   "metadata": {},
   "outputs": [],
   "source": [
    "Draw (gfu.components[0], mesh, \"flux\")\n",
    "Draw (gfu.components[1], mesh, \"u\")"
   ]
  },
  {
   "cell_type": "markdown",
   "metadata": {},
   "source": [
    "The total outflow is in balance with the source:\n",
    "\n",
    "$$\n",
    "\\int_{\\partial \\Omega} \\sigma \\cdot n = \\int_\\Omega \\operatorname{div} \\sigma \\, 1 = -\\int_\\Omega f \\, 1\n",
    "$$"
   ]
  },
  {
   "cell_type": "code",
   "execution_count": null,
   "metadata": {},
   "outputs": [],
   "source": [
    "n = specialcf.normal(mesh.dim)\n",
    "Integrate (gfu.components[0]*n, mesh, BND)"
   ]
  },
  {
   "cell_type": "code",
   "execution_count": null,
   "metadata": {},
   "outputs": [],
   "source": []
  }
 ],
 "metadata": {
  "kernelspec": {
   "display_name": "Python 3",
   "language": "python",
   "name": "python3"
  },
  "language_info": {
   "codemirror_mode": {
    "name": "ipython",
    "version": 3
   },
   "file_extension": ".py",
   "mimetype": "text/x-python",
   "name": "python",
   "nbconvert_exporter": "python",
   "pygments_lexer": "ipython3",
   "version": "3.9.2"
  }
 },
 "nbformat": 4,
 "nbformat_minor": 2
}
