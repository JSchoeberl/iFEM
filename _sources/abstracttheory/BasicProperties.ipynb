{
 "cells": [
  {
   "cell_type": "markdown",
   "id": "e606d038-a529-4752-8055-fa897c7fe6af",
   "metadata": {},
   "source": [
    "# Basic properties"
   ]
  },
  {
   "cell_type": "markdown",
   "id": "d594debf-88c0-42b2-934f-17d751d5152b",
   "metadata": {},
   "source": [
    "**Definition:** A **vector space** $V$ over ${\\mathbb R}$ is a set with\n",
    "the operations $+ : V \\times V \\rightarrow V$ and $\\cdot : {\\mathbb R} \\times V\n",
    "\\rightarrow V$ such that for all $u,v \\in V$ and $\\lambda, \\mu \\in {\\mathbb R}$\n",
    "there holds\n",
    "* $u + v = v + u$\n",
    "* $(u+v)+w = u + (v+w)$\n",
    "* $\\lambda \\cdot (u+v) = \n",
    "\\lambda \\cdot u + \\lambda \\cdot v, \\quad \n",
    "(\\lambda + \\mu) \\cdot u = \\lambda \\cdot u + \\mu \\cdot u$\n",
    "\n",
    "Examples are ${\\mathbb R}^n$, the continuous functions $C^0([0,1])$, or the Lebesgue space $L_2$."
   ]
  },
  {
   "cell_type": "markdown",
   "id": "ef92034e-15b7-4c41-866b-d49a610979d6",
   "metadata": {},
   "source": [
    "**Definition:** A **normed** vector space $(V,\\|\\cdot\\|)$ is a vector \n",
    "space with the operation $\\| . \\| : V \\rightarrow {\\mathbb R}$ being a norm, i.e.,\n",
    "for $u,v \\in V$ and $\\lambda \\in {\\mathbb R}$ there holds\n",
    "* $\\| u + v \\| \\leq \\| u \\| + \\| v \\|$\n",
    "* $\\| \\lambda \\, u \\| = | \\lambda | \\, \\| u \\|$\n",
    "* $\\| u \\| = 0 \\Leftrightarrow u = 0$\n",
    "\n",
    "Examples are $(C^0, \\|\\cdot\\|_{\\sup})$, or $(C^0, \\|\\cdot\\|_{L_2})$."
   ]
  },
  {
   "cell_type": "markdown",
   "id": "91460ec8-c211-45ad-97cc-600933c32f3c",
   "metadata": {},
   "source": [
    "**Definition:** In a **complete** normed vector space, Cauchy sequences \n",
    "$(u_n) \\in V^{\\mathbb N}$ converge to an $u \\in V$. A complete normed vector space\n",
    "is called **Banach space**.\n",
    "\n",
    "Examples of Banach spaces are $(L_2, \\|\\cdot\\|_{L_2})$, \n",
    "$(C^0, \\|\\cdot\\|_{\\sup})$, but not $(C^0, \\|\\cdot\\|_{L_2})$."
   ]
  },
  {
   "cell_type": "markdown",
   "id": "654a3fdb-281e-4095-af67-dda6e2e32de8",
   "metadata": {},
   "source": [
    "**Definition:** The **closure** of a normed vector-space $(W, \\| \\cdot \\|_V)$,\n",
    "denoted as $\\overline{W}^{\\| \\cdot \\|_V}$ is the smallest complete space containing $W$.\n",
    "\n",
    "Example: $\\overline{ C }^{\\| \\cdot \\|_{L_2}} = L_2$."
   ]
  },
  {
   "cell_type": "markdown",
   "id": "8bb6cb28-1a25-41ff-b8e4-be790fba2378",
   "metadata": {},
   "source": [
    "**Definition:** A **functional** or a **linear form** $l(\\cdot)$ on $V$ is a linear mapping \n",
    "$l(\\cdot) : V \\rightarrow {\\mathbb R}$. \n",
    "The canonical norm for linear forms is the **dual norm**\n",
    "\n",
    "$$\n",
    "\\| l \\|_{V^\\ast} := \\sup_{0 \\neq v \\in V} \\frac{l(v)}{\\|v\\|}.\n",
    "$$\n",
    "\n",
    "A linear form $l(\\cdot)$ is called bounded if the norm is finite.\n",
    "The vector space of all bounded linear forms on $V$ is called the \n",
    "dual space $V^\\ast$.\n",
    "\n",
    "An example for a bounded linear form is \n",
    "$l(\\cdot) : L_2 \\rightarrow {\\mathbb R} : v \\rightarrow \\int v \\, dx$."
   ]
  },
  {
   "cell_type": "markdown",
   "id": "506f2558-4e54-447b-85d4-87fc860b93f0",
   "metadata": {},
   "source": [
    "**Definition:** A **bilinear form** $A(\\cdot,\\cdot)$ on $V \\times W$ is a mapping\n",
    "$A : V \\times W \\rightarrow {\\mathbb R}$ which is linear in $u$ and in $v$. \n",
    "It is called **symmetric** if $V=W$ and $A(u,v) = A(v,u)$ for all $u,v \\in V$.\n",
    "\n",
    "Examples are the bilinear form $A(u,v) = \\int u v \\, dx$ on $L_2$, or \n",
    "$A(u,v) := u^T A v$ on ${\\mathbb R}^n$, where $A$ is a (symmetric) matrix."
   ]
  },
  {
   "cell_type": "markdown",
   "id": "edab019b-40a0-4fd5-8c38-bccbce899347",
   "metadata": {},
   "source": [
    "**Definition:** A symmetric bilinear form $A(\\cdot,\\cdot)$ is \n",
    "called an **inner product** if it satisfies\n",
    "\n",
    "* $A(v,v) \\geq 0 \\; \\forall  \\, v \\in V$\n",
    "* $A(v,v) = 0 \\Leftrightarrow v = 0$\n",
    "  \n",
    "Often, it is denoted as $(\\cdot,\\cdot)_A$, $(\\cdot,\\cdot)_V$, or simply $(\\cdot,\\cdot)$.\n",
    "\n",
    "An example on ${\\mathbb R}^n$ is $u^T A v$, where $A$ is a symmetric and positive\n",
    "definite matrix.\n",
    "\n",
    "**Definition:** An **inner product space** is a vector space $V$ together\n",
    "with an inner product $(\\cdot, \\cdot)_V$."
   ]
  },
  {
   "cell_type": "markdown",
   "id": "e3a1ccd7-7176-4238-9b72-f21dc6d28cb9",
   "metadata": {},
   "source": [
    "**Lemma:** **Cauchy Schwarz inequality.** If $A(\\cdot,\\cdot)$ is a symmetric\n",
    "bilinear form such that $A(v,v) \\geq 0$ for all $v \\in V$, then there holds\n",
    "\n",
    "$$\n",
    "A(u,v) \\leq A(u,u)^{1/2} A(v,v)^{1/2}\n",
    "$$\n",
    "\n",
    "*Proof:* For $t \\in {\\mathbb R}$ there holds\n",
    "\n",
    "$$\n",
    "0 \\leq A(u-tv, u-tv) = A(u,u) - 2 t A(u,v) + t^2 A(v,v).\n",
    "$$\n",
    "\n",
    "If $A(v,v) = 0$, then $A(u,u)-2tA(u,v) \\geq 0$ for all $t \\in {\\mathbb R}$, which\n",
    "forces $A(u,v) = 0$, and the inequality holds trivially. Else, if $A(v,v) \\neq 0$, set $t = A(u,v) / A(v,v)$, and obtain\n",
    "\n",
    "$$\n",
    "0 \\leq A(u,u) - A(u,v)^2 / A(v,v),\n",
    "$$\n",
    "which is equivalent to the statement.\n",
    "$\\Box$\n",
    "\n",
    "**Lemma:** $\\| v \\|_V := (v,v)_V^{1/2}$ defines a norm on the inner product\n",
    "space $(V, (\\cdot,\\cdot)_V)$."
   ]
  },
  {
   "cell_type": "markdown",
   "id": "6c2fb10a-bb7e-4a03-93c0-94672a98a1cd",
   "metadata": {},
   "source": [
    "**Definition:** An inner product space $(V,(\\cdot,\\cdot)_V)$ which is\n",
    "complete with respect to $\\|\\cdot\\|_V$ is called a **Hilbert space**.\n",
    "\n",
    "**Definition:** A **closed subspace** $S$ of an Hilbert space $V$\n",
    "is a subset which is a vector space, and which is complete with respect to \n",
    "$\\|\\cdot \\|_V$.\n",
    "\n",
    "A finite dimensional subspace is always a closed subspace. "
   ]
  },
  {
   "cell_type": "markdown",
   "id": "0b959470-1f49-46d1-834f-80c978b0b5c4",
   "metadata": {},
   "source": [
    "**Lemma:** \n",
    "Let $T$ be a continuous linear operator from the Hilbert space $V$\n",
    "to the Hilbert space $W$. The kernel of $T$, $\\operatorname{ker} T := \\{ v \\in V : T v = 0 \\}$ is a closed subspace of $V$.\n",
    "\n",
    "*Proof:* First we observe that $\\operatorname{ker} T$ is a vector space.\n",
    "Now, let $(u_n) \\in \\operatorname{ker} T^{\\mathbb N}$ converge to $u \\in V$. Since\n",
    "$T$ is continuous, $T u_n \\rightarrow T u$, and thus $T u = 0$ and $u \\in \\operatorname{ker} T$.\n",
    "$\\Box$"
   ]
  },
  {
   "cell_type": "markdown",
   "id": "155a4a31-7971-441c-8469-5d3940400d93",
   "metadata": {},
   "source": [
    "**Lemma:** Let $S$ be a subspace (not necessarily closed) of $V$. Then\n",
    "$$\n",
    "S^\\bot := \\{ v \\in V : (v,w) = 0 \\; \\forall \\, w \\in S \\}\n",
    "$$\n",
    "is a closed subspace.\n",
    "\n",
    "The proof is similar to the Lemma on the kernel."
   ]
  },
  {
   "cell_type": "markdown",
   "id": "1fc41c98-659e-4025-abaa-8e8e19cc6470",
   "metadata": {},
   "source": [
    "**Definition:** Let $V$ and $W$ be vector spaces. A **linear operator** $T : V \\rightarrow W$ is a linear mapping from $V$ to $W$. The operator is called **bounded** if its operator-norm\n",
    "\n",
    "$$\n",
    "\\| T \\|_{V \\rightarrow W} := \\sup_{0 \\neq v \\in V} \\frac{ \\| T v \\|_W } { \\| v \\|_V}\n",
    "$$\n",
    "is finite. \n",
    "\n",
    "An example is the differential operator on the according space $\\frac{d}{dx} : (C^1(0,1), \\| \\cdot \\|_{sup} + \\| \\frac{d}{dx} \\cdot \\|_{sup}) \\rightarrow ( C(0,1), \\| \\cdot \\|_{sup})$."
   ]
  },
  {
   "cell_type": "markdown",
   "id": "7544cd10-8ff1-4200-beb6-ca80a82e0bb6",
   "metadata": {},
   "source": [
    "**Lemma:** A bounded linear operator is continuous.\n",
    "\n",
    "*Proof:* Let $v_n \\rightarrow v$, i.e. $\\| v_n - v \\|_V \\rightarrow 0$.  \n",
    "Then $\\| T v_n - T v \\| \\leq \\| T \\|_{V \\rightarrow W } \\| v_n - v \\|_V$ converges to 0,\n",
    "i.e. $T v_n \\rightarrow T v$. Thus $T$ is continuous."
   ]
  },
  {
   "cell_type": "markdown",
   "id": "42c93322-0693-4624-9f71-e02621b69f38",
   "metadata": {},
   "source": [
    "**Definition:** A **dense subspace** $S$ of $V$ is such that every element of $V$ \n",
    "can be approximated by elements of $S$, i.e.\n",
    "\n",
    "$$\n",
    "\\forall {\\varepsilon > 0} \\,  \\forall { u \\in V }  \\, \\exists { v \\in S }  \\mbox{ such that } \\| u - v \\|_V \\leq \\varepsilon.\n",
    "$$"
   ]
  },
  {
   "cell_type": "markdown",
   "id": "04ade929-9c0f-4ebc-bd82-c19d64d63a9d",
   "metadata": {},
   "source": [
    "**Lemma:** **(extension principle)** Let $S$ be a dense subspace of the normed space $V$, \n",
    "and let $W$ be a complete space. Let $T : S \\rightarrow W$ be a bounded linear operator \n",
    "with respect to the norm $\\| T \\|_{V \\rightarrow W}$. Then, the operator can be uniquely extended onto $V$.\n",
    "\n",
    "*Proof:* Let $u \\in V$, and let $v_n$ be a sequence such that $v_n \\rightarrow u$. Thus, $v_n$ is Cauchy. $T v_n$ is a well defined sequence in $W$. Since $T$ is continuous, $T v_n$ is also Cauchy. Since $W$ is complete, there exists a limit $w$ such that $T v_n \\rightarrow w$. The limit is independent of the sequence, and thus $T u$ can be defined as the limit $w$."
   ]
  },
  {
   "cell_type": "markdown",
   "id": "286c68fe-114f-42d6-80e6-f1c428fa0163",
   "metadata": {},
   "source": [
    "**Definition:** A bounded linear operator $T : V \\rightarrow W$ is called **compact** if for every bounded sequence $(u_n) \\in V^{\\mathbb N}$, the sequence $(T u_n)$ contains a convergent sub-sequence."
   ]
  },
  {
   "cell_type": "markdown",
   "id": "534445b8-66a1-40f0-8c32-38a402351433",
   "metadata": {},
   "source": [
    "**Lemma:** Let $V, W$ be Hilbert spaces. An operator is\n",
    "  compact if and only if there exists a complete orthogonal system\n",
    "  $(u_n)$ for $(\\operatorname{ker} T)^\\bot$ and values $\\lambda_n \\rightarrow 0$ such that\n",
    "  \n",
    "$$\n",
    "(u_n, u_m)_V = \\delta_{n,m} \\qquad (T u_n, T u_m)_W = \\lambda_n \\delta_{n,m}\n",
    "$$\n",
    "This is the eigensystem of the operator $K : V \\rightarrow V^\\ast : u \\mapsto (T u, T \\cdot)_W$.\n",
    "\n",
    "*Proof:* (sketch) There exists an maximizing element of $\\frac{ (Tv, Tv)_W } { (v,v)_V }$.\n",
    "Scale it to $\\| v \\|_V = 1 $ and call it $u_1$, and $\\lambda_1 = \\frac{ (Tu_1, Tu_1)_W } { (u_1,u_1)_V }$. Repeat the procedure on the $V$-complement of $u_1$ to generate $u_2$, and so on. "
   ]
  },
  {
   "cell_type": "code",
   "execution_count": null,
   "id": "8218fce1-fec7-4053-af1a-3a3be0df8934",
   "metadata": {},
   "outputs": [],
   "source": []
  }
 ],
 "metadata": {
  "kernelspec": {
   "display_name": "Python 3 (ipykernel)",
   "language": "python",
   "name": "python3"
  },
  "language_info": {
   "codemirror_mode": {
    "name": "ipython",
    "version": 3
   },
   "file_extension": ".py",
   "mimetype": "text/x-python",
   "name": "python",
   "nbconvert_exporter": "python",
   "pygments_lexer": "ipython3",
   "version": "3.12.2"
  }
 },
 "nbformat": 4,
 "nbformat_minor": 5
}
