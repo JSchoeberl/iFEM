{
 "cells": [
  {
   "cell_type": "markdown",
   "id": "86947144-39ce-4780-8b37-c0b40da26827",
   "metadata": {},
   "source": [
    "# Exercises"
   ]
  },
  {
   "cell_type": "markdown",
   "id": "7eb941dd-55b2-496d-981a-7269415b9715",
   "metadata": {},
   "source": [
    "## inf-sup condition of the first-order derivative bilinear-form\n",
    "\n",
    "Define $V = \\{ v \\in H^1(0,1) : v(0) = 0 \\}$, with $\\| v \\|_V = \\| v^\\prime \\|_{L_2}$, and $W = L_2(0,1)$. Consider the bilinear-form $B : V \\times W \\rightarrow {\\mathbb R}$ such that\n",
    "\n",
    "$$\n",
    "B(u,v) = \\int_0^1 u^\\prime v \\, dx\n",
    "$$\n",
    "\n",
    "Show that the bilinear-form is continuous.\n",
    "Prove that the bilinear-form satisfies both $\\inf-\\sup$ conditions, start with\n",
    "\n",
    "$$\n",
    "\\inf_{ u \\in V} \\sup_{v \\in W} \\frac{B(u,v)}{ \\| u \\|_V \\| v \\|_W} \\geq \\beta_1 > 0\n",
    "$$\n",
    "\n",
    "For a given $u \\in V$, find some $v \\in W$ such that the fraction is large (how ?). This proves that the derivative is one-to-one on $V$. What if the boundary condition $v(0)=0$ is skipped ? \n",
    "\n",
    "Then swap order of the $\\inf-\\sup$ condition:\n",
    "\n",
    "$$\n",
    "\\inf_{ v \\in W} \\sup_{u \\in V} \\frac{B(u,v)}{ \\| u \\|_V \\| v \\|_W} \\geq \\beta_1 > 0\n",
    "$$\n",
    "\n",
    "For a given $v$ find a good $u$, how ? This shows that the derivative operator is onto. Can we add boundary conditions on both sides ? "
   ]
  },
  {
   "cell_type": "markdown",
   "id": "2a7f426a-5d64-418d-be45-a447f58d5923",
   "metadata": {},
   "source": [
    "### Repeat the exercise in 2D.\n",
    "\n",
    "Let $\\Omega = (0,1)^2$, set $V = H_0^1( \\Omega )$, and $W = L_2(\\Omega)^2$, and\n",
    "\n",
    "$$\n",
    "B(u,v) = \\int_\\Omega \\nabla u \\cdot v \\in dx\n",
    "$$\n",
    "\n",
    "Try again proving both inf-sup conditions. "
   ]
  },
  {
   "cell_type": "markdown",
   "id": "d7ad2a93-528f-42f3-945c-8e9654af1c7f",
   "metadata": {},
   "source": [
    "## Building systems from building-blocks\n",
    "\n",
    "### Coercive examples\n",
    "\n",
    "Let $V$ be a Hilbert-space, and $a(\\cdot,\\cdot)$, $b(\\cdot,\\cdot)$ and $c(\\cdot,\\cdot)$ be continuous and coercive bilinear-forms with continuity bounds $\\alpha_2$, $\\beta_2$, and $\\gamma_2$, and coercivity constants $\\alpha_1$, $\\beta_1$, and $\\gamma_1$ (all positive). Define the big bilinear-form $B : V^2 \\times V^2 \\rightarrow {\\mathbb R}$ as\n",
    "\n",
    "$$\n",
    "B( (u_1,v_1), (u_2, v_2) ) = a(u_1, v_1) + b(u_1, v_2) + c(u_2, v_2)\n",
    "$$\n",
    "\n",
    "Show that $B(\\cdot, \\cdot)$ is continuous. Show that for $2 \\beta_2 < \\sqrt{\\alpha_1 \\gamma_1}$ the bilinear-form $B(\\cdot, \\cdot)$ is coercive (hint: use Young's inequality $2 x y \\leq x^2 + y^2$.\n",
    "Give expressions for continuity and coercivity constants in terms of $\\alpha_1, \\alpha^2, \\beta_1, \\ldots$.\n",
    "\n",
    "### inf-sup condition\n",
    "\n",
    "Repeat the example from above, but now assume inf-sup instead of coercive for $a(.,.)$, $b(.,.)$, and $c(.,.)$. Prove that then $B(.,.)$ also satisfies inf-sup, without further restrictions onto the constants. \n",
    "\n",
    "\n",
    "### complex-valued problem as real system\n",
    "\n",
    "Let $a(\\cdot,\\cdot)$ and $b(\\cdot,\\cdot)$ be two symmetric, continuous, and coercive bilinear-forms on the Hilbert-space $V$.\n",
    "\n",
    "Define the form $B(\\cdot, \\cdot) : V^2 \\times V^2 \\mapsto {\\mathbb R}$ as\n",
    "\n",
    "$$\n",
    "B( (u_1, u_2), (v_1, v_2) ) := a(u_1, v_1) + b(u_2, v_1) + b(u_1, v_2) - a(u_2, v_2)\n",
    "$$\n",
    "\n",
    "Use the norms (why are they norms?)\n",
    "\n",
    "$$\n",
    "\\| u \\|_V := \\sqrt{ a(u,u) + b(u,u) } \\qquad \\text{for} \\; u \\in V\n",
    "$$\n",
    "\n",
    "and\n",
    "\n",
    "$$\n",
    "\\| (u_1, u_2) \\|_{V^2} := \\sqrt{  \\| u_1 \\|_V^2 + \\| u_2 \\|_V^2 }\n",
    "\\quad \\text{for } (u_1, u_2) \\in V^2.\n",
    "$$\n",
    "\n",
    "Show that $B(\\cdot, \\cdot)$ is continuous and inf-sup stable. Give good constants."
   ]
  },
  {
   "cell_type": "code",
   "execution_count": null,
   "id": "0f9cb972-bada-47c3-bb10-602a5d725c8c",
   "metadata": {},
   "outputs": [],
   "source": []
  }
 ],
 "metadata": {
  "kernelspec": {
   "display_name": "Python 3 (ipykernel)",
   "language": "python",
   "name": "python3"
  },
  "language_info": {
   "codemirror_mode": {
    "name": "ipython",
    "version": 3
   },
   "file_extension": ".py",
   "mimetype": "text/x-python",
   "name": "python",
   "nbconvert_exporter": "python",
   "pygments_lexer": "ipython3",
   "version": "3.12.2"
  }
 },
 "nbformat": 4,
 "nbformat_minor": 5
}
