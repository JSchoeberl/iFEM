{
 "cells": [
  {
   "cell_type": "markdown",
   "metadata": {},
   "source": [
    "$\\DeclareMathOperator{\\opdiv}{div}$\n",
    "$\\DeclareMathOperator{\\opcurl}{curl}$\n",
    "\n",
    "\n",
    "Relationship between HHJ and TDNNS\n",
    "===\n",
    "\n",
    "Both methdos are based on the same bilinear-form $b(\\sigma, v) = \\left< \\opdiv \\sigma, v \\right>$:\n",
    "\n",
    "$$\n",
    "b^\\text{TDNNS} (\\sigma, \\nabla w) = b^\\text{HHJ}(\\sigma, w)\n",
    "$$\n",
    "\n",
    "where\n",
    "\n",
    "$$ \n",
    "b^\\text{TDNNS}(.,.) : \\Sigma_h \\times V_h \\subset H(\\opdiv \\opdiv) \\times H (\\opcurl) \\rightarrow R\n",
    "$$ \n",
    "\n",
    "and\n",
    "\n",
    "$$\n",
    "b^\\text{HHJ}(.,.) : \\Sigma_h \\times W_h \\subset H(\\opdiv \\opdiv) \\times H^1 \\rightarrow R\n",
    "$$"
   ]
  },
  {
   "cell_type": "markdown",
   "metadata": {
    "collapsed": true
   },
   "source": [
    "Commuting diagram for $H^1 - H(\\opcurl)$\n",
    "---\n",
    "\n",
    "\n",
    "$$\n",
    "\\begin{array}{ccc}\n",
    "H^1  &  \\stackrel{\\opcurl}{\\longrightarrow}    & \n",
    "H(\\opcurl)                                                                                    \\\\[8pt]\n",
    "\\downarrow I_h  &                  &\n",
    "\\downarrow I_h                              \\\\[8pt]\n",
    "{\\mathcal L}_k          &      \n",
    "\\stackrel{\\opcurl}{\\longrightarrow}    & \n",
    "{\\mathcal N}_k  \\:                                                               \n",
    " \\\\[3ex]\n",
    "\\end{array}\n",
    "$$\n",
    "\n",
    "Where ${\\mathcal L}_k$ are the usual Lagrangian (nodal) finite elements, and ${\\mathcal N}_k$ are the tangentially continuous Nedelec elements (edge elements)."
   ]
  },
  {
   "cell_type": "code",
   "execution_count": null,
   "metadata": {
    "collapsed": true
   },
   "outputs": [],
   "source": []
  }
 ],
 "metadata": {
  "kernelspec": {
   "display_name": "Python 3",
   "language": "python",
   "name": "python3"
  },
  "language_info": {
   "codemirror_mode": {
    "name": "ipython",
    "version": 3
   },
   "file_extension": ".py",
   "mimetype": "text/x-python",
   "name": "python",
   "nbconvert_exporter": "python",
   "pygments_lexer": "ipython3",
   "version": "3.7.0"
  }
 },
 "nbformat": 4,
 "nbformat_minor": 2
}
