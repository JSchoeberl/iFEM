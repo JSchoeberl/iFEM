{
 "cells": [
  {
   "cell_type": "markdown",
   "metadata": {},
   "source": [
    "Nonlinear Shells\n",
    "==="
   ]
  },
  {
   "cell_type": "markdown",
   "metadata": {
    "collapsed": true
   },
   "source": [
    "Joint work with M. Neunteufel\n",
    "\n",
    "Geometric model and meshing. left surface only needed for boundary conditions."
   ]
  },
  {
   "cell_type": "code",
   "execution_count": 1,
   "metadata": {},
   "outputs": [],
   "source": [
    "from netgen.csg import *\n",
    "from ngsolve import *\n",
    "import netgen.gui\n",
    "\n",
    "geo = CSGeometry()\n",
    "cyl = Cylinder (Pnt(0,0,0),Pnt(1,0,0),0.4).bc(\"cyl\")\n",
    "left = Plane (Pnt(0,0,0), Vec(-1,0,0)).bc(\"left\")\n",
    "finitecyl = cyl * left * Plane(Pnt(1,0,0), Vec(1,0,0))\n",
    "\n",
    "geo.AddSurface (cyl, finitecyl)\n",
    "geo.AddSurface (left, finitecyl)\n",
    "\n",
    "mesh = Mesh(geo.GenerateMesh(maxh=0.2))\n",
    "mesh.Curve(3)\n",
    "Draw (mesh)"
   ]
  },
  {
   "cell_type": "markdown",
   "metadata": {},
   "source": [
    "Fields are: displacement $u \\in [H^1]^3$, rotation $\\beta \\in H(\\text{curl},S)$, stress $\\sigma \\in H(\\text{div div},S)$"
   ]
  },
  {
   "cell_type": "code",
   "execution_count": 2,
   "metadata": {},
   "outputs": [],
   "source": [
    "order = 3\n",
    "\n",
    "fes1 = HDivDivSurface(mesh, order=order-1)\n",
    "fes2 = H1(mesh, order=order, dirichlet=\"left\")\n",
    "fes3 = HCurl(mesh, order=order-1, dirichlet=\"left\")\n",
    "fes = FESpace([fes1,fes2,fes2,fes2,fes3])\n",
    "\n",
    "sigma,u1,u2,u3,beta = fes.TrialFunction()\n",
    "tau,v1,v2,v3,delta = fes.TestFunction()\n",
    "\n",
    "sigma = sigma.Trace()\n",
    "tau = tau.Trace()\n",
    "beta = beta.Trace()\n",
    "delta = delta.Trace()\n",
    "\n",
    "gradv = CoefficientFunction((grad(v1).Trace(),grad(v2).Trace(),grad(v3).Trace()),dims=(3,3))\n",
    "gradu = CoefficientFunction((grad(u1).Trace(),grad(u2).Trace(),grad(u3).Trace()),dims=(3,3))\n",
    "\n",
    "nsurf = specialcf.normal(3)\n",
    "t = specialcf.tangential(3)\n",
    "\n",
    "def Cross(a,b):\n",
    "    return CoefficientFunction( (a[1]*b[2]-a[2]*b[1],a[2]*b[0]-a[0]*b[2],a[0]*b[1]-a[1]*b[0]) )\n",
    "\n",
    "nel = Cross(nsurf, t)\n",
    "\n",
    "ngradv = gradv.trans*nsurf\n",
    "ngradu = gradu.trans*nsurf\n",
    "\n",
    "sigman = sigma*nel\n",
    "taun = tau*nel\n",
    "\n",
    "def tang(u):\n",
    "    return (u*t)*t\n",
    "\n",
    "thickness = 0.1"
   ]
  },
  {
   "cell_type": "markdown",
   "metadata": {},
   "source": [
    "Membrane energy with primal method for displacement vector $u$:\n",
    "$$\n",
    "\\int_S W(C_{tt}(u)) \n",
    "$$\n",
    "Shear energy, $\\beta$ a rotation field in tangential plane:\n",
    "$$\n",
    "\\int_S | n^T \\nabla u - \\beta |^2 \n",
    "$$\n",
    "Bending energy (with TDNNS mixed method):\n",
    "$$\n",
    "t^2 \\int_S | \\varepsilon_{tt}(\\beta) |^2\n",
    "$$"
   ]
  },
  {
   "cell_type": "code",
   "execution_count": 3,
   "metadata": {},
   "outputs": [],
   "source": [
    "a = BilinearForm(fes, symmetric=True)\n",
    "a += SymbolicBFI( (-1/thickness**2*InnerProduct(sigma,tau)).Compile(True), BND)\n",
    "a += SymbolicBFI( (-div(sigma)*delta - div(tau)*beta).Compile(True), BND )\n",
    "a += SymbolicBFI( (sigman * tang(delta) + taun*tang(beta)).Compile(True), BND, element_boundary=True )\n",
    "\n",
    "a += SymbolicEnergy( (0.5*(ngradu-beta)*(ngradu-beta)).Compile(True), BND )\n",
    "\n",
    "nsurfmat = CoefficientFunction( (nsurf,), dims=(3,1))\n",
    "Ptau = Id(3) - nsurfmat * nsurfmat.trans\n",
    "Ftau = gradu + Ptau\n",
    "Ctautau = Ftau.trans * Ftau\n",
    "Etautau = Ctautau - Ptau\n",
    "a += SymbolicEnergy( (InnerProduct (Etautau, Etautau)).Compile(True), BND )\n",
    "\n",
    "factor = Parameter(0.1)\n",
    "a += SymbolicEnergy( (-factor*y * u2).Compile(True), BND )\n",
    "\n",
    "u = GridFunction(fes)\n",
    "\n",
    "uvec = CoefficientFunction(u.components[1:4])\n",
    "\n",
    "Draw(u.components[4], mesh, \"rotations\")\n",
    "Draw(uvec, mesh, \"disp\", sd=4)\n",
    "\n",
    "solsigma = CoefficientFunction([u.components[0]], None)\n",
    "# Draw(u.components[0], mesh, \"sigma\")\n",
    "Draw(solsigma, mesh, \"sigma\", sd=4)"
   ]
  },
  {
   "cell_type": "markdown",
   "metadata": {},
   "source": [
    "Increase the load step-wise, solve the non-linear problem by Newton's method. First and second order derivatives are computed by automatic differentiation."
   ]
  },
  {
   "cell_type": "code",
   "execution_count": 4,
   "metadata": {},
   "outputs": [
    {
     "name": "stdout",
     "output_type": "stream",
     "text": [
      "loadstep  0\n",
      "Newton iteration  0\n",
      "energy =  9.385554547969789e-32\n",
      "tau =  0.5\n",
      "energy uh =  -0.0464076953847663\n",
      "Newton iteration  1\n",
      "energy =  -0.04640769538476629\n",
      "Newton iteration  2\n",
      "energy =  -0.05969811055414346\n",
      "Newton iteration  3\n",
      "energy =  -0.060188892523224485\n",
      "Newton iteration  4\n",
      "energy =  -0.060197008583245344\n",
      "Newton iteration  5\n",
      "energy =  -0.060197013034633824\n",
      "Newton iteration  6\n",
      "energy =  -0.060197013034635836\n",
      "loadstep  1\n",
      "Newton iteration  0\n",
      "energy =  -0.16212877624059613\n",
      "Newton iteration  1\n",
      "energy =  -0.18047030359955413\n",
      "Newton iteration  2\n",
      "energy =  -0.1881411344828965\n",
      "Newton iteration  3\n",
      "energy =  -0.18829278797325397\n",
      "Newton iteration  4\n",
      "energy =  -0.18829323589939168\n",
      "Newton iteration  5\n",
      "energy =  -0.1882932359053115\n",
      "loadstep  2\n",
      "Newton iteration  0\n",
      "energy =  -0.3391246325802083\n",
      "Newton iteration  1\n",
      "energy =  -0.35472110553465824\n",
      "Newton iteration  2\n",
      "energy =  -0.35802220286281283\n",
      "Newton iteration  3\n",
      "energy =  -0.35820310983034076\n",
      "Newton iteration  4\n",
      "energy =  -0.35823429355522934\n",
      "Newton iteration  5\n",
      "energy =  -0.3582355218606291\n",
      "Newton iteration  6\n",
      "energy =  -0.35823552663766817\n",
      "Newton iteration  7\n",
      "energy =  -0.3582355266377316\n",
      "loadstep  3\n",
      "Newton iteration  0\n",
      "energy =  -0.545934144326212\n",
      "Newton iteration  1\n",
      "energy =  -0.5533557874560733\n",
      "Newton iteration  2\n",
      "energy =  -0.5598812394438284\n",
      "Newton iteration  3\n",
      "energy =  -0.5602257500879521\n",
      "Newton iteration  4\n",
      "energy =  -0.560256843307439\n",
      "Newton iteration  5\n",
      "energy =  -0.5602573408039925\n",
      "Newton iteration  6\n",
      "energy =  -0.5602573409856751\n"
     ]
    }
   ],
   "source": [
    "from newtonsolver import NewtonMinimization\n",
    "\n",
    "for loadstep in range(4):\n",
    "    print (\"loadstep \", loadstep)\n",
    "    factor.Set (3*(loadstep+1))\n",
    "    with TaskManager():\n",
    "        NewtonMinimization (a, u)\n",
    "    Redraw(blocking=True)"
   ]
  },
  {
   "cell_type": "code",
   "execution_count": null,
   "metadata": {
    "collapsed": true
   },
   "outputs": [],
   "source": []
  }
 ],
 "metadata": {
  "kernelspec": {
   "display_name": "Python 3",
   "language": "python",
   "name": "python3"
  },
  "language_info": {
   "codemirror_mode": {
    "name": "ipython",
    "version": 3
   },
   "file_extension": ".py",
   "mimetype": "text/x-python",
   "name": "python",
   "nbconvert_exporter": "python",
   "pygments_lexer": "ipython3",
   "version": "3.7.2"
  }
 },
 "nbformat": 4,
 "nbformat_minor": 2
}
