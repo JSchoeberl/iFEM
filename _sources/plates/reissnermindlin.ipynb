{
 "cells": [
  {
   "cell_type": "markdown",
   "metadata": {},
   "source": [
    "$\\DeclareMathOperator{\\opdiv}{div}$\n",
    "$\\DeclareMathOperator{\\opcurl}{curl}$\n",
    "\n",
    "Reissner Mindlin Plates\n",
    "====\n",
    "\n",
    "We search for the vertical deflection $w$ and the linearized rotation vector $\\beta$. The internal energy is\n",
    "\n",
    "$$\n",
    "\\| \\varepsilon(\\beta) \\|_{L_2}^2 + \\frac{1}{t^2} \\| \\nabla w - \\beta \\|_{L_2}\n",
    "$$\n",
    "\n",
    "where $t$ is the thickness of the plate. For $t \\rightarrow 0$, this can be understood as a penalty formulation for the shear-free constraint\n",
    "\n",
    "$$\n",
    "\\beta = \\nabla w\n",
    "$$\n",
    "\n",
    "In the limit case, the internal energy is \n",
    "\n",
    "$$\n",
    "\\| \\varepsilon(\\nabla w) \\|_{L_2}^2,\n",
    "$$\n",
    "\n",
    "and we have the Kirchhoff plate model.\n",
    "\n",
    "We are interested in positive, but small parameters $t$. If there are not enough finite element functions such that the discrete Kirchhoff constraint\n",
    "\n",
    "$$\n",
    "\\beta_h = \\nabla w_h\n",
    "$$\n",
    "\n",
    "can be satisfied, we observe bad results known as shear locking.\n",
    "\n",
    "Now, we apply the TDNNS method to discretize the bending term $\\| \\varepsilon(\\beta) \\|_{L_2}^2$. We discretize the rotation in the Nedelec space. Thus, all discrete gradients $\\nabla w_h$ are in the space of rotations, and we don't have the locking problem.\n",
    "\n",
    "Find: $\\sigma \\in H(\\opdiv \\opdiv)$, $\\beta \\in H(\\opcurl)$, $w \\in H^1$ such that\n",
    "\n",
    "$$\n",
    "\\begin{array}{ccccll}\n",
    "\\int A \\sigma : \\tau & + & \\left< \\opdiv \\tau, \\beta \\right> & = & 0  \\quad & \\forall \\, \\tau \\\\\n",
    "\\left< \\opdiv \\sigma, \\delta \\right> & - & t^2 \\int (\\nabla w - \\beta) (\\nabla v - \\delta) & = & \\int f v \\quad & \\forall \\, v, \\delta \n",
    "\\end{array}\n",
    "$$"
   ]
  },
  {
   "cell_type": "code",
   "execution_count": 1,
   "metadata": {},
   "outputs": [],
   "source": [
    "from ngsolve import *\n",
    "from netgen.geom2d import unit_square\n",
    "import netgen.gui"
   ]
  },
  {
   "cell_type": "code",
   "execution_count": 2,
   "metadata": {},
   "outputs": [],
   "source": [
    "mesh = Mesh (unit_square.GenerateMesh(maxh=0.1))\n",
    "Draw (mesh)\n",
    "\n",
    "order = 2\n",
    "Sigma = HDivDiv(mesh, order=order, dirichlet=\".*\")\n",
    "W = H1(mesh, order=order+1, dirichlet=\".*\")\n",
    "V = HCurl(mesh, order=order, dirichlet=\".*\")\n",
    "X = FESpace([Sigma,W,V])"
   ]
  },
  {
   "cell_type": "code",
   "execution_count": 3,
   "metadata": {},
   "outputs": [],
   "source": [
    "sigma, w, beta = X.TrialFunction()\n",
    "tau, v, delta = X.TestFunction()\n",
    "\n",
    "thick = 0.01\n",
    "\n",
    "n = specialcf.normal(2)\n",
    "def tang(u): return u-(u*n)*n\n",
    "\n",
    "a = BilinearForm(X, symmetric=True)\n",
    "a += SymbolicBFI (InnerProduct (sigma, tau) + div(sigma)*delta \n",
    "                  + div(tau)*beta)\n",
    "a += SymbolicBFI (-(sigma*n) * tang(delta) - (tau*n)*tang(beta), \n",
    "                  element_boundary=True)\n",
    "a += SymbolicBFI (-thick**2*(grad(w)-beta)*((grad(v)-delta)))\n",
    "a.Assemble()\n",
    "\n",
    "f = LinearForm(X)\n",
    "f += SymbolicLFI (500 * v)\n",
    "f.Assemble()\n",
    "\n",
    "u = GridFunction(X)\n",
    "u.vec.data = a.mat.Inverse(X.FreeDofs()) * f.vec\n",
    "\n",
    "Draw (u.components[0], mesh, name=\"sigma\")\n",
    "Draw (u.components[1], mesh, name=\"disp\")\n",
    "Draw (u.components[2], mesh, name=\"rotation\")"
   ]
  },
  {
   "cell_type": "code",
   "execution_count": null,
   "metadata": {},
   "outputs": [],
   "source": []
  }
 ],
 "metadata": {
  "kernelspec": {
   "display_name": "Python 3",
   "language": "python",
   "name": "python3"
  },
  "language_info": {
   "codemirror_mode": {
    "name": "ipython",
    "version": 3
   },
   "file_extension": ".py",
   "mimetype": "text/x-python",
   "name": "python",
   "nbconvert_exporter": "python",
   "pygments_lexer": "ipython3",
   "version": "3.7.0"
  }
 },
 "nbformat": 4,
 "nbformat_minor": 2
}
