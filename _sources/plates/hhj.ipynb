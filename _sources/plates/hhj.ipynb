{
 "cells": [
  {
   "cell_type": "markdown",
   "metadata": {},
   "source": [
    "$\\DeclareMathOperator{\\opdiv}{div}$\n",
    "\n",
    "The Hellan Herrmann Johnson Method for Kirchhoff plates\n",
    "===\n",
    "\n",
    "\n",
    "Genuine, but not well known method for $4^{th}$ order problems\n",
    "\n",
    "Hellan 67, Herrmann 67, Johnson 73, Arnold+Brezzi 85, Comodi 89,\n",
    "Krendl+Rafetseder+Zulehner 16, Chen+Hu+Huang 16, Braess+Pechstein+JS 17\n",
    "\n",
    "Is an arbitrary order ($k \\geq 0$) mixed discretization method on\n",
    "possibly curved, mapped triangular elements.\n",
    "\n",
    "Allows hybridization to obtain a positive definite system matrix,\n",
    "lowest order case corresponds to the Morley element.\n",
    "\n",
    "The (newer) TD-NNS method is tightly connected to the (much older) HHJ method.\n",
    "\n",
    "With Braess: Prager-Synge type constant-free a posteriori error\n",
    "estimates using $C^0-DG$ and HHJ"
   ]
  },
  {
   "cell_type": "markdown",
   "metadata": {
    "collapsed": true
   },
   "source": [
    "Kirchhoff Plate equation\n",
    "--\n",
    "\n",
    "\n",
    "Find vertical deflection $w$ such that\n",
    "\n",
    "$$\n",
    "\\opdiv \\opdiv \\nabla^2 w = f \\qquad \\text{ + boundary conditions}\n",
    "$$\n",
    "\n",
    "Reduce to second order system:\n",
    "\n",
    "\\begin{eqnarray*}\n",
    "\\sigma - \\nabla^2 w & = & 0 \\\\\n",
    "\\opdiv \\opdiv \\sigma & = & f\n",
    "\\end{eqnarray*}\n",
    "\n",
    "Variational formulation with $\\sigma \\in H(\\opdiv)^{SYM}$ and $w \\in H^1$:\n",
    "\n",
    "$$\n",
    "\\begin{array}{ccccll}\n",
    "\\int \\sigma \\tau & + & \\int \\opdiv \\tau \\, \\nabla w & = & 0 & \\forall \\, \\tau \\\\[0.5em]\n",
    "\\int \\opdiv \\sigma \\nabla v & & & = & \\int f v & \\forall \\, v\n",
    "\\end{array}\n",
    "$$\n",
    "\n",
    "Hellan-Herrmann-Johnson method\n",
    "---\n",
    "\n",
    "Find $\\sigma_h \\in \\Sigma_h \\subset H(\\opdiv \\opdiv)$ and $w_h \\in W_h \\subset H^1$ such that\n",
    "\n",
    "$$\n",
    "\\begin{array}{ccccll}\n",
    "\\int \\sigma_h \\tau & + & \\sum_T \\int_T \\opdiv \\tau \\, \\nabla w_h + \\int_{\\partial T} \\tau_{nt} \\nabla_t w_h & = & 0 & \\forall \\, \\tau \\\\[0.5em]\n",
    "\\sum_T \\int_T \\opdiv \\sigma_h \\nabla v + \\int_{\\partial_T} \\sigma_{nt} \\nabla_t v & & & = & \\int f v & \\forall \\, v\n",
    "\\end{array}\n",
    "$$\n",
    "\n",
    "This mixed method satisfies the magic discrete kernel inclusion\n",
    "\n",
    "$$\n",
    "V_{h,0} \\subset V_0\n",
    "$$\n",
    "\n",
    "leading to the best-approximation property of the bending moments $\\sigma$:\n",
    "\n",
    "$$\n",
    "\\| \\sigma - \\sigma_h \\|_{L_2} \\leq \\inf_{\\tau_h \\in \\Sigma_h} \\| \\sigma - \\tau_h \\|_{L_2}  + \\| f - I_h f \\|\n",
    "$$\n"
   ]
  },
  {
   "cell_type": "code",
   "execution_count": 1,
   "metadata": {},
   "outputs": [],
   "source": [
    "from ngsolve import *\n",
    "from netgen.geom2d import unit_square\n",
    "import netgen.gui"
   ]
  },
  {
   "cell_type": "code",
   "execution_count": 2,
   "metadata": {},
   "outputs": [
    {
     "name": "stdout",
     "output_type": "stream",
     "text": [
      "ndof-Sigma: 3165 , ndof-W: 1096 , ndof-X: 4261\n"
     ]
    }
   ],
   "source": [
    "mesh = Mesh (unit_square.GenerateMesh(maxh=0.1))\n",
    "Draw (mesh)\n",
    "\n",
    "order = 2\n",
    "Sigma = HDivDiv(mesh, order=order, dirichlet=[1])\n",
    "W = H1(mesh, order=order+1, dirichlet=[1,2,4])\n",
    "X = FESpace([Sigma,W])\n",
    "\n",
    "print (\"ndof-Sigma:\", Sigma.ndof, \", ndof-W:\", W.ndof, \", ndof-X:\", X.ndof)"
   ]
  },
  {
   "cell_type": "code",
   "execution_count": 3,
   "metadata": {},
   "outputs": [],
   "source": [
    "sigma, u = X.TrialFunction()\n",
    "tau, v = X.TestFunction()\n",
    "\n",
    "n = specialcf.normal(2)\n",
    "def tang(u): return u-(u*n)*n\n",
    "\n",
    "a = BilinearForm(X, symmetric=True)\n",
    "a += SymbolicBFI (InnerProduct (sigma, tau) + div(sigma)*grad(v) \n",
    "                  + div(tau)*grad(u))\n",
    "a += SymbolicBFI (-(sigma*n) * tang(grad(v)) - (tau*n)*tang(grad(u)), \n",
    "                  element_boundary=True)\n",
    "a.Assemble()\n",
    "\n",
    "f = LinearForm(X)\n",
    "f += SymbolicLFI (500 * v)\n",
    "f.Assemble()\n",
    "\n",
    "u = GridFunction(X)\n",
    "u.vec.data = a.mat.Inverse(X.FreeDofs()) * f.vec\n",
    "\n",
    "Draw (u.components[0], mesh, name=\"sigma\")\n",
    "Draw (u.components[1], mesh, name=\"disp\")\n",
    "Draw (grad(u.components[1]), mesh, name=\"rotation\")"
   ]
  },
  {
   "cell_type": "code",
   "execution_count": null,
   "metadata": {
    "collapsed": true
   },
   "outputs": [],
   "source": []
  },
  {
   "cell_type": "code",
   "execution_count": null,
   "metadata": {
    "collapsed": true
   },
   "outputs": [],
   "source": []
  }
 ],
 "metadata": {
  "kernelspec": {
   "display_name": "Python 3",
   "language": "python",
   "name": "python3"
  },
  "language_info": {
   "codemirror_mode": {
    "name": "ipython",
    "version": 3
   },
   "file_extension": ".py",
   "mimetype": "text/x-python",
   "name": "python",
   "nbconvert_exporter": "python",
   "pygments_lexer": "ipython3",
   "version": "3.7.2"
  }
 },
 "nbformat": 4,
 "nbformat_minor": 2
}
