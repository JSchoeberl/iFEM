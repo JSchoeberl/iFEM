{
 "cells": [
  {
   "cell_type": "markdown",
   "metadata": {},
   "source": [
    "3D-TDNNS Elasticity and Reissner Mindlin Plate elements\n",
    "===\n",
    "\n",
    "Thin 3D prismatic element:\n",
    "\n",
    "<img src=\"prism_dofs.pdf\" width=\"200\"> \n",
    "\n",
    "degrees of freedom correspond to Reissner-Mindlin element:\n",
    "\n",
    "<img src=\"rm_trig_dofs.pdf\" width=\"200\"> \n",
    "\n",
    "\n",
    "Flat 3D elements are robust for anisotropic elements. Result from Pechstein+Schöberl, 12:\n",
    "\n",
    "$$\n",
    "\\| \\sigma - \\sigma_h \\|_{L_2} \\leq h_x \\| \\partial_x \\varepsilon(u) \\|_{L_2} + h_y \\| \\partial_y \\varepsilon(u) \\|_{L_2}\n",
    "$$ \n",
    "\n",
    "Error analysis avoids (bad) Korn's inequality"
   ]
  },
  {
   "cell_type": "code",
   "execution_count": null,
   "metadata": {
    "collapsed": true
   },
   "outputs": [],
   "source": []
  }
 ],
 "metadata": {
  "kernelspec": {
   "display_name": "Python 3",
   "language": "python",
   "name": "python3"
  },
  "language_info": {
   "codemirror_mode": {
    "name": "ipython",
    "version": 3
   },
   "file_extension": ".py",
   "mimetype": "text/x-python",
   "name": "python",
   "nbconvert_exporter": "python",
   "pygments_lexer": "ipython3",
   "version": "3.7.0"
  }
 },
 "nbformat": 4,
 "nbformat_minor": 2
}
