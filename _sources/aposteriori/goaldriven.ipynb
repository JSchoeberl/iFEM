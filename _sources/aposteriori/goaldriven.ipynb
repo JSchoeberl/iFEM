{
 "cells": [
  {
   "cell_type": "markdown",
   "id": "747a8e88-fbb4-4a95-852c-be291ee68a90",
   "metadata": {},
   "source": [
    "# Goal driven error estimates\n",
    "\n",
    "The above error estimators estimate the error in the energy norm $V$.\n",
    "Some applications require to compute certain values (such as point values, average values, line integrals, fluxes through surfaces, ...). These \n",
    "values are descibed by linear functionals $b : V \\rightarrow {\\mathbb R}$.\n",
    "We want to design a method such that the error in this goal, i.e.,\n",
    "$$\n",
    "b(u) - b(u_h) \n",
    "$$\n",
    "is small. The technique is to solve additionally the dual problem, where \n",
    "the right hand side is the goal functional:\n",
    "$$\n",
    "\\mbox{Find } w \\in V : \\qquad A(v, w) = b(v) \\qquad \\forall \\, v \\in V.\n",
    "$$\n",
    "Usually, one cannot solve the dual problem either, and one applies a Galerkin method also for the dual problem:\n",
    "$$\n",
    "\\mbox{Find } w_h \\in V_h : \\qquad A(v_h, w_h) = b(v_h) \\qquad \\forall \\, v_h \\in V_h.\n",
    "$$\n",
    "In the case of point values, the solution of the dual problem is the Green\n",
    "function (which is not in $H^1$). The error in the goal is\n",
    "$$\n",
    "b(u-u_h) = A(u-u_h, w) = A(u-u_h, w-w_h).\n",
    "$$\n",
    "A rigorous upper bound for the error in the goal is obtained by using\n",
    "continuity of the bilinear-form, and energy error estimates \n",
    "$\\eta^1$ and $\\eta^2$ for the primal and\n",
    "dual problem, respectively:\n",
    "$$\n",
    "| b(u-u_h) | \\preceq \\| u - u_h \\|_V \\| w - w_h \\|_V \\preceq\n",
    "         \\eta^1(u_h, f) \\, \\eta^2(w_h, b).\n",
    "$$\n",
    "\n",
    "A good heuristic is the following (unfortunately, not correct)\n",
    "estimate\n",
    "\\begin{equation}\n",
    "\\label{equ_incorrect}\n",
    "b(u-u_h)  = A(u-u_h, w-w_h) \\preceq \\sum_{T \\in {\\cal T} } \n",
    "        \\| u - u_h \\|_{H^1(T)} \\, \\| w - w_h \\|_{H^1(T)} \n",
    "        \\preceq \\sum_{T} \\eta_T^1 (u_h, f) \\, \\eta_T^2 (w_h, b)\n",
    "\\end{equation}\n",
    "The last step would require a local reliability estimate. But, this is\n",
    "not true.\n",
    "\n",
    "We can interpret (\\ref{equ_incorrect}) that way: The local estimators\n",
    "$\\eta^2_T(w_h)$ provide a way for weighting the primal local estimators\n",
    "according to the desired goal."
   ]
  },
  {
   "cell_type": "code",
   "execution_count": null,
   "id": "99503082-1c50-45f0-b05d-fca48cce96b5",
   "metadata": {},
   "outputs": [],
   "source": []
  }
 ],
 "metadata": {
  "kernelspec": {
   "display_name": "Python 3 (ipykernel)",
   "language": "python",
   "name": "python3"
  },
  "language_info": {
   "codemirror_mode": {
    "name": "ipython",
    "version": 3
   },
   "file_extension": ".py",
   "mimetype": "text/x-python",
   "name": "python",
   "nbconvert_exporter": "python",
   "pygments_lexer": "ipython3",
   "version": "3.12.2"
  }
 },
 "nbformat": 4,
 "nbformat_minor": 5
}
