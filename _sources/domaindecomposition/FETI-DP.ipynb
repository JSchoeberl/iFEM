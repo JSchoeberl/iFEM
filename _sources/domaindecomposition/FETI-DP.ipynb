{
 "cells": [
  {
   "cell_type": "markdown",
   "id": "structured-india",
   "metadata": {},
   "source": [
    "FETI-DP\n",
    "===\n",
    "\n",
    "There is a problem with the FETI method if the bilinear-form is just $A(u,v) = \\int \\nabla u \\nabla v$, since then sub-domains without Dirichlet boundary conditions lead to singular $A$-blocks (called *floating sub-domains*)\n",
    "\n",
    "The FETI - DP (where DP stands for dual/primal) is not to break all continuity, but keep some degrees of freedom continuous. E.g. keep the functions connected at the vertices. Then, the $A$-matrix is regular, and it is still cheap to invert. \n",
    "\n",
    "We implement the vertex by introducing additional primal variables, and gluing the sub-domain fields to the vertex variables by a penalty method. "
   ]
  },
  {
   "cell_type": "code",
   "execution_count": null,
   "id": "quick-parameter",
   "metadata": {},
   "outputs": [],
   "source": [
    "from ngsolve import *\n",
    "from ngsolve.webgui import Draw\n",
    "from netgen.geom2d import CSG2d, Rectangle\n",
    "\n",
    "geo = CSG2d()\n",
    "\n",
    "mx, my = 3,3\n",
    "for i in range(mx): \n",
    "    for j in range(my):\n",
    "        rect = Rectangle(pmin=(i/mx,j/my), \\\n",
    "                         pmax=((i+1)/mx,(j+1)/mx), \\\n",
    "                         mat='mat'+str(i)+str(j), \\\n",
    "                         bc = 'default', \\\n",
    "                         bottom = 'bot' if j == 0 else None)\n",
    "                  \n",
    "        geo.Add(rect)\n",
    "        \n",
    "mesh = Mesh(geo.GenerateMesh(maxh=0.05))\n",
    "print (mesh.GetMaterials())\n",
    "print (mesh.GetBoundaries())\n",
    "print (mesh.GetBBoundaries())\n",
    "Draw (mesh);"
   ]
  },
  {
   "cell_type": "markdown",
   "id": "liable-disorder",
   "metadata": {},
   "source": [
    "sub-domain spaces, plus a Vertex-space with degrees of freedom only in the sub-domain vertices. (unfortunately these freedoms are not activated per default and have to be set manually, will be fixed)."
   ]
  },
  {
   "cell_type": "code",
   "execution_count": null,
   "id": "desirable-ontario",
   "metadata": {},
   "outputs": [],
   "source": [
    "fes = None\n",
    "for dom in mesh.Materials('.*').Split():\n",
    "    fesi = Compress(H1(mesh, definedon=dom, dirichlet=\"bot\"))\n",
    "    fes = fes * fesi if fes else fesi\n",
    "\n",
    "fesVertex = H1(mesh, definedon=mesh.BBoundaries('.*'))\n",
    "fes = fes * fesVertex\n",
    "print (\"ndof =\", fes.ndof)\n",
    "\n",
    "freedofs = fes.FreeDofs()\n",
    "for el in fes.Elements(BBND):\n",
    "    freedofs.Set(el.dofs[-1])\n",
    "\n",
    "u, v = fes.TnT()\n",
    "\n",
    "domtrial = {} \n",
    "domtest = {}\n",
    "for nr,dom in enumerate (mesh.Materials('.*').Split()):\n",
    "    domtrial[dom] = u[nr]\n",
    "    domtest[dom] = v[nr]"
   ]
  },
  {
   "cell_type": "code",
   "execution_count": null,
   "id": "supreme-liquid",
   "metadata": {},
   "outputs": [],
   "source": [
    "feslam = None\n",
    "for inter in mesh.Boundaries('.*').Split():\n",
    "    doms = inter.Neighbours(VOL).Split()\n",
    "    if len(doms) == 2:\n",
    "        feslami = Compress(H1(mesh, definedon=inter))\n",
    "        feslam = feslam * feslami if feslam else feslami \n",
    "    \n",
    "print (\"ndof-lam:\", feslam.ndof)\n",
    "\n",
    "lam, mu = feslam.TnT()\n",
    "\n",
    "intertrial = {} \n",
    "intertest = {}\n",
    "nr = 0\n",
    "for inter in mesh.Boundaries('.*').Split():\n",
    "    doms = inter.Neighbours(VOL).Split()\n",
    "    if len(doms) == 2:\n",
    "        intertrial[inter] = lam[nr]\n",
    "        intertest[inter] = mu[nr]\n",
    "        nr = nr+1"
   ]
  },
  {
   "cell_type": "code",
   "execution_count": null,
   "id": "tutorial-technology",
   "metadata": {},
   "outputs": [],
   "source": [
    "a = BilinearForm(fes)\n",
    "f = LinearForm(fes)\n",
    "b = BilinearForm(trialspace=fes, testspace=feslam)\n",
    "\n",
    "uvert,vvert = u[-1], v[-1]\n",
    "import ngsolve.comp\n",
    "dVert = ngsolve.comp.DifferentialSymbol(BBND)\n",
    "\n",
    "for dom in mesh.Materials('.*').Split():\n",
    "    print (\"vertices of dom: \", dom.Boundaries().Boundaries().Mask())\n",
    "    ui, vi = domtrial[dom], domtest[dom]\n",
    "    a += grad(ui)*grad(vi)*dx \n",
    "    a += 1e6*(ui-uvert)*(vi-vvert)*dVert(dom.Boundaries().Boundaries())\n",
    "    f += y*x*vi*dx\n",
    "    \n",
    "\n",
    "for inter in mesh.Boundaries('.*').Split():\n",
    "    doms = inter.Neighbours(VOL).Split()\n",
    "    if len(doms) == 2:\n",
    "        dom1,dom2 = doms\n",
    "        b += (domtrial[dom1]-domtrial[dom2]) * intertest[inter] * ds(inter)\n",
    "        \n",
    "a.Assemble()\n",
    "b.Assemble()\n",
    "f.Assemble()"
   ]
  },
  {
   "cell_type": "code",
   "execution_count": null,
   "id": "binary-reunion",
   "metadata": {},
   "outputs": [],
   "source": [
    "gfu = GridFunction(fes)"
   ]
  },
  {
   "cell_type": "code",
   "execution_count": null,
   "id": "level-silver",
   "metadata": {},
   "outputs": [],
   "source": [
    "ainv = a.mat.Inverse(inverse=\"sparsecholesky\", freedofs=fes.FreeDofs())\n",
    "S = b.mat @ ainv @ b.mat.T\n",
    "g = (b.mat @ ainv * f.vec).Evaluate()\n",
    "\n",
    "from ngsolve.krylovspace import CGSolver\n",
    "invS = CGSolver(S, pre=IdentityMatrix(feslam.ndof), printrates=\"\\r\", maxiter=500)\n",
    "\n",
    "lam = g.CreateVector()\n",
    "lam.data = invS * g\n",
    "gfu.vec.data = ainv * (f.vec - b.mat.T * lam)"
   ]
  },
  {
   "cell_type": "code",
   "execution_count": null,
   "id": "suited-spencer",
   "metadata": {},
   "outputs": [],
   "source": [
    "bnddofs = fes.GetDofs(mesh.Boundaries(\".*\"))\n",
    "innerdofs = ~bnddofs & fes.FreeDofs()\n",
    "\n",
    "massbnd = BilinearForm(fes)\n",
    "for (ui,vi) in zip(u,v):\n",
    "    massbnd += ui*vi*ds\n",
    "massbnd.Assemble()\n",
    "invmassbnd = massbnd.mat.Inverse(inverse=\"sparsecholesky\", freedofs=bnddofs)\n",
    "\n",
    "massinter = BilinearForm(feslam)\n",
    "for inter in mesh.Boundaries('.*').Split():\n",
    "    doms = inter.Neighbours(VOL).Split()\n",
    "    if len(doms) == 2:\n",
    "        massinter += intertrial[inter]*intertest[inter]*ds(inter)\n",
    "massinter.Assemble()\n",
    "\n",
    "emb = invmassbnd@b.mat.T@massinter.mat.Inverse(inverse=\"sparsecholesky\")"
   ]
  },
  {
   "cell_type": "code",
   "execution_count": null,
   "id": "continuous-consideration",
   "metadata": {},
   "outputs": [],
   "source": [
    "SchurDir = a.mat - a.mat@a.mat.Inverse(inverse=\"sparsecholesky\", freedofs=innerdofs)@a.mat\n",
    "pre = emb.T @ SchurDir @ emb\n",
    "\n",
    "invS = CGSolver(S, pre=pre, printrates=\"\\r\", maxiter=500)\n",
    "\n",
    "lam = g.CreateVector()\n",
    "lam.data = invS * g\n",
    "gfu.vec.data = ainv * (f.vec - b.mat.T * lam)"
   ]
  },
  {
   "cell_type": "code",
   "execution_count": null,
   "id": "bridal-alpha",
   "metadata": {},
   "outputs": [],
   "source": [
    "gftot = CF ( list(gfu.components) )\n",
    "Draw(gftot, mesh);"
   ]
  },
  {
   "cell_type": "code",
   "execution_count": null,
   "id": "periodic-consortium",
   "metadata": {},
   "outputs": [],
   "source": []
  },
  {
   "cell_type": "code",
   "execution_count": null,
   "id": "strange-premises",
   "metadata": {},
   "outputs": [],
   "source": []
  }
 ],
 "metadata": {
  "kernelspec": {
   "display_name": "Python 3",
   "language": "python",
   "name": "python3"
  },
  "language_info": {
   "codemirror_mode": {
    "name": "ipython",
    "version": 3
   },
   "file_extension": ".py",
   "mimetype": "text/x-python",
   "name": "python",
   "nbconvert_exporter": "python",
   "pygments_lexer": "ipython3",
   "version": "3.9.5"
  }
 },
 "nbformat": 4,
 "nbformat_minor": 5
}
