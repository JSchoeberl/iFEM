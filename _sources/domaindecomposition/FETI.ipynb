{
 "cells": [
  {
   "cell_type": "markdown",
   "id": "pointed-columbus",
   "metadata": {},
   "source": [
    "FETI methods\n",
    "===\n",
    "\n",
    "Finite Element Tearing and Interconnection.\n",
    "\n",
    "As the name says, we break the global (finite element) system apart, and then enforce continuity. "
   ]
  },
  {
   "cell_type": "code",
   "execution_count": null,
   "id": "empirical-brunei",
   "metadata": {},
   "outputs": [],
   "source": [
    "from ngsolve import *\n",
    "from ngsolve.webgui import Draw\n",
    "from netgen.geom2d import CSG2d, Rectangle\n",
    "\n",
    "geo = CSG2d()\n",
    "\n",
    "mx, my = 3,3\n",
    "for i in range(mx): \n",
    "    for j in range(my):\n",
    "        rect = Rectangle(pmin=(i/mx,j/my), \\\n",
    "                         pmax=((i+1)/mx,(j+1)/mx), \\\n",
    "                         mat='mat'+str(i)+str(j), \\\n",
    "                         bc = 'default', \\\n",
    "                         bottom = 'bot' if j == 0 else None)\n",
    "                  \n",
    "        geo.Add(rect)\n",
    "        \n",
    "mesh = Mesh(geo.GenerateMesh(maxh=0.04))\n",
    "print (mesh.GetMaterials())\n",
    "print (mesh.GetBoundaries())\n",
    "Draw (mesh);"
   ]
  },
  {
   "cell_type": "markdown",
   "id": "active-southwest",
   "metadata": {},
   "source": [
    "We define $H^1$-spaces on sub-domains $\\Omega_i$. The product spaces is \n",
    "\n",
    "$$\n",
    "V = \\Pi_i H^1(\\Omega_i)\n",
    "$$"
   ]
  },
  {
   "cell_type": "code",
   "execution_count": null,
   "id": "smaller-victor",
   "metadata": {},
   "outputs": [],
   "source": [
    "fes = None\n",
    "for dom in mesh.Materials('.*').Split():\n",
    "    fesi = Compress(H1(mesh, definedon=dom, dirichlet=\"bot\"))\n",
    "    fes = fes * fesi if fes else fesi\n",
    "\n",
    "print (\"ndof =\", fes.ndof)\n",
    "\n",
    "u, v = fes.TnT()\n",
    "\n",
    "domtrial = {} \n",
    "domtest = {}\n",
    "for nr,dom in enumerate (mesh.Materials('.*').Split()):\n",
    "    domtrial[dom] = u[nr]\n",
    "    domtest[dom] = v[nr]"
   ]
  },
  {
   "cell_type": "markdown",
   "id": "material-ozone",
   "metadata": {},
   "source": [
    "We identify the interfaces (i.e. internal boundaries) between two sub-domains. On these $\\gamma_{ij}$ we define spaces for the Lagrange parameter. Although the spaces are $H^{-1/2}$, we use $H^1(\\gamma_{ij})$ to obtain the same number of constraints as we have basis functions on the interface."
   ]
  },
  {
   "cell_type": "code",
   "execution_count": null,
   "id": "upset-angola",
   "metadata": {},
   "outputs": [],
   "source": [
    "feslam = None\n",
    "for inter in mesh.Boundaries('.*').Split():\n",
    "    doms = inter.Neighbours(VOL).Split()\n",
    "    if len(doms) == 2:\n",
    "        feslami = Compress(H1(mesh, definedon=inter))\n",
    "        feslam = feslam * feslami if feslam else feslami \n",
    "    \n",
    "print (\"ndof-lam:\", feslam.ndof)\n",
    "\n",
    "lam, mu = feslam.TnT()\n",
    "\n",
    "intertrial = {} \n",
    "intertest = {}\n",
    "nr = 0\n",
    "for inter in mesh.Boundaries('.*').Split():\n",
    "    doms = inter.Neighbours(VOL).Split()\n",
    "    if len(doms) == 2:\n",
    "        intertrial[inter] = lam[nr]\n",
    "        intertest[inter] = mu[nr]\n",
    "        nr = nr+1"
   ]
  },
  {
   "cell_type": "markdown",
   "id": "enhanced-dodge",
   "metadata": {},
   "source": [
    "We define bilinear-forms on the sub-domains:\n",
    "\n",
    "$$\n",
    "a(u,v) = \\sum_{\\Omega_i} \\int_{\\Omega_i} \\nabla u_i \\nabla v_i + u_i v_i\n",
    "$$\n",
    "\n",
    "and the constraint equations\n",
    "\n",
    "$$\n",
    "b(u,\\mu) = \\sum_{\\gamma_{ij}} \\int_{\\gamma_{ij}} (u_i - u_j) \\mu_{ij}\n",
    "$$"
   ]
  },
  {
   "cell_type": "code",
   "execution_count": null,
   "id": "sought-grain",
   "metadata": {},
   "outputs": [],
   "source": [
    "a = BilinearForm(fes)\n",
    "f = LinearForm(fes)\n",
    "b = BilinearForm(trialspace=fes, testspace=feslam)\n",
    "\n",
    "for (ui,vi) in zip(u,v):\n",
    "    a += grad(ui)*grad(vi)*dx + 1*ui*vi*dx\n",
    "    f += y*x*vi*dx\n",
    "    \n",
    "\n",
    "for inter in mesh.Boundaries('.*').Split():\n",
    "    doms = inter.Neighbours(VOL).Split()\n",
    "    if len(doms) == 2:\n",
    "        dom1,dom2 = doms\n",
    "        # a += 1*(domtrial[dom1]-domtrial[dom2])*(domtest[dom1]-domtest[dom2])*ds(inter)\n",
    "        b += (domtrial[dom1]-domtrial[dom2]) * intertest[inter] * ds(inter)\n",
    "        \n",
    "a.Assemble()\n",
    "b.Assemble()\n",
    "f.Assemble()"
   ]
  },
  {
   "cell_type": "markdown",
   "id": "described-entity",
   "metadata": {},
   "source": [
    "Obviously, if we only solve the decomposed sub-problems, we don't get the correct solution:"
   ]
  },
  {
   "cell_type": "code",
   "execution_count": null,
   "id": "desperate-cleaner",
   "metadata": {},
   "outputs": [],
   "source": [
    "gfu = GridFunction(fes)\n",
    "gfu.vec.data = a.mat.Inverse(inverse=\"sparsecholesky\", freedofs=fes.FreeDofs())*f.vec\n",
    "gftot = CF ( list(gfu.components) )\n",
    "Draw (gftot, mesh);"
   ]
  },
  {
   "cell_type": "markdown",
   "id": "experienced-cable",
   "metadata": {},
   "source": [
    "Next we solve the saddle-point problem\n",
    "\n",
    "$$\n",
    "\\left( \\begin{array}{cc}\n",
    "A & B^T \\\\\n",
    "B & 0 \n",
    "\\end{array} \\right) \n",
    "\\left( \\begin{array}{c} u \\\\ \\lambda \\end{array} \\right)\n",
    "= \n",
    "\\left( \\begin{array}{c} f \\\\ 0 \\end{array} \\right)\n",
    "$$\n",
    "\n",
    "We explicitly build the Schur-complement $S = B A^{-1} B^T$, and use conjugate gradients to solve for the Lagrange parameter $\\lambda$. Then we recover the primal variable $u$ from the first equation:"
   ]
  },
  {
   "cell_type": "code",
   "execution_count": null,
   "id": "apparent-biotechnology",
   "metadata": {},
   "outputs": [],
   "source": [
    "ainv = a.mat.Inverse(inverse=\"sparsecholesky\", freedofs=fes.FreeDofs())\n",
    "S = b.mat @ ainv @ b.mat.T\n",
    "g = (b.mat @ ainv * f.vec).Evaluate()\n",
    "\n",
    "from ngsolve.krylovspace import CGSolver\n",
    "invS = CGSolver(S, pre=IdentityMatrix(feslam.ndof), printrates=\"\\r\", maxiter=500)\n",
    "\n",
    "lam = g.CreateVector()\n",
    "lam.data = invS * g\n",
    "gfu.vec.data = ainv * (f.vec - b.mat.T * lam)"
   ]
  },
  {
   "cell_type": "code",
   "execution_count": null,
   "id": "allied-correlation",
   "metadata": {},
   "outputs": [],
   "source": [
    "gftot = CF ( list(gfu.components) )\n",
    "Draw(gftot, mesh);"
   ]
  },
  {
   "cell_type": "markdown",
   "id": "automotive-charleston",
   "metadata": {},
   "source": [
    "Preconditioner for $S$\n",
    "---\n",
    "The function space for the Lagrange parameter is $\\Pi_{ij}  H^{-1/2} (\\gamma_{ij})$. The Schur complement matrix scales like a bilinear-form in $H^{-1/2}$. As a preconditioner, we need a matrix which scales like $\\Pi_{ij} H^{1/2}$. We cheat a bit with the non-additivity of the $H^{1/2}$-norm, and use $\\sum_{\\Omega_i} \\| \\operatorname{tr} u \\|_{H^{1/2}(\\partial \\Omega_i)}^2$\n",
    "\n",
    "We have to map functions from the skeleton onto the domain:"
   ]
  },
  {
   "cell_type": "code",
   "execution_count": null,
   "id": "competent-patrol",
   "metadata": {},
   "outputs": [],
   "source": [
    "bnddofs = fes.GetDofs(mesh.Boundaries(\".*\"))\n",
    "innerdofs = ~bnddofs\n",
    "\n",
    "massbnd = BilinearForm(fes)\n",
    "for (ui,vi) in zip(u,v):\n",
    "    massbnd += ui*vi*ds\n",
    "massbnd.Assemble()\n",
    "invmassbnd = massbnd.mat.Inverse(inverse=\"sparsecholesky\", freedofs=bnddofs)\n",
    "\n",
    "massinter = BilinearForm(feslam)\n",
    "for inter in mesh.Boundaries('.*').Split():\n",
    "    doms = inter.Neighbours(VOL).Split()\n",
    "    if len(doms) == 2:\n",
    "        massinter += intertrial[inter]*intertest[inter]*ds(inter)\n",
    "massinter.Assemble()\n",
    "\n",
    "emb = invmassbnd@b.mat.T@massinter.mat.Inverse(inverse=\"sparsecholesky\")"
   ]
  },
  {
   "cell_type": "markdown",
   "id": "worse-signature",
   "metadata": {},
   "source": [
    "The $H^{1/2}(\\partial \\Omega_i)$-norms are obtained by forming Schur-complements of the sub-domain matrices with respect to boundary dofs:"
   ]
  },
  {
   "cell_type": "code",
   "execution_count": null,
   "id": "catholic-crown",
   "metadata": {},
   "outputs": [],
   "source": [
    "SchurDir = a.mat - a.mat@a.mat.Inverse(inverse=\"sparsecholesky\", freedofs=innerdofs)@a.mat"
   ]
  },
  {
   "cell_type": "code",
   "execution_count": null,
   "id": "federal-praise",
   "metadata": {},
   "outputs": [],
   "source": [
    "pre = emb.T @ SchurDir @ emb"
   ]
  },
  {
   "cell_type": "code",
   "execution_count": null,
   "id": "incorrect-trout",
   "metadata": {},
   "outputs": [],
   "source": [
    "invS = CGSolver(S, pre=pre, printrates=\"\\r\", maxiter=500)\n",
    "\n",
    "lam = g.CreateVector()\n",
    "lam.data = invS * g\n",
    "gfu.vec.data = ainv * (f.vec - b.mat.T * lam)"
   ]
  },
  {
   "cell_type": "code",
   "execution_count": null,
   "id": "shaped-stream",
   "metadata": {},
   "outputs": [],
   "source": [
    "Draw(gftot, mesh);"
   ]
  },
  {
   "cell_type": "code",
   "execution_count": null,
   "id": "medieval-newman",
   "metadata": {},
   "outputs": [],
   "source": []
  },
  {
   "cell_type": "code",
   "execution_count": null,
   "id": "scientific-cowboy",
   "metadata": {},
   "outputs": [],
   "source": []
  }
 ],
 "metadata": {
  "kernelspec": {
   "display_name": "Python 3",
   "language": "python",
   "name": "python3"
  },
  "language_info": {
   "codemirror_mode": {
    "name": "ipython",
    "version": 3
   },
   "file_extension": ".py",
   "mimetype": "text/x-python",
   "name": "python",
   "nbconvert_exporter": "python",
   "pygments_lexer": "ipython3",
   "version": "3.9.5"
  }
 },
 "nbformat": 4,
 "nbformat_minor": 5
}
