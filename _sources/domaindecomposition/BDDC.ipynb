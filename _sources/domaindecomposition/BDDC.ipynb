{
 "cells": [
  {
   "cell_type": "markdown",
   "id": "textile-invitation",
   "metadata": {},
   "source": [
    "BDDC - Preconditioner\n",
    "=== \n",
    "\n",
    "The idea of the BDDC preconditioner grew out of FETI-DP methods. It was invented in Clark Dormann: *A preconditioner for substructuring based on constrained energy minimization*, 2003. BDDC stands for **B**alancing **D**omain **D**ecomposition with **C**onstraints.\n",
    "\n",
    "It is a preconditioner for non-overlapping domain decomposition. Unlike the FETI method, it can be used to solve the system for the primal variable only, and allows to use conjugate gradient iteration for the positive definite system."
   ]
  },
  {
   "cell_type": "markdown",
   "id": "severe-jacksonville",
   "metadata": {},
   "source": [
    "The idea is to define a problem on a larger space, where the matrix is cheaper to invert. Solve the problem on the larger space, and project down the (artificial) solution back to the original space. Before, the original right hand side was lifted into the larger space by the adjoint of the projection.\n",
    "\n",
    "**Theorem:** Let \n",
    "* $A(.,.) : V \\times V \\rightarrow {\\mathbb R}$ be an symmetric and elliptic bilinear-form \n",
    "* $\\widetilde V \\supset V$ a larger space\n",
    "* $\\widetilde A(.,.) : \\widetilde V \\times \\widetilde V \\rightarrow {\\mathbb R}$ be an extension of $A(.,.)$\n",
    "* Let $R : \\widetilde V \\rightarrow V$ be a projection\n",
    "\n",
    "The fictitious space preconditioner is\n",
    "$$\n",
    "C^{-1} := R \\widetilde A^{-1} R^T\n",
    "$$\n",
    "\n",
    "Its spectrum can can be estimated as\n",
    "\n",
    "$$\n",
    "\\sigma (C^{-1} A) \\subset [1,  \\| R \\|_{(\\widetilde V, \\| \\cdot \\|_\\widetilde A) \\rightarrow (V, \\| \\cdot \\|_A)}^2]\n",
    "$$"
   ]
  },
  {
   "cell_type": "markdown",
   "id": "occupational-momentum",
   "metadata": {},
   "source": [
    "*Proof*: By the additive Schwarz lemma the preconditioner $C$ can be represented as:\n",
    "\n",
    "$$\n",
    "\\| u \\|_C^2 = \\inf_{\\tilde u \\in \\widetilde V \\atop R \\tilde u = u}  \\; \\| \\tilde u \\|_{\\widetilde A}^2\n",
    "$$\n",
    "\n",
    "Since $V \\subset \\widetilde V$, and $\\widetilde A(.,.)$ coincides with $A(.,.)$ on $V$, we immediately have:\n",
    "\n",
    "$$\n",
    "\\| u \\|_C^2 \\leq \\| u \\|_A^2\n",
    "$$\n",
    "\n",
    "The other side follows from\n",
    "\n",
    "\\begin{eqnarray*}\n",
    "\\sup_u \\frac{\\| u \\|_A^2 }{ \\| u \\|_C^2 } \n",
    "& = & \\sup_u \\frac{\\| u \\|_A^2 }{ \\inf_{\\tilde u : R \\tilde u = u} \\| \\tilde u \\|_{\\tilde A^2 }}  \\\\\n",
    "& = & \\sup_u \\sup_{\\tilde u : R \\tilde u = u} \\frac{ \\| u \\|_A^2 }{ \\| \\tilde u \\|_{\\tilde A}^2} \\\\\n",
    "& = & \\sup_u \\sup_{\\tilde u : R \\tilde u = u} \\frac{ \\| R \\tilde u \\|_A^2 }{ \\| \\tilde u \\|_{\\tilde A}^2} \\\\\n",
    "& = & \\sup_{\\tilde u \\in widetilde V} \\frac{ \\| R \\tilde u \\|_A^2 }{ \\| \\tilde u \\|_{\\tilde A}^2} \\\\\n",
    "& = & \\| R \\|_{(\\widetilde V, \\| \\cdot \\|_\\widetilde A) \\rightarrow (V, \\| \\cdot \\|_A)}^2\n",
    "\\end{eqnarray*}"
   ]
  },
  {
   "cell_type": "markdown",
   "id": "fabulous-deputy",
   "metadata": {},
   "source": [
    "We apply the theorem as follows:\n",
    "* the original space is the globally continuous finite element space\n",
    "* the larger space consists of sub-domain wise continuous finite element spaces, which are globally continuous only in the sub-domain vertices (scroll down to see such functions)\n",
    "* The global system is cheaper to invert. One can eliminate all variables except at the vertices locally. The resulting Schur complement (for the vertices) form a global system witch is much smaller than the original system. This global vertex-system brings the necessary global interaction to the method"
   ]
  },
  {
   "cell_type": "code",
   "execution_count": null,
   "id": "painful-enterprise",
   "metadata": {},
   "outputs": [],
   "source": [
    "from ngsolve import *\n",
    "from ngsolve.webgui import Draw\n",
    "from netgen.geom2d import CSG2d, Rectangle\n",
    "\n",
    "geo = CSG2d()\n",
    "\n",
    "mx, my = 5,5\n",
    "for i in range(mx): \n",
    "    for j in range(my):\n",
    "        rect = Rectangle(pmin=(i/mx,j/my), \\\n",
    "                         pmax=((i+1)/mx,(j+1)/mx), \\\n",
    "                         mat='mat'+str(i)+str(j), \\\n",
    "                         bc = 'default', \\\n",
    "                         bottom = 'bot' if j == 0 else None)\n",
    "                  \n",
    "        geo.Add(rect)\n",
    "        \n",
    "mesh = Mesh(geo.GenerateMesh(maxh=0.02))\n",
    "Draw (mesh);"
   ]
  },
  {
   "cell_type": "code",
   "execution_count": null,
   "id": "cubic-performance",
   "metadata": {},
   "outputs": [],
   "source": [
    "fes = None\n",
    "for dom in mesh.Materials('.*').Split():\n",
    "    fesi = Compress(H1(mesh, definedon=dom, dirichlet=\"bot\"))\n",
    "    fes = fes * fesi if fes else fesi\n",
    "\n",
    "fesVertex = H1(mesh, definedon=mesh.BBoundaries('.*'))\n",
    "fes = fes * fesVertex\n",
    "\n",
    "freedofs = fes.FreeDofs()\n",
    "for el in fes.Elements(BBND):\n",
    "    freedofs.Set(el.dofs[-1])\n",
    "\n",
    "u, v = fes.TnT()\n",
    "domtrial = {} \n",
    "domtest = {}\n",
    "for nr,dom in enumerate (mesh.Materials('.*').Split()):\n",
    "    domtrial[dom] = u[nr]\n",
    "    domtest[dom] = v[nr]"
   ]
  },
  {
   "cell_type": "code",
   "execution_count": null,
   "id": "senior-taste",
   "metadata": {},
   "outputs": [],
   "source": [
    "a = BilinearForm(fes)\n",
    "f = LinearForm(fes)\n",
    "\n",
    "uvert,vvert = u[-1], v[-1]\n",
    "import ngsolve.comp\n",
    "dVert = ngsolve.comp.DifferentialSymbol(BBND)\n",
    "\n",
    "for dom in mesh.Materials('.*').Split():\n",
    "    ui, vi = domtrial[dom], domtest[dom]\n",
    "    a += grad(ui)*grad(vi)*dx \n",
    "    a += 1e6*(ui-uvert)*(vi-vvert)*dVert(dom.Boundaries().Boundaries())\n",
    "    f += y*x*vi*dx\n",
    "            \n",
    "a.Assemble()\n",
    "f.Assemble()\n",
    "\n",
    "gfu = GridFunction(fes)"
   ]
  },
  {
   "cell_type": "code",
   "execution_count": null,
   "id": "charming-director",
   "metadata": {},
   "outputs": [],
   "source": [
    "gfu.vec.data = a.mat.Inverse(fes.FreeDofs()) * f.vec"
   ]
  },
  {
   "cell_type": "code",
   "execution_count": null,
   "id": "severe-leonard",
   "metadata": {},
   "outputs": [],
   "source": [
    "gftot = CF ( list(gfu.components) )\n",
    "Draw(gftot, mesh);"
   ]
  },
  {
   "cell_type": "code",
   "execution_count": null,
   "id": "digital-refund",
   "metadata": {},
   "outputs": [],
   "source": []
  }
 ],
 "metadata": {
  "kernelspec": {
   "display_name": "Python 3 (ipykernel)",
   "language": "python",
   "name": "python3"
  },
  "language_info": {
   "codemirror_mode": {
    "name": "ipython",
    "version": 3
   },
   "file_extension": ".py",
   "mimetype": "text/x-python",
   "name": "python",
   "nbconvert_exporter": "python",
   "pygments_lexer": "ipython3",
   "version": "3.10.11"
  }
 },
 "nbformat": 4,
 "nbformat_minor": 5
}
