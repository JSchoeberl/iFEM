{
 "cells": [
  {
   "cell_type": "markdown",
   "metadata": {},
   "source": [
    "Grating\n",
    "==\n",
    "We simulate the scattering on a grating"
   ]
  },
  {
   "cell_type": "code",
   "execution_count": null,
   "metadata": {},
   "outputs": [],
   "source": [
    "import netgen.gui\n",
    "from ngsolve import *"
   ]
  },
  {
   "cell_type": "code",
   "execution_count": null,
   "metadata": {},
   "outputs": [],
   "source": [
    "from netgen.geom2d import *\n",
    "\n",
    "geo = SplineGeometry()\n",
    "geo.AddRectangle ( (0,0), (1,1), bcs=[\"bottom\",\"right\",\"top\",\"left\"], leftdomain=1)\n",
    "\n",
    "n = 40\n",
    "r = 0.005\n",
    "for i in range(n-1):\n",
    "    geo.AddCircle ( (0.5,(i+1)/(n)), r=r, bc=\"interface\", \n",
    "                     leftdomain=0, rightdomain=1)\n",
    "geo.SetMaterial(1, \"medium\")\n",
    "# geo.SetMaterial(2, \"dot\")\n",
    "\n",
    "mesh = Mesh(geo.GenerateMesh(maxh=0.02))\n",
    "mesh.Curve(3)\n",
    "Draw (mesh)"
   ]
  },
  {
   "cell_type": "code",
   "execution_count": null,
   "metadata": {},
   "outputs": [],
   "source": [
    "fes = H1(mesh, order=6, complex=True, dirichlet=\"interface\")\n",
    "u = fes.TrialFunction()\n",
    "v = fes.TestFunction()\n",
    "a = BilinearForm(fes)\n",
    "f = LinearForm(fes)\n",
    "\n",
    "from math import pi\n",
    "omega = 2*pi*42\n",
    "\n",
    "n = { \"medium\" : 1, \"dot\" : 3 }\n",
    "cfn = CoefficientFunction( [n[mat] for mat in mesh.GetMaterials()] )\n",
    "\n",
    "a += (grad(u)*grad(v)-omega**2*cfn*cfn*u*v)*dx\n",
    "a += -1j*omega*u*v*ds(\"left|right|top|bottom\")\n",
    "f = LinearForm(fes)\n",
    "\n",
    "source = exp(-10**2*(y-0.5)*(y-0.5))\n",
    "f += source*v*ds(\"left\")\n",
    "\n",
    "gfu = GridFunction(fes)\n",
    "\n",
    "\n",
    "with TaskManager():\n",
    "    a.Assemble()\n",
    "    f.Assemble()\n",
    "    inv = a.mat.Inverse(fes.FreeDofs(), inverse=\"sparsecholesky\")\n",
    "    gfu.vec.data = inv * f.vec\n",
    "    \n",
    "Draw (gfu)"
   ]
  },
  {
   "cell_type": "code",
   "execution_count": null,
   "metadata": {},
   "outputs": [],
   "source": []
  }
 ],
 "metadata": {
  "kernelspec": {
   "display_name": "Python 3",
   "language": "python",
   "name": "python3"
  },
  "language_info": {
   "codemirror_mode": {
    "name": "ipython",
    "version": 3
   },
   "file_extension": ".py",
   "mimetype": "text/x-python",
   "name": "python",
   "nbconvert_exporter": "python",
   "pygments_lexer": "ipython3",
   "version": "3.8.0"
  }
 },
 "nbformat": 4,
 "nbformat_minor": 2
}
