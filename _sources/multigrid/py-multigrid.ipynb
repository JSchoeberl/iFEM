{
 "cells": [
  {
   "cell_type": "markdown",
   "id": "mediterranean-workplace",
   "metadata": {},
   "source": [
    "Multigrid and Multilevel Methods\n",
    "===\n",
    "\n",
    "Multigrid (MG) and Multilevel (ML) algorithms provide preconditioners with optimal condition numbers $\\kappa (C^{-1} A) = O(1)$, and optimal computational complexity $O(N)$.\n",
    "\n",
    "They can be seen as extension of the two level overlapping domain decomposition method to more levels.\n",
    "\n",
    "* Ulrich Trottenberg, Cornelius W. Oosterlee, Anton Schuller: Multigrid, Academic Press, 2001\n",
    "* Wolfgang Hackbusch: Multi-Grid Methods and Applications, Springer, 1985\n",
    "\n",
    "In short, both methods are sub-space correction methods where the space splitting is defined by all basis functions together from a hierarchy of grids. Multilevel methods are additive Schwarz methods, while Multigrid methods are the multiplicative Schwarz methods. Both can be implemented efficiently by recursive algorithms. \n",
    "\n",
    "We will present different theories for their analysis, one is based on sub-space decomposition using the ASM lemma, the other one uses the smoothing-and-approximation properties."
   ]
  },
  {
   "cell_type": "markdown",
   "id": "physical-pulse",
   "metadata": {},
   "source": [
    "Multilevel preconditioner\n",
    "---\n",
    "\n",
    "We have a sequence of hierarchically refined meshes, which lead to a sequence of nested finite element spaces\n",
    "\n",
    "$$\n",
    "V_0 \\subset V_1 \\subset \\ldots V_L\n",
    "$$\n",
    "\n",
    "of dimension $N_l = \\operatorname{dim} V_l, l = 0 \\ldots L$.\n",
    "We think of mesh-sizes $h_l = 2^{-l}$, leading to finite element space dimensions $N^{dl}$, where $d$ is the spatial dimension.\n",
    "\n",
    "We have prolongation matrices \n",
    "\n",
    "$$\n",
    "P_l \\in {\\mathbb R}^{N_l \\times N_{l-1}}.\n",
    "$$\n",
    "\n",
    "If $v_{l-1}$ is a finite element function in $V_{l-1}$ represented by the coefficient vector $\\underline v_{l-1}$. Then\n",
    "$\\underline v_l = P_l \\underline v_{l-1}$ is the coefficient vector of the same function represented by the basis functions of $V_l$.\n",
    "\n",
    "If $A_l$ and $A_{l-1}$ are discretization matrices by a Galerkin method, then there holds\n",
    "\n",
    "$$\n",
    "A_{l-1} = P_l^T A_l P_l\n",
    "$$\n",
    "\n",
    "Let $D_l = \\operatorname{diag} A_l$ be the Jacobi preconditioner (or some similar, cheap and local preconditioner).\n",
    "\n",
    "\n",
    "**2-level method**\n",
    "\n",
    "A 2-level preconditioner involving levels $l-1$ and level $l$ is\n",
    "\n",
    "$$\n",
    "C_{2L}^{-1} = D_l^{-1} + P_l A_{l-1}^{-1} P_l^T\n",
    "$$\n",
    "\n",
    "By the ASM - Lemma we have the tools to analyze the this preconditioner has optimal condition number. However, a direct inversion of the matrix $A_{l-1}$ is up to constant factor as expensive as the inversion of $A_l$. The multilevel method is to replace the inverses recursively by a multilevel preconditioner:\n",
    "\n",
    "\\begin{eqnarray*}\n",
    "C_{ML,0}^{-1} & = & A_0^{-1} \\\\\n",
    "C_{ML,l}^{-1} & = & D_l^{-1} + P_l C_{ML,l-1}^{-1} P_l^T \\qquad \\text{for} \\; l = 1, \\ldots L\n",
    "\\end{eqnarray*}"
   ]
  },
  {
   "cell_type": "code",
   "execution_count": null,
   "id": "swedish-segment",
   "metadata": {},
   "outputs": [],
   "source": [
    "from netgen.geom2d import unit_square\n",
    "from ngsolve import *\n",
    "from ngsolve.la import EigenValues_Preconditioner\n",
    "\n",
    "mesh = Mesh(unit_square.GenerateMesh(maxh=0.3))\n",
    "\n",
    "fes = H1(mesh,order=1, dirichlet=\".*\", autoupdate=True)\n",
    "u,v = fes.TnT()\n",
    "a = BilinearForm(grad(u)*grad(v)*dx)"
   ]
  },
  {
   "cell_type": "code",
   "execution_count": null,
   "id": "surrounded-interference",
   "metadata": {},
   "outputs": [],
   "source": [
    "class MLPreconditioner(BaseMatrix):\n",
    "    def __init__ (self, fes, level, mat, coarsepre):\n",
    "        super().__init__()\n",
    "        self.fes = fes\n",
    "        self.level = level\n",
    "        self.mat = mat\n",
    "        self.coarsepre = coarsepre\n",
    "        if level > 0:\n",
    "            self.localpre = mat.CreateSmoother(fes.FreeDofs())\n",
    "        else:\n",
    "            self.localpre = mat.Inverse(fes.FreeDofs())\n",
    "        \n",
    "    def Mult (self, x, y):\n",
    "        if self.level == 0:\n",
    "            y.data = self.localpre * x\n",
    "            return\n",
    "        hx = x.CreateVector(copy=True)\n",
    "        self.fes.Prolongation().Restrict(self.level, hx)\n",
    "        cdofs = self.fes.Prolongation().LevelDofs(self.level-1)\n",
    "        y[cdofs] = self.coarsepre * hx[cdofs] \n",
    "        self.fes.Prolongation().Prolongate(self.level, y)\n",
    "        y += self.localpre * x\n",
    "\n",
    "    def Shape (self):\n",
    "        return self.localpre.shape\n",
    "    def CreateVector (self, col):\n",
    "        return self.localpre.CreateVector(col)"
   ]
  },
  {
   "cell_type": "markdown",
   "id": "protected-champagne",
   "metadata": {},
   "source": [
    "With operator notation we can define the multilevel preconditioner also as follows:"
   ]
  },
  {
   "cell_type": "code",
   "execution_count": null,
   "id": "adopted-powder",
   "metadata": {},
   "outputs": [],
   "source": [
    "def MLPreconditioner2(fes, level, mat, coarsepre):\n",
    "    prol = fes.Prolongation().Operator(level)\n",
    "    localpre = mat.CreateSmoother(fes.FreeDofs())\n",
    "    return localpre + prol @ coarsepre @ prol.T"
   ]
  },
  {
   "cell_type": "code",
   "execution_count": null,
   "id": "higher-reaction",
   "metadata": {},
   "outputs": [],
   "source": [
    "a.Assemble()\n",
    "pre = a.mat.Inverse(fes.FreeDofs())"
   ]
  },
  {
   "cell_type": "code",
   "execution_count": null,
   "id": "scenic-segment",
   "metadata": {},
   "outputs": [],
   "source": [
    "for l in range(8):\n",
    "    mesh.Refine()\n",
    "    print (\"ndof = \", fes.ndof)\n",
    "    a.Assemble()\n",
    "    pre = MLPreconditioner(fes,l+1, a.mat, pre)\n",
    "    \n",
    "    lam = EigenValues_Preconditioner(a.mat, pre)\n",
    "    print (\"lammin, lammax=\", lam[0], lam[-1], \\\n",
    "            \"kappa=\", lam[-1]/lam[0])"
   ]
  },
  {
   "cell_type": "markdown",
   "id": "driven-reverse",
   "metadata": {},
   "source": [
    "Multigrid Preconditioning\n",
    "---\n",
    "\n",
    "The multigrid preconditioner combines the local preconditioner and the coarse grid step sequentially. The multigrid preconditioning action is define as follows:\n",
    "\n",
    "Multigrid $C_{MG,l}^{-1} : d \\mapsto w$\n",
    "\n",
    "* if l = 0, set $w = A_0^{-1} d$ and return\n",
    "* w = 0\n",
    "* presmoothing, $m_l$ steps:   \n",
    "$$\\hat w = w + D_{pre}^{-1} (d - A w)$$ \n",
    "* coasre grid correction:\n",
    "$$\n",
    "\\hat w = w + P_l C_{MG,l-1}^{-1} P_l^{T} (d - A w)\n",
    "$$\n",
    "* postsmoothing, $m_l$ steps:   \n",
    "$$\\hat w = w + D_{post}^{-1} (d - A w)$$ \n",
    "\n",
    "\n",
    "If the preconditioners $D_{pre}$ and $D_{post}$ from the pre-smoothing and post-smoothing iterations are transposed to each other, the overall preconditioner is symmetric. If the pre- and post-smoothing iterations are non-expansive, the overall preconditioner is positive definite.\n",
    "This can be obtained by applying forward Gauss-Seidel for pre-smoothing, and backward Gauss-Seidel for post-smoothing."
   ]
  },
  {
   "cell_type": "code",
   "execution_count": null,
   "id": "irish-nomination",
   "metadata": {},
   "outputs": [],
   "source": [
    "from netgen.geom2d import unit_square\n",
    "from ngsolve import *\n",
    "from ngsolve.la import EigenValues_Preconditioner\n",
    "\n",
    "mesh = Mesh(unit_square.GenerateMesh(maxh=0.3))\n",
    "\n",
    "fes = H1(mesh,order=1, dirichlet=\".*\")\n",
    "u,v = fes.TnT()\n",
    "a = BilinearForm(grad(u)*grad(v)*dx)"
   ]
  },
  {
   "cell_type": "code",
   "execution_count": null,
   "id": "patient-newspaper",
   "metadata": {},
   "outputs": [],
   "source": [
    "class MGPreconditioner(BaseMatrix):\n",
    "    def __init__ (self, fes, level, mat, coarsepre):\n",
    "        super().__init__()\n",
    "        self.fes = fes\n",
    "        self.level = level\n",
    "        self.mat = mat\n",
    "        self.coarsepre = coarsepre\n",
    "        if level > 0:\n",
    "            self.localpre = mat.CreateSmoother(fes.FreeDofs())\n",
    "        else:\n",
    "            self.localpre = mat.Inverse(fes.FreeDofs())\n",
    "        \n",
    "    def Mult (self, d, w):\n",
    "        # print (\"level = \", self.level)\n",
    "        if self.level == 0:\n",
    "            w.data = self.localpre * d\n",
    "            return\n",
    "        \n",
    "        prol = self.fes.Prolongation().Operator(self.level)\n",
    "\n",
    "        w[:] = 0\n",
    "        self.localpre.Smooth(w,d)\n",
    "        res  = d - self.mat * w\n",
    "        w += prol @ self.coarsepre @ prol.T * res\n",
    "        self.localpre.SmoothBack(w,d)\n",
    "\n",
    "\n",
    "    def Shape (self):\n",
    "        return self.localpre.shape\n",
    "    def CreateVector (self, col):\n",
    "        return self.localpre.CreateVector(col)"
   ]
  },
  {
   "cell_type": "code",
   "execution_count": null,
   "id": "finite-domain",
   "metadata": {},
   "outputs": [],
   "source": [
    "a.Assemble()\n",
    "pre = MGPreconditioner(fes, 0, a.mat, None)\n",
    "\n",
    "for l in range(6):\n",
    "    mesh.Refine()\n",
    "    fes.Update()\n",
    "    print (\"ndof = \", fes.ndof)\n",
    "    a.Assemble()\n",
    "    pre = MGPreconditioner(fes,l+1, a.mat, pre)\n",
    "    \n",
    "    lam = EigenValues_Preconditioner(a.mat, pre)\n",
    "    print (\"lammin, lammax=\", lam[0], lam[-1], \\\n",
    "            \"kappa=\", lam[-1]/lam[0])"
   ]
  },
  {
   "cell_type": "code",
   "execution_count": null,
   "id": "adaptive-staff",
   "metadata": {},
   "outputs": [],
   "source": [
    "f = LinearForm(1*v*dx).Assemble()\n",
    "gfu = GridFunction(fes)\n",
    "from ngsolve.krylovspace import CGSolver\n",
    "inv = CGSolver(mat=a.mat, pre=pre, printrates=True)\n",
    "gfu.vec.data = inv * f.vec"
   ]
  },
  {
   "cell_type": "code",
   "execution_count": null,
   "id": "wrong-affiliate",
   "metadata": {},
   "outputs": [],
   "source": [
    "from ngsolve.webgui import Draw\n",
    "if fes.ndof < 100000:\n",
    "    Draw(gfu)"
   ]
  },
  {
   "cell_type": "markdown",
   "id": "mineral-whole",
   "metadata": {},
   "source": [
    "Projection matrices from the finest level\n",
    "---\n",
    "It is often not feasible to assemble matrices on the coarse level, \n",
    "for example when solving non-linear problems. Then it is useful to \n",
    "calculate coarse grid matrices from the matrix on the finest level using the Galerkin property\n",
    "\n",
    "$$\n",
    "A_{l-1} = P_{l}^T A_l P_l\n",
    "$$\n",
    "\n",
    "\\[ Requires NGSolve updates from 14.04.2021, still tricky: freedofs on coarser levels]"
   ]
  },
  {
   "cell_type": "code",
   "execution_count": null,
   "id": "alive-visitor",
   "metadata": {},
   "outputs": [],
   "source": [
    "from netgen.geom2d import unit_square\n",
    "from ngsolve import *\n",
    "from ngsolve.la import EigenValues_Preconditioner\n",
    "\n",
    "mesh = Mesh(unit_square.GenerateMesh(maxh=0.3))\n",
    "\n",
    "fes = H1(mesh,order=1, dirichlet=\".*\", autoupdate=True)\n",
    "u,v = fes.TnT()\n",
    "a = BilinearForm(grad(u)*grad(v)*dx)\n",
    "\n",
    "for l in range(6):\n",
    "     mesh.Refine()\n",
    "    \n",
    "a.Assemble()"
   ]
  },
  {
   "cell_type": "code",
   "execution_count": null,
   "id": "ignored-programming",
   "metadata": {},
   "outputs": [],
   "source": [
    "class ProjectedMG(BaseMatrix):\n",
    "    def __init__ (self, fes, mat, level):\n",
    "        super(ProjectedMG, self).__init__()\n",
    "        self.fes = fes\n",
    "        self.level = level\n",
    "        self.mat = mat\n",
    "        if level > 0:\n",
    "            self.prol = fes.Prolongation().CreateMatrix(level)\n",
    "            self.rest = self.prol.CreateTranspose()\n",
    "            coarsemat = self.rest @ mat @ self.prol # multiply matrices\n",
    "            self.localpre = mat.CreateSmoother(fes.FreeDofs())\n",
    "                \n",
    "            self.coarsepre = ProjectedMG(fes, coarsemat, level-1)\n",
    "        else:\n",
    "            self.localpre = mat.Inverse(fes.FreeDofs())\n",
    "        \n",
    "    def Mult (self, d, w):\n",
    "        if self.level == 0:\n",
    "            w.data = self.localpre * d\n",
    "            return\n",
    "        w[:] = 0\n",
    "        self.localpre.Smooth(w,d)\n",
    "        res = d - self.mat * w\n",
    "        w += self.prol @ self.coarsepre @ self.rest * res\n",
    "        self.localpre.SmoothBack(w,d)\n",
    "\n",
    "        \n",
    "    def Shape (self):\n",
    "        return self.localpre.shape\n",
    "    def CreateVector (self, col):\n",
    "        return self.localpre.CreateVector(col)"
   ]
  },
  {
   "cell_type": "code",
   "execution_count": null,
   "id": "mathematical-reaction",
   "metadata": {},
   "outputs": [],
   "source": [
    "# print (fes.mesh.levels)\n",
    "pre = ProjectedMG(fes, a.mat, fes.mesh.levels-1)"
   ]
  },
  {
   "cell_type": "code",
   "execution_count": null,
   "id": "comparable-documentary",
   "metadata": {},
   "outputs": [],
   "source": [
    "print (\"ndof: \", fes.ndof)\n",
    "lam = EigenValues_Preconditioner(a.mat, pre)\n",
    "print (\"lammin, lammax=\", lam[0], lam[-1], \\\n",
    "            \"kappa=\", lam[-1]/lam[0])"
   ]
  },
  {
   "cell_type": "code",
   "execution_count": null,
   "id": "abandoned-level",
   "metadata": {},
   "outputs": [],
   "source": [
    "f = LinearForm(1*v*dx).Assemble()\n",
    "gfu = GridFunction(fes)\n",
    "from ngsolve.krylovspace import CGSolver\n",
    "inv = CGSolver(mat=a.mat, pre=pre, printrates=True)\n",
    "gfu.vec.data = inv * f.vec\n",
    "\n",
    "from ngsolve.webgui import Draw\n",
    "if fes.ndof < 100000:\n",
    "    Draw(gfu, order=1)"
   ]
  },
  {
   "cell_type": "code",
   "execution_count": null,
   "id": "finished-niger",
   "metadata": {},
   "outputs": [],
   "source": []
  }
 ],
 "metadata": {
  "kernelspec": {
   "display_name": "Python 3",
   "language": "python",
   "name": "python3"
  },
  "language_info": {
   "codemirror_mode": {
    "name": "ipython",
    "version": 3
   },
   "file_extension": ".py",
   "mimetype": "text/x-python",
   "name": "python",
   "nbconvert_exporter": "python",
   "pygments_lexer": "ipython3",
   "version": "3.9.4"
  }
 },
 "nbformat": 4,
 "nbformat_minor": 5
}
