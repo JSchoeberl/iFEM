{
 "cells": [
  {
   "cell_type": "markdown",
   "metadata": {},
   "source": [
    "Instationary Transport Equation\n",
    "===\n",
    "$\\DeclareMathOperator{\\opdiv}{div}$\n",
    "\n",
    "The time dependent transport equation is to find an $u = u(x,t)$ such that\n",
    "\n",
    "$$\n",
    "\\frac{\\partial u}{\\partial t} + \\opdiv bu = f\n",
    "$$\n",
    "\n",
    "with an given initial condition $u(x,t=0) = u_0(x)$, and a boundary condition on $\\Gamma_{in}$.\n",
    "\n",
    "The explicit Euler time-discretization method is to find $u^n \\approx u(t_n)$:\n",
    "\n",
    "$$\n",
    "\\frac{1}{t_n - t_{n-1}} \\int_\\Omega (u^n - u^{n-1}) v + A^{DG} (u^{n-1},v) = f(v)\n",
    "$$\n",
    "\n",
    "Here, $A^{DG}(.,.)$ is the bilinear-form of the stationary transport equation.\n",
    "\n",
    "To compute the new coefficient vector for the new $u^n$, we have to solve an equation with the mass matrix\n",
    "\n",
    "$$\n",
    "M (u^n-u^{n-1}) = \\tau \\, (f - A^{DG} u^{n-1})\n",
    "$$\n",
    "\n",
    "Here, we realize the second advantage of DG methods: Since basis functions are defined element by element, the mass matrix is block diagonal. Thus, it is cheap to invert it."
   ]
  },
  {
   "cell_type": "code",
   "execution_count": null,
   "metadata": {},
   "outputs": [],
   "source": [
    "from ngsolve import *\n",
    "from netgen.geom2d import unit_square\n",
    "from ngsolve.webgui import Draw\n",
    "mesh = Mesh(unit_square.GenerateMesh(maxh=0.1))"
   ]
  },
  {
   "cell_type": "code",
   "execution_count": null,
   "metadata": {},
   "outputs": [],
   "source": [
    "b = CoefficientFunction( (y-0.5, 0.5-x) )\n",
    "Draw (b, mesh, \"wind\", vectors={\"grid_size\" : 20 });"
   ]
  },
  {
   "cell_type": "code",
   "execution_count": null,
   "metadata": {},
   "outputs": [],
   "source": [
    "fes = L2(mesh, order=3)\n",
    "\n",
    "u = fes.TrialFunction()\n",
    "v = fes.TestFunction()\n",
    "a = BilinearForm(fes, nonassemble=True)\n",
    "\n",
    "a += -b*u*grad(v)*dx\n",
    "\n",
    "# the upwind-term:\n",
    "n = specialcf.normal(2)\n",
    "uup = IfPos(b*n, u, u.Other(bnd=0))\n",
    "a += b*n*uup*v * dx(element_boundary=True)\n",
    "\n",
    "f = LinearForm(fes)\n",
    "f.Assemble()\n",
    "\n",
    "gfu = GridFunction(fes)\n",
    "gfu.Set(exp(-10**2*((x-0.5)*(x-0.5) +(y-0.75)*(y-0.75))))\n",
    "\n",
    "scene = Draw(gfu, min=0, max=1, order=3, autoscale=False)"
   ]
  },
  {
   "cell_type": "code",
   "execution_count": null,
   "metadata": {},
   "outputs": [],
   "source": [
    "tau = 0.001\n",
    "tend = 50\n",
    "t = 0\n",
    "cnt = 0\n",
    "\n",
    "w = gfu.vec.CreateVector()\n",
    "# the mass matrix (implemented matrix-free)\n",
    "invm = fes.Mass(rho=1).Inverse()\n",
    "SetNumThreads(3)\n",
    "with TaskManager():\n",
    "    while t < tend:\n",
    "        # print (t)\n",
    "        # apply the transport operator \n",
    "        a.Apply (gfu.vec, w)\n",
    "        gfu.vec.data -= tau * invm * w\n",
    "        if cnt%20 == 0:\n",
    "            scene.Redraw()    \n",
    "        t += tau\n",
    "        cnt +=1 "
   ]
  },
  {
   "cell_type": "code",
   "execution_count": null,
   "metadata": {},
   "outputs": [],
   "source": []
  }
 ],
 "metadata": {
  "kernelspec": {
   "display_name": "Python 3 (ipykernel)",
   "language": "python",
   "name": "python3"
  },
  "language_info": {
   "codemirror_mode": {
    "name": "ipython",
    "version": 3
   },
   "file_extension": ".py",
   "mimetype": "text/x-python",
   "name": "python",
   "nbconvert_exporter": "python",
   "pygments_lexer": "ipython3",
   "version": "3.12.1"
  }
 },
 "nbformat": 4,
 "nbformat_minor": 4
}
