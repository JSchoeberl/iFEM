{
 "cells": [
  {
   "cell_type": "markdown",
   "metadata": {},
   "source": [
    "# Fourth Order Equation\n",
    "\n",
    "We consider the Kirchhoff plate equation: Find $w \\in H^2$, such that\n",
    "$$\n",
    "\\int \\nabla^2 w : \\nabla^2 v = \\int f v\n",
    "$$\n",
    "    \n",
    "A conforming method requires $C^1$ continuous finite elements. But there is no good option available, and thus there is no $H^2$ conforming finite element space in NGSolve."
   ]
  },
  {
   "cell_type": "markdown",
   "metadata": {},
   "source": [
    "## Hybridized $C^0$-continuous interior penalty method:\n",
    "\n",
    "A simple way out is to use continuous elements, and treat the missing $C^1$-continuity by a Discontinuous Galerkin method. A DG formulation is\n",
    "\n",
    "$$\n",
    "\\sum_T \\nabla^2 w : \\nabla^2 v\n",
    "- \\int_{E} \\{\\nabla^2 w\\}_{nn} \\, [\\partial_n v] \n",
    "- \\int_{E} \\{\\nabla^2 v\\}_{nn} \\, [\\partial_n w] + \\alpha \\int_E  [\\partial_n w]  [\\partial_n v] \n",
    "$$\n",
    "\n",
    "[Baker 77, Brenner Gudi Sung, 2010]\n",
    "\n",
    "We consider its hybrid DG version, where the normal derivative is a new, facet-based variable:\n",
    "\n",
    "$$\n",
    "\\sum_T \\nabla^2 w : \\nabla^2 v\n",
    "- \\int_{\\partial T} (\\nabla^2 w)_{nn} \\, (\\partial_n v - \\widehat{v_n})\n",
    "- \\int_{\\partial T} (\\nabla^2 v)_{nn} \\, (\\partial_n w - \\widehat{w_n}) + \\alpha \\int_E (\\partial_n v - \\widehat{v_n}) (\\partial_n w - \\widehat{w_n})\n",
    "$$\n",
    "\n",
    "The facet variable is the normal derivative $n_E \\cdot \\nabla w$, what is oriented along the arbitrarily chosen edge normal-vector. We cannot use the FacetSpace since it does not have the orientation, but we can use the normal traces of an HDiv space. We don't need inner basis functions, so we set order inner to 0:"
   ]
  },
  {
   "cell_type": "code",
   "execution_count": 1,
   "metadata": {},
   "outputs": [],
   "source": [
    "from ngsolve import *\n",
    "from ngsolve.webgui import Draw\n",
    "from netgen.geom2d import unit_square\n",
    "mesh = Mesh (unit_square.GenerateMesh(maxh=0.1))"
   ]
  },
  {
   "cell_type": "code",
   "execution_count": 2,
   "metadata": {},
   "outputs": [],
   "source": [
    "order = 5\n",
    "\n",
    "V1 = H1(mesh, order=order, dirichlet=\"left|bottom\")\n",
    "V2 = HDiv(mesh, order=order-1, orderinner=0) # , dirichlet=\"left|bottom\")\n",
    "\n",
    "V = FESpace ([V1,V2])\n",
    "\n",
    "w,what = V.TrialFunction()\n",
    "v,vhat = V.TestFunction()"
   ]
  },
  {
   "cell_type": "markdown",
   "metadata": {},
   "source": [
    "Some proxy-functions and gridfunctions provide additional differential operators. We can get them via the Operator function. w.Operator(\"hesse\") provides the Hessian, a matrix-valued function. Note that we can use the InnerProduct(.,.) for $\\nabla^2 w : \\nabla^2 v$:"
   ]
  },
  {
   "cell_type": "code",
   "execution_count": 3,
   "metadata": {},
   "outputs": [
    {
     "data": {
      "text/plain": [
       "<ngsolve.comp.LinearForm at 0x11046edb0>"
      ]
     },
     "execution_count": 3,
     "metadata": {},
     "output_type": "execute_result"
    }
   ],
   "source": [
    "n = specialcf.normal(2)\n",
    "h = specialcf.mesh_size\n",
    "\n",
    "def jumpdn(v,vhat): \n",
    "    return n*(grad(v)-vhat)\n",
    "def hesse(v):\n",
    "    return v.Operator(\"hesse\")\n",
    "def hessenn(v):\n",
    "    return InnerProduct(n, hesse(v)*n)\n",
    "\n",
    "a = BilinearForm(V)\n",
    "a += SymbolicBFI ( InnerProduct (hesse(w), hesse(v)) )\n",
    "a += SymbolicBFI ( -hessenn(w) * jumpdn(v,vhat), element_boundary=True)\n",
    "a += SymbolicBFI ( -hessenn(v) * jumpdn(w,what), element_boundary=True)\n",
    "a += SymbolicBFI ( 3*order*order/h * jumpdn(w,what) * jumpdn(v,vhat), element_boundary=True)\n",
    "a.Assemble()\n",
    "\n",
    "f = LinearForm(V)\n",
    "f += SymbolicLFI(1 * v)\n",
    "f.Assemble()"
   ]
  },
  {
   "cell_type": "code",
   "execution_count": 4,
   "metadata": {},
   "outputs": [
    {
     "data": {
      "application/vnd.jupyter.widget-view+json": {
       "model_id": "0e343e61cf7f498e8e988aa742c99beb",
       "version_major": 2,
       "version_minor": 0
      },
      "text/plain": [
       "WebGuiWidget(layout=Layout(height='50vh', width='100%'), value={'gui_settings': {}, 'ngsolve_version': '6.2.24…"
      ]
     },
     "metadata": {},
     "output_type": "display_data"
    },
    {
     "data": {
      "application/vnd.jupyter.widget-view+json": {
       "model_id": "f1cdb98e40cc4faca72947b57569d0b0",
       "version_major": 2,
       "version_minor": 0
      },
      "text/plain": [
       "WebGuiWidget(layout=Layout(height='50vh', width='100%'), value={'gui_settings': {}, 'ngsolve_version': '6.2.24…"
      ]
     },
     "metadata": {},
     "output_type": "display_data"
    },
    {
     "data": {
      "application/vnd.jupyter.widget-view+json": {
       "model_id": "274fb4ed886d4c2f912b158492f7e14c",
       "version_major": 2,
       "version_minor": 0
      },
      "text/plain": [
       "WebGuiWidget(layout=Layout(height='50vh', width='100%'), value={'gui_settings': {}, 'ngsolve_version': '6.2.24…"
      ]
     },
     "metadata": {},
     "output_type": "display_data"
    },
    {
     "data": {
      "text/plain": [
       "BaseWebGuiScene"
      ]
     },
     "execution_count": 4,
     "metadata": {},
     "output_type": "execute_result"
    }
   ],
   "source": [
    "u = GridFunction(V)\n",
    "u.vec.data = a.mat.Inverse(V.FreeDofs()) * f.vec\n",
    "\n",
    "Draw (u.components[0], mesh, \"disp_DG\")\n",
    "Draw (grad (u.components[0]), mesh, \"grad\")\n",
    "Draw (hesse (u.components[0]), mesh, \"hesse\");"
   ]
  },
  {
   "cell_type": "code",
   "execution_count": null,
   "metadata": {},
   "outputs": [],
   "source": []
  }
 ],
 "metadata": {
  "kernelspec": {
   "display_name": "Python 3 (ipykernel)",
   "language": "python",
   "name": "python3"
  },
  "language_info": {
   "codemirror_mode": {
    "name": "ipython",
    "version": 3
   },
   "file_extension": ".py",
   "mimetype": "text/x-python",
   "name": "python",
   "nbconvert_exporter": "python",
   "pygments_lexer": "ipython3",
   "version": "3.12.2"
  }
 },
 "nbformat": 4,
 "nbformat_minor": 4
}
