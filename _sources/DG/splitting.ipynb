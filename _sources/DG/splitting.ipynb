{
 "cells": [
  {
   "cell_type": "markdown",
   "metadata": {},
   "source": [
    "Splitting Methods for the time-dependent convection diffusion equation\n",
    "===\n",
    "$\\DeclareMathOperator{\\opdiv}{div}$\n",
    "\n",
    "\n",
    "We now want to solve a time-dependent convection diffusion equation:\n",
    "\n",
    "$$\n",
    "\\frac{\\partial u}{\\partial t} - \\opdiv \\varepsilon \\nabla u + \\opdiv bu = f\n",
    "$$\n",
    "\n",
    "\n",
    "* we use a DG method for the transport term, and an HDG method for the diffusion term\n",
    "* we treat the transport term explicit. This allows to treat non-linear terms as in the Navier-Stokes equation easily. Also, solving non-symmetric systems is more difficult\n",
    "* we treat the diffusion term implicit. An explizit treatment of the second-order term would lead to a severe time-step restriction. It is a symmetric term, for which fast solvers are available.\n",
    "\n",
    "The equation for the time-step becomes:\n",
    "\n",
    "$$\n",
    "\\frac{1}{\\tau}\n",
    "\\left( \\begin{array}{cc}\n",
    "   M & 0 \\\\\n",
    "   0 & 0 \n",
    "      \\end{array} \\right)\n",
    "\\left( \\begin{array}{c} u^n-u^{n-1} \\\\ \\widehat u^n - \\widehat u^{n-1} \\end{array} \\right)\n",
    "+ \n",
    "A^{diff}\n",
    "\\left( \\begin{array}{c} u^n \\\\ \\widehat u^n \\end{array} \\right)\n",
    "+ \n",
    "\\left( \\begin{array}{cc}\n",
    "A^{conv} & 0 \\\\ 0 & 0 \n",
    "      \\end{array} \\right)\n",
    "\\left( \\begin{array}{c} u^{n-1} \\\\ \\widehat u^{n-1} \\end{array} \\right)\n",
    "= \n",
    "f\n",
    "$$\n"
   ]
  },
  {
   "cell_type": "code",
   "execution_count": 1,
   "metadata": {},
   "outputs": [],
   "source": [
    "from ngsolve import *\n",
    "from netgen.geom2d import unit_square\n",
    "from ngsolve.webgui import Draw\n",
    "mesh = Mesh(unit_square.GenerateMesh(maxh=0.1))"
   ]
  },
  {
   "cell_type": "code",
   "execution_count": 2,
   "metadata": {},
   "outputs": [],
   "source": [
    "order = 3\n",
    "fes1 = L2(mesh, order=order)\n",
    "fes2 = FacetFESpace(mesh, order=order, dirichlet=\".*\")\n",
    "fes = fes1*fes2\n",
    "\n",
    "b = CoefficientFunction( (y-0.5, 0.5-x) )\n",
    "\n",
    "tau = 1e-3\n",
    "eps = 1e-4\n",
    "tend = 100"
   ]
  },
  {
   "cell_type": "code",
   "execution_count": null,
   "metadata": {},
   "outputs": [],
   "source": [
    "u,uhat = fes.TrialFunction()\n",
    "v,vhat = fes.TestFunction()\n",
    "\n",
    "h = specialcf.mesh_size\n",
    "n = specialcf.normal(2)\n",
    "alpha = 2\n",
    "dS = dx(element_boundary=True)\n",
    "\n",
    "diffusion = eps*grad(u)*grad(v)*dx \\\n",
    "    + eps*(-n*grad(u)*(v-vhat)-n*grad(v)*(u-uhat)) * dS \\\n",
    "    + eps*alpha*(order+1)**2/h*(u-uhat)*(v-vhat) * dS\n",
    "\n",
    "uup = IfPos(b*n, u, u.Other(bnd=0))\n",
    "convection = -b*u*grad(v)*dx + b*n*uup*v * dS\n",
    "\n",
    "adiff = BilinearForm(diffusion)\n",
    "\n",
    "aconv = BilinearForm(fes, nonassemble=True)\n",
    "aconv += convection\n",
    "\n",
    "mstar = BilinearForm(u*v*dx + tau*diffusion)\n",
    "\n",
    "f = LinearForm(fes)\n",
    "\n",
    "mstar.Assemble()\n",
    "adiff.Assemble()\n",
    "# mstar.mat.AsVector().data += tau * adiff.mat.AsVector()\n",
    "f.Assemble()"
   ]
  },
  {
   "cell_type": "code",
   "execution_count": null,
   "metadata": {},
   "outputs": [],
   "source": [
    "gfu = GridFunction(fes)\n",
    "gfu.components[0].Set(exp(-10**2*((x-0.5)*(x-0.5) +(y-0.75)*(y-0.75))))\n",
    "scene = Draw(gfu.components[0], min=0, max=1, order=3, autoscale=False)\n",
    "\n",
    "convu = gfu.vec.CreateVector()\n",
    "w = gfu.vec.CreateVector()\n",
    "r = gfu.vec.CreateVector()\n",
    "\n",
    "inv = mstar.mat.Inverse(fes.FreeDofs(), inverse=\"sparsecholesky\")\n",
    "t = 0\n",
    "cnt = 0\n",
    "SetNumThreads(4)\n",
    "while t < tend:\n",
    "    t += tau\n",
    "    aconv.Apply(gfu.vec, convu)\n",
    "    r.data = f.vec - convu - adiff.mat * gfu.vec\n",
    "    w.data = inv * r\n",
    "    gfu.vec.data += tau*w\n",
    "    cnt += 1\n",
    "    if cnt % 10 == 0:\n",
    "        scene.Redraw()"
   ]
  },
  {
   "cell_type": "markdown",
   "metadata": {},
   "source": [
    "For higher order IMplicit-EXplicit (IMEX) methods see:\n",
    "\n",
    "*Implicit-explicit Runge-Kutta methods for time-dependent pdes* by Uri M. Ascher, Steven J. Ruuth, and Raymond J. Spiteri, Applied Numerical Mathematics, 25, 1997"
   ]
  },
  {
   "cell_type": "code",
   "execution_count": null,
   "metadata": {},
   "outputs": [],
   "source": []
  }
 ],
 "metadata": {
  "kernelspec": {
   "display_name": "Python 3 (ipykernel)",
   "language": "python",
   "name": "python3"
  },
  "language_info": {
   "codemirror_mode": {
    "name": "ipython",
    "version": 3
   },
   "file_extension": ".py",
   "mimetype": "text/x-python",
   "name": "python",
   "nbconvert_exporter": "python",
   "pygments_lexer": "ipython3",
   "version": "3.10.11"
  }
 },
 "nbformat": 4,
 "nbformat_minor": 2
}
