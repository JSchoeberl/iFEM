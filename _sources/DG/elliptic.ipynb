{
 "cells": [
  {
   "cell_type": "markdown",
   "metadata": {},
   "source": [
    "Hybrid DG for elliptic equations\n",
    "===\n",
    "$\\DeclareMathOperator{\\opdiv}{div}$"
   ]
  },
  {
   "cell_type": "markdown",
   "metadata": {
    "collapsed": true,
    "jupyter": {
     "outputs_hidden": true
    }
   },
   "source": [
    "The discretization of elliptic operators by DG is more tricky. Instead of the DG method, we go directly to the hybrid DG method (HDG). \n",
    "A notebook on standard-DG is [here](elliptic_stdDG.ipynb).\n",
    "\n",
    "\n",
    "\n",
    "\n",
    "The HDG method involves discontinuous polynomials on elements, and additional polynomials on the edges (or faces, in 3D).\n",
    "\n",
    "We start from the Poisson equation\n",
    "$$\n",
    "-\\Delta u = f\n",
    "$$\n",
    "\n",
    "multiply by discontinuous test functions, integrate by parts on every element:\n",
    "\n",
    "$$\n",
    "\\sum_T \\int_T \\nabla u \\nabla v - \\int_{\\partial T} \\frac{\\partial u}{\\partial n} v = \\int_\\Omega f v\n",
    "$$\n",
    "\n",
    "Since the normal-derivatives are continuous from element to element, we can smuggle in a single-valued test-function $\\widehat v$ on every edge:\n",
    "\n",
    "$$\n",
    "\\sum_T \\int_T \\nabla u \\nabla v - \\int_{\\partial T} \\frac{\\partial u}{\\partial n} (v-\\widehat{v}) = \\int_\\Omega f v\n",
    "$$\n",
    "\n",
    "This is a non-symmetric bilinear-form for the self-adjoint Poisson operator, what we don't like. For the true solution $u$, the solution on the elements restricted to the edges is the same as the solution restricted to the edges, we are adding a zero term:\n",
    "\n",
    "$$\n",
    "\\sum_T \\int_T \\nabla u \\nabla v \n",
    "- \\int_{\\partial T} \\frac{\\partial u}{\\partial n} (v-\\widehat{v}) \n",
    "- \\int_{\\partial T} \\frac{\\partial v}{\\partial n} (u-\\widehat{u}) \n",
    "= \\int_\\Omega f v\n",
    "$$\n",
    "\n",
    "This form may not be coercive, and we have to add a stabilization term:\n",
    "\n",
    "$$\n",
    "\\sum_T \\int_T \\nabla u \\nabla v \n",
    "- \\int_{\\partial T} \\frac{\\partial u}{\\partial n} (v-\\widehat{v}) \n",
    "- \\int_{\\partial T} \\frac{\\partial v}{\\partial n} (u-\\widehat{u}) \n",
    "+ \\int_{\\partial T} \\frac{\\alpha p^2}{h} (u-\\widehat{u}) (v-\\widehat{v})\n",
    "= \\int_\\Omega f v\n",
    "$$\n",
    "\n",
    "Here, $h$ is the element-size, $p$ the polynomial order, and $\\alpha$ a sufficiently large stabilization parameter (typically 3 in 2D and 10 in 3D). This 'sufficiently large' condition is a drawback of the so called interior penalty version of DG/HDG, but there exist more sophisticated, robust versions."
   ]
  },
  {
   "cell_type": "code",
   "execution_count": 1,
   "metadata": {},
   "outputs": [],
   "source": [
    "from ngsolve import *\n",
    "from netgen.geom2d import unit_square\n",
    "from ngsolve.webgui import Draw\n",
    "mesh = Mesh(unit_square.GenerateMesh(maxh=0.1))"
   ]
  },
  {
   "cell_type": "code",
   "execution_count": 2,
   "metadata": {},
   "outputs": [],
   "source": [
    "order = 3\n",
    "fes1 = L2(mesh, order=order)\n",
    "fes2 = FacetFESpace(mesh, order=order, dirichlet=\"left|bottom\", \n",
    "                    highest_order_dc=False)\n",
    "fes = fes1 * fes2"
   ]
  },
  {
   "cell_type": "code",
   "execution_count": 3,
   "metadata": {},
   "outputs": [
    {
     "name": "stdout",
     "output_type": "stream",
     "text": [
      "ndof:  3792\n",
      "non-zero(A): 107040\n",
      "non-zero(Inv): 76416\n"
     ]
    }
   ],
   "source": [
    "u,uhat = fes.TrialFunction()\n",
    "v,vhat = fes.TestFunction()\n",
    "\n",
    "h = specialcf.mesh_size\n",
    "n = specialcf.normal(2)\n",
    "alpha = 3\n",
    "dS = dx(element_vb=BND)\n",
    "\n",
    "a = BilinearForm(fes, condense=False)\n",
    "a += grad(u)*grad(v)*dx\n",
    "a += (-n*grad(u)*(v-vhat)-n*grad(v)*(u-uhat))*dS\n",
    "a += alpha*(order+1)**2/h*(u-uhat)*(v-vhat)*dS\n",
    "\n",
    "f = LinearForm(fes)\n",
    "f += 1*v*dx\n",
    "\n",
    "a.Assemble()\n",
    "f.Assemble()\n",
    "\n",
    "print (\"ndof: \", fes.ndof)\n",
    "print (\"non-zero(A):\", a.mat.nze)\n",
    "print (\"non-zero(Inv):\", a.mat.Inverse(fes.FreeDofs(a.condense), \"sparsecholesky\").nze)"
   ]
  },
  {
   "cell_type": "code",
   "execution_count": 4,
   "metadata": {},
   "outputs": [
    {
     "data": {
      "application/vnd.jupyter.widget-view+json": {
       "model_id": "73a55f00afb540409228f11a631d4fdb",
       "version_major": 2,
       "version_minor": 0
      },
      "text/plain": [
       "WebGuiWidget(layout=Layout(height='50vh', width='100%'), value={'gui_settings': {}, 'ngsolve_version': '6.2.24…"
      ]
     },
     "metadata": {},
     "output_type": "display_data"
    }
   ],
   "source": [
    "gfu = GridFunction(fes)\n",
    "if not a.condense:\n",
    "    gfu.vec.data = a.mat.Inverse(fes.FreeDofs()) * f.vec\n",
    "else:\n",
    "    solvers.BVP(bf=a, lf=f, gf=gfu)\n",
    "Draw (gfu.components[0]);"
   ]
  },
  {
   "cell_type": "code",
   "execution_count": 5,
   "metadata": {},
   "outputs": [
    {
     "data": {
      "image/png": "[encoded data removed]",
      "text/plain": [
       "<Figure size 640x480 with 1 Axes>"
      ]
     },
     "metadata": {},
     "output_type": "display_data"
    }
   ],
   "source": [
    "import scipy.sparse as sp\n",
    "import matplotlib.pyplot as plt\n",
    "scipymat = sp.csr_matrix(a.mat.CSR())\n",
    "plt.spy(scipymat, precision=1e-10, markersize=1);"
   ]
  },
  {
   "cell_type": "code",
   "execution_count": null,
   "metadata": {},
   "outputs": [],
   "source": []
  },
  {
   "cell_type": "code",
   "execution_count": null,
   "metadata": {},
   "outputs": [],
   "source": []
  }
 ],
 "metadata": {
  "kernelspec": {
   "display_name": "Python 3 (ipykernel)",
   "language": "python",
   "name": "python3"
  },
  "language_info": {
   "codemirror_mode": {
    "name": "ipython",
    "version": 3
   },
   "file_extension": ".py",
   "mimetype": "text/x-python",
   "name": "python",
   "nbconvert_exporter": "python",
   "pygments_lexer": "ipython3",
   "version": "3.12.2"
  }
 },
 "nbformat": 4,
 "nbformat_minor": 4
}
