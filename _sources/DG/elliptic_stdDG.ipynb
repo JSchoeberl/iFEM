{
 "cells": [
  {
   "cell_type": "markdown",
   "id": "ddce3c41",
   "metadata": {},
   "source": [
    "# DG - Methods for elliptic problems"
   ]
  },
  {
   "cell_type": "code",
   "execution_count": null,
   "id": "128ff4a4",
   "metadata": {},
   "outputs": [],
   "source": [
    "from ngsolve import *\n",
    "from netgen.geom2d import unit_square\n",
    "from ngsolve.webgui import Draw\n",
    "mesh = Mesh(unit_square.GenerateMesh(maxh=0.1))"
   ]
  },
  {
   "cell_type": "code",
   "execution_count": null,
   "id": "5a60aed3",
   "metadata": {},
   "outputs": [],
   "source": [
    "order = 3\n",
    "fes = L2(mesh, order=order, dgjumps=True)"
   ]
  },
  {
   "cell_type": "code",
   "execution_count": null,
   "id": "1330be32",
   "metadata": {},
   "outputs": [],
   "source": [
    "u,v = fes.TnT()\n",
    "\n",
    "h = specialcf.mesh_size\n",
    "n = specialcf.normal(2)\n",
    "alpha = 3\n",
    "dS = dx(skeleton=True)   # internal edges\n",
    "\n",
    "def jump(u): return u-u.Other()\n",
    "def mean(u): return 0.5*(u+u.Other())\n",
    "\n",
    "a = BilinearForm(fes)\n",
    "a += grad(u)*grad(v)*dx \n",
    "a += (-n*mean(grad(u))*jump(v)-n*mean(grad(v))*jump(u))*dS\n",
    "a += alpha*(order+1)**2/h*jump(u)*jump(v)*dS\n",
    "\n",
    "a += alpha*order**2/h*u*v * ds(skeleton=True) \n",
    "a += (-n*grad(u)*v-n*grad(v)*u)* ds(skeleton=True)\n",
    "\n",
    "f = LinearForm(fes)\n",
    "f += 10*v*dx\n",
    "\n",
    "a.Assemble()\n",
    "f.Assemble()\n",
    "\n",
    "inv = a.mat.Inverse(fes.FreeDofs(), inverse=\"sparsecholesky\")\n",
    "\n",
    "print (\"ndof: \", fes.ndof)\n",
    "print (\"non-zero(A):\", a.mat.nze)\n",
    "print (\"non-zero(Inv):\", inv.nze)"
   ]
  },
  {
   "cell_type": "code",
   "execution_count": null,
   "id": "10d3e346",
   "metadata": {},
   "outputs": [],
   "source": [
    "gfu = GridFunction(fes)\n",
    "gfu.vec.data = inv * f.vec"
   ]
  },
  {
   "cell_type": "code",
   "execution_count": null,
   "id": "66ca8213",
   "metadata": {},
   "outputs": [],
   "source": [
    "Draw (gfu);"
   ]
  },
  {
   "cell_type": "code",
   "execution_count": null,
   "id": "f6235351",
   "metadata": {},
   "outputs": [],
   "source": [
    "import scipy.sparse as sp\n",
    "import matplotlib.pyplot as plt\n",
    "scipymat = sp.csr_matrix(a.mat.CSR())\n",
    "plt.spy(scipymat, precision=1e-10, markersize=1);"
   ]
  }
 ],
 "metadata": {
  "kernelspec": {
   "display_name": "Python 3 (ipykernel)",
   "language": "python",
   "name": "python3"
  },
  "language_info": {
   "codemirror_mode": {
    "name": "ipython",
    "version": 3
   },
   "file_extension": ".py",
   "mimetype": "text/x-python",
   "name": "python",
   "nbconvert_exporter": "python",
   "pygments_lexer": "ipython3",
   "version": "3.12.2"
  }
 },
 "nbformat": 4,
 "nbformat_minor": 5
}
