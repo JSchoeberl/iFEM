{
 "cells": [
  {
   "cell_type": "markdown",
   "id": "2452aa97",
   "metadata": {},
   "source": [
    "# Nitsche's Method for boundary and interface conditions"
   ]
  },
  {
   "cell_type": "code",
   "execution_count": null,
   "id": "b10fb218",
   "metadata": {},
   "outputs": [],
   "source": [
    "from netgen.occ import *\n",
    "from ngsolve import *\n",
    "from ngsolve.webgui import Draw\n",
    "\n",
    "mesh = Mesh(unit_square.GenerateMesh(maxh=0.05))"
   ]
  },
  {
   "cell_type": "markdown",
   "id": "7d7e4542",
   "metadata": {},
   "source": [
    "A penalty approximation to the Dirichlet boundary condition $u = u_D$ is:\n",
    "\n",
    "$$\n",
    "\\int_\\Omega \\nabla u \\nabla v + \\int_{\\Gamma_D} \\alpha u v = \n",
    "\\int_\\Omega f v + \\int_{\\Gamma_D} \\alpha u_D v \\qquad \\forall \\, v\n",
    "$$"
   ]
  },
  {
   "cell_type": "code",
   "execution_count": null,
   "id": "13da3a8d",
   "metadata": {},
   "outputs": [],
   "source": [
    "fes = H1(mesh, order=2)\n",
    "u,v = fes.TnT()\n",
    "\n",
    "pen = 100\n",
    "a = BilinearForm(grad(u)*grad(v)*dx + pen*u*v*ds).Assemble()\n",
    "f = LinearForm(10*v*dx).Assemble()\n",
    "\n",
    "gfu = GridFunction(fes)\n",
    "gfu.vec.data = a.mat.Inverse() * f.vec\n",
    "\n",
    "print (\"error bc:\", sqrt(Integrate((gfu-0)**2, mesh.Boundaries(\".*\"))))\n",
    "Draw (gfu);"
   ]
  },
  {
   "cell_type": "markdown",
   "id": "cc8926da",
   "metadata": {},
   "source": [
    "**Exercises:**\n",
    "\n",
    "* How does the error depend on the penalty parameter $\\alpha$ ? \n",
    "* Does the error get reduced when the approximation space gets enrichred ? \n",
    "* Modify the right hand side to set $u = x+y$ on $\\partial \\Omega$"
   ]
  },
  {
   "cell_type": "markdown",
   "id": "3fb9c327",
   "metadata": {},
   "source": [
    "### Nitsche's method:\n",
    "\n",
    "$$\n",
    "\\int_\\Omega \\nabla u \\nabla v \n",
    "- \\int_{\\Gamma_D} \\frac{\\partial u}{\\partial n} v \n",
    "- \\int_{\\Gamma_D} \\frac{\\partial v}{\\partial n} u\n",
    "+ \\int_{\\Gamma_D} \\frac{\\alpha p^2}{h} u v = \n",
    "\\int_\\Omega f v \n",
    "- \\int_{\\Gamma_D} \\frac{\\partial v}{\\partial n} u_D\n",
    "+ \\int_{\\Gamma_D} \\frac{\\alpha p^2}{h} u_D v \\qquad \\forall \\, v\n",
    "$$"
   ]
  },
  {
   "cell_type": "code",
   "execution_count": null,
   "id": "90b9fbdd",
   "metadata": {},
   "outputs": [],
   "source": [
    "order = 4\n",
    "alpha = 5\n",
    "\n",
    "fes = H1(mesh, order=order)\n",
    "u,v = fes.TnT()\n",
    "\n",
    "h = specialcf.mesh_size\n",
    "n = specialcf.normal(mesh.dim)\n",
    "\n",
    "a = BilinearForm(fes)\n",
    "a += grad(u)*grad(v)*dx + alpha*order**2/h*u*v*ds\n",
    "a += (-n*grad(u)*v-n*grad(v)*u) * ds(skeleton=True)\n",
    "a.Assemble()\n",
    "\n",
    "f = LinearForm(10*v*dx).Assemble()\n",
    "\n",
    "gfu = GridFunction(fes)\n",
    "gfu.vec.data = a.mat.Inverse(inverse=\"sparsecholesky\") * f.vec\n",
    "\n",
    "print (\"error bc:\", sqrt(Integrate((gfu-0)**2, mesh.Boundaries(\".*\"))))\n",
    "Draw (gfu);"
   ]
  },
  {
   "cell_type": "markdown",
   "id": "e674b025",
   "metadata": {},
   "source": [
    "The bilinear-form is coercive w.r.t. the norm induced by $\\int_\\Omega \\nabla u \\nabla v dx + \\int_{\\partial \\Omega} \\frac{p^2}{h} u v ds $ if $\\alpha$ is sufficiently large.\n",
    "\n",
    "We check positive definite by computing the few smallest eigenvalues of \n",
    "\n",
    "$$\n",
    "A x = \\lambda N x,\n",
    "$$\n",
    "\n",
    "where the matrix $N$ is defined by the norm."
   ]
  },
  {
   "cell_type": "code",
   "execution_count": null,
   "id": "ace62e19",
   "metadata": {
    "scrolled": true
   },
   "outputs": [],
   "source": [
    "from ngsolve.solvers import PINVIT\n",
    "\n",
    "bfnorm = BilinearForm(grad(u)*grad(v)*dx + order/h*u*v*ds).Assemble()\n",
    "eval,evec = PINVIT(a.mat, bfnorm.mat, pre=bfnorm.mat.Inverse(), \\\n",
    "                   num=5, printrates=False)\n",
    "print (eval)"
   ]
  },
  {
   "cell_type": "markdown",
   "id": "208590c7",
   "metadata": {},
   "source": [
    "**Exercise:**\n",
    "\n",
    "* Extend to non-homogeneous Dirichlet boundary conditions\n",
    "* How does the error depend on $p$ ? \n",
    "* How does the error depend on $\\alpha$ ? "
   ]
  },
  {
   "cell_type": "markdown",
   "id": "3dfab31b",
   "metadata": {},
   "source": [
    "## Interfaces\n",
    "\n",
    "Consider an electric motor with a rotating rotor. The fixed and the rotating part are meshed independently, and continuity at the interface is achieved by a Nitsche method."
   ]
  },
  {
   "cell_type": "code",
   "execution_count": null,
   "id": "25f544d9",
   "metadata": {},
   "outputs": [],
   "source": [
    "from netgen.occ import *\n",
    "from ngsolve import *\n",
    "from ngsolve.webgui import Draw"
   ]
  },
  {
   "cell_type": "code",
   "execution_count": null,
   "id": "3de5928b",
   "metadata": {},
   "outputs": [],
   "source": [
    "square = MoveTo(0,0).Rectangle(1,1).Face()\n",
    "circo = Circle((0.5,0.5), 0.3).Face()\n",
    "circ = Circle((0.5,0.5), 0.3).Face()\n",
    "bar = MoveTo(0.3,0.45).Rectangle(0.4,0.1).Face()\n",
    "\n",
    "square.edges.name=\"outer\"\n",
    "circ.edges.name=\"gammai\"\n",
    "circo.edges.name=\"gammao\"\n",
    "outer = square-circo\n",
    "outer.faces.name = \"outer\"\n",
    "\n",
    "circ.faces.name = \"inner\"\n",
    "bar.faces.name = \"bar\"\n",
    "inner = circ-bar\n",
    "\n",
    "both = Compound([outer, inner, bar])\n",
    "mesh = Mesh(OCCGeometry(both, dim=2).GenerateMesh(maxh=0.05)).Curve(3)\n",
    "print (mesh.GetMaterials(), mesh.GetBoundaries())\n",
    "Draw (mesh);"
   ]
  },
  {
   "cell_type": "code",
   "execution_count": null,
   "id": "c7e50114",
   "metadata": {},
   "outputs": [],
   "source": [
    "def MeshRotation(angle):\n",
    "    mesh.UnsetDeformation()\n",
    "    deform = GridFunction(VectorH1(mesh, order=3))\n",
    "\n",
    "    rotmat = CF( (cos(angle), -sin(angle), sin(angle), cos(angle))).Reshape( (2,2))\n",
    "    center = CF( (0.5, 0.5) )\n",
    "    pos = CF( (x,y) )\n",
    "\n",
    "    deform.Set( (rotmat-Id(2))*(pos-center), definedon=mesh.Materials(\"inner|bar\"))\n",
    "    return deform"
   ]
  },
  {
   "cell_type": "code",
   "execution_count": null,
   "id": "b7eee0c8",
   "metadata": {},
   "outputs": [],
   "source": [
    "from time import sleep\n",
    "scene = Draw (mesh)\n",
    "\n",
    "for i in range(30):\n",
    "    mesh.SetDeformation(MeshRotation(i/30))\n",
    "    scene.Redraw()\n",
    "    sleep(0.03)"
   ]
  },
  {
   "cell_type": "markdown",
   "id": "d8171cf7",
   "metadata": {},
   "source": [
    "without gluing together we compute independent solutions for both regions:"
   ]
  },
  {
   "cell_type": "code",
   "execution_count": null,
   "id": "5e9055a0",
   "metadata": {},
   "outputs": [],
   "source": [
    "mesh.SetDeformation(MeshRotation(0.8))\n",
    "\n",
    "fes = H1(mesh, order=3, dirichlet=\"outer\")\n",
    "u,v = fes.TnT()\n",
    "a = BilinearForm(grad(u)*grad(v)*dx + u*v*dx).Assemble()\n",
    "f = LinearForm(1e3*(x-0.5)*v*dx(\"bar\")).Assemble()\n",
    "gfu = GridFunction(fes)\n",
    "gfu.vec.data = a.mat.Inverse(freedofs=fes.FreeDofs())*f.vec\n",
    "Draw (gfu);"
   ]
  },
  {
   "cell_type": "markdown",
   "id": "b9525238",
   "metadata": {},
   "source": [
    "The `ContactBoundary` class computes integrals between two different boundaries. It integrates over the primary boundary, finds the closest point on the secondary boundary and evaluates the *other* function there. \n"
   ]
  },
  {
   "cell_type": "code",
   "execution_count": null,
   "id": "767fa481",
   "metadata": {},
   "outputs": [],
   "source": [
    "deform = MeshRotation(0.8)\n",
    "mesh.UnsetDeformation()\n",
    "a = BilinearForm(grad(u)*grad(v)*dx + u*v*dx)\n",
    "\n",
    "contact = ContactBoundary(mesh.Boundaries(\"gammai\"), mesh.Boundaries(\"gammao\"), volume=True)\n",
    "h = specialcf.mesh_size\n",
    "\n",
    "contact.AddIntegrator (3/h*(u-u.Other()) * (v-v.Other()))\n",
    "# consisteny term not yet implemented for contact boundary\n",
    "contact.AddIntegrator (n*grad(u)*(v.Other()-v)+n*grad(v)*(u.Other()-u))\n",
    "\n",
    "contact.Update (deform, bf=a, intorder=20)\n",
    "a.Assemble()\n",
    "\n",
    "f = LinearForm(1e3*(x-0.5)*v*dx(\"bar\")).Assemble()\n",
    "\n",
    "gfu.vec.data = a.mat.Inverse(freedofs=fes.FreeDofs())*f.vec\n",
    "mesh.SetDeformation(deform)\n",
    "\n",
    "Draw (gfu)\n",
    "Draw (grad(gfu), mesh);"
   ]
  },
  {
   "cell_type": "markdown",
   "id": "e368730b",
   "metadata": {},
   "source": [
    "The current implementation is very simple and not highly accurate. It uses Gauss-rules on the primary boundary which are accurate for finite element functions on the primary boundary, but not for the other boundary. One can observe oscillations for the gradient near to the boundary."
   ]
  },
  {
   "cell_type": "markdown",
   "id": "8ca01250",
   "metadata": {},
   "source": [
    "# Hybrid Interfaces\n",
    "\n",
    "In a hybrid interface method one introduces another field $\\hat u$ only at the interface. The functions $u$ from both sides are glued to this common interface field by a Nitsche method:\n",
    "\n",
    "$$\n",
    "\\int_{\\Omega_i} \\nabla u \\nabla v \n",
    "- \\int_\\gamma \\partial_n u (v - \\hat v) \n",
    "- \\int_\\gamma \\partial_n u (u - \\hat u) \n",
    "+ \\int_\\gamma \\frac{\\alpha p^2}{h} (u - \\hat u)(v - \\hat v) \n",
    "$$\n",
    "\n",
    "Now one has to perform integrals between boundary values of finite element functions, and the interface functions. Often the interface is geometrically simple (a circle or a cylinder), and one can choose global functions there. On the circle we choose trigonometric functions.\n",
    "\n",
    "In NGSolve there is the `GlobalInterfaceSpace`. It allows to provide the coordinate (the angle) as a function of the global coordinates. This mapping can be different on both sides of the interface, which allows the gluing of shifted functions."
   ]
  },
  {
   "cell_type": "code",
   "execution_count": null,
   "id": "2305294c",
   "metadata": {},
   "outputs": [],
   "source": [
    "angle = Parameter(0.8) \n",
    "mapping = atan2(y-0.5, x-0.5) + \\\n",
    "    mesh.MaterialCF({\"inner\" : angle}, default=0)\n",
    "\n",
    "interface = mesh.Boundaries(\"gammao|gammai\")\n",
    "print (mesh.GetMaterials())\n",
    "print (mesh.GetBoundaries())\n",
    "print (interface.Mask())"
   ]
  },
  {
   "cell_type": "code",
   "execution_count": null,
   "id": "8afa4eb9",
   "metadata": {},
   "outputs": [],
   "source": [
    "order=3\n",
    "V = H1(mesh, order=order, dirichlet=\"outer\")\n",
    "from ngsolve.comp import GlobalInterfaceSpace\n",
    "Vhat = GlobalInterfaceSpace(mesh, mapping=mapping, \\\n",
    "                            order=10, periodic=True, definedon=mesh.Boundaries(\"gamma.*\"))\n",
    "X = V *Vhat"
   ]
  },
  {
   "cell_type": "code",
   "execution_count": null,
   "id": "59463556",
   "metadata": {},
   "outputs": [],
   "source": [
    "mesh.UnsetDeformation()\n",
    "\n",
    "u,uhat = X.TrialFunction()\n",
    "v,vhat = X.TestFunction()\n",
    "\n",
    "h = specialcf.mesh_size\n",
    "n = specialcf.normal(mesh.dim)\n",
    "\n",
    "a = BilinearForm(X) \n",
    "a += grad(u)*grad(v)*dx \n",
    "a += (3*order**2/h*(u-uhat)*(v-vhat) + \\\n",
    "    n*grad(u)*(vhat-v)+n*grad(v)*(uhat-u))* \\\n",
    "    ds(\"gammao|gammai\", skeleton=True)\n",
    "a.Assemble();"
   ]
  },
  {
   "cell_type": "code",
   "execution_count": null,
   "id": "f5fa4ec7",
   "metadata": {
    "scrolled": false
   },
   "outputs": [],
   "source": [
    "f = LinearForm(1e3*(x-0.5)*v*dx(\"bar\")).Assemble()\n",
    "gf = GridFunction(X)\n",
    "\n",
    "gf.vec.data = a.mat.Inverse(freedofs=X.FreeDofs())*f.vec\n",
    "gfu, gfuhat = gf.components\n",
    "\n",
    "mesh.SetDeformation(MeshRotation(angle))\n",
    "Draw (gfu)\n",
    "Draw (grad(gfu), mesh);\n",
    "mesh.UnsetDeformation()"
   ]
  },
  {
   "cell_type": "code",
   "execution_count": null,
   "id": "fbc4b972",
   "metadata": {},
   "outputs": [],
   "source": []
  },
  {
   "cell_type": "code",
   "execution_count": null,
   "id": "9c1ab7d3",
   "metadata": {},
   "outputs": [],
   "source": []
  }
 ],
 "metadata": {
  "kernelspec": {
   "display_name": "Python 3 (ipykernel)",
   "language": "python",
   "name": "python3"
  },
  "language_info": {
   "codemirror_mode": {
    "name": "ipython",
    "version": 3
   },
   "file_extension": ".py",
   "mimetype": "text/x-python",
   "name": "python",
   "nbconvert_exporter": "python",
   "pygments_lexer": "ipython3",
   "version": "3.10.11"
  }
 },
 "nbformat": 4,
 "nbformat_minor": 5
}
