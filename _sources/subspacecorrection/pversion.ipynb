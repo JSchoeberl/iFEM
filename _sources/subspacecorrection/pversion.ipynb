{
 "cells": [
  {
   "cell_type": "markdown",
   "id": "9eba7e98-51bc-4003-94a4-1e69f84ba3d7",
   "metadata": {},
   "source": [
    "# Schwarz preconditioners for high order finite elements\n",
    "\n",
    "Basis functions for high order finite element methods (aka p-version fem) are associated with vertices, edges, faces and cells of the triangulation. Thus, there is a natural way to define block-Jacobi (or block-Gauss-Seidel) preconditioners by combining dofs sitting on the same geometric entities (called nodes)."
   ]
  },
  {
   "cell_type": "code",
   "execution_count": 14,
   "id": "5c636d92-4368-4e6d-ad9b-23955873969a",
   "metadata": {},
   "outputs": [],
   "source": [
    "from ngsolve import *\n",
    "from ngsolve.la import EigenValues_Preconditioner\n",
    "from ngsolve.webgui import Draw\n",
    "mesh = Mesh(unit_square.GenerateMesh(maxh=0.2))"
   ]
  },
  {
   "cell_type": "code",
   "execution_count": 17,
   "id": "cc0f24ef-d8b0-4408-a3f5-de52a330a357",
   "metadata": {},
   "outputs": [],
   "source": [
    "def DefineProblem(order, printing=True):\n",
    "    fes = H1(mesh, order=order)\n",
    "    u,v = fes.TnT()\n",
    "    a = BilinearForm(grad(u)*grad(v)*dx+10*u*v*dx).Assemble()\n",
    "    f = LinearForm(x*y*v*dx).Assemble()\n",
    "\n",
    "    blocks = []\n",
    "    freedofs = fes.FreeDofs()\n",
    "    for v in mesh.vertices:\n",
    "        blocks.append (fes.GetDofNrs(v))\n",
    "    for ed in mesh.edges:\n",
    "        blocks.append (fes.GetDofNrs(ed))\n",
    "    for fa in mesh.faces:\n",
    "        blocks.append (fes.GetDofNrs(fa))\n",
    "\n",
    "    if printing:\n",
    "        print (blocks)\n",
    "    pre = a.mat.CreateBlockSmoother(blocks, GS=False)\n",
    "\n",
    "    return a,f,pre"
   ]
  },
  {
   "cell_type": "code",
   "execution_count": 18,
   "id": "ffd1988e-f790-42d9-bf79-18a96610e633",
   "metadata": {},
   "outputs": [
    {
     "name": "stdout",
     "output_type": "stream",
     "text": [
      "[(0,), (1,), (2,), (3,), (4,), (5,), (6,), (7,), (8,), (9,), (10,), (11,), (12,), (13,), (14,), (15,), (16,), (17,), (18,), (19,), (20,), (21,), (22,), (23,), (24,), (25,), (26,), (27,), (28,), (29,), (30,), (31,), (32,), (33,), (34,), (35,), (36,), (37,), (38,), (39,), (40,), (41,), (42,), (43,), (44,), (45,), (46,), (47,), (48,), (49,), (50,), (51,), (52,), (53,), (54,), (55,), (56,), (57,), (58,), (59,), (60,), (61,), (62,), (63,), (64,), (65,), (66,), (67,), (68,), (69,), (70,), (71,), (72,), (73,), (74,), (75,), (76,), (77,), (78,), (79,), (80,), (81,), (82,), (83,), (84,), (85,), (86,), (87,), (88,), (89,), (90,), (91,), (92,), (93,), (94,), (95,), (96,), (97,), (98,), (99,), (100,), (101,), (102,), (103,), (104,), (105,), (106,), (107,), (108,), (109,), (110,), (111,), (112,), (113,), (114,), (115,), (116,), (117,), (118,), (119,), (120,), (121,), (122,), (123,), (124,), (125,), (126,), (127,), (128,), (129,), (130,), (131,), (132,), (), (), (), (), (), (), (), (), (), (), (), (), (), (), (), (), (), (), (), (), (), (), (), (), (), (), (), (), (), (), (), (), (), (), (), (), (), (), (), (), (), (), (), (), (), (), (), (), (), (), (), (), (), (), (), ()]\n"
     ]
    }
   ],
   "source": [
    "a,f,pre = DefineProblem(2)"
   ]
  },
  {
   "cell_type": "code",
   "execution_count": 19,
   "id": "b746f9b2-8af7-485a-9cd0-c7c3ab36393d",
   "metadata": {},
   "outputs": [
    {
     "name": "stdout",
     "output_type": "stream",
     "text": [
      "\u001b[2KCG converged in 53 iterations to residual 3.027236450845933e-14\n"
     ]
    },
    {
     "data": {
      "application/vnd.jupyter.widget-view+json": {
       "model_id": "c46e7473796b49d29fb8374e1169f6ad",
       "version_major": 2,
       "version_minor": 0
      },
      "text/plain": [
       "WebGuiWidget(layout=Layout(height='50vh', width='100%'), value={'gui_settings': {}, 'ngsolve_version': '6.2.24…"
      ]
     },
     "metadata": {},
     "output_type": "display_data"
    }
   ],
   "source": [
    "gfu = GridFunction(a.space)\n",
    "from ngsolve.krylovspace import CGSolver\n",
    "inv = CGSolver(mat=a.mat, pre=pre, printrates='\\r', maxiter=400)\n",
    "gfu.vec.data = inv * f.vec\n",
    "Draw (gfu);"
   ]
  },
  {
   "cell_type": "markdown",
   "id": "b08cd95b-fcdb-416e-bd98-a6ad04122dcc",
   "metadata": {},
   "source": [
    "**Exercise:** \n",
    "* Plot the dependency of the extremal eigenvalues on the polynomial order $p$.\n",
    "* Compare time to solution. To get comparable results, plot number of dofs per second. "
   ]
  },
  {
   "cell_type": "code",
   "execution_count": 25,
   "id": "10863244-601c-4565-a94a-1123a7c86ba5",
   "metadata": {},
   "outputs": [
    {
     "name": "stdout",
     "output_type": "stream",
     "text": [
      "lammin, lammax= 0.06934619745427145 2.718724850945184\n"
     ]
    }
   ],
   "source": [
    "a,f,pre = DefineProblem(3, False)\n",
    "lam = list(EigenValues_Preconditioner(a.mat, pre))\n",
    "print (\"lammin, lammax=\", lam[0], lam[-1])"
   ]
  },
  {
   "cell_type": "markdown",
   "id": "bdf63475-bee1-4cc9-9581-de711dfe2179",
   "metadata": {},
   "source": [
    "## Overlapping blocks\n",
    "\n",
    "One can improve the condition number by letting blocks overlap. Examples:\n",
    "* One can assign all dofs associated with one element (including the boundary) to a block. The number of blocks is the number of elements.\n",
    "* One can combine all dofs on all elements sharing a vertex to blocks. The number of blocks is now the number of vertics.\n",
    "* One can combine all dofs on all edges sharing a vertex to blocks. The dofs on faces and cells are left as extra blocks.\n",
    "\n",
    "**Exercise:** \n",
    "* Implement these definition of blocks.\n",
    "* Find some more possibilities.\n",
    "* Which one gives the best condition number ?\n",
    "* Which one computes the solution in least time ?"
   ]
  },
  {
   "cell_type": "markdown",
   "id": "a022959c-a8ba-4e03-91ac-a3eef93a071f",
   "metadata": {},
   "source": [
    "Consult NGSolve documentation:\n",
    "* [Exploring the mesh topology](https://docu.ngsolve.org/latest/i-tutorials/unit-1.8-meshtopology/meshtopology.html)\n",
    "* [Building blocks for programming preconditioners](https://docu.ngsolve.org/latest/i-tutorials/unit-2.1.2-blockjacobi/blockjacobi.html)\n",
    "\n",
    "The $p$-robust analysis for triangular and tetrahedral meshes can be found in:\n",
    "[Additive Schwarz preconditioning for p-version triangular and tetrahedral finite elements](https://academic.oup.com/imajna/article/28/1/1/674492)"
   ]
  },
  {
   "cell_type": "code",
   "execution_count": null,
   "id": "eab2d803-b456-4336-bca5-3de781042baa",
   "metadata": {},
   "outputs": [],
   "source": []
  }
 ],
 "metadata": {
  "kernelspec": {
   "display_name": "Python 3 (ipykernel)",
   "language": "python",
   "name": "python3"
  },
  "language_info": {
   "codemirror_mode": {
    "name": "ipython",
    "version": 3
   },
   "file_extension": ".py",
   "mimetype": "text/x-python",
   "name": "python",
   "nbconvert_exporter": "python",
   "pygments_lexer": "ipython3",
   "version": "3.12.2"
  }
 },
 "nbformat": 4,
 "nbformat_minor": 5
}
