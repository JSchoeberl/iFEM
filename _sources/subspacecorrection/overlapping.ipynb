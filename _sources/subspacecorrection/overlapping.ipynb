{
 "cells": [
  {
   "cell_type": "markdown",
   "id": "thermal-mount",
   "metadata": {},
   "source": [
    "Overlapping Domain Decomposition Methods\n",
    "===\n",
    "Let $\\{ \\Omega_i \\}$ be a non-overlapping decomposition of $\\Omega$ into open sub-domains, i.e.\n",
    "\n",
    "$$\n",
    "\\overline \\Omega = \\bigcup \\ \\overline \\Omega_i\n",
    "$$\n",
    "\n",
    "with\n",
    "\n",
    "$$\n",
    "\\Omega_i \\cap \\Omega_j = 0 \\quad \\text{ for } i \\neq j.\n",
    "$$\n",
    "\n",
    "\n",
    "Let $H_i = \\operatorname{diam} \\Omega_i$. To simplify notation we assume that all $H_i$ are of the same order of magnitude, and write $H$.\n",
    "\n",
    "\n",
    "In addition to $\\Omega_i$, we define enlarged sub-domains\n",
    "\n",
    "$$\n",
    "\\widetilde \\Omega_i = {U}_{cH} (\\Omega_i) = \\{ x \\in \\Omega : \\operatorname{dist} (x,\\Omega_i) < c H \\},\n",
    "$$\n",
    "\n",
    "where the constant $c$ is of order one.\n",
    "\n",
    "\n",
    "The overlapping domain decomposition method is a sub-space decomposition of the global finite element space $V_h \\subset H^1_{0,D}(\\Omega)$ into local spaces supported on the overlapping sub-domains $\\widetilde \\Omega_i$, i.e.\n",
    "\n",
    "$$\n",
    "V_i = \\{ v \\in V_h : v = 0 \\text{ on } \\Omega \\setminus \\widetilde \\Omega_i \\}.\n",
    "$$\n",
    "\n",
    "The overlapping domain decomposition method is an additive Schwarz method with the space splitting\n",
    "\n",
    "$$\n",
    "V_h = \\sum V_i\n",
    "$$\n",
    "\n",
    "We are solving Dirichlet problems on the overlapping sub-domains, and adding up the solutions: The preconditioning action\n",
    "\n",
    "$$\n",
    "C^{-1} : r \\mapsto w\n",
    "$$\n",
    "\n",
    "is defined as\n",
    "\n",
    "$$\n",
    "w = \\sum w_i \\quad \\text{with} \\quad w_i \\in V_i : A(w_i, v_i) = r(v_i) \\; \\forall \\, v_i \\in V_i\n",
    "$$"
   ]
  },
  {
   "cell_type": "markdown",
   "id": "protecting-effects",
   "metadata": {},
   "source": [
    "Experiments with overlapping DD\n",
    "---"
   ]
  },
  {
   "cell_type": "code",
   "execution_count": null,
   "id": "recreational-strengthening",
   "metadata": {},
   "outputs": [],
   "source": [
    "from ngsolve import *\n",
    "from ngsolve.webgui import Draw\n",
    "from netgen.geom2d import unit_square"
   ]
  },
  {
   "cell_type": "markdown",
   "id": "spiritual-buddy",
   "metadata": {},
   "source": [
    "We start from a coarse grid, where we define the overlapping sub-domains as vertex patches: All elements connected with vertex i form the $i^{th}$ sub-domain $\\widetilde \\Omega_i$. To visualize it, we define an $L_2$ finite element function with `order=0`. Use the `multidim` slider in the gui to slide over sub-domains:"
   ]
  },
  {
   "cell_type": "code",
   "execution_count": null,
   "id": "double-worse",
   "metadata": {},
   "outputs": [],
   "source": [
    "mesh = Mesh(unit_square.GenerateMesh(maxh=0.3))\n",
    "fesdom = L2(mesh, order=0, autoupdate=True)\n",
    "fes = H1(mesh, order=1, dirichlet=\"bottom\", autoupdate=True)\n",
    "gfdom = GridFunction(fesdom, multidim=mesh.nv, nested=True, autoupdate=True)\n",
    "for el in mesh.Elements(VOL):\n",
    "    for v in el.vertices:\n",
    "        gfdom.vecs[v.nr][el.nr] = 1\n",
    "        \n",
    "for l in range(2):\n",
    "    mesh.Refine()\n",
    "\n",
    "Draw (gfdom)"
   ]
  },
  {
   "cell_type": "markdown",
   "id": "opponent-qatar",
   "metadata": {},
   "source": [
    "Setup the problem. The sub-spaces are defined via `BitArrays` with \n",
    "cleared bits for dofs not belonging to elements not in $\\widetilde \\Omega_i$:"
   ]
  },
  {
   "cell_type": "code",
   "execution_count": null,
   "id": "prompt-japan",
   "metadata": {},
   "outputs": [],
   "source": [
    "u,v = fes.TnT()\n",
    "a = BilinearForm(grad(u)*grad(v)*dx).Assemble()\n",
    "\n",
    "pre = None\n",
    "for v in gfdom.vecs:\n",
    "    mask = BitArray(fes.FreeDofs())\n",
    "    for el in fes.Elements(VOL):\n",
    "        if v[el.nr] == 0:\n",
    "            for d in el.dofs:\n",
    "                mask[d] = False\n",
    "    # print (mask)\n",
    "    invi = a.mat.Inverse(freedofs=mask, inverse=\"sparsecholesky\")\n",
    "    pre = pre+invi if pre else invi     "
   ]
  },
  {
   "cell_type": "code",
   "execution_count": null,
   "id": "charming-throat",
   "metadata": {},
   "outputs": [],
   "source": [
    "from ngsolve.la import EigenValues_Preconditioner\n",
    "lam = list(EigenValues_Preconditioner(a.mat, pre))\n",
    "print (\"lammin, lammax=\", lam[0], lam[-1])\n",
    "print (\"kappa=\", lam[-1]/lam[0])"
   ]
  },
  {
   "cell_type": "markdown",
   "id": "assisted-evans",
   "metadata": {},
   "source": [
    "We observe the following behaviour:\n",
    "* the condition number is independent of the refinement level\n",
    "* the condition number grows with the number of sub-domains"
   ]
  },
  {
   "cell_type": "markdown",
   "id": "limiting-alfred",
   "metadata": {},
   "source": [
    "Analysis of the DD preconditioner\n",
    "---\n",
    "\n",
    "Theorem: The eigenvalues of the domain decomposition preconditioner are bounded as\n",
    "\n",
    "$$\n",
    "\\sigma(C_{DD}^{-1} A) \\subset [c_1 H^2, c_2 ]\n",
    "$$\n",
    "\n",
    "*Outline of the proof*: We apply the Additive Schwarz Lemma. The ASM lemma provides the representation\n",
    "\n",
    "$$\n",
    "u^T C_{DD} u = \\inf_{u = \\sum u_i \\atop  u_i \\in V_i} \\sum_i \\| u_i \\|_A^2\n",
    "$$\n",
    "\n",
    "By assuming shape regularity of the domains, only a small, fixed number of sub-domains overlap. From that we get the constant upper bound $c_2$ for the spectrum. For the lower bound $c_1 H^2$ we have to define explicitly a decomposition of a finite element function $u$ into sub-space finite element functions. This requires some technical tools."
   ]
  },
  {
   "cell_type": "markdown",
   "id": "human-execution",
   "metadata": {},
   "source": [
    "**Partition on unity:**\n",
    "\n",
    "We call the set of functions $\\{ \\psi_i \\}$ a partition of unity for the domain decomposition $\\widetilde \\Omega_i$ iff\n",
    "\n",
    "$$\n",
    "\\text{support} \\{ \\psi_i \\}  \\subset \\widetilde \\Omega_i\n",
    "$$\n",
    "\n",
    "$$\n",
    "0 \\leq \\psi_i \\leq 1\n",
    "$$\n",
    "\n",
    "and\n",
    "\n",
    "$$\n",
    "\\sum \\psi_i = 1\n",
    "$$\n",
    "\n",
    "For the definition of the overlapping domain decomposition we can define a partition of unity as follows:\n",
    "\n",
    "$$\n",
    "\\psi_i^0(x) = \\max \\{0,  1 - \\frac{1}{cH_i} \\operatorname{dist} \\{ x, \\Omega_i \\} \\}\n",
    "$$\n",
    "\n",
    "These functions are $1$ inside $\\Omega_i$, $0$ outside $\\widetilde \\Omega_i$, and decay with a maximal derivative \n",
    "\n",
    "$$\n",
    "| \\nabla \\psi_i^0 |_{\\infty}  \\leq \\frac{1}{c H_i}.\n",
    "$$\n",
    "\n",
    "However, these function do not sum up to 1, so we rescale by their sum to obtain a partition of unity:\n",
    "\n",
    "$$\n",
    "\\psi_i(x) := \\frac{\\psi_i^0(x)} {\\sum \\psi_i^0(x) }\n",
    "$$\n"
   ]
  },
  {
   "cell_type": "markdown",
   "id": "optical-franklin",
   "metadata": {},
   "source": [
    "**$H^1$-stable quasi-interpolation operators:**\n",
    "\n",
    "We need local interpolation-like operators\n",
    "$$\n",
    "\\pi_h : H^1 \\rightarrow V_h\n",
    "$$\n",
    "\n",
    "which are projectors onto $V_h$, i.e. $I_h v_h = v_h$ for $v_h \\in V_h$, are continuous in the $H^1$ semi-norm\n",
    "\n",
    "$$\n",
    "\\| \\nabla \\pi_h v \\|_{L_2(\\Omega)} \\prec \\| \\nabla v \\|_{L_2(\\Omega)},\n",
    "$$\n",
    "\n",
    "and satisfy the approximation estimate\n",
    "$$\n",
    " \\| \\tfrac{1}{h} (v - \\pi_h v) \\|_{L_2(\\Omega)} \\prec \\| \\nabla v \\|_{L_2(\\Omega)}.\n",
    "$$\n",
    "\n",
    "We cannot use simple nodal interpolation since this is not well-defined for $H^1$ functions (for two or more space dimensions), but we can use a Clément-type quasi-interpolation operator: Such an operator defines nodal values by some local averaging."
   ]
  },
  {
   "cell_type": "markdown",
   "id": "radio-burke",
   "metadata": {},
   "source": [
    "We have now the tools to conduct the proof for the sub-space decomposition:\n",
    "\n",
    "For a given $u \\in V_h$ we define\n",
    "\n",
    "$$\n",
    "u_i = \\pi_h (\\psi_i u)\n",
    "$$\n",
    "\n",
    "These $u_i$ are in $V_i$, i.e. are localized finite element functions.\n",
    "\n",
    "By linearity of the quasi-interpolation, the partition of unity,\n",
    "and the projection property they are a decomposition of the given function $u$:\n",
    "\n",
    "$$\n",
    "\\sum u_i = \\sum \\pi_h (\\psi_i u) = \\pi_h \\big( \\sum \\psi_i u  \\big)\n",
    "= \\pi_h u = u\n",
    "$$\n",
    "\n",
    "\n",
    "Finally, we have to bound the norm of the decomposition. First,\n",
    "we use the boundedness of the quasi-interpolation in the $H^1$ semi-norm:\n",
    "\n",
    "$$\n",
    "\\| \\nabla u_i \\|_{L_2} = \\| \\nabla \\pi_h (\\psi_i u) \\|_{L_2}\n",
    "\\prec \\| \\nabla (\\psi_i u) \\|_{L_2} \n",
    "$$\n",
    "\n",
    "We continue with the product rule, and bounds for the pu-functions and their derivatives:\n",
    "\n",
    "\\begin{eqnarray*}\n",
    "\\| \\nabla u_i \\|_{L_2} & \\prec & \\| (\\nabla \\psi_i) u + \\psi_i \\nabla u \\|_{L_2} \\\\\n",
    "& \\leq & \\| \\nabla \\psi_i \\|_{L_\\infty} \\| u \\|_{L_2(\\widetilde \\Omega_i)} + \\| \\psi_i \\|_{L_\\infty} \\| \\nabla u \\|_{L_2(\\widetilde \\Omega_i)} \\\\\n",
    "& \\prec & H^{-1} \\, \\| u \\|_{L_2(\\widetilde \\Omega_i)} + \\| \\nabla u \\|_{L_2(\\widetilde \\Omega_i)}\n",
    "\\end{eqnarray*}\n",
    "\n",
    "Finally, we sum over all sub-domains. We use that only a small, fixed number of sub-domains overlap:\n",
    "\n",
    "\n",
    "\\begin{eqnarray*}\n",
    "\\sum \\| \\nabla u_i \\|_{L_2}^2 & \\prec & \\sum_i  \\Big\\{ H_i^{-2} \\| u \\|_{L_2(\\widetilde \\Omega_i)}^2 + \\| \\nabla u \\|_{L_2(\\widetilde \\Omega_i)}^2 \\Big\\} \\\\\n",
    "& \\prec & H^{-2} \\| u \\|_{L_2(\\Omega)}^2 + \\| \\nabla u \\|_{L_2(\\Omega)}^2 \\\\ \n",
    "& \\prec & H^{-2} \\| u \\|_A^2\n",
    "\\end{eqnarray*}\n",
    "\n",
    "In the last step we used Friedrichs' inequality to bound the $L_2$-norm by the $H^1$ semi-norm. The factor $H^{-2}$ we paid for the derivative of the pu-functions shows up in the final result.\n"
   ]
  },
  {
   "cell_type": "markdown",
   "id": "annual-satisfaction",
   "metadata": {},
   "source": [
    "Overlapping DD Methods with coarse grid\n",
    "---\n",
    "\n",
    "Now we add an additional coarse grid correction step. We assume that we have an additional finite element space $V_H$, where the element-size is in the order of the sub-domain size $H$. We assume that $V_H \\subset V_h$. \n",
    "\n",
    "We define this two-level preconditioner $C_{2L}$ by the preconditioning action in matrix notation \n",
    "\n",
    "$$\n",
    "C_{2L}^{-1} = C_{DD}^{-1} + P A_H^{-1} P^T,\n",
    "$$\n",
    "\n",
    "where $A_H$ is the discretization matrix on the coarse grid, and \n",
    "$P$ is the so called prolongation matrix. If $v_H$ is some finite element function in the coarse space $V_H$ with coefficient vector $\\underline v_H$, then the vector $P \\underline v_H$ are the coefficients of the same function represented on the fine grid. The matrix $P$ of dimension $\\operatorname{dim} V_h \\times \\operatorname{dim} V_H$ will not be stored as a dense matrix, \n",
    "but the matrix vector product and its transpose are implemented as linear operators. They are called prolongation and restriction operators."
   ]
  },
  {
   "cell_type": "code",
   "execution_count": null,
   "id": "binary-indian",
   "metadata": {},
   "outputs": [],
   "source": [
    "from ngsolve import *\n",
    "from ngsolve.webgui import Draw\n",
    "from netgen.geom2d import unit_square"
   ]
  },
  {
   "cell_type": "markdown",
   "id": "boxed-lawyer",
   "metadata": {},
   "source": [
    "Same as before, but now we assemble the bilinear-form already before mesh refinement, and invert the (small) coarse grid matrix by a direct solver:"
   ]
  },
  {
   "cell_type": "code",
   "execution_count": null,
   "id": "growing-structure",
   "metadata": {},
   "outputs": [],
   "source": [
    "mesh = Mesh(unit_square.GenerateMesh(maxh=0.3))\n",
    "fesdom = L2(mesh, order=0, autoupdate=True)\n",
    "fes = H1(mesh, order=1, dirichlet=\"bottom\", autoupdate=True)\n",
    "gfdom = GridFunction(fesdom, multidim=mesh.nv, nested=True, autoupdate=True)\n",
    "for el in mesh.Elements(VOL):\n",
    "    for v in el.vertices:\n",
    "        gfdom.vecs[v.nr][el.nr] = 1\n",
    " \n",
    "u,v = fes.TnT()\n",
    "a = BilinearForm(grad(u)*grad(v)*dx).Assemble()\n",
    "a0inv = a.mat.Inverse(fes.FreeDofs())\n",
    "\n",
    "levels = 2\n",
    "for l in range(levels):\n",
    "    mesh.Refine()"
   ]
  },
  {
   "cell_type": "markdown",
   "id": "directed-allah",
   "metadata": {},
   "source": [
    "the local inverses:"
   ]
  },
  {
   "cell_type": "code",
   "execution_count": null,
   "id": "virgin-calgary",
   "metadata": {},
   "outputs": [],
   "source": [
    "a.Assemble()\n",
    "\n",
    "pre = None\n",
    "for v in gfdom.vecs:\n",
    "    mask = BitArray(fes.FreeDofs())\n",
    "    for el in fes.Elements(VOL):\n",
    "        if v[el.nr] == 0:\n",
    "            for d in el.dofs:\n",
    "                mask[d] = False\n",
    "\n",
    "    invi = a.mat.Inverse(freedofs=mask, inverse=\"sparsecholesky\")\n",
    "    pre = pre+invi if pre else invi     "
   ]
  },
  {
   "cell_type": "markdown",
   "id": "diagnostic-superintendent",
   "metadata": {},
   "source": [
    "We have the prolongation as a function call, prolongating a vector in-place. `Prolongate(l)` prolongates a vector from level `l-1` to level `l`. The transpose of the prolongation matrix is the restriction matrix, again implemented as an in-place operation:"
   ]
  },
  {
   "cell_type": "code",
   "execution_count": null,
   "id": "electric-mailman",
   "metadata": {},
   "outputs": [],
   "source": [
    "class ProlongationOp(BaseMatrix):\n",
    "    def __init__ (self, fes, levels, nc):\n",
    "        super(ProlongationOp, self).__init__()\n",
    "        self.fes = fes\n",
    "        self.levels = levels\n",
    "        self.nc = nc\n",
    "        \n",
    "    def Mult (self, x, y):\n",
    "        y[IntRange(0, self.nc)] = x\n",
    "        for l in range(self.levels):\n",
    "            fes.Prolongation().Prolongate(l+1, y)\n",
    "\n",
    "    def MultTrans (self, y, x):\n",
    "        hy = y.CreateVector()\n",
    "        hy.data = y\n",
    "        for l in range(self.levels, 0, -1):\n",
    "            fes.Prolongation().Restrict(l, hy)\n",
    "        x.data = hy[IntRange(0, self.nc)]\n",
    "\n",
    "    def Height (self):\n",
    "        return self.fes.ndof\n",
    "    def Width (self):\n",
    "        return self.fes.ndof"
   ]
  },
  {
   "cell_type": "code",
   "execution_count": null,
   "id": "swiss-needle",
   "metadata": {},
   "outputs": [],
   "source": [
    "P = ProlongationOp (fes, levels, a0inv.height)\n",
    "\n",
    "C2l = P @ a0inv @ P.T + pre\n",
    "\n",
    "lam = list(EigenValues_Preconditioner(a.mat, C2l))\n",
    "print (\"lammin, lammax=\", lam[0], lam[-1])\n",
    "print (\"kappa=\", lam[-1]/lam[0])"
   ]
  },
  {
   "cell_type": "markdown",
   "id": "studied-night",
   "metadata": {},
   "source": [
    "Analysis of the 2-level method:\n",
    "---\n",
    "\n",
    "We apply now the ASM - theory to the sub-space splitting\n",
    "\n",
    "$$\n",
    "V_h = V_H + \\sum V_i\n",
    "$$\n",
    "\n",
    "**Theorem:** The condition number of the 2-level method is bounded, i.e.\n",
    "\n",
    "$$\n",
    "\\sigma \\{ C_{2L}^{-1} A \\} \\subset [c_1, c_2]\n",
    "$$\n",
    "\n",
    "\n",
    "*Proof:* By the ASM Lemma we have\n",
    "\n",
    "$$\n",
    "u^T C_{2L} u = \\inf_{u = u_H + \\sum u_i \\atop u_H \\in V_H, u_i \\in V_i}  \\, \\| u_H \\|_A^2 + \\sum_i \\| u_i \\|_A^2.\n",
    "$$\n",
    "\n",
    "Again, only a fixed number of sub-spaces overlap, which immediately proves the constant $c_2$. \n",
    "\n",
    "We have to come up with an explicit decomposition $u = u_H + \\sum u_i$. First we fix the coarse grid function $u_H$ by Clément interpolation onto the coarse-grid:\n",
    "\n",
    "$$\n",
    "u_H := \\pi_H u\n",
    "$$\n",
    "\n",
    "By semi-norm continuity of $\\pi_H$ there holds\n",
    "\n",
    "$$\n",
    "\\| \\nabla u_H \\|_{L_2} \\prec \\| \\nabla u \\|_{L_2},\n",
    "$$\n",
    "\n",
    "and for the rest $u_f = u - u_H$ there holds $H^1$-stability as well as good approximation in $L_2$-norm:\n",
    "\n",
    "$$\n",
    "\\| \\nabla u_f \\|_{L_2}^2 + \\| H^{-1} u_f \\|_{L_2}^2 \\prec \\| \\nabla u \\|_{L_2}^2\n",
    "$$\n",
    "\n",
    "We proceed as above to decompose $u_f = \\sum u_i = \\sum \\pi_h (\\psi_i u_f)$, which satisfy the estimates from above\n",
    "\n",
    "$$\n",
    "\\sum_i \\| \\nabla u_i \\|^2 \\prec H^{-2} \\| u_f \\|_{L_2}^2 + \\| \\nabla u_f \\|_{L_2}^2\n",
    "$$\n",
    "\n",
    "The inverse factor $H^{-2}$ we pay due to the partition of unity, we get back from the approximation error estimate of the coarse grid interpolant."
   ]
  },
  {
   "cell_type": "markdown",
   "id": "hazardous-inspiration",
   "metadata": {},
   "source": [
    "Comparison to DD with minimal overlap\n",
    "---\n",
    "In comparison to the small overlap in the previous section, we have now an overlap of a fixed width, independent of the mesh-size. It is more expensive, but the condition number does not deteriorate for smaller mesh-size. The second difference is that we have now a coarse space containing the continuous, piecewise linear finite element functions. Thanks to this coarse space, we have a good approximation property of coarse grid functions.\n"
   ]
  },
  {
   "cell_type": "code",
   "execution_count": null,
   "id": "exact-colony",
   "metadata": {},
   "outputs": [],
   "source": []
  }
 ],
 "metadata": {
  "kernelspec": {
   "display_name": "Python 3",
   "language": "python",
   "name": "python3"
  },
  "language_info": {
   "codemirror_mode": {
    "name": "ipython",
    "version": 3
   },
   "file_extension": ".py",
   "mimetype": "text/x-python",
   "name": "python",
   "nbconvert_exporter": "python",
   "pygments_lexer": "ipython3",
   "version": "3.9.4"
  }
 },
 "nbformat": 4,
 "nbformat_minor": 5
}
