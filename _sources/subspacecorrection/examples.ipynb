{
 "cells": [
  {
   "cell_type": "markdown",
   "id": "pregnant-muslim",
   "metadata": {},
   "source": [
    "# Some Examples of ASM preconditioners"
   ]
  },
  {
   "cell_type": "markdown",
   "id": "traditional-field",
   "metadata": {},
   "source": [
    "## Diagonal preconditioner for $L_2$-norm\n",
    "\n",
    "Let $\\Omega \\subset {\\mathbb R}^d$, and $M$ be the finite element \n",
    "discretization matrix of \n",
    "\n",
    "$$\n",
    "M(u,v) = \\int_\\Omega u v \\, dx\n",
    "$$\n",
    "\n",
    "on a conforming finite element space $V_h$ of order $p$. Then there hold the spectral estimates\n",
    "\n",
    "$$\n",
    "c_1 \\, u^T C_{Jac} u \\leq u^T M u \\leq c_2 \\, u^T C_{Jac} u.\n",
    "$$\n",
    "\n",
    "with constants independent of the mesh-size $h$, but dependent on $p$.\n",
    "\n",
    "*Proof:* \n",
    "The sub-space decomposition is\n",
    "\n",
    "$$\n",
    "V_h = \\sum_{i=1}^N \\operatorname{span} \\{ \\varphi_i \\}\n",
    "$$\n",
    "With the basis function $\\varphi_i$ we have\n",
    "\n",
    "$$\n",
    "u = \\sum_{i=1}^N u_i \\varphi_i,\n",
    "$$\n",
    "and the norms are\n",
    "\n",
    "$$\n",
    "\\| u \\|_M^2 = \\big\\| \\sum_i u_i \\varphi_i \\big\\|_{L_2(\\Omega)}^2\n",
    "$$\n",
    "and\n",
    "\n",
    "$$\n",
    "\\| u \\|_{C_{Jac}}^2 = \\sum_i \\| u_i \\varphi_i \\|_{L_2(\\Omega)}^2.\n",
    "$$\n",
    "\n",
    "We use $\\Omega = \\cup \\, T$ to split the integral into integrals on elements, and use that elements are mapped from the reference element $T = \\Phi_T (\\widehat T)$. We assume that $J_T = \\operatorname{det} \\Phi_T^\\prime \\approx h^d$ is element-wise constant (otherwise we have to replace it by the element-wise min/max). For any function $v \\in L_2(\\Omega)$ there holds by means\n",
    "of the transformation rule of integrals:\n",
    "\n",
    "$$\n",
    "\\| v \\|_{L_2(\\Omega)}^2 = \\sum_T \\| v \\|_{L_2(T)}^2 \n",
    "= \\sum_T J_T \\| v \\circ \\Phi_T \\|_{L_2(\\widehat T)}^2\n",
    "$$\n",
    "\n",
    "Thus we have \n",
    "\\begin{eqnarray*}\n",
    "\\| u \\|_M^2 & = & \\sum_T  J_T \\, \\big\\| \\sum_\\alpha u_{T,\\alpha} \\widehat \\varphi_\\alpha \\big\\|_{L_2(\\widehat T)}^2, \\\\\n",
    "\\| u \\|_{C_{Jac}}^2 & = & \\sum_T  J_T \\, \\sum_\\alpha  \\| u_{T,\\alpha} \\widehat \\varphi_\\alpha \\|_{L_2(\\widehat T)}^2,\n",
    "\\end{eqnarray*}\n",
    "where the basis function $\\varphi_{i|T} \\circ \\Phi_T = \\widehat \\varphi_\\alpha$, and $u_{T,\\alpha}$ the corresponding coefficient.\n",
    "\n",
    "Since all norms in ${\\mathbb R}^n$ (with a fix n !!!) are equivalent we get\n",
    "\n",
    "$$\n",
    "\\big\\| \\sum_\\alpha u_{T,\\alpha} \\widehat \\varphi_\\alpha \\big\\|_{L_2(\\widehat T)}^2 \\approx\n",
    "\\sum_\\alpha  \\| u_{T,\\alpha} \\widehat \\varphi_\\alpha \\|_{L_2(\\widehat T)}^2.\n",
    "$$\n",
    "\n",
    "This holds since both sides are squared norms for $(u_{T,\\alpha}) \\in {\\mathbb R}^{N_T}$"
   ]
  },
  {
   "cell_type": "code",
   "execution_count": 8,
   "id": "herbal-holiday",
   "metadata": {},
   "outputs": [
    {
     "name": "stdout",
     "output_type": "stream",
     "text": [
      "lammin, lammax= 0.02082965485133204 4.762471943377774\n",
      "kappa= 228.6390234196904\n"
     ]
    }
   ],
   "source": [
    "from ngsolve import *\n",
    "from ngsolve.la import EigenValues_Preconditioner\n",
    "mesh = Mesh(unit_square.GenerateMesh(maxh=0.1))\n",
    "fes = H1(mesh, order=3)\n",
    "u,v = fes.TnT()\n",
    "a = BilinearForm(u*v*dx).Assemble()\n",
    "c = a.mat.CreateSmoother()\n",
    "\n",
    "lam = list(EigenValues_Preconditioner(a.mat, c))\n",
    "print (\"lammin, lammax=\", lam[0], lam[-1])\n",
    "print (\"kappa=\", lam[-1]/lam[0])"
   ]
  },
  {
   "cell_type": "markdown",
   "id": "pregnant-twenty",
   "metadata": {},
   "source": [
    "*Exercise:* Do some experiments with the mesh-size $h$ and the order $p$. "
   ]
  },
  {
   "cell_type": "markdown",
   "id": "liable-allocation",
   "metadata": {},
   "source": [
    "Diagonal preconditioner for the $H^1$ norm\n",
    "---\n",
    "\n",
    "Now let $V_h \\subset H_0^1(\\Omega)$, and the bilinear-form\n",
    "\n",
    "$$\n",
    "A(u,v) = \\int_\\Omega \\nabla u \\nabla v \\, dx.\n",
    "$$\n",
    "\n",
    "Then there holds\n",
    "\n",
    "$$\n",
    "c_1 h^2 \\, u^T C_{Jac} u \\leq u^T A u \\leq c_2 \\, u^T C_{Jac} u,\n",
    "$$\n",
    "\n",
    "which implies $\\kappa(C_{Jac}^{-1} A) \\preceq h^{-2}$.\n",
    "\n",
    "*Proof:* We prove that\n",
    "\n",
    "$$\n",
    "\\| u \\|_M^2 \\preceq \\| u \\|_A^2 \\preceq h^{-2} \\, \\| u \\|_M^2.\n",
    "$$\n",
    "\n",
    "Then there follows immediately via the ASM-lemma\n",
    "\n",
    "$$\n",
    "\\| u \\|_{C_{Jac}^M}^2 \\preceq \\| u \\|_{C_{Jac}^A}^2 \\preceq h^{-2} \\, \\| u \\|_{C_{Jac}^M}^2\n",
    "$$\n",
    "\n",
    "and\n",
    "\n",
    "$$\n",
    "\\| u \\|_A^2 \\preceq h^{-2} \\, \\| u \\|_M^2 \\preceq h^{-2} \\, \\| u \\|_{C_{Jac}^M}^2 \\preceq h^{-2} \\, \\| u \\|_{C_{Jac}^A}^2.\n",
    "$$\n",
    "\n",
    "The claim $\\| u \\|_M^2 \\preceq \\| u \\|_A^2$ is exactly the Friedrichs inequality. The other way around is an inverse inequality (we call an inequality on a finite element space inverse inequality if the constant deteriorates for $h \\rightarrow 0$). Since\n",
    "\n",
    "$$\n",
    "\\| u \\|_A^2 = \\sum_T \\| \\nabla u_{|T} \\|_{L_2(T)}^2 \\qquad \\text{and} \\qquad\n",
    "\\| u \\|_M^2 = \\sum_T \\| u_{|T} \\|_{L_2(T)}^2\n",
    "$$\n",
    "\n",
    "it is enough to show\n",
    "\n",
    "$$\n",
    "\\| \\nabla u \\|_{L_2(T)}^2 \\preceq h^{-2} \\| u \\|_{L_2(T)}^2.\n",
    "$$\n",
    "\n",
    "Again we use $T = \\Phi(\\widehat T)$ and write $\\widehat u = u \\circ \\Phi$. From the chain-rule we get $\\nabla u = { \\Phi^\\prime }^{-1} \\nabla \\widehat u$, \n",
    "and together with the transformation rule we get\n",
    "\n",
    "$$\n",
    "\\| \\nabla u \\|_{L_2(T)}^2 \\approx h^{d-2} \\, \\| \\nabla \\widehat u \\|_{L_2(\\hat T)}^2\n",
    "$$\n",
    "\n",
    "On the reference element, $\\| \\nabla \\widehat u \\|_{L_2(\\hat T)}$ is a semi-norm on a fixed, finite dimensional space, and thus bounded by any norm and so also for the $L_2$-norm. Together we have proven that\n",
    "\n",
    "$$\n",
    "\\| \\nabla u \\|_{L_2(T)}^2 \\approx h^{d-2} \\| \\nabla \\widehat u \\|_{L_2(\\widehat T)}^2 \n",
    "\\preceq h^{d-2} \\, \\| \\widehat u \\|_{L_2(\\widehat T)}^2 \n",
    "\\preceq h^{-2} \\, \\| u \\|_{L_2(T)}^2 \n",
    "$$"
   ]
  },
  {
   "cell_type": "code",
   "execution_count": 10,
   "id": "selected-civilian",
   "metadata": {},
   "outputs": [
    {
     "name": "stdout",
     "output_type": "stream",
     "text": [
      "lammin, lammax= 0.04897732520659094 1.500747231467046\n",
      "kappa= 30.641673981516014\n"
     ]
    }
   ],
   "source": [
    "mesh = Mesh(unit_square.GenerateMesh(maxh=0.1))\n",
    "fes = H1(mesh, order=1, dirichlet=\".*\")\n",
    "u,v = fes.TnT()\n",
    "a = BilinearForm(grad(u)*grad(v)*dx).Assemble()\n",
    "c = a.mat.CreateSmoother(fes.FreeDofs())\n",
    "\n",
    "lam = list(EigenValues_Preconditioner(a.mat, c))\n",
    "print (\"lammin, lammax=\", lam[0], lam[-1])\n",
    "print (\"kappa=\", lam[-1]/lam[0])"
   ]
  },
  {
   "cell_type": "markdown",
   "id": "superb-weight",
   "metadata": {},
   "source": [
    "Exercise:\n",
    "* is the Dirichlet boundary important ?\n",
    "* add some term $\\int_\\Gamma u v \\, ds$ to the bilinear-form"
   ]
  },
  {
   "cell_type": "markdown",
   "id": "victorian-extreme",
   "metadata": {},
   "source": [
    "Numerical experiments indicate that the estimate $\\kappa \\{C_{Jac}^{-1}A \\} = O(h^{-2})$ is asymptotically sharp. To verify it, take a smooth function such that $\\| \\nabla u \\|_{\\Omega} \\approx 1$. \n",
    "Then $\\| u \\|_{C}^2 = \\sum u_i^2 \\| \\nabla \\varphi_i \\|^2$. There holds $u_i \\approx 1$ and $\\| \\nabla \\varphi_i \\|^2 \\approx h^{d-2}$, and there are $h^{-d}$ summands, which verifies that the estimate is sharp."
   ]
  },
  {
   "cell_type": "markdown",
   "id": "asian-arthritis",
   "metadata": {},
   "source": [
    "$H^1$-norm with small $L_2$-term\n",
    "---\n",
    "\n",
    "We now consider $V_h \\subset H^1$, and the bilinear-form\n",
    "\n",
    "$$\n",
    "A(u,v) = \\int_\\Omega \\nabla u \\nabla v \\, dx + \\varepsilon \\int_\\Omega u v \\, dx.\n",
    "$$\n",
    "\n",
    "In the limit $\\varepsilon = 0$ the bilinear-form has a non-trivial kernel, namely the space of constant functions. Then the matrix is only semi-definite. For small $\\varepsilon$ we expect a bad condition number. \n"
   ]
  },
  {
   "cell_type": "code",
   "execution_count": 11,
   "id": "moderate-dispute",
   "metadata": {},
   "outputs": [
    {
     "name": "stdout",
     "output_type": "stream",
     "text": [
      "lammin, lam2, lammax= 2.4457610878408913e-05 0.021712747056103647 1.6917198310303028\n",
      "kappa= 69169.4638303264\n"
     ]
    }
   ],
   "source": [
    "mesh = Mesh(unit_square.GenerateMesh(maxh=0.1))\n",
    "fes = H1(mesh, order=1)\n",
    "u,v = fes.TnT()\n",
    "eps = 0.01\n",
    "a = BilinearForm(grad(u)*grad(v)*dx + eps*u*v*dx ).Assemble()\n",
    "c = a.mat.CreateSmoother(fes.FreeDofs())\n",
    "\n",
    "lam = list(EigenValues_Preconditioner(a.mat, c))\n",
    "print (\"lammin, lam2, lammax=\", lam[0], lam[1], lam[-1])\n",
    "print (\"kappa=\", lam[-1]/lam[0])"
   ]
  },
  {
   "cell_type": "markdown",
   "id": "wired-colorado",
   "metadata": {},
   "source": [
    "The largest eigenvalue is good, but the smallest deteriorates with $\\varepsilon$. This is conform with the analysis of the $H^1$-case, since now\n",
    "$$\n",
    "\\| u \\|_{L_2}^2 \\preceq \\varepsilon^{-1} \\, \\| u \\|_A^2\n",
    "$$"
   ]
  },
  {
   "cell_type": "markdown",
   "id": "surprised-registration",
   "metadata": {},
   "source": [
    "We can fix the problem by adding the null-space function to the sub-space decomposition:\n",
    "\n",
    "$$\n",
    "V_h = \\operatorname{span} \\{ 1 \\} + \\sum \\operatorname{span} \\{\\varphi_i\\}\n",
    "$$\n",
    "\n",
    "This sub-space splitting leads to the preconditioner\n",
    "\n",
    "$$\n",
    "C_{ASM}^{-1} = E_0 \\, (E_0^T A E_0)^{-1} E_0^T  + C_{Jac}^{-1},\n",
    "$$\n",
    "\n",
    "where the column vector of $E_0 \\in {\\mathbf R}^{N \\times 1}$ is the coefficient vector of the constant function $u=1$."
   ]
  },
  {
   "cell_type": "markdown",
   "id": "ceramic-upper",
   "metadata": {},
   "source": [
    "We obtain the vector $E_0$ by setting some `GridFunction` to the function 1."
   ]
  },
  {
   "cell_type": "code",
   "execution_count": 15,
   "id": "double-worst",
   "metadata": {},
   "outputs": [
    {
     "name": "stdout",
     "output_type": "stream",
     "text": [
      "a0= 0.010000000000000484\n",
      "lammin, lam2, lammax= 0.025544381033002772 0.04491872161403106 1.691719830172751\n",
      "kappa= 66.22669102794413\n"
     ]
    }
   ],
   "source": [
    "mesh = Mesh(unit_square.GenerateMesh(maxh=0.1))\n",
    "fes = H1(mesh, order=1)\n",
    "u,v = fes.TnT()\n",
    "eps = 1e-2\n",
    "a = BilinearForm(grad(u)*grad(v)*dx + eps*u*v*dx ).Assemble()\n",
    "cjac = a.mat.CreateSmoother(fes.FreeDofs())\n",
    "\n",
    "gfconst = GridFunction(fes)\n",
    "gfconst.Set(1)\n",
    "e0 = BaseMatrix(gfconst.vec)   # N*1 matrix\n",
    "a0 = InnerProduct(a.mat*gfconst.vec, gfconst.vec)\n",
    "print (\"a0=\", a0)\n",
    "c = cjac + 1/a0 * e0 @ e0.T\n",
    "\n",
    "lam = list(EigenValues_Preconditioner(a.mat, c))\n",
    "print (\"lammin, lam2, lammax=\", lam[0], lam[1], lam[-1])\n",
    "print (\"kappa=\", lam[-1]/lam[0])"
   ]
  },
  {
   "cell_type": "markdown",
   "id": "subsequent-stocks",
   "metadata": {},
   "source": [
    "The rank-1 correction fixed the problem !"
   ]
  },
  {
   "cell_type": "markdown",
   "id": "lyric-gabriel",
   "metadata": {},
   "source": [
    "The analysis uses the ASM representation\n",
    "\n",
    "$$\n",
    "\\| u \\|_{C_{ASM}}^2 = \\inf_{u = u_0 + \\sum u_i } \\| u_0 \\|_{A}^2 + \\sum_i \\| u_i \\|_A^2,\n",
    "$$\n",
    "\n",
    "where $u_0$ is a constant function, and $u_i \\in \\operatorname{span} \\{ \\varphi_i \\}$. We perform the decomposition in two steps, first we decompose $u = u_0 + u_f$, and then we decompose $u_f = \\sum u_i$ into the one-dimensional spaces of the basis functions. Thus\n",
    "\n",
    "$$\n",
    "\\| u \\|_{C_{ASM}}^2 = \\inf_{u = u_0 + u_f } \\left\\{ \\| u_0 \\|_{A}^2 + \\inf_{u_f = \\sum u_i } \\sum_i \\| u_i \\|_A^2 \\right\\}\n",
    "$$\n",
    "\n",
    "The second term is exactly the norm induced by the Jacobi-preconditioner of $u_f$:\n",
    "\n",
    "$$\n",
    "\\| u \\|_{C_{ASM}}^2 = \\inf_{u = u_0 + u_f } \\| u_0 \\|_{A}^2 + \\| u_f \\| _{C_{Jac}}^2\n",
    "$$\n",
    "\n",
    "\n",
    "\n",
    "\n",
    "\n",
    "\n",
    "\n",
    "The estimate $A \\preceq C_{ASM}$ follows from the triangle inequality, and the result of the Jacobi preconditioner as follows: Let $u_0$ be an arbitrary constant function. Then\n",
    "\n",
    "$$\n",
    "\\| u \\|_A^2 \\leq 2 \\big( \\| u_0 \\|_A^2 + \\| u - u_0 \\|_A^2 \\big) \n",
    "\\preceq \\| u_0 \\|_A^2 + \\| u - u_0 \\|_{C_{Jac}}^2.\n",
    "$$\n",
    "\n",
    "Since $u_0$ is an arbitrarily chosen function, it also holds for the infimum.\n",
    "\n",
    "The more difficult part is to show the existence of such a decomposition. Let $u \\in V_h$ be given. Define the mean value\n",
    "\n",
    "$$\n",
    "u_0 = \\frac{1}{|\\Omega|} \\int_\\Omega u \\, dx\n",
    "$$\n",
    "\n",
    "There holds $\\| u_0 \\|_{L_2} \\leq \\| u \\|_{L_2}$, and thus also\n",
    "\n",
    "$$\n",
    "\\| u_0 \\|_A^2 \\leq \\| u \\|_A^2.\n",
    "$$\n",
    "\n",
    "Setting $u_f = u - u_0$, we also get from the triangle inequality\n",
    "\n",
    "$$\n",
    "\\| u_f \\|_A^2 \\preceq \\| u \\|_A^2.\n",
    "$$\n",
    "\n",
    "The $A$-norm has only weak control of the mean value. But now we have that $u_f$ has mean-value zero. We apply the Poincaré inequality to obtain also control of the $L_2$-norm of $u_f$:\n",
    "\n",
    "$$\n",
    "\\| u_f \\|_{L_2}^2 + \\| u_f \\|_A^2 \\preceq \\| u \\|_A^2\n",
    "$$\n",
    "\n",
    "We proceed as in the previous case:\n",
    "\n",
    "$$\n",
    "\\| u_f \\|_{C_{Jac}^A}^2 \\preceq h^{-2} \\| u_f \\|_{C_{Jac}^M}^2 \n",
    "\\preceq h^{-2} \\, \\| u_f \\|_M^2  \\preceq h^{-2} \\, \\| u \\|_A^2\n",
    "$$\n",
    "\n",
    "Thus, all terms of the ASM-splitting are controlled by the $A$-norm of $u$."
   ]
  },
  {
   "cell_type": "code",
   "execution_count": null,
   "id": "heard-producer",
   "metadata": {},
   "outputs": [],
   "source": []
  }
 ],
 "metadata": {
  "kernelspec": {
   "display_name": "Python 3 (ipykernel)",
   "language": "python",
   "name": "python3"
  },
  "language_info": {
   "codemirror_mode": {
    "name": "ipython",
    "version": 3
   },
   "file_extension": ".py",
   "mimetype": "text/x-python",
   "name": "python",
   "nbconvert_exporter": "python",
   "pygments_lexer": "ipython3",
   "version": "3.12.2"
  }
 },
 "nbformat": 4,
 "nbformat_minor": 5
}
