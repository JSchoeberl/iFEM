{
 "cells": [
  {
   "cell_type": "markdown",
   "id": "mobile-vinyl",
   "metadata": {},
   "source": [
    "Domain Decomposition with minimal overlap\n",
    "===\n",
    "\n",
    "With domain decomposition (DD) methods one splits a large problem on a big domain $\\Omega$ into smaller problems on sub-domains $\\Omega_i$.\n",
    "One advantage is that direct factorization on each sub-domain is cheaper than factorization of the global problem. Assume that the global problem is of size $N$, and we use $m$ sub-domains. Assume the  (sparse) factorization of a problem of size $n$ has costs $O(n^\\alpha)$. Then the advantage is\n",
    "\n",
    "$$\n",
    "m \\, \\big( \\tfrac{N}{m} \\big)^\\alpha = \\frac{1}{m^{\\alpha-1}} N^\\alpha \\leq N^\\alpha\n",
    "$$\n",
    "\n",
    "For sparse direct solvers based on nested dissection $\\alpha = 1.5$ for 2D problems, and $\\alpha = 2$ for 3D."
   ]
  },
  {
   "cell_type": "markdown",
   "id": "driven-arbitration",
   "metadata": {},
   "source": [
    "We sub-divide the unit-square into $m_x \\times m_y$ sub-domains. On the lower boundary we assign a boundary condition label:"
   ]
  },
  {
   "cell_type": "code",
   "execution_count": null,
   "id": "709b8829-7b45-4bbd-a0de-132b108d47de",
   "metadata": {},
   "outputs": [],
   "source": [
    "from ngsolve import *\n",
    "from ngsolve.webgui import Draw\n",
    "from netgen.occ import *\n",
    "mx, my = 3,3\n",
    "rects = [MoveTo(i/mx,j/mx).Rectangle(1/mx,1/my).Face().bc(\"mat\"+str(i)+str(j)) for i in range(mx) for j in range(my)]\n",
    "shape = Glue(rects)\n",
    "shape.edges[Y<0.001].name = \"bottom\"\n",
    "Draw (shape);"
   ]
  },
  {
   "cell_type": "code",
   "execution_count": null,
   "id": "71d5bf69-f75d-407e-8964-b51ccb523403",
   "metadata": {},
   "outputs": [],
   "source": [
    "geo = OCCGeometry(shape,dim=2)\n",
    "mesh = Mesh(geo.GenerateMesh(maxh=0.05))\n",
    "print (mesh.GetMaterials(), mesh.GetBoundaries())\n",
    "Draw (mesh);"
   ]
  },
  {
   "cell_type": "markdown",
   "id": "opened-korea",
   "metadata": {},
   "source": [
    "setup a standard problem, Dirichlet b.c. on the bottom boundary:"
   ]
  },
  {
   "cell_type": "code",
   "execution_count": null,
   "id": "parallel-zambia",
   "metadata": {},
   "outputs": [],
   "source": [
    "fes = H1(mesh, order=1, dirichlet='bottom')\n",
    "print (\"ndof =\", fes.ndof)\n",
    "u,v = fes.TnT()\n",
    "a = BilinearForm(grad(u)*grad(v)*dx).Assemble()"
   ]
  },
  {
   "cell_type": "markdown",
   "id": "killing-lindsay",
   "metadata": {},
   "source": [
    "We build a precontioner as the sum of inverses on sub-domains:\n",
    "\n",
    "1. We iterate over the individual sub-domains. The function `mesh.Materials` returns one volume region, which can be split into a list of regions. \n",
    "99. A finite element space can provide a `BitArray` marking the dofs of a certain region. Logical and with the non-Dirichet dofs.\n",
    "99. The `Inverse(domaindofs)` takes the sub-matrix corresponding to the domain dofs, inverts it with a sparse direct solver, and inserts the small inverse into the large by padding with zeros. The costs are  $O(N + N_{\\text{used}}^\\alpha)$, where the constant for the $O(N)$ term is very small. \n",
    "99. The final preconditioner is the sum of sub-domain inverses."
   ]
  },
  {
   "cell_type": "code",
   "execution_count": null,
   "id": "fourth-separate",
   "metadata": {},
   "outputs": [],
   "source": [
    "pre = None\n",
    "for dom in mesh.Materials(\".*\").Split():\n",
    "    domaindofs = fes.GetDofs(dom) & fes.FreeDofs()\n",
    "    # print (domaindofs)\n",
    "    print (\"num dofs:\", domaindofs.NumSet())\n",
    "    invi = a.mat.Inverse(domaindofs)\n",
    "    pre = invi if pre == None else pre + invi\n",
    "    \n",
    "from ngsolve.la import EigenValues_Preconditioner\n",
    "lami = list(EigenValues_Preconditioner(mat=a.mat, pre=pre))\n",
    "print (\"condition number = \", lami[-1]/lami[0])"
   ]
  },
  {
   "cell_type": "markdown",
   "id": "amber-processing",
   "metadata": {},
   "source": [
    "To check the solution:"
   ]
  },
  {
   "cell_type": "code",
   "execution_count": null,
   "id": "acceptable-convertible",
   "metadata": {},
   "outputs": [],
   "source": [
    "f = LinearForm(x*v*dx).Assemble()\n",
    "gfu = GridFunction(fes)\n",
    "gfu.vec.data = CGSolver(mat=a.mat, pre=pre) * f.vec\n",
    "Draw (gfu);"
   ]
  },
  {
   "cell_type": "markdown",
   "id": "inappropriate-vatican",
   "metadata": {},
   "source": [
    "Experiment with number of subdomains, and mesh-size. You should observe a condition number $O( h^{-1} H^{-1} )$, where $H$ is the sub-domain size, and $H$ is the element-size."
   ]
  },
  {
   "cell_type": "markdown",
   "id": "quiet-frontier",
   "metadata": {},
   "source": [
    "Analysis of the method\n",
    "---\n",
    "\n",
    "We apply the ASM theory, where sub-spaces are\n",
    "\n",
    "$$\n",
    "V_i = \\operatorname{span} \\{ \\varphi_i  : \\text{dof}_i \\text{ supported in } \\overline{\\Omega_i} \\}\n",
    "$$\n",
    "\n",
    "By the ASM Lemma, the preconditioner norm is\n",
    "\n",
    "$$\n",
    "\\| u \\|_{C_{ASM}}^2 = \\inf_{u = \\sum u_i : u_i \\in V_i } \\sum \\| u_i \\|_A^2\n",
    "$$\n",
    "\n",
    "Since one sub-space $V_i$ has overlap with at most 9 spaces $V_j$, there immediately follows \n",
    "\n",
    "$$\n",
    "\\| u \\|_A^2 \\leq 9 \\, \\| u \\|_{C_{ASM}}^2\n",
    "$$\n",
    "\n",
    "and \n",
    "\n",
    "$$\n",
    "\\lambda_{max} (C_{ASM}^{-1} A) \\leq 9\n",
    "$$\n",
    "\n",
    "\n",
    "For the other bound we have to find a decomposition, and bound the norm:\n",
    "\n",
    "**Lemma** Let $u \\in H^1(\\Omega)$, and $u_i = u$ in $\\Omega_i$, and all other dofs set to zero. Then\n",
    "\n",
    "$$\n",
    "\\| u_i \\|_{H_1(\\Omega)}^2 \\preceq \\tfrac{1}{hH} \\| u \\|_{H^1(\\Omega_i)}^2\n",
    "$$\n",
    "\n",
    "*Proof:* Follows from\n",
    "\n",
    "$$\n",
    "\\| u_i \\|_{L_2(\\partial \\Omega)}^2  \\preceq \\frac{1}{H} \\| u \\|_{H^1(\\Omega)}^2\n",
    "$$\n",
    "\n",
    "and \n",
    "\n",
    "$$\n",
    "\\| u_i \\|_{H^1(\\Omega \\setminus \\Omega_i)}^2 \\preceq \\frac{1}{h} \\| u_i \\|_{L_2(\\partial \\Omega_i)}^2 \n",
    "$$\n",
    "\n",
    "<div style=\"text-align: right\"> $\\Box$</div>\n",
    "\n",
    "\n",
    "\n",
    "Choosing this $u_i$ for every sub-domain does not lead to a decomposition $u = \\sum{u_i}$ since dofs at the interface contribute to several sub-space functions. \n",
    "So, we have to divide each coefficient by the number of sub-domains it belongs to, to obtain $\\tilde u_i$. \n"
   ]
  },
  {
   "cell_type": "code",
   "execution_count": null,
   "id": "bridal-iceland",
   "metadata": {},
   "outputs": [],
   "source": [
    "gfi = GridFunction(fes)\n",
    "domi = mesh.Materials(\".*\").Split()[4]\n",
    "proj = Projector(fes.GetDofs(domi), True)\n",
    "gfi.vec.data = proj * gfu.vec\n",
    "Draw (gfi);"
   ]
  },
  {
   "cell_type": "markdown",
   "id": "steady-accused",
   "metadata": {},
   "source": [
    "Adding a coarse grid space\n",
    "---\n",
    "We build a coarse space of functions being constant inside each sub-domain. Since the functions are continuous, they decay within one layer of elements:"
   ]
  },
  {
   "cell_type": "code",
   "execution_count": null,
   "id": "streaming-toyota",
   "metadata": {},
   "outputs": [],
   "source": [
    "gfcoarse = GridFunction(fes, multidim=len(mesh.Materials(\".*\").Split()))\n",
    "# mv = MultiVector(gfu.vec, 0)\n",
    "mv = gfcoarse.vecs\n",
    "proj = Projector(fes.FreeDofs(),True)\n",
    "for i,dom in enumerate (mesh.Materials(\".*\").Split()):\n",
    "    consti = GridFunction(fes)\n",
    "    consti.Set(1, definedon=dom)\n",
    "    proj.Project(consti.vec)\n",
    "    mv[i].data = consti.vec\n",
    "    # Draw (consti, mesh)\n",
    "    # mv.Append (consti.vec)\n",
    "Draw (gfcoarse, mesh, animate=True)\n",
    "print (\"Multivector components:\",len(mv))"
   ]
  },
  {
   "cell_type": "markdown",
   "id": "mental-graduation",
   "metadata": {},
   "source": [
    "We add the space spanned by these (essentially) piecewise constant \n",
    "functions as additional sub-space, and define a coarse grid correction step:"
   ]
  },
  {
   "cell_type": "code",
   "execution_count": null,
   "id": "handy-stupid",
   "metadata": {},
   "outputs": [],
   "source": [
    "a0 = InnerProduct(mv, a.mat * mv)\n",
    "print (a0)\n",
    "inva0 = BaseMatrix(a0.I)\n",
    "E0 = BaseMatrix(mv)\n",
    "coarsegrid = E0 @ inva0 @ E0.T"
   ]
  },
  {
   "cell_type": "code",
   "execution_count": null,
   "id": "thick-stewart",
   "metadata": {},
   "outputs": [],
   "source": [
    "pre2 = pre + coarsegrid\n",
    "lami = list(EigenValues_Preconditioner(mat=a.mat, pre=pre2))\n",
    "print (\"condition number = \", lami[-1]/lami[0])"
   ]
  },
  {
   "cell_type": "markdown",
   "id": "further-breeding",
   "metadata": {},
   "source": [
    "... it does not work very well"
   ]
  },
  {
   "cell_type": "markdown",
   "id": "private-terry",
   "metadata": {},
   "source": [
    "We can improve it by scaling the coarse grid functions by the \n",
    "number of domains it belongs to. Thanks to this scaling a globally \n",
    "constant function can be represented within the coarse space."
   ]
  },
  {
   "cell_type": "code",
   "execution_count": null,
   "id": "white-separate",
   "metadata": {},
   "outputs": [],
   "source": [
    "ones = mv[0].CreateVector()\n",
    "cnt = mv[0].CreateVector()\n",
    "cnt[:] = 0\n",
    "ones[:] = 1\n",
    "for dom in mesh.Materials(\".*\").Split():\n",
    "    cnt += Projector(fes.GetDofs(dom),True)*ones\n",
    "\n",
    "idiag = DiagonalMatrix(cnt).Inverse(fes.FreeDofs())\n",
    "for v in mv:\n",
    "    v.data = (idiag*v).Evaluate()"
   ]
  },
  {
   "cell_type": "code",
   "execution_count": null,
   "id": "regional-responsibility",
   "metadata": {},
   "outputs": [],
   "source": [
    "a0 = InnerProduct(mv, a.mat * mv)\n",
    "# print (a0)\n",
    "# print (a0 * Vector( (1,)*len(mv)))\n",
    "inva0 = BaseMatrix(a0.I)\n",
    "E0 = BaseMatrix(mv)\n",
    "coarsegrid = E0 @ inva0 @ E0.T\n",
    "pre3 = pre + coarsegrid\n",
    "lami = list(EigenValues_Preconditioner(mat=a.mat, pre=pre3))\n",
    "print (\"condition number = \", lami[-1]/lami[0])"
   ]
  },
  {
   "cell_type": "code",
   "execution_count": null,
   "id": "quality-quantum",
   "metadata": {},
   "outputs": [],
   "source": [
    "gfu0 = GridFunction(fes)\n",
    "gfu0.vec.data = coarsegrid * (a.mat * gfu.vec)\n",
    "Draw (gfu0);"
   ]
  },
  {
   "cell_type": "markdown",
   "id": "southwest-prayer",
   "metadata": {},
   "source": [
    "*Exercise (for experts)*:\n",
    "The condition number can be estimated by:\n",
    "$$\n",
    "\\kappa \\{C^{-1} A \\} \\prec \\frac{H}{h}\n",
    "$$"
   ]
  },
  {
   "cell_type": "markdown",
   "id": "biological-process",
   "metadata": {},
   "source": [
    "Graph-based mesh partitioning\n",
    "---\n",
    "\n",
    "The geometric decomposition of a domain into *nice* sub-domains as we have done above is usually not feasible. In practice, one often uses graph-based mesh partitioning tools. The mesh connectivity is represented as a graph, where the "
   ]
  },
  {
   "cell_type": "code",
   "execution_count": null,
   "id": "precious-friday",
   "metadata": {},
   "outputs": [],
   "source": [
    "mesh = Mesh(unit_square.GenerateMesh(maxh=0.1))"
   ]
  },
  {
   "cell_type": "code",
   "execution_count": null,
   "id": "automated-superintendent",
   "metadata": {},
   "outputs": [],
   "source": [
    "Draw (mesh);"
   ]
  },
  {
   "cell_type": "code",
   "execution_count": null,
   "id": "known-relevance",
   "metadata": {},
   "outputs": [],
   "source": [
    "nbels = []\n",
    "for el in mesh.Elements(VOL):\n",
    "    nbs = []\n",
    "    for f in el.facets:\n",
    "        for nb in mesh[f].elements:\n",
    "            if nb != el:\n",
    "                nbs.append(nb.nr)\n",
    "    nbels.append(nbs)\n",
    "# print (nbels)"
   ]
  },
  {
   "cell_type": "markdown",
   "id": "heard-composite",
   "metadata": {},
   "source": [
    "Metis is such a graph partitioning tool. Python bindings are provided via the package pymetis. "
   ]
  },
  {
   "cell_type": "code",
   "execution_count": null,
   "id": "reduced-guest",
   "metadata": {},
   "outputs": [],
   "source": [
    "import pymetis\n",
    "ndom = 6\n",
    "n_cuts, membership = pymetis.part_graph(ndom, adjacency=nbels)"
   ]
  },
  {
   "cell_type": "code",
   "execution_count": null,
   "id": "municipal-anthropology",
   "metadata": {},
   "outputs": [],
   "source": [
    "gfdom = GridFunction(L2(mesh,order=0))\n",
    "gfdom.vec.data = BaseVector(membership)\n",
    "Draw (gfdom);"
   ]
  },
  {
   "cell_type": "markdown",
   "id": "located-cincinnati",
   "metadata": {},
   "source": [
    "A basic method for graph partitioning is spectral bisection: One computes the eigenfunction to the smallest non-zero eigenvalue of the  Laplace-operator with Neumann boundary conditions. Two sub-domains are defined for the points where the eigenfunction is positive, or negative. Consider as an example a long rectangle: The eigenfunction is a sine-function in the long direction, and the interface between the sub-domains is as short as possible. "
   ]
  },
  {
   "cell_type": "code",
   "execution_count": null,
   "id": "documentary-solid",
   "metadata": {},
   "outputs": [],
   "source": [
    "fes = H1(mesh, order=1, dirichlet='bottom')\n",
    "print (\"ndof =\", fes.ndof)\n",
    "print (fes.FreeDofs())\n",
    "u,v = fes.TnT()\n",
    "a = BilinearForm(grad(u)*grad(v)*dx).Assemble()\n",
    "gfu = GridFunction(fes)\n",
    "\n",
    "domdofs = [BitArray(fes.ndof) for i in range(ndom)]\n",
    "for d in domdofs: d.Clear()\n",
    "for el in fes.Elements(VOL):\n",
    "    for d in el.dofs:\n",
    "        domdofs[membership[el.nr]].Set(d)"
   ]
  },
  {
   "cell_type": "code",
   "execution_count": null,
   "id": "virgin-bible",
   "metadata": {},
   "outputs": [],
   "source": [
    "pre = None\n",
    "for dd in domdofs:\n",
    "    invi = a.mat.Inverse(dd & fes.FreeDofs())\n",
    "    pre = invi if pre == None else pre + invi\n",
    "    \n",
    "from ngsolve.la import EigenValues_Preconditioner\n",
    "lami = list(EigenValues_Preconditioner(mat=a.mat, pre=pre))\n",
    "print (\"condition number = \", lami[-1]/lami[0])"
   ]
  },
  {
   "cell_type": "code",
   "execution_count": null,
   "id": "israeli-buying",
   "metadata": {},
   "outputs": [],
   "source": [
    "gfcoarse = GridFunction(fes, multidim=ndom)\n",
    "mv = gfcoarse.vecs\n",
    "proj = Projector(fes.FreeDofs(),True)\n",
    "for i in range(ndom):\n",
    "    gfcoarse.Set(IfPos( Norm(gfdom-i)-0.5, 0, 1), mdcomp=i)\n",
    "    proj.Project(mv[i])\n",
    "\n",
    "Draw (gfcoarse, animate=True);"
   ]
  },
  {
   "cell_type": "code",
   "execution_count": null,
   "id": "latest-trademark",
   "metadata": {},
   "outputs": [],
   "source": [
    "a0 = InnerProduct(mv, a.mat * mv)\n",
    "# print (a0)\n",
    "# print (a0 * Vector( (1,)*len(mv)))\n",
    "inva0 = BaseMatrix(a0.I)\n",
    "E0 = BaseMatrix(mv)\n",
    "coarsegrid = E0 @ inva0 @ E0.T\n",
    "pre3 = pre + coarsegrid\n",
    "lami = list(EigenValues_Preconditioner(mat=a.mat, pre=pre3))\n",
    "print (\"condition number =\", lami[-1]/lami[0])"
   ]
  },
  {
   "cell_type": "code",
   "execution_count": null,
   "id": "alert-trailer",
   "metadata": {},
   "outputs": [],
   "source": []
  }
 ],
 "metadata": {
  "kernelspec": {
   "display_name": "Python 3 (ipykernel)",
   "language": "python",
   "name": "python3"
  },
  "language_info": {
   "codemirror_mode": {
    "name": "ipython",
    "version": 3
   },
   "file_extension": ".py",
   "mimetype": "text/x-python",
   "name": "python",
   "nbconvert_exporter": "python",
   "pygments_lexer": "ipython3",
   "version": "3.12.2"
  }
 },
 "nbformat": 4,
 "nbformat_minor": 5
}
