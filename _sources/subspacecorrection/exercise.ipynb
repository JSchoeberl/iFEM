{
 "cells": [
  {
   "cell_type": "markdown",
   "id": "congressional-imperial",
   "metadata": {},
   "source": [
    "# Exercise: Robust preconditioners \n",
    "\n",
    "Develop $\\varepsilon$-robust preconditioners for the following problems:"
   ]
  },
  {
   "cell_type": "markdown",
   "id": "otherwise-publisher",
   "metadata": {},
   "source": [
    "## Exercise A:\n",
    "\n",
    "$$\n",
    "\\Omega = (0,3) \\times (0,1) \\setminus (1,2) \\times (\\varepsilon , 1)\n",
    "$$\n",
    "\n",
    "$$\n",
    "\\Gamma_D = \\{ 0 \\} \\times (0,1)\n",
    "$$\n",
    "\n",
    "$$\n",
    "A(u,v) = \\int \\nabla u \\nabla v \\, dx\n",
    "$$\n",
    "\n",
    "\n",
    "## Exercise B:\n",
    "\n",
    "\n",
    "$$\n",
    "\\Omega_1 = (0,1) \\times (0,1), \\quad \\Omega_2 = (1,2) \\times (0,1) \n",
    "$$\n",
    "\n",
    "Interface:\n",
    "$$\n",
    "\\gamma = \\overline{\\Omega_1} \\cap \\overline{\\Omega_2} \n",
    "$$\n",
    "\n",
    "$$\n",
    "V = H^1(\\Omega_1) \\times H^1(\\Omega_2)  \\text{with Dirichlet at the bottomo}\n",
    "$$\n",
    "\n",
    "$$\n",
    "A(u,v) = \\int_{\\Omega_1 \\cup \\Omega_2} \\nabla u \\, \\nabla v \\, dx\n",
    " + \\frac{1}{\\varepsilon} \\int_\\gamma (u_1-u_2) (v_1 - v_2) \\, ds\n",
    "$$"
   ]
  },
  {
   "cell_type": "code",
   "execution_count": null,
   "id": "protected-clone",
   "metadata": {},
   "outputs": [],
   "source": []
  }
 ],
 "metadata": {
  "kernelspec": {
   "display_name": "Python 3 (ipykernel)",
   "language": "python",
   "name": "python3"
  },
  "language_info": {
   "codemirror_mode": {
    "name": "ipython",
    "version": 3
   },
   "file_extension": ".py",
   "mimetype": "text/x-python",
   "name": "python",
   "nbconvert_exporter": "python",
   "pygments_lexer": "ipython3",
   "version": "3.12.2"
  }
 },
 "nbformat": 4,
 "nbformat_minor": 5
}
