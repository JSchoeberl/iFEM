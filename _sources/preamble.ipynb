{
 "cells": [
  {
   "cell_type": "markdown",
   "metadata": {},
   "source": [
    "Preamble\n",
    "===\n",
    "\n",
    "This material provides an applied introduction to the finite element method. Theory is interleaved with computer experiments using NGS-Py, the Python frontend to the Netgen/NGSolve finite element library.\n",
    "\n",
    "The latest version of this course can be found at [ngsolve.org/iFEM](https://www.ngsolve.org/iFEM).\n",
    "\n",
    "Install Netgen/NGSolve and Jupyter notebooks as explained in the official documentation to Netgen/NGSolve\n",
    "[here](https://ngsolve.org/docu/latest/).\n",
    "\n",
    "Further reading of the author is available at [lecture notes](http://asc.tuwien.ac.at/~schoeberl/wiki/index.php/Lecture_Notes)\n",
    "and [supplements](http://asc.tuwien.ac.at/~schoeberl/wiki/index.php/Numpde15).\n",
    "\n",
    "All the details on vectorial finite elements are found in Sabine Zaglmayr's Phd thesis from [here](http://asc.tuwien.ac.at/~schoeberl/wiki/index.php/Theses). A introduction for Hybrid Discontinuous Galerkin methods is Christoph Lehrenfeld's Master thesis, also from [here](http://asc.tuwien.ac.at/~schoeberl/wiki/index.php/Theses).\n",
    "\n",
    "\n",
    "A recommended textbook for mixed finite element methods is [Mixed Finite  Element Methods and Applications](http://www.springer.com/us/book/9783642365188) by D. Boffi, F. Brezzi, and M. Fortin.\n",
    "\n",
    "\n",
    "Joachim Schöberl, September 2017"
   ]
  },
  {
   "cell_type": "code",
   "execution_count": null,
   "metadata": {},
   "outputs": [],
   "source": []
  }
 ],
 "metadata": {
  "kernelspec": {
   "display_name": "Python 3 (ipykernel)",
   "language": "python",
   "name": "python3"
  },
  "language_info": {
   "codemirror_mode": {
    "name": "ipython",
    "version": 3
   },
   "file_extension": ".py",
   "mimetype": "text/x-python",
   "name": "python",
   "nbconvert_exporter": "python",
   "pygments_lexer": "ipython3",
   "version": "3.12.2"
  }
 },
 "nbformat": 4,
 "nbformat_minor": 4
}
