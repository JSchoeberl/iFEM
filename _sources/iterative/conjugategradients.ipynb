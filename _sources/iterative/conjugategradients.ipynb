{
 "cells": [
  {
   "cell_type": "markdown",
   "id": "close-amazon",
   "metadata": {},
   "source": [
    "Conjugate Gradients\n",
    "===\n",
    "\n",
    "The gradient method is an improvement to the Richardson method since it does not need the spectral bounds explicitly. The Chebyshev method is an improvement to the Richardson method since the number of iterations are reduced from $(\\log \\varepsilon^{-1}) \\, \\kappa$ to $(\\log \\varepsilon^{-1}) \\, \\sqrt{\\kappa}$.\n",
    "\n",
    "The conjugate gradients method combines both advantages.\n",
    "\n",
    "All four methods need one matrix-vector multiplication with the system matrix $A$, and one preconditioner application $C^{-1}$ per iteration, plus some vector updates. The gradient method and conjugate gradient method need inner products.\n",
    "\n",
    "\n"
   ]
  },
  {
   "cell_type": "markdown",
   "id": "editorial-delhi",
   "metadata": {},
   "source": [
    "The idea behind the cg-method is to minimize the Ritz functional\n",
    "\n",
    "$$\n",
    "\\min_{x \\in {\\mathcal K}^n} \\tfrac{1}{2} x^T A x - b^T x\n",
    "$$\n",
    "\n",
    "over the Krylov-space \n",
    "\n",
    "$$\n",
    "{\\mathcal K}^n = \\operatorname{span} \\{ C^{-1} b, C^{-1} A C^{-1} b, \\ldots, (C^{-1} A)^{n-1} C^{-1} b \\}.\n",
    "$$\n",
    "\n",
    "In every iteration we increase the space to minimize, and compute the new minimizer. This can be done efficiently by computing an orthogonal basis for ${\\mathcal K}^n$.\n",
    "\n",
    "Since every polynomial iteration (such as the Chebyshev method) produces iterates $x^n \\in {\\mathcal K}^n$, we obtain error estimates for the cg-method immediately from the Chebyshev method."
   ]
  },
  {
   "cell_type": "markdown",
   "id": "closed-construction",
   "metadata": {},
   "source": [
    "Solving the minimization problem\n",
    "---\n",
    "Assume an $n$-dimensional sub-space $V^n \\subset {\\mathbb R}^N$ is spanned by basis vectors $p_1, \\ldots, p_n$. Let $P \\in {\\mathbb R}^{N \\times n}$ contain the basis vectors $p^k$ as column vectors. We want to solve the minimization problem \n",
    "\n",
    "$$\n",
    "\\min_{x \\in V^n} \\tfrac{1}{2} x^T A x - b^T x.\n",
    "$$\n",
    "\n",
    "Since every $x \\in V^n$ can be represented as $x = P y$ with $y \\in {\\mathbb R}^n$, the minimization problem can be rewritten  as:\n",
    "\n",
    "$$\n",
    "\\min_{y \\in {\\mathbb R}^n} \\tfrac{1}{2} y^T P^T A P y - b^T P y.\n",
    "$$\n",
    "\n",
    "The solution is\n",
    "\n",
    "$$\n",
    "y = (P^T A P)^{-1} P^T b,\n",
    "$$\n",
    "\n",
    "which is obtained by solving a small, $n \\times n$-dimensional linear system. The original solution $x$ is \n",
    "\n",
    "$$\n",
    "x = P (P^T A P)^{-1} P^T b\n",
    "$$\n",
    "\n",
    "If the vectors $p_i$ are $A$-orthogonal (also known as $A$-conjugate), i.e.\n",
    "\n",
    "$$\n",
    "{p_i}^T A p_j = 0 \\quad \\forall \\, i \\neq j,\n",
    "$$\n",
    "\n",
    "then the matrix $P^T A P$ is diagonal, and the minimization problem can be solved very easily:\n",
    "\n",
    "$$\n",
    "x = \\sum_{i=1}^n \\frac{{p_i}^T b}{{p_i}^T A p_i} p_i\n",
    "$$\n",
    "\n",
    "If we increase the space $V^n$ to $V^{n+1}$ by adding one more vector $p_{i+1}$, orthogonal to all previous $p_1, \\ldots , p_n$, then the minimizer $x_{n+1}$ on $V^{n+1}$ can be updated cheaply from the minimizer $x^n$ on $V^n$:\n",
    "\n",
    "$$\n",
    "x_{n+1} = x_n + \\frac{ p_{n+1}^T b}{ p_{n+1}^T A p_{n+1}} p_{n+1}\n",
    "$$"
   ]
  },
  {
   "cell_type": "markdown",
   "id": "level-dating",
   "metadata": {},
   "source": [
    "Expanding the Krylov-space\n",
    "---\n",
    "\n",
    "Assume we are given the Krylov space ${\\mathcal K}^n$, and we have computed the minimizer $x_n \\in {\\mathcal K}^n$.\n",
    "\n",
    "The (negative) gradient of $f(x) = \\tfrac{1}{2} x^T A x - b^T x$ is\n",
    "\n",
    "$$\n",
    "-\\nabla f(x_n) = r_n = b - A x_n \\; \\bot_{{\\mathbb R}^N} \\; {\\mathcal K}^n\n",
    "$$\n",
    "\n",
    "If $r_n = 0$, the problem is solved and we stop. \n",
    "\n",
    "Since $r_n$ is ${\\mathbb R}^N$-orthogonal to ${\\mathcal K}^n$, for \n",
    "\n",
    "$$\n",
    "w_n := C^{-1} r_n  \\qquad \\text{there holds} \\qquad w_n \\; \\bot_C \\; {\\mathcal K}^n\n",
    "$$\n",
    "\n",
    "This is seen as $\\left< w_n, z \\right>_C = \\left< C w_n, z \\right> = r_n^T z = 0$ for all $z \\in {\\mathcal K}^n$.\n",
    "\n",
    "Since $x_n$ is in ${\\mathcal K}^n$, and $w_n$ is obtained by yet another applications of $C^{-1}$ and $A$, we get $w_n \\in {\\mathcal K}^{n+1}$. Together with $C$-orthogonality we have\n",
    "\n",
    "$$\n",
    "{\\mathcal K}^{n+1} = {\\mathcal K}^n + \\operatorname{span} \\{ w_n \\}\n",
    "$$\n",
    "\n",
    "Finally, we construct an $A$-orthogonal basis by Gram-Schmidt orthogonalization:\n",
    "\n",
    "$$\n",
    "p_{n+1} = w_n - \\sum_{i=1}^n \\frac{ \\left<w_n, p_i\\right>_A }{ \\left< p_i, p_i \\right>_A } p_i\n",
    "$$\n",
    "\n",
    "Here the miracle of the cg-method pops up. The inner products in the numerator are\n",
    "\n",
    "$$\n",
    "\\left< w_n, p_i \\right>_A = \\left< C^{-1} r_n, p_i \\right>_A = r_n^T C^{-1} A p_i\n",
    "$$\n",
    "\n",
    "Since $r^n \\; \\bot \\; {\\mathcal K}^n$, and $C^{-1} A p_i \\in {\\mathcal K}^{i+1}$, this inner product vanishes for all $i \\leq n-1$. Only the last term in the sum remains:\n",
    "\n",
    "$$\n",
    "p_{n+1} = w_n - \\frac{ \\left<w_n, p_n\\right>_A }{ \\left< p_n, p_n \\right>_A } p_n\n",
    "$$\n"
   ]
  },
  {
   "cell_type": "markdown",
   "id": "assisted-lounge",
   "metadata": {},
   "source": [
    "In Saad, \"Iterative Solvers\", the Preconditioned Conjugate Gradient method\n",
    "is Algorithm 9.1, page 277. The inner products are reformulated by recursions which have better stability with respect to roundoff errors."
   ]
  },
  {
   "cell_type": "code",
   "execution_count": 1,
   "id": "increased-roads",
   "metadata": {},
   "outputs": [],
   "source": [
    "def CG(A,b,pre, maxit=200, tol=1e-8, callback=None):\n",
    "    x = b.CreateVector()\n",
    "    w = b.CreateVector()\n",
    "    r = b.CreateVector()\n",
    "    p = b.CreateVector()\n",
    "    ap = b.CreateVector()\n",
    "\n",
    "    r.data = b\n",
    "    p.data = pre*r\n",
    "    wrn = InnerProduct(r,p)\n",
    "    err0 = sqrt(wrn)\n",
    "    x[:] = 0\n",
    "    \n",
    "    for it in range(maxit):\n",
    "        ap.data = A * p\n",
    "\n",
    "        pap = InnerProduct(p, ap)\n",
    "        wr = wrn\n",
    "        alpha = wr / pap\n",
    "        \n",
    "        x.data += alpha * p\n",
    "        r.data -= alpha * ap\n",
    "        w.data = pre*r\n",
    "        \n",
    "        wrn = InnerProduct(w, r)\n",
    "        err = sqrt(wrn)\n",
    "        # print (\"Iteration\",it,\"err=\",err)\n",
    "        if callback: callback(it,err)\n",
    "        if err < tol * err0: break\n",
    "            \n",
    "        beta = wrn / wr\n",
    "        \n",
    "        p *= beta\n",
    "        p.data += w \n",
    "        \n",
    "    return x"
   ]
  },
  {
   "cell_type": "code",
   "execution_count": 2,
   "id": "thousand-limit",
   "metadata": {},
   "outputs": [],
   "source": [
    "from ngsolve import *\n",
    "mesh = Mesh(unit_square.GenerateMesh(maxh=0.1))\n",
    "fes = H1(mesh, order=1)\n",
    "u,v = fes.TnT()\n",
    "a = BilinearForm(grad(u)*grad(v)*dx+10*u*v*dx).Assemble()\n",
    "f = LinearForm(x*y*v*dx).Assemble()\n",
    "gfu = GridFunction(fes)\n",
    "pre = a.mat.CreateSmoother()   "
   ]
  },
  {
   "cell_type": "code",
   "execution_count": 6,
   "id": "removed-asthma",
   "metadata": {},
   "outputs": [],
   "source": [
    "hist=[]\n",
    "gfu.vec.data = CG(a.mat, f.vec, pre,\n",
    "                 callback=lambda it,err: hist.append(err))"
   ]
  },
  {
   "cell_type": "code",
   "execution_count": 10,
   "id": "bed07e0e-aa1c-4fbe-9ba2-7fa225b9e130",
   "metadata": {},
   "outputs": [
    {
     "data": {
      "image/png": "[encoded data removed]",
      "text/plain": [
       "<Figure size 640x480 with 1 Axes>"
      ]
     },
     "metadata": {},
     "output_type": "display_data"
    }
   ],
   "source": [
    "import matplotlib.pyplot as plt\n",
    "plt.yscale('log')\n",
    "plt.plot(hist, '-*');"
   ]
  },
  {
   "cell_type": "code",
   "execution_count": 11,
   "id": "vocal-controversy",
   "metadata": {},
   "outputs": [
    {
     "data": {
      "application/vnd.jupyter.widget-view+json": {
       "model_id": "7c6db1c26665481dbf4614cda88dfc91",
       "version_major": 2,
       "version_minor": 0
      },
      "text/plain": [
       "WebGuiWidget(layout=Layout(height='50vh', width='100%'), value={'gui_settings': {}, 'ngsolve_version': '6.2.24…"
      ]
     },
     "metadata": {},
     "output_type": "display_data"
    }
   ],
   "source": [
    "from ngsolve.webgui import Draw\n",
    "Draw (gfu);"
   ]
  },
  {
   "cell_type": "code",
   "execution_count": null,
   "id": "threaded-airfare",
   "metadata": {},
   "outputs": [],
   "source": []
  }
 ],
 "metadata": {
  "kernelspec": {
   "display_name": "Python 3 (ipykernel)",
   "language": "python",
   "name": "python3"
  },
  "language_info": {
   "codemirror_mode": {
    "name": "ipython",
    "version": 3
   },
   "file_extension": ".py",
   "mimetype": "text/x-python",
   "name": "python",
   "nbconvert_exporter": "python",
   "pygments_lexer": "ipython3",
   "version": "3.12.2"
  }
 },
 "nbformat": 4,
 "nbformat_minor": 5
}
