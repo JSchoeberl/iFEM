{
 "cells": [
  {
   "cell_type": "markdown",
   "id": "879bce07",
   "metadata": {},
   "source": [
    "Example solved by the Bramble-Pasciak Transformation"
   ]
  },
  {
   "cell_type": "code",
   "execution_count": null,
   "id": "8947b587",
   "metadata": {},
   "outputs": [],
   "source": [
    "from ngsolve import *\n",
    "from ngsolve.webgui import Draw\n",
    "from netgen.webgui import Draw as DrawGeo\n",
    "\n",
    "from netgen.geom2d import SplineGeometry\n",
    "from netgen.occ import *\n",
    "\n",
    "dim = 2\n",
    "\n",
    "if dim==2:\n",
    "    geo = SplineGeometry()\n",
    "    geo.AddRectangle( (0, 0), (2, 0.41), bcs = (\"wall\", \"outlet\", \"wall\", \"inlet\"))\n",
    "    geo.AddCircle ( (0.2, 0.2), r=0.05, leftdomain=0, rightdomain=1, bc=\"cyl\")\n",
    "    mesh = Mesh( geo.GenerateMesh(maxh=0.02))\n",
    "else:\n",
    "    box = Box((0,0,0), (2,0.41,0.41))\n",
    "    box.faces.name=\"wall\"\n",
    "    box.faces.Min(X).name=\"inlet\"\n",
    "    box.faces.Max(X).name=\"outlet\"\n",
    "    cyl = Cylinder((0.2,0,0.2), Y, h=0.41,r=0.05)\n",
    "    cyl.faces.name=\"cyl\"\n",
    "    shape = box-cyl\n",
    "    DrawGeo (shape)\n",
    "    \n",
    "    mesh = Mesh(OCCGeometry(shape).GenerateMesh(maxh=0.02))\n",
    "    Draw(mesh)"
   ]
  },
  {
   "cell_type": "code",
   "execution_count": null,
   "id": "2f328447",
   "metadata": {},
   "outputs": [],
   "source": [
    "V = VectorH1(mesh, order=1, dirichlet=\"wall|inlet|cyl\")\n",
    "V1 = H1(mesh, order=1, dirichlet=\"wall|inlet|cyl\")\n",
    "Q = H1(mesh, order=1)\n",
    "print (\"ndof = \", V.ndof,'+',Q.ndof,'=',V.ndof+Q.ndof)\n",
    "\n",
    "u,v = V.TnT()\n",
    "u1,v1 = V1.TnT()\n",
    "p,q = Q.TnT()\n",
    "\n",
    "h = specialcf.mesh_size\n",
    "\n",
    "with TaskManager():\n",
    "    bfa1 = BilinearForm(InnerProduct(grad(u1),grad(v1))*dx)\n",
    "    bfb = BilinearForm(div(u)*q*dx).Assemble()\n",
    "    bfc = BilinearForm(h*h*grad(p)*grad(q)*dx).Assemble()\n",
    "\n",
    "    # prea1 = Preconditioner(bfa1, \"direct\", inverse=\"sparsecholesky\")\n",
    "    prea1 = Preconditioner(bfa1, \"h1amg\")\n",
    "    bfa1.Assemble()\n",
    "\n",
    "mata = sum( [Ri.T@bfa1.mat@Ri for Ri in V.restrictions] )\n",
    "prea = sum( [Ei@prea1@Ei.T for Ei in V.embeddings])    \n",
    "    \n",
    "with TaskManager():\n",
    "    bfschur = BilinearForm(p*q*dx, diagonal=True).Assemble()\n",
    "    preschur = bfschur.mat.Inverse()"
   ]
  },
  {
   "cell_type": "code",
   "execution_count": null,
   "id": "ee7c69f8",
   "metadata": {},
   "outputs": [],
   "source": [
    "from ngsolve.krylovspace import BramblePasciakCG\n",
    "\n",
    "gfu = GridFunction(V)\n",
    "gfp = GridFunction(Q)\n",
    "\n",
    "if mesh.dim==2:\n",
    "    uin = (1.5*4*y*(0.41-y)/(0.41*0.41), 0)\n",
    "else:\n",
    "    uin = (1.5*4*y*(0.41-y)/(0.41*0.41)*z*(0.41-z)/0.41**2,0, 0)\n",
    "\n",
    "gfu.Set(uin, definedon=mesh.Boundaries(\"inlet\"))\n",
    "\n",
    "resf = (-mata * gfu.vec).Evaluate()\n",
    "resg = (-bfb.mat * gfu.vec).Evaluate()\n",
    "\n",
    "with TaskManager():\n",
    "    sol = BramblePasciakCG (A=mata, B=bfb.mat, C=bfc.mat, f=resf, g=resg, \\\n",
    "                            preA=prea, preS=preschur, printrates='\\r')\n",
    "\n",
    "gfu.vec.data += sol[0]\n",
    "gfp.vec.data += sol[1]"
   ]
  },
  {
   "cell_type": "code",
   "execution_count": null,
   "id": "74e6c0f5",
   "metadata": {
    "scrolled": false
   },
   "outputs": [],
   "source": [
    "Draw (Norm(gfu), mesh, order=1, clipping={\"y\":1,\"z\":0})\n",
    "Draw (gfp, order=1);"
   ]
  },
  {
   "cell_type": "code",
   "execution_count": null,
   "id": "59ee1f18",
   "metadata": {},
   "outputs": [],
   "source": [
    "help (BramblePasciakCG)"
   ]
  },
  {
   "cell_type": "code",
   "execution_count": null,
   "id": "63dd60fc",
   "metadata": {},
   "outputs": [],
   "source": []
  }
 ],
 "metadata": {
  "kernelspec": {
   "display_name": "Python 3 (ipykernel)",
   "language": "python",
   "name": "python3"
  },
  "language_info": {
   "codemirror_mode": {
    "name": "ipython",
    "version": 3
   },
   "file_extension": ".py",
   "mimetype": "text/x-python",
   "name": "python",
   "nbconvert_exporter": "python",
   "pygments_lexer": "ipython3",
   "version": "3.10.2"
  }
 },
 "nbformat": 4,
 "nbformat_minor": 5
}
