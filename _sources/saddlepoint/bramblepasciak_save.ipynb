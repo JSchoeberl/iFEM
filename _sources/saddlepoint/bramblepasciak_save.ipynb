{
 "cells": [
  {
   "cell_type": "markdown",
   "id": "southeast-briefing",
   "metadata": {},
   "source": [
    "The Bramble-Pasciak Transformation\n",
    "==="
   ]
  },
  {
   "cell_type": "code",
   "execution_count": 1,
   "id": "irish-savage",
   "metadata": {},
   "outputs": [
    {
     "name": "stderr",
     "output_type": "stream",
     "text": [
      "================================================================\n",
      "WARNING: NGSolve was compiled with Netgen \n",
      "         version v6.2.2105-181-ga2f7b918 but\n",
      "         version v6.2.2105-201-g376fe7c6 is loaded at run-time!!!\n",
      "================================================================\n"
     ]
    }
   ],
   "source": [
    "from ngsolve import *\n",
    "from ngsolve.webgui import Draw\n",
    "\n",
    "from netgen.geom2d import SplineGeometry\n",
    "geo = SplineGeometry()\n",
    "geo.AddRectangle( (0, 0), (2, 0.41), bcs = (\"wall\", \"outlet\", \"wall\", \"inlet\"))\n",
    "geo.AddCircle ( (0.2, 0.2), r=0.05, leftdomain=0, rightdomain=1, bc=\"cyl\")\n",
    "mesh = Mesh( geo.GenerateMesh(maxh=0.05)).Curve(3)"
   ]
  },
  {
   "cell_type": "code",
   "execution_count": 2,
   "id": "c8d6b444",
   "metadata": {},
   "outputs": [
    {
     "data": {
      "application/vnd.jupyter.widget-view+json": {
       "model_id": "0072bf296ed64a29abc37f80f4ca8400",
       "version_major": 2,
       "version_minor": 0
      },
      "text/plain": [
       "WebGuiWidget(value={'ngsolve_version': '6.2.2105-264-g4a22558b6', 'mesh_dim': 2, 'order2d': 2, 'order3d': 2, '…"
      ]
     },
     "metadata": {},
     "output_type": "display_data"
    }
   ],
   "source": [
    "V = VectorH1(mesh, order=2, dirichlet=\"wall|inlet|cyl\")\n",
    "V.SetOrder(TRIG,3)\n",
    "V.Update()\n",
    "Q = L2(mesh, order=1)\n",
    "\n",
    "u,v = V.TnT()\n",
    "p,q = Q.TnT()\n",
    "\n",
    "bfa = BilinearForm(InnerProduct(grad(u),grad(v))*dx).Assemble()\n",
    "bfb = BilinearForm(div(u)*q*dx).Assemble()\n",
    "\n",
    "gfu = GridFunction(V)\n",
    "gfp = GridFunction(Q)\n",
    "\n",
    "uin = CF( (1.5*4*y*(0.41-y)/(0.41*0.41), 0) )\n",
    "gfu.Set(uin, definedon=mesh.Boundaries(\"inlet\"))\n",
    "\n",
    "inva = bfa.mat.Inverse(freedofs=V.FreeDofs())\n",
    "# gfu.vec.data += inv * res\n",
    "\n",
    "\n",
    "bfschur = BilinearForm(p*q*dx, diagonal=True).Assemble()\n",
    "preschur = bfschur.mat.Inverse()\n",
    "\n",
    "Draw(gfu, mesh);"
   ]
  },
  {
   "cell_type": "markdown",
   "id": "ad652584",
   "metadata": {},
   "source": [
    "The saddle point system\n",
    "$$\n",
    "\\left( \\begin{array}{ccc} A & B^T \\\\ B & 0 \\end{array} \\right)\n",
    "\\left( \\begin{array}{c} u \\\\ p  \\end{array} \\right)\n",
    "=\n",
    "\\left( \\begin{array}{c} f \\\\ g  \\end{array} \\right)\n",
    "$$\n",
    "is multiplied from the left by the transformation matrices\n",
    "$$\n",
    "\\left( \\begin{array}{ccc} A-\\hat A & 0 \\\\ 0 & I \\end{array} \\right)\n",
    "\\left( \\begin{array}{ccc} \\hat I & 0 \\\\ B & -I \\end{array} \\right)\n",
    "\\left( \\begin{array}{ccc} \\hat A^{-1} & 0 \\\\ 0 & I \\end{array} \\right)\n",
    "$$\n",
    "\n",
    "to obtain the transformed system\n",
    "\n",
    "$$\n",
    "\\left( \\begin{array}{ccc} (A-\\hat A) \\hat A^{-1} A & (A-\\hat A) \\hat A^{-1} B^T \\\\ \n",
    " B \\hat A^{-1} (A - \\hat A) & B \\hat A^{-1} B^T \\end{array} \\right)\n",
    "\\left( \\begin{array}{c} u \\\\ p  \\end{array} \\right)\n",
    "=\n",
    "\\left( \\begin{array}{c} (A-\\hat A) A^{-1} f \\\\ B \\hat A^{-1} f -g  \\end{array} \\right)\n",
    "$$\n"
   ]
  },
  {
   "cell_type": "code",
   "execution_count": 3,
   "id": "bb1488bc",
   "metadata": {},
   "outputs": [],
   "source": [
    "def BramblePasciakCG(A, B, f, g, preA, preS):\n",
    "    preA = 1.2*preA   # scaling\n",
    "    maxit = 50\n",
    "    tol = 1e-8\n",
    "    \n",
    "    xu = f.CreateVector()\n",
    "    wu = f.CreateVector()\n",
    "    ru = f.CreateVector() \n",
    "    pru = f.CreateVector() \n",
    "    pu = f.CreateVector()\n",
    "    apu = f.CreateVector()\n",
    "\n",
    "    xp = g.CreateVector()\n",
    "    wp = g.CreateVector()\n",
    "    rp = g.CreateVector()\n",
    "    pp = g.CreateVector()\n",
    "    app = g.CreateVector()\n",
    "\n",
    "    # r.data = b\n",
    "    # p.data = pre*r\n",
    "    # wrn = InnerProduct(r,p)\n",
    "    # err0 = sqrt(wrn)\n",
    "    # x[:] = 0\n",
    "\n",
    "    pu.data = preA * f\n",
    "    pru.data = pu\n",
    "    ru.data = A*pu-f\n",
    "    rp.data = B * pu - g\n",
    "    pp.data = preS * rp\n",
    "    \n",
    "    wrn = InnerProduct(pu, ru) + InnerProduct(rp,pp)\n",
    "    err0 = sqrt(wrn)\n",
    "    \n",
    "    x = BlockVector([xu,xp])\n",
    "    p = BlockVector([pu,pp])\n",
    "    w = BlockVector([wu,wp])\n",
    "    r = BlockVector([ru,rp])\n",
    "    ap = BlockVector([apu,app])\n",
    "\n",
    "    \n",
    "    x[:] = 0\n",
    "    for it in range(maxit):\n",
    "        # ap.data = A * p\n",
    "        hv = (A * p[0] + B.T * p[1]).Evaluate()\n",
    "        papu = preA * hv\n",
    "        ap[0].data = A * papu - hv\n",
    "        ap[1].data = B * (papu - pu)\n",
    "        \n",
    "        pap = InnerProduct(p, ap)\n",
    "        wr = wrn\n",
    "        alpha = wr / pap\n",
    "        \n",
    "        x.data += alpha * p\n",
    "        r.data -= alpha * ap\n",
    "        pru.data -= alpha * papu\n",
    "\n",
    "        # w.data = pre*r\n",
    "        wu.data = pru\n",
    "        wp.data = preS * rp\n",
    "        \n",
    "        wrn = InnerProduct(w, r)\n",
    "        err = sqrt(wrn)\n",
    "        print (\"Iteration\",it,\"err=\",err)\n",
    "        if err < tol * err0: break\n",
    "            \n",
    "        beta = wrn / wr\n",
    "        \n",
    "        p *= beta\n",
    "        p.data += w \n",
    "    \n",
    "    return xu,xp"
   ]
  },
  {
   "cell_type": "code",
   "execution_count": 4,
   "id": "8819c8a3",
   "metadata": {},
   "outputs": [
    {
     "name": "stdout",
     "output_type": "stream",
     "text": [
      "Iteration 0 err= 2.269429957278514\n",
      "Iteration 1 err= 2.4551399765458344\n",
      "Iteration 2 err= 2.560479023395072\n",
      "Iteration 3 err= 1.833076951883552\n",
      "Iteration 4 err= 1.6527754302249622\n",
      "Iteration 5 err= 1.1325138713578506\n",
      "Iteration 6 err= 1.5393723288052816\n",
      "Iteration 7 err= 1.5781427283147023\n",
      "Iteration 8 err= 1.3386048627193023\n",
      "Iteration 9 err= 1.6021296117029227\n",
      "Iteration 10 err= 1.2046885104258616\n",
      "Iteration 11 err= 1.3079076197644617\n",
      "Iteration 12 err= 0.8023021620236153\n",
      "Iteration 13 err= 0.7167713284917975\n",
      "Iteration 14 err= 0.3473389772626151\n",
      "Iteration 15 err= 0.24735109800044114\n",
      "Iteration 16 err= 0.10361233537093052\n",
      "Iteration 17 err= 0.06641958990762059\n",
      "Iteration 18 err= 0.03727265361879442\n",
      "Iteration 19 err= 0.016176978345660543\n",
      "Iteration 20 err= 0.012252517138652217\n",
      "Iteration 21 err= 0.005913601743073285\n",
      "Iteration 22 err= 0.0056326003413210484\n",
      "Iteration 23 err= 0.0027256640245714296\n",
      "Iteration 24 err= 0.0022963642507545672\n",
      "Iteration 25 err= 0.001198248430956027\n",
      "Iteration 26 err= 0.0006304630803723513\n",
      "Iteration 27 err= 0.0003755734594088143\n",
      "Iteration 28 err= 0.00017353148625807088\n",
      "Iteration 29 err= 0.0001125020069780135\n",
      "Iteration 30 err= 4.123493880473768e-05\n",
      "Iteration 31 err= 2.9660968562502958e-05\n",
      "Iteration 32 err= 1.2285813511421023e-05\n",
      "Iteration 33 err= 7.941915153990522e-06\n",
      "Iteration 34 err= 3.607765693262217e-06\n",
      "Iteration 35 err= 1.8406260894690594e-06\n",
      "Iteration 36 err= 1.1705765260059212e-06\n",
      "Iteration 37 err= 4.177294192262087e-07\n",
      "Iteration 38 err= 3.322353831626137e-07\n",
      "Iteration 39 err= 1.4284135905305437e-07\n",
      "Iteration 40 err= 7.386651237655593e-08\n",
      "Iteration 41 err= 3.2531944909792244e-08\n",
      "Iteration 42 err= 1.5746020028348724e-08\n"
     ]
    },
    {
     "data": {
      "application/vnd.jupyter.widget-view+json": {
       "model_id": "735812eb53f744fb838e0c9c7dcdd097",
       "version_major": 2,
       "version_minor": 0
      },
      "text/plain": [
       "WebGuiWidget(value={'ngsolve_version': '6.2.2105-264-g4a22558b6', 'mesh_dim': 2, 'order2d': 2, 'order3d': 2, '…"
      ]
     },
     "metadata": {},
     "output_type": "display_data"
    }
   ],
   "source": [
    "resf = (-bfa.mat * gfu.vec).Evaluate()\n",
    "resg = (-bfb.mat * gfu.vec).Evaluate()\n",
    "\n",
    "sol = BramblePasciakCG (bfa.mat, bfb.mat, resf, resg, inva, preschur)\n",
    "\n",
    "gfu.vec.data += sol[0]\n",
    "gfp.vec.data += sol[1]\n",
    "\n",
    "Draw (gfu);"
   ]
  },
  {
   "cell_type": "markdown",
   "id": "a070a06c",
   "metadata": {},
   "source": [
    "for convenience of the reader, we started from this version of the usual preconditioned cg-iteration:"
   ]
  },
  {
   "cell_type": "code",
   "execution_count": 5,
   "id": "379c8100",
   "metadata": {},
   "outputs": [],
   "source": [
    "def CG(A,b,pre, maxit=200, tol=1e-8):\n",
    "    x = b.CreateVector()\n",
    "    w = b.CreateVector()\n",
    "    r = b.CreateVector()\n",
    "    p = b.CreateVector()\n",
    "    ap = b.CreateVector()\n",
    "\n",
    "    r.data = b\n",
    "    p.data = pre*r\n",
    "    wrn = InnerProduct(r,p)\n",
    "    err0 = sqrt(wrn)\n",
    "    x[:] = 0\n",
    "    \n",
    "    for it in range(maxit):\n",
    "        ap.data = A * p\n",
    "\n",
    "        pap = InnerProduct(p, ap)\n",
    "        wr = wrn\n",
    "        alpha = wr / pap\n",
    "        \n",
    "        x.data += alpha * p\n",
    "        r.data -= alpha * ap\n",
    "        w.data = pre*r\n",
    "        \n",
    "        wrn = InnerProduct(w, r)\n",
    "        err = sqrt(wrn)\n",
    "        print (\"Iteration\",it,\"err=\",err)\n",
    "        if err < tol * err0: break\n",
    "            \n",
    "        beta = wrn / wr\n",
    "        \n",
    "        p *= beta\n",
    "        p.data += w \n",
    "        \n",
    "    return x"
   ]
  },
  {
   "cell_type": "code",
   "execution_count": null,
   "id": "006e8dc5",
   "metadata": {},
   "outputs": [],
   "source": []
  }
 ],
 "metadata": {
  "kernelspec": {
   "display_name": "Python 3 (ipykernel)",
   "language": "python",
   "name": "python3"
  },
  "language_info": {
   "codemirror_mode": {
    "name": "ipython",
    "version": 3
   },
   "file_extension": ".py",
   "mimetype": "text/x-python",
   "name": "python",
   "nbconvert_exporter": "python",
   "pygments_lexer": "ipython3",
   "version": "3.10.2"
  }
 },
 "nbformat": 4,
 "nbformat_minor": 5
}
